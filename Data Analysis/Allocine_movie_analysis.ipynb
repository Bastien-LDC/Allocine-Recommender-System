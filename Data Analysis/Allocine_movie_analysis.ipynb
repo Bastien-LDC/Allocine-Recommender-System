{
 "cells": [
  {
   "cell_type": "markdown",
   "metadata": {},
   "source": [
    "# **AlloCiné Analysis**\n",
    "\n",
    "We had web scraped (see [the script here](https://github.com/Bastien-LDC/Allocine-project/blob/master/Webscraping_From_AlloCine.ipynb)) the data from the AlloCiné website. AlloCiné is a company which provides information on French cinema and provide ratings from the press and from their users for a large number of movies.\n",
    "\n",
    "**Data description :**\n",
    "\n",
    "- `id` : Allocine movie id\n",
    "- `title` : the movie's title (in french)\n",
    "- `release_date`: the original release date\n",
    "- `duration`: the movies length\n",
    "- `genres` : the movies types (as an array, up to three different types)\n",
    "- `directors` : movies directors (as an array)\n",
    "- `actors` : main characters of the movies (as an array)\n",
    "- `nationality`: nationality of the movies (as an array)\n",
    "- `press_rating`: press ratings (from 0 to 5 stars)\n",
    "- `nb_press_rating`: number of press votes\n",
    "- `user_rating`:  AlloCiné users ratings (from 0 to 5 stars)\n",
    "- `nb_user_rating`: number of users votes\n",
    "- `summary`: short summary of the movie in french\n",
    "\n",
    "If you are interested in, the data is available on one csv (brut and clean version) [allocine_dataset.zip](http://olivier-maillot.fr/wp-content/uploads/2017/08/allocine_dataset.zip) or in multiple csv files (clean version only) [allocine_rel-dataset.zip](http://olivier-maillot.fr/wp-content/uploads/2017/08/allocine_rel-dataset.zip)."
   ]
  },
  {
   "cell_type": "markdown",
   "metadata": {},
   "source": [
    "# **Data cleaning**"
   ]
  },
  {
   "cell_type": "code",
   "execution_count": 3,
   "metadata": {},
   "outputs": [],
   "source": [
    "# import libraries\n",
    "import pandas as pd\n",
    "import numpy as np\n",
    "import matplotlib.pyplot as plt\n",
    "import seaborn as sns\n",
    "\n",
    "%matplotlib inline"
   ]
  },
  {
   "cell_type": "code",
   "execution_count": 5,
   "metadata": {},
   "outputs": [],
   "source": [
    "# Load the csv\n",
    "allocine = pd.read_csv(\"Movies/allocine_movies.csv\", nrows=300)\n",
    "cols = allocine.columns"
   ]
  },
  {
   "cell_type": "code",
   "execution_count": 6,
   "metadata": {},
   "outputs": [],
   "source": [
    "# Rename (nb_)spec_rating to (nb_)user_rating\n",
    "allocine.rename(columns={'spec_rating':'user_rating', 'nb_spec_rating':'nb_user_rating'}, inplace=True)"
   ]
  },
  {
   "cell_type": "code",
   "execution_count": 7,
   "metadata": {},
   "outputs": [
    {
     "data": {
      "text/html": [
       "<div>\n",
       "<style scoped>\n",
       "    .dataframe tbody tr th:only-of-type {\n",
       "        vertical-align: middle;\n",
       "    }\n",
       "\n",
       "    .dataframe tbody tr th {\n",
       "        vertical-align: top;\n",
       "    }\n",
       "\n",
       "    .dataframe thead th {\n",
       "        text-align: right;\n",
       "    }\n",
       "</style>\n",
       "<table border=\"1\" class=\"dataframe\">\n",
       "  <thead>\n",
       "    <tr style=\"text-align: right;\">\n",
       "      <th></th>\n",
       "      <th>id</th>\n",
       "      <th>title</th>\n",
       "      <th>release_date</th>\n",
       "      <th>duration</th>\n",
       "      <th>genres</th>\n",
       "      <th>directors</th>\n",
       "      <th>actors</th>\n",
       "      <th>nationality</th>\n",
       "      <th>press_rating</th>\n",
       "      <th>nb_press_rating</th>\n",
       "      <th>user_rating</th>\n",
       "      <th>nb_user_rating</th>\n",
       "      <th>summary</th>\n",
       "      <th>poster_link</th>\n",
       "    </tr>\n",
       "  </thead>\n",
       "  <tbody>\n",
       "    <tr>\n",
       "      <th>0</th>\n",
       "      <td>211012</td>\n",
       "      <td>The Batman</td>\n",
       "      <td>2022-03-02</td>\n",
       "      <td>177</td>\n",
       "      <td>Action, Policier, Thriller</td>\n",
       "      <td>Matt Reeves, Peter Craig</td>\n",
       "      <td>Robert Pattinson, Zoë Kravitz, Paul Dano</td>\n",
       "      <td>américain</td>\n",
       "      <td>3.9</td>\n",
       "      <td>37.0</td>\n",
       "      <td>4.2</td>\n",
       "      <td>9870.0</td>\n",
       "      <td>Deux années à arpenter les rues en tant que Ba...</td>\n",
       "      <td>https://fr.web.img3.acsta.net/c_310_420/pictur...</td>\n",
       "    </tr>\n",
       "    <tr>\n",
       "      <th>1</th>\n",
       "      <td>281976</td>\n",
       "      <td>Goliath</td>\n",
       "      <td>2022-03-09</td>\n",
       "      <td>122</td>\n",
       "      <td>Thriller</td>\n",
       "      <td>Frédéric Tellier, Simon Moutaïrou</td>\n",
       "      <td>Gilles Lellouche, Pierre Niney, Emmanuelle Bercot</td>\n",
       "      <td>français</td>\n",
       "      <td>3.5</td>\n",
       "      <td>30.0</td>\n",
       "      <td>4.0</td>\n",
       "      <td>2895.0</td>\n",
       "      <td>France, professeure de sport le jour, ouvrière...</td>\n",
       "      <td>https://fr.web.img3.acsta.net/c_310_420/pictur...</td>\n",
       "    </tr>\n",
       "    <tr>\n",
       "      <th>2</th>\n",
       "      <td>287738</td>\n",
       "      <td>En corps</td>\n",
       "      <td>2022-03-30</td>\n",
       "      <td>120</td>\n",
       "      <td>Comédie dramatique, Drame, Comédie</td>\n",
       "      <td>Cédric Klapisch, Santiago Amigorena</td>\n",
       "      <td>Marion Barbeau, Hofesh Shechter, Denis Podalydès</td>\n",
       "      <td>français</td>\n",
       "      <td>3.4</td>\n",
       "      <td>32.0</td>\n",
       "      <td>4.2</td>\n",
       "      <td>1405.0</td>\n",
       "      <td>Elise, 26 ans est une grande danseuse classiqu...</td>\n",
       "      <td>https://fr.web.img4.acsta.net/c_310_420/pictur...</td>\n",
       "    </tr>\n",
       "    <tr>\n",
       "      <th>3</th>\n",
       "      <td>42303</td>\n",
       "      <td>Permis de construire</td>\n",
       "      <td>2022-03-09</td>\n",
       "      <td>93</td>\n",
       "      <td>Comédie</td>\n",
       "      <td>Eric Fraticelli, Didier Bourdon</td>\n",
       "      <td>Didier Bourdon, Eric Fraticelli, Anne Consigny</td>\n",
       "      <td>français</td>\n",
       "      <td>1.8</td>\n",
       "      <td>4.0</td>\n",
       "      <td>3.1</td>\n",
       "      <td>669.0</td>\n",
       "      <td>Dentiste à Paris, Romain vient de perdre son p...</td>\n",
       "      <td>https://fr.web.img6.acsta.net/c_310_420/pictur...</td>\n",
       "    </tr>\n",
       "    <tr>\n",
       "      <th>4</th>\n",
       "      <td>284864</td>\n",
       "      <td>Notre-Dame brûle</td>\n",
       "      <td>2022-03-16</td>\n",
       "      <td>110</td>\n",
       "      <td>Drame</td>\n",
       "      <td>Jean-Jacques Annaud, Thomas Bidegain</td>\n",
       "      <td>Samuel Labarthe, Jean-Paul Bordes, Mikaël Chir...</td>\n",
       "      <td>français</td>\n",
       "      <td>3.5</td>\n",
       "      <td>32.0</td>\n",
       "      <td>4.0</td>\n",
       "      <td>1768.0</td>\n",
       "      <td>Le long métrage de Jean-Jacques Annaud, recons...</td>\n",
       "      <td>https://fr.web.img6.acsta.net/c_310_420/pictur...</td>\n",
       "    </tr>\n",
       "  </tbody>\n",
       "</table>\n",
       "</div>"
      ],
      "text/plain": [
       "       id                 title release_date  duration  \\\n",
       "0  211012            The Batman   2022-03-02       177   \n",
       "1  281976               Goliath   2022-03-09       122   \n",
       "2  287738              En corps   2022-03-30       120   \n",
       "3   42303  Permis de construire   2022-03-09        93   \n",
       "4  284864      Notre-Dame brûle   2022-03-16       110   \n",
       "\n",
       "                               genres                             directors  \\\n",
       "0          Action, Policier, Thriller              Matt Reeves, Peter Craig   \n",
       "1                            Thriller     Frédéric Tellier, Simon Moutaïrou   \n",
       "2  Comédie dramatique, Drame, Comédie   Cédric Klapisch, Santiago Amigorena   \n",
       "3                             Comédie       Eric Fraticelli, Didier Bourdon   \n",
       "4                               Drame  Jean-Jacques Annaud, Thomas Bidegain   \n",
       "\n",
       "                                              actors nationality  \\\n",
       "0           Robert Pattinson, Zoë Kravitz, Paul Dano   américain   \n",
       "1  Gilles Lellouche, Pierre Niney, Emmanuelle Bercot    français   \n",
       "2   Marion Barbeau, Hofesh Shechter, Denis Podalydès    français   \n",
       "3     Didier Bourdon, Eric Fraticelli, Anne Consigny    français   \n",
       "4  Samuel Labarthe, Jean-Paul Bordes, Mikaël Chir...    français   \n",
       "\n",
       "   press_rating  nb_press_rating  user_rating  nb_user_rating  \\\n",
       "0           3.9             37.0          4.2          9870.0   \n",
       "1           3.5             30.0          4.0          2895.0   \n",
       "2           3.4             32.0          4.2          1405.0   \n",
       "3           1.8              4.0          3.1           669.0   \n",
       "4           3.5             32.0          4.0          1768.0   \n",
       "\n",
       "                                             summary  \\\n",
       "0  Deux années à arpenter les rues en tant que Ba...   \n",
       "1  France, professeure de sport le jour, ouvrière...   \n",
       "2  Elise, 26 ans est une grande danseuse classiqu...   \n",
       "3  Dentiste à Paris, Romain vient de perdre son p...   \n",
       "4  Le long métrage de Jean-Jacques Annaud, recons...   \n",
       "\n",
       "                                         poster_link  \n",
       "0  https://fr.web.img3.acsta.net/c_310_420/pictur...  \n",
       "1  https://fr.web.img3.acsta.net/c_310_420/pictur...  \n",
       "2  https://fr.web.img4.acsta.net/c_310_420/pictur...  \n",
       "3  https://fr.web.img6.acsta.net/c_310_420/pictur...  \n",
       "4  https://fr.web.img6.acsta.net/c_310_420/pictur...  "
      ]
     },
     "execution_count": 7,
     "metadata": {},
     "output_type": "execute_result"
    }
   ],
   "source": [
    "allocine.head()"
   ]
  },
  {
   "cell_type": "code",
   "execution_count": 225,
   "metadata": {},
   "outputs": [
    {
     "name": "stdout",
     "output_type": "stream",
     "text": [
      "<class 'pandas.core.frame.DataFrame'>\n",
      "Int64Index: 298 entries, 0 to 297\n",
      "Data columns (total 13 columns):\n",
      " #   Column           Non-Null Count  Dtype  \n",
      "---  ------           --------------  -----  \n",
      " 0   id               298 non-null    int64  \n",
      " 1   title            298 non-null    object \n",
      " 2   release_date     297 non-null    object \n",
      " 3   duration         289 non-null    float64\n",
      " 4   genres           298 non-null    object \n",
      " 5   directors        297 non-null    object \n",
      " 6   actors           296 non-null    object \n",
      " 7   nationality      298 non-null    object \n",
      " 8   press_rating     241 non-null    float64\n",
      " 9   nb_press_rating  241 non-null    float64\n",
      " 10  user_rating      269 non-null    float64\n",
      " 11  nb_user_rating   269 non-null    float64\n",
      " 12  summary          298 non-null    object \n",
      "dtypes: float64(5), int64(1), object(7)\n",
      "memory usage: 32.6+ KB\n"
     ]
    }
   ],
   "source": [
    "allocine.info()"
   ]
  },
  {
   "cell_type": "code",
   "execution_count": 226,
   "metadata": {},
   "outputs": [],
   "source": [
    "# Convert the strings to arrays\n",
    "allocine[\"genres\"] = allocine[\"genres\"].apply(lambda x: x.split(\",\") if type(x) != float else [])\n",
    "allocine[\"directors\"] = allocine[\"directors\"].apply(lambda x: x.split(\",\") if type(x) != float else [])\n",
    "allocine[\"actors\"] = allocine[\"actors\"].apply(lambda x: x.split(\",\") if type(x) != float else [])\n",
    "allocine[\"nationality\"] = allocine[\"nationality\"].apply(lambda x: x.split(\",\") if type(x) != float else [])"
   ]
  },
  {
   "cell_type": "code",
   "execution_count": 227,
   "metadata": {},
   "outputs": [],
   "source": [
    "# Get columns with NaN values\n",
    "cols_nan = allocine.columns[allocine.isna().any()].tolist()"
   ]
  },
  {
   "cell_type": "code",
   "execution_count": 228,
   "metadata": {},
   "outputs": [],
   "source": [
    "# Drop NaN values for movies with missing values\n",
    "allocine = allocine.dropna(subset=cols_nan).reset_index(drop=True)"
   ]
  },
  {
   "cell_type": "code",
   "execution_count": 229,
   "metadata": {},
   "outputs": [],
   "source": [
    "# Convert nb_spec_rating and nb_press_rating to int\n",
    "allocine[[\"nb_press_rating\",\"nb_user_rating\"]] = allocine[[\"nb_press_rating\",\"nb_user_rating\"]].astype(int)"
   ]
  },
  {
   "cell_type": "code",
   "execution_count": 230,
   "metadata": {},
   "outputs": [],
   "source": [
    "allocine.shape\n",
    "nb_movies = allocine.shape[0]"
   ]
  },
  {
   "cell_type": "markdown",
   "metadata": {},
   "source": [
    "# **Section 1. Ratings Distributions**\n",
    "\n",
    "## Plot the Distribution of Ratings "
   ]
  },
  {
   "cell_type": "code",
   "execution_count": 231,
   "metadata": {},
   "outputs": [
    {
     "data": {
      "image/png": "[encoded data removed]",
      "text/plain": [
       "<Figure size 1152x288 with 3 Axes>"
      ]
     },
     "metadata": {},
     "output_type": "display_data"
    }
   ],
   "source": [
    "sns.set(style=\"white\", palette=\"deep\")\n",
    "\n",
    "fig, axes = plt.subplots(1, 3, figsize = (16,4))\n",
    "ax1, ax2, ax3 = fig.axes\n",
    "\n",
    "ax1.set_xlim([0.5,5.5])\n",
    "ax2.set_xlim([0.5,5.5])\n",
    "ax3.set_xlim([0.5,5.5])\n",
    "\n",
    "\n",
    "ax1.hist(allocine[\"press_rating\"], bins = 10, range = (0,5), color='C0') # bin range = 1\n",
    "ax1.set_title('Press Ratings Distribution')\n",
    "ax1.set_xlabel('Ratings')\n",
    "\n",
    "ax2.hist(allocine[\"user_rating\"], bins = 10, range = (0,5), color='C1') # bin range = 1\n",
    "ax2.set_title('Users Ratings Distribution')\n",
    "ax2.set_xlabel('Ratings')\n",
    "\n",
    "ax3.hist(allocine[\"press_rating\"], bins = 10, range = (0,5), histtype = 'step', \n",
    "         lw=1.5, label='Press Ratings', color='C0')\n",
    "ax3.hist(allocine[\"user_rating\"], bins = 10, range = (0,5), histtype = 'step', \n",
    "         lw=1.5, label='Users Ratings', color='C1')\n",
    "ax3.legend(loc = 'upper left')\n",
    "ax3.set_title('Comparison of Distributions')\n",
    "ax3.set_xlabel('Ratings')\n",
    "\n",
    "for ax in fig.axes:\n",
    "    ax.spines['top'].set_visible(False)\n",
    "    ax.spines['right'].set_visible(False)"
   ]
  },
  {
   "cell_type": "code",
   "execution_count": 232,
   "metadata": {},
   "outputs": [],
   "source": [
    "# save the fig\n",
    "fig.savefig('allocine-0_hist.png', bbox_inches='tight', dpi=200)"
   ]
  },
  {
   "cell_type": "markdown",
   "metadata": {},
   "source": [
    "## Ratings Correlation"
   ]
  },
  {
   "cell_type": "code",
   "execution_count": 233,
   "metadata": {},
   "outputs": [
    {
     "data": {
      "image/png": "[encoded data removed]",
      "text/plain": [
       "<Figure size 504x504 with 3 Axes>"
      ]
     },
     "metadata": {},
     "output_type": "display_data"
    }
   ],
   "source": [
    "# Correlation between press_rating and user_rating\n",
    "ax = sns.jointplot(x=\"press_rating\", y=\"user_rating\", \n",
    "                   data=allocine, kind=\"hex\",\n",
    "                   marginal_kws=dict(bins=20),\n",
    "                   xlim=(0.8,5.1), ylim=(0.8,5.1),\n",
    "                   height=7, space=0).set_axis_labels(\"Press Ratings\", \"Users Ratings\")"
   ]
  },
  {
   "cell_type": "code",
   "execution_count": 234,
   "metadata": {},
   "outputs": [],
   "source": [
    "# save the fig\n",
    "ax.savefig('allocine-1_jointplot.png', bbox_inches='tight', dpi=200)"
   ]
  },
  {
   "cell_type": "markdown",
   "metadata": {},
   "source": [
    "# **Section 2. Five Stars Movies Analysis**\n",
    "\n",
    "The press seems to give much more hightest ratings than AlloCiné users. We need to dig a little bit more to see what happening here. In this section we use a subset of the data where press ratings are five stars. "
   ]
  },
  {
   "cell_type": "markdown",
   "metadata": {},
   "source": [
    "## Compare to users ratings"
   ]
  },
  {
   "cell_type": "code",
   "execution_count": 255,
   "metadata": {},
   "outputs": [
    {
     "data": {
      "image/png": "[encoded data removed]",
      "text/plain": [
       "<Figure size 1080x432 with 1 Axes>"
      ]
     },
     "metadata": {},
     "output_type": "display_data"
    }
   ],
   "source": [
    "five_stars = allocine[allocine[\"press_rating\"] >= 5]\n",
    "f, ax = plt.subplots(figsize=(15,6))\n",
    "f.suptitle('Movies with Five Stars From The Press', \n",
    "           fontsize=13)\n",
    "f.subplots_adjust(top=0.85)\n",
    "\n",
    "sns.countplot(x=five_stars[\"user_rating\"], ax=ax)\n",
    "ax.set_xlabel(\"Users Ratings\")\n",
    "ax.set_ylabel(\"\")\n",
    "sns.despine(top=True, right=True, left=False, bottom=False)"
   ]
  },
  {
   "cell_type": "code",
   "execution_count": 256,
   "metadata": {},
   "outputs": [],
   "source": [
    "# save the fig\n",
    "f.savefig('allocine-2_hist5stars.png', bbox_inches='tight', dpi=200)"
   ]
  },
  {
   "cell_type": "code",
   "execution_count": 258,
   "metadata": {},
   "outputs": [
    {
     "data": {
      "text/html": [
       "<div>\n",
       "<style scoped>\n",
       "    .dataframe tbody tr th:only-of-type {\n",
       "        vertical-align: middle;\n",
       "    }\n",
       "\n",
       "    .dataframe tbody tr th {\n",
       "        vertical-align: top;\n",
       "    }\n",
       "\n",
       "    .dataframe thead th {\n",
       "        text-align: right;\n",
       "    }\n",
       "</style>\n",
       "<table border=\"1\" class=\"dataframe\">\n",
       "  <thead>\n",
       "    <tr style=\"text-align: right;\">\n",
       "      <th></th>\n",
       "      <th>user_rating</th>\n",
       "    </tr>\n",
       "  </thead>\n",
       "  <tbody>\n",
       "    <tr>\n",
       "      <th>0.33</th>\n",
       "      <td>3.2</td>\n",
       "    </tr>\n",
       "    <tr>\n",
       "      <th>0.66</th>\n",
       "      <td>3.7</td>\n",
       "    </tr>\n",
       "  </tbody>\n",
       "</table>\n",
       "</div>"
      ],
      "text/plain": [
       "      user_rating\n",
       "0.33          3.2\n",
       "0.66          3.7"
      ]
     },
     "execution_count": 258,
     "metadata": {},
     "output_type": "execute_result"
    }
   ],
   "source": [
    "# print the first tier and second tier of the Users Ratings\n",
    "allocine[[\"user_rating\"]].quantile([.33,.66])"
   ]
  },
  {
   "cell_type": "code",
   "execution_count": 259,
   "metadata": {},
   "outputs": [
    {
     "name": "stdout",
     "output_type": "stream",
     "text": [
      "0.0 % of the movies with the highest press ratings received a low users ratings.\n",
      "0.0 % of the movies with the highest press ratings received a moderate users ratings.\n",
      "100.0 % of the movies with the highest press ratings received a high users ratings.\n"
     ]
    }
   ],
   "source": [
    "p = (len(five_stars[(five_stars[\"user_rating\"] < 2.9)]) / len(five_stars)) * 100\n",
    "print('{} % of the movies with the highest press ratings received a low users ratings.'.format(round(p, 2)))\n",
    "p = (len(five_stars[(five_stars[\"user_rating\"] < 3.4) & (five_stars[\"user_rating\"] >= 2.9)]) / len(five_stars)) * 100\n",
    "print('{} % of the movies with the highest press ratings received a moderate users ratings.'.format(round(p, 2)))\n",
    "p = (len(five_stars[five_stars[\"user_rating\"] >= 3.4]) / len(five_stars)) * 100\n",
    "print('{} % of the movies with the highest press ratings received a high users ratings.'.format(round(p, 2)))"
   ]
  },
  {
   "cell_type": "markdown",
   "metadata": {},
   "source": [
    "# **Section 3. Data Exploration**"
   ]
  },
  {
   "cell_type": "markdown",
   "metadata": {},
   "source": [
    "## **GENRE**"
   ]
  },
  {
   "cell_type": "markdown",
   "metadata": {},
   "source": [
    "### Number of movies per genre"
   ]
  },
  {
   "cell_type": "markdown",
   "metadata": {},
   "source": [
    "#### *Get all genres*"
   ]
  },
  {
   "cell_type": "code",
   "execution_count": 235,
   "metadata": {},
   "outputs": [
    {
     "data": {
      "text/plain": [
       "['Action',\n",
       " 'Animation',\n",
       " 'Arts Martiaux',\n",
       " 'Aventure',\n",
       " 'Biopic',\n",
       " 'Comédie',\n",
       " 'Comédie dramatique',\n",
       " 'Comédie musicale',\n",
       " 'Drame',\n",
       " 'Epouvante-horreur',\n",
       " 'Erotique',\n",
       " 'Espionnage',\n",
       " 'Famille',\n",
       " 'Fantastique',\n",
       " 'Guerre',\n",
       " 'Historique',\n",
       " 'Musical',\n",
       " 'Policier',\n",
       " 'Romance',\n",
       " 'Science fiction',\n",
       " 'Sport event',\n",
       " 'Thriller',\n",
       " 'Western']"
      ]
     },
     "execution_count": 235,
     "metadata": {},
     "output_type": "execute_result"
    }
   ],
   "source": [
    "# Get all unique genres from list of genres\n",
    "genres = [genre.lstrip() for genres in allocine[\"genres\"] for genre in genres]\n",
    "genres = sorted(list(set(genres)))\n",
    "genres"
   ]
  },
  {
   "cell_type": "markdown",
   "metadata": {},
   "source": [
    "#### *Create a `genre` dataframe*"
   ]
  },
  {
   "cell_type": "code",
   "execution_count": 237,
   "metadata": {
    "vscode": {
     "languageId": "markdown"
    }
   },
   "outputs": [
    {
     "data": {
      "text/html": [
       "<div>\n",
       "<style scoped>\n",
       "    .dataframe tbody tr th:only-of-type {\n",
       "        vertical-align: middle;\n",
       "    }\n",
       "\n",
       "    .dataframe tbody tr th {\n",
       "        vertical-align: top;\n",
       "    }\n",
       "\n",
       "    .dataframe thead th {\n",
       "        text-align: right;\n",
       "    }\n",
       "</style>\n",
       "<table border=\"1\" class=\"dataframe\">\n",
       "  <thead>\n",
       "    <tr style=\"text-align: right;\">\n",
       "      <th></th>\n",
       "      <th>genre</th>\n",
       "      <th>nb_movies</th>\n",
       "      <th>nb_press_rating</th>\n",
       "      <th>nb_user_rating</th>\n",
       "      <th>total_rating</th>\n",
       "      <th>press_rating_percentage</th>\n",
       "      <th>user_rating_percentage</th>\n",
       "      <th>movie_percentage</th>\n",
       "    </tr>\n",
       "  </thead>\n",
       "  <tbody>\n",
       "    <tr>\n",
       "      <th>0</th>\n",
       "      <td>Action</td>\n",
       "      <td>22</td>\n",
       "      <td>430</td>\n",
       "      <td>361958</td>\n",
       "      <td>362388</td>\n",
       "      <td>8.37</td>\n",
       "      <td>20.92</td>\n",
       "      <td>9.17</td>\n",
       "    </tr>\n",
       "    <tr>\n",
       "      <th>1</th>\n",
       "      <td>Animation</td>\n",
       "      <td>14</td>\n",
       "      <td>193</td>\n",
       "      <td>42971</td>\n",
       "      <td>43164</td>\n",
       "      <td>3.76</td>\n",
       "      <td>2.48</td>\n",
       "      <td>5.83</td>\n",
       "    </tr>\n",
       "    <tr>\n",
       "      <th>2</th>\n",
       "      <td>Arts Martiaux</td>\n",
       "      <td>0</td>\n",
       "      <td>0</td>\n",
       "      <td>0</td>\n",
       "      <td>0</td>\n",
       "      <td>0.00</td>\n",
       "      <td>0.00</td>\n",
       "      <td>0.00</td>\n",
       "    </tr>\n",
       "    <tr>\n",
       "      <th>3</th>\n",
       "      <td>Aventure</td>\n",
       "      <td>10</td>\n",
       "      <td>183</td>\n",
       "      <td>31478</td>\n",
       "      <td>31661</td>\n",
       "      <td>3.56</td>\n",
       "      <td>1.82</td>\n",
       "      <td>4.17</td>\n",
       "    </tr>\n",
       "    <tr>\n",
       "      <th>4</th>\n",
       "      <td>Biopic</td>\n",
       "      <td>4</td>\n",
       "      <td>103</td>\n",
       "      <td>6626</td>\n",
       "      <td>6729</td>\n",
       "      <td>2.00</td>\n",
       "      <td>0.38</td>\n",
       "      <td>1.67</td>\n",
       "    </tr>\n",
       "    <tr>\n",
       "      <th>5</th>\n",
       "      <td>Comédie</td>\n",
       "      <td>40</td>\n",
       "      <td>737</td>\n",
       "      <td>92934</td>\n",
       "      <td>93671</td>\n",
       "      <td>14.34</td>\n",
       "      <td>5.37</td>\n",
       "      <td>16.67</td>\n",
       "    </tr>\n",
       "    <tr>\n",
       "      <th>6</th>\n",
       "      <td>Comédie dramatique</td>\n",
       "      <td>17</td>\n",
       "      <td>414</td>\n",
       "      <td>61644</td>\n",
       "      <td>62058</td>\n",
       "      <td>8.06</td>\n",
       "      <td>3.56</td>\n",
       "      <td>7.08</td>\n",
       "    </tr>\n",
       "    <tr>\n",
       "      <th>7</th>\n",
       "      <td>Comédie musicale</td>\n",
       "      <td>2</td>\n",
       "      <td>69</td>\n",
       "      <td>6836</td>\n",
       "      <td>6905</td>\n",
       "      <td>1.34</td>\n",
       "      <td>0.40</td>\n",
       "      <td>0.83</td>\n",
       "    </tr>\n",
       "    <tr>\n",
       "      <th>8</th>\n",
       "      <td>Drame</td>\n",
       "      <td>73</td>\n",
       "      <td>1776</td>\n",
       "      <td>326096</td>\n",
       "      <td>327872</td>\n",
       "      <td>34.56</td>\n",
       "      <td>18.84</td>\n",
       "      <td>30.42</td>\n",
       "    </tr>\n",
       "    <tr>\n",
       "      <th>9</th>\n",
       "      <td>Epouvante-horreur</td>\n",
       "      <td>3</td>\n",
       "      <td>77</td>\n",
       "      <td>16093</td>\n",
       "      <td>16170</td>\n",
       "      <td>1.50</td>\n",
       "      <td>0.93</td>\n",
       "      <td>1.25</td>\n",
       "    </tr>\n",
       "    <tr>\n",
       "      <th>10</th>\n",
       "      <td>Erotique</td>\n",
       "      <td>0</td>\n",
       "      <td>0</td>\n",
       "      <td>0</td>\n",
       "      <td>0</td>\n",
       "      <td>0.00</td>\n",
       "      <td>0.00</td>\n",
       "      <td>0.00</td>\n",
       "    </tr>\n",
       "    <tr>\n",
       "      <th>11</th>\n",
       "      <td>Espionnage</td>\n",
       "      <td>0</td>\n",
       "      <td>0</td>\n",
       "      <td>0</td>\n",
       "      <td>0</td>\n",
       "      <td>0.00</td>\n",
       "      <td>0.00</td>\n",
       "      <td>0.00</td>\n",
       "    </tr>\n",
       "    <tr>\n",
       "      <th>12</th>\n",
       "      <td>Famille</td>\n",
       "      <td>1</td>\n",
       "      <td>20</td>\n",
       "      <td>485</td>\n",
       "      <td>505</td>\n",
       "      <td>0.39</td>\n",
       "      <td>0.03</td>\n",
       "      <td>0.42</td>\n",
       "    </tr>\n",
       "    <tr>\n",
       "      <th>13</th>\n",
       "      <td>Fantastique</td>\n",
       "      <td>6</td>\n",
       "      <td>129</td>\n",
       "      <td>219651</td>\n",
       "      <td>219780</td>\n",
       "      <td>2.51</td>\n",
       "      <td>12.69</td>\n",
       "      <td>2.50</td>\n",
       "    </tr>\n",
       "    <tr>\n",
       "      <th>14</th>\n",
       "      <td>Guerre</td>\n",
       "      <td>1</td>\n",
       "      <td>19</td>\n",
       "      <td>132</td>\n",
       "      <td>151</td>\n",
       "      <td>0.37</td>\n",
       "      <td>0.01</td>\n",
       "      <td>0.42</td>\n",
       "    </tr>\n",
       "    <tr>\n",
       "      <th>15</th>\n",
       "      <td>Historique</td>\n",
       "      <td>0</td>\n",
       "      <td>0</td>\n",
       "      <td>0</td>\n",
       "      <td>0</td>\n",
       "      <td>0.00</td>\n",
       "      <td>0.00</td>\n",
       "      <td>0.00</td>\n",
       "    </tr>\n",
       "    <tr>\n",
       "      <th>16</th>\n",
       "      <td>Musical</td>\n",
       "      <td>0</td>\n",
       "      <td>0</td>\n",
       "      <td>0</td>\n",
       "      <td>0</td>\n",
       "      <td>0.00</td>\n",
       "      <td>0.00</td>\n",
       "      <td>0.00</td>\n",
       "    </tr>\n",
       "    <tr>\n",
       "      <th>17</th>\n",
       "      <td>Policier</td>\n",
       "      <td>5</td>\n",
       "      <td>84</td>\n",
       "      <td>101969</td>\n",
       "      <td>102053</td>\n",
       "      <td>1.63</td>\n",
       "      <td>5.89</td>\n",
       "      <td>2.08</td>\n",
       "    </tr>\n",
       "    <tr>\n",
       "      <th>18</th>\n",
       "      <td>Romance</td>\n",
       "      <td>3</td>\n",
       "      <td>53</td>\n",
       "      <td>116806</td>\n",
       "      <td>116859</td>\n",
       "      <td>1.03</td>\n",
       "      <td>6.75</td>\n",
       "      <td>1.25</td>\n",
       "    </tr>\n",
       "    <tr>\n",
       "      <th>19</th>\n",
       "      <td>Science fiction</td>\n",
       "      <td>9</td>\n",
       "      <td>207</td>\n",
       "      <td>119854</td>\n",
       "      <td>120061</td>\n",
       "      <td>4.03</td>\n",
       "      <td>6.93</td>\n",
       "      <td>3.75</td>\n",
       "    </tr>\n",
       "    <tr>\n",
       "      <th>20</th>\n",
       "      <td>Sport event</td>\n",
       "      <td>0</td>\n",
       "      <td>0</td>\n",
       "      <td>0</td>\n",
       "      <td>0</td>\n",
       "      <td>0.00</td>\n",
       "      <td>0.00</td>\n",
       "      <td>0.00</td>\n",
       "    </tr>\n",
       "    <tr>\n",
       "      <th>21</th>\n",
       "      <td>Thriller</td>\n",
       "      <td>28</td>\n",
       "      <td>610</td>\n",
       "      <td>222321</td>\n",
       "      <td>222931</td>\n",
       "      <td>11.87</td>\n",
       "      <td>12.85</td>\n",
       "      <td>11.67</td>\n",
       "    </tr>\n",
       "    <tr>\n",
       "      <th>22</th>\n",
       "      <td>Western</td>\n",
       "      <td>2</td>\n",
       "      <td>35</td>\n",
       "      <td>2592</td>\n",
       "      <td>2627</td>\n",
       "      <td>0.68</td>\n",
       "      <td>0.15</td>\n",
       "      <td>0.83</td>\n",
       "    </tr>\n",
       "  </tbody>\n",
       "</table>\n",
       "</div>"
      ],
      "text/plain": [
       "                 genre  nb_movies  nb_press_rating  nb_user_rating  \\\n",
       "0               Action         22              430          361958   \n",
       "1            Animation         14              193           42971   \n",
       "2        Arts Martiaux          0                0               0   \n",
       "3             Aventure         10              183           31478   \n",
       "4               Biopic          4              103            6626   \n",
       "5              Comédie         40              737           92934   \n",
       "6   Comédie dramatique         17              414           61644   \n",
       "7     Comédie musicale          2               69            6836   \n",
       "8                Drame         73             1776          326096   \n",
       "9    Epouvante-horreur          3               77           16093   \n",
       "10            Erotique          0                0               0   \n",
       "11          Espionnage          0                0               0   \n",
       "12             Famille          1               20             485   \n",
       "13         Fantastique          6              129          219651   \n",
       "14              Guerre          1               19             132   \n",
       "15          Historique          0                0               0   \n",
       "16             Musical          0                0               0   \n",
       "17            Policier          5               84          101969   \n",
       "18             Romance          3               53          116806   \n",
       "19     Science fiction          9              207          119854   \n",
       "20         Sport event          0                0               0   \n",
       "21            Thriller         28              610          222321   \n",
       "22             Western          2               35            2592   \n",
       "\n",
       "    total_rating  press_rating_percentage  user_rating_percentage  \\\n",
       "0         362388                     8.37                   20.92   \n",
       "1          43164                     3.76                    2.48   \n",
       "2              0                     0.00                    0.00   \n",
       "3          31661                     3.56                    1.82   \n",
       "4           6729                     2.00                    0.38   \n",
       "5          93671                    14.34                    5.37   \n",
       "6          62058                     8.06                    3.56   \n",
       "7           6905                     1.34                    0.40   \n",
       "8         327872                    34.56                   18.84   \n",
       "9          16170                     1.50                    0.93   \n",
       "10             0                     0.00                    0.00   \n",
       "11             0                     0.00                    0.00   \n",
       "12           505                     0.39                    0.03   \n",
       "13        219780                     2.51                   12.69   \n",
       "14           151                     0.37                    0.01   \n",
       "15             0                     0.00                    0.00   \n",
       "16             0                     0.00                    0.00   \n",
       "17        102053                     1.63                    5.89   \n",
       "18        116859                     1.03                    6.75   \n",
       "19        120061                     4.03                    6.93   \n",
       "20             0                     0.00                    0.00   \n",
       "21        222931                    11.87                   12.85   \n",
       "22          2627                     0.68                    0.15   \n",
       "\n",
       "    movie_percentage  \n",
       "0               9.17  \n",
       "1               5.83  \n",
       "2               0.00  \n",
       "3               4.17  \n",
       "4               1.67  \n",
       "5              16.67  \n",
       "6               7.08  \n",
       "7               0.83  \n",
       "8              30.42  \n",
       "9               1.25  \n",
       "10              0.00  \n",
       "11              0.00  \n",
       "12              0.42  \n",
       "13              2.50  \n",
       "14              0.42  \n",
       "15              0.00  \n",
       "16              0.00  \n",
       "17              2.08  \n",
       "18              1.25  \n",
       "19              3.75  \n",
       "20              0.00  \n",
       "21             11.67  \n",
       "22              0.83  "
      ]
     },
     "execution_count": 237,
     "metadata": {},
     "output_type": "execute_result"
    }
   ],
   "source": [
    "# Create dataframe with the number of movies per genre from genre list\n",
    "genre_df = pd.DataFrame({\"genre\": genres, \"nb_movies\": [allocine[allocine[\"genres\"].apply(lambda x: genre in x).values].shape[0] for genre in genres]})\n",
    "\n",
    "# Add the nb_press_rating and nb_user_rating to the genre_df\n",
    "genre_df[\"nb_press_rating\"] = [allocine[allocine[\"genres\"].apply(lambda x: genre in x).values][\"nb_press_rating\"].sum() for genre in genres]\n",
    "genre_df[\"nb_user_rating\"] = [allocine[allocine[\"genres\"].apply(lambda x: genre in x).values][\"nb_user_rating\"].sum() for genre in genres]\n",
    "\n",
    "# Add the total_ rating to the genre_df (press_rating + user_rating)\n",
    "genre_df[\"total_rating\"] = genre_df[\"nb_press_rating\"] + genre_df[\"nb_user_rating\"]\n",
    "\n",
    "# Add the press_rating_percentage and user_rating_percentage to the genre_df \n",
    "genre_df[\"press_rating_percentage\"] = round(genre_df[\"nb_press_rating\"] / genre_df[\"nb_press_rating\"].values.sum() * 100, 2)\n",
    "genre_df[\"user_rating_percentage\"] = round(genre_df[\"nb_user_rating\"] / genre_df[\"nb_user_rating\"].values.sum() * 100, 2)\n",
    "\n",
    "# Add the movie_percentage to the genre_df\n",
    "genre_df[\"movie_percentage\"] = round(genre_df[\"nb_movies\"]/nb_movies * 100, 2)\n",
    "genre_df"
   ]
  },
  {
   "cell_type": "code",
   "execution_count": 154,
   "metadata": {},
   "outputs": [
    {
     "data": {
      "image/png": "[encoded data removed]",
      "text/plain": [
       "<Figure size 432x288 with 1 Axes>"
      ]
     },
     "metadata": {},
     "output_type": "display_data"
    }
   ],
   "source": [
    "# Hist of the percentage of movies per genre\n",
    "ax = sns.barplot(x=\"genre\", y=\"movie_percentage\", data=genre_df, color=\"C2\")\n",
    "ax.set_title(\"Percentage of movies per genre\")\n",
    "ax.set_xlabel(\"Genre\")\n",
    "ax.set_ylabel(\"Percentage of movies\")\n",
    "\n",
    "# Pretty print x axis names\n",
    "for i, genre in enumerate(ax.get_xticklabels()):\n",
    "    genre.set_rotation(90)\n",
    "    genre.set_horizontalalignment('center')\n",
    "    genre.set_position((i, 0))\n",
    "\n",
    "# Print the data values on top of the bars\n",
    "for i, genre in enumerate(ax.patches):\n",
    "    ax.text(genre.get_x() + genre.get_width()/2.,\n",
    "            genre.get_height() + 0.5,\n",
    "            str(genre_df.iloc[i][\"movie_percentage\"]) + \"%\",\n",
    "            ha='center',\n",
    "            color='black',\n",
    "            fontsize=10)"
   ]
  },
  {
   "cell_type": "code",
   "execution_count": 240,
   "metadata": {},
   "outputs": [
    {
     "data": {
      "image/png": "[encoded data removed]",
      "text/plain": [
       "<Figure size 432x288 with 1 Axes>"
      ]
     },
     "metadata": {},
     "output_type": "display_data"
    }
   ],
   "source": [
    "# Hist of the percentage of press_rating per genre\n",
    "ax = sns.barplot(x=\"genre\", y=\"press_rating_percentage\", data=genre_df, color=\"C0\")\n",
    "ax.set_title(\"Percentage of press_rating per genre\")\n",
    "ax.set_xlabel(\"Genre\")\n",
    "ax.set_ylabel(\"Percentage of press_rating\")\n",
    "\n",
    "# Pretty print x axis names\n",
    "for i, genre in enumerate(ax.get_xticklabels()):\n",
    "    genre.set_rotation(90)\n",
    "    genre.set_horizontalalignment('center')\n",
    "    genre.set_position((i, 0))"
   ]
  },
  {
   "cell_type": "code",
   "execution_count": 241,
   "metadata": {},
   "outputs": [
    {
     "data": {
      "image/png": "[encoded data removed]",
      "text/plain": [
       "<Figure size 432x288 with 1 Axes>"
      ]
     },
     "metadata": {},
     "output_type": "display_data"
    }
   ],
   "source": [
    "# Hist of the percentage of user_rating per genre\n",
    "ax = sns.barplot(x=\"genre\", y=\"user_rating_percentage\", data=genre_df, color=\"C1\")\n",
    "ax.set_title(\"Percentage of user_rating per genre\")\n",
    "ax.set_xlabel(\"Genre\")\n",
    "ax.set_ylabel(\"Percentage of user_rating\")\n",
    "\n",
    "# Pretty print x axis names\n",
    "for i, genre in enumerate(ax.get_xticklabels()):\n",
    "    genre.set_rotation(90)\n",
    "    genre.set_horizontalalignment('center')\n",
    "    genre.set_position((i, 0))"
   ]
  },
  {
   "cell_type": "markdown",
   "metadata": {},
   "source": [
    "### Number of ratings per genre"
   ]
  },
  {
   "cell_type": "code",
   "execution_count": 92,
   "metadata": {},
   "outputs": [
    {
     "data": {
      "text/plain": [
       "['duration']"
      ]
     },
     "execution_count": 92,
     "metadata": {},
     "output_type": "execute_result"
    }
   ],
   "source": [
    "   \n"
   ]
  },
  {
   "cell_type": "markdown",
   "metadata": {},
   "source": [
    "### Average ratings per genre"
   ]
  },
  {
   "cell_type": "code",
   "execution_count": null,
   "metadata": {},
   "outputs": [],
   "source": []
  },
  {
   "cell_type": "markdown",
   "metadata": {},
   "source": [
    "## **NATIONALITY**"
   ]
  },
  {
   "cell_type": "code",
   "execution_count": null,
   "metadata": {},
   "outputs": [],
   "source": []
  }
 ],
 "metadata": {
  "interpreter": {
   "hash": "8ff1774c64d83fce3825259fa3771bbe70271854497325f5fa1e2c1b92279703"
  },
  "kernelspec": {
   "display_name": "Python 3.9.5 64-bit",
   "language": "python",
   "name": "python3"
  },
  "language_info": {
   "codemirror_mode": {
    "name": "ipython",
    "version": 3
   },
   "file_extension": ".py",
   "mimetype": "text/x-python",
   "name": "python",
   "nbconvert_exporter": "python",
   "pygments_lexer": "ipython3",
   "version": "3.9.5"
  },
  "orig_nbformat": 4
 },
 "nbformat": 4,
 "nbformat_minor": 2
}
