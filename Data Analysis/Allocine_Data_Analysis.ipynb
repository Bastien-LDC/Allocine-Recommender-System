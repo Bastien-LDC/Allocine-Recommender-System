{
 "cells": [
  {
   "cell_type": "markdown",
   "metadata": {},
   "source": [
    "# 🎦**AlloCiné Data Analysis**📊\n",
    "\n",
    "We had web scraped the [movies](https://github.com/Bastien-LDC/Allocine-Recommender-System/blob/master/Webscraping/Webscraping_Movies_From_AlloCine.ipynb), [series](https://github.com/Bastien-LDC/Allocine-Recommender-System/blob/master/Webscraping/Webscraping_Series_From_AlloCine.ipynb), and [ratings](https://github.com/Bastien-LDC/Allocine-Recommender-System/blob/master/Webscraping/Webscraping_Ratings_From_AlloCine.ipynb) data from the [AlloCiné](https://www.allocine.fr/) website.\n",
    "\n",
    "**Data description :**\n",
    "\n",
    "Features|Movies|Series|Ratings\n",
    "-------|---------|---------|---\n",
    "`id`|X|X|-\n",
    "`title`|X|X|-\n",
    "`status`|-|X|-\n",
    "`release_date`|X|X|-\n",
    "`duration`|X|X|-\n",
    "`nb_seasons`|-|X|-\n",
    "`nb_episodes`|-|X|-\n",
    "`genres`|X|X|-\n",
    "`directors`|X|X|-\n",
    "`actors`|X|X|-\n",
    "`nationality`|X|X|-\n",
    "`press_rating`|X|X|X\n",
    "`nb_press_rating`|X|X|-\n",
    "`spect_rating`|X|X|X\n",
    "`nb_spect_rating`|X|X|-\n",
    "`summary`|X|X|-\n",
    "`poster_link`|X|X|-\n",
    "`user_id`|-|-|X\n",
    "`(user/press)_name`|-|-|X\n",
    "`(movie/series)_id`|-|-|X\n",
    "`date`|-|-|X\n",
    "\n",
    "\n",
    "If you are interested in, the data is available on one csv (brut and clean version) [allocine_dataset.zip](http://olivier-maillot.fr/wp-content/uploads/2017/08/allocine_dataset.zip) or in multiple csv files (clean version only) [allocine_rel-dataset.zip](http://olivier-maillot.fr/wp-content/uploads/2017/08/allocine_rel-dataset.zip)."
   ]
  },
  {
   "cell_type": "markdown",
   "metadata": {},
   "source": [
    "---\n",
    "# **Import libs**"
   ]
  },
  {
   "cell_type": "code",
   "execution_count": 359,
   "metadata": {},
   "outputs": [],
   "source": [
    "# import libraries\n",
    "import pandas as pd\n",
    "import numpy as np\n",
    "import random as rd\n",
    "import matplotlib.pyplot as plt\n",
    "import re\n",
    "import seaborn as sns\n",
    "import os\n",
    "from warnings import filterwarnings\n",
    "import missingno as msno\n",
    "\n",
    "# We ignore reindexing warnings\n",
    "filterwarnings(\"ignore\",message=\"Boolean Series key will be reindexed\")\n",
    "%matplotlib inline"
   ]
  },
  {
   "cell_type": "markdown",
   "metadata": {},
   "source": [
    "# **Data cleaning**"
   ]
  },
  {
   "cell_type": "markdown",
   "metadata": {},
   "source": [
    "## Load the csv files"
   ]
  },
  {
   "cell_type": "code",
   "execution_count": 360,
   "metadata": {},
   "outputs": [],
   "source": [
    "def load_csv():\n",
    "    '''\n",
    "    Load the csv file and return a dataframe\n",
    "    '''\n",
    "    root_path = \"../Saved Data/\"\n",
    "    movies = pd.read_csv(f\"{root_path}allocine_movies_100p.csv\")\n",
    "    series = pd.read_csv(f\"{root_path}allocine_series_100p.csv\")\n",
    "    press_movies = pd.read_csv(f\"{root_path}press_ratings_movies.csv\")\n",
    "    press_series = pd.read_csv(f\"{root_path}press_ratings_series.csv\")\n",
    "    user_movies = pd.read_csv(f\"{root_path}user_ratings_movies.csv\")\n",
    "    user_series = pd.read_csv(f\"{root_path}user_ratings_series.csv\")\n",
    "    return {\"movies\":movies, \"series\":series, \"press_movies\":press_movies, \"press_series\":press_series, \"user_movies\":user_movies, \"user_series\":user_series}\n",
    "data = load_csv()\n",
    "movies, series, press_movies, press_series, user_movies, user_series = data[\"movies\"], data[\"series\"], data[\"press_movies\"], data[\"press_series\"], data[\"user_movies\"], data[\"user_series\"]"
   ]
  },
  {
   "cell_type": "markdown",
   "metadata": {},
   "source": [
    "## Rename and store columns names"
   ]
  },
  {
   "cell_type": "code",
   "execution_count": 361,
   "metadata": {},
   "outputs": [],
   "source": [
    "# Rename (nb_)spec_rating to (nb_)user_rating\n",
    "movies.rename(columns={'spect_rating':'user_rating', 'nb_spect_rating':'nb_user_rating'}, inplace=True)\n",
    "series.rename(columns={'spect_rating':'user_rating', 'nb_spect_rating':'nb_user_rating'}, inplace=True)"
   ]
  },
  {
   "cell_type": "code",
   "execution_count": 362,
   "metadata": {},
   "outputs": [],
   "source": [
    "# Store columns names\n",
    "movies_cols = movies.columns\n",
    "series_cols = series.columns\n",
    "press_movies_cols = press_movies.columns\n",
    "press_series_cols = press_series.columns\n",
    "user_movies_cols = user_movies.columns\n",
    "user_series_cols = user_series.columns"
   ]
  },
  {
   "cell_type": "markdown",
   "metadata": {},
   "source": [
    "## Drop duplicates and NaN rating values"
   ]
  },
  {
   "cell_type": "code",
   "execution_count": 363,
   "metadata": {},
   "outputs": [
    {
     "name": "stdout",
     "output_type": "stream",
     "text": [
      "Nb of movie duplicates: 34\n",
      "Nb of series duplicates: 75\n",
      "Nb of press movie duplicates: 649\n",
      "Nb of press series duplicates: 158\n",
      "Nb of user movie duplicates: 2463\n",
      "Nb of user series duplicates: 2184\n",
      "--> All duplicates removed\n"
     ]
    }
   ],
   "source": [
    "m_duplicates = movies.duplicated(subset=[\"id\"]).sum()\n",
    "s_duplicates = series.duplicated(subset=[\"id\"]).sum()\n",
    "pm_duplicates = press_movies.duplicated().sum()\n",
    "ps_duplicates = press_series.duplicated().sum()\n",
    "um_duplicates = user_movies.duplicated().sum()\n",
    "us_duplicates = user_series.duplicated().sum()\n",
    "print(f\"Nb of movie duplicates: {m_duplicates}\")\n",
    "print(f\"Nb of series duplicates: {s_duplicates}\")\n",
    "print(f\"Nb of press movie duplicates: {pm_duplicates}\")\n",
    "print(f\"Nb of press series duplicates: {ps_duplicates}\")\n",
    "print(f\"Nb of user movie duplicates: {um_duplicates}\")\n",
    "print(f\"Nb of user series duplicates: {us_duplicates}\")\n",
    "series.drop_duplicates(subset=[\"id\"], inplace=True, ignore_index=True)\n",
    "movies.drop_duplicates(subset=[\"id\"], inplace=True, ignore_index=True)\n",
    "press_movies.drop_duplicates(inplace=True, ignore_index=True)\n",
    "press_series.drop_duplicates(inplace=True, ignore_index=True)\n",
    "user_movies.drop_duplicates(inplace=True, ignore_index=True)\n",
    "user_series.drop_duplicates(inplace=True, ignore_index=True)\n",
    "print(\"--> All duplicates removed\")"
   ]
  },
  {
   "cell_type": "code",
   "execution_count": 364,
   "metadata": {},
   "outputs": [
    {
     "name": "stdout",
     "output_type": "stream",
     "text": [
      "Number of movies with no ratings: 1\n",
      "Number of series with no ratings: 5\n",
      "--> All movies and series with no ratings removed\n"
     ]
    }
   ],
   "source": [
    "# Drop series and movies with no press AND no user ratings\n",
    "m_na_ratings = movies[movies[\"press_rating\"].isna()][movies[\"user_rating\"].isna()].shape[0]\n",
    "s_na_ratings = series[series[\"press_rating\"].isna()][series[\"user_rating\"].isna()].shape[0]\n",
    "movies.dropna(subset=[\"nb_press_rating\",\"nb_user_rating\",\"press_rating\",\"user_rating\"], inplace=True, how=\"all\")\n",
    "series.dropna(subset=[\"nb_press_rating\",\"nb_user_rating\",\"press_rating\",\"user_rating\"], inplace=True, how=\"all\")\n",
    "print(f\"Number of movies with no ratings: {m_na_ratings}\")\n",
    "print(f\"Number of series with no ratings: {s_na_ratings}\")\n",
    "print(\"--> All movies and series with no ratings removed\")"
   ]
  },
  {
   "cell_type": "markdown",
   "metadata": {},
   "source": [
    "## Convert the strings to arrays"
   ]
  },
  {
   "cell_type": "code",
   "execution_count": 365,
   "metadata": {},
   "outputs": [],
   "source": [
    "def convert_to_array(df: pd.DataFrame):\n",
    "    '''\n",
    "    Convert the strings to arrays\n",
    "    '''\n",
    "    df[\"genres\"] = df[\"genres\"].apply(lambda x: x.split(\", \") if type(x) not in [float,list] else x)\n",
    "    df[\"directors\"] = df[\"directors\"].apply(lambda x: x.split(\", \") if type(x) not in [float,list] else x)\n",
    "    df[\"actors\"] = df[\"actors\"].apply(lambda x: x.split(\", \") if type(x) not in [float,list] else x)\n",
    "    df[\"nationality\"] = df[\"nationality\"].apply(lambda x: x.split(\", \") if type(x) not in [float,list] else x)"
   ]
  },
  {
   "cell_type": "code",
   "execution_count": 366,
   "metadata": {},
   "outputs": [],
   "source": [
    "convert_to_array(movies)\n",
    "convert_to_array(series)\n",
    "# Convert nb_spec_rating and nb_press_rating to int\n",
    "#movies[[\"nb_press_rating\",\"nb_user_rating\"]] = movies[[\"nb_press_rating\",\"nb_user_rating\"]].astype(int)\n",
    "#series[[\"nb_press_rating\",\"nb_user_rating\"]] = series[[\"nb_press_rating\",\"nb_user_rating\"]].astype(int)"
   ]
  },
  {
   "cell_type": "markdown",
   "metadata": {},
   "source": [
    "## Check data coherence"
   ]
  },
  {
   "cell_type": "code",
   "execution_count": 367,
   "metadata": {},
   "outputs": [],
   "source": [
    "def display_stats(df: pd.DataFrame):\n",
    "    '''\n",
    "    Display the statistics of a dataframe\n",
    "    '''\n",
    "    # Graph of number of missing values by column\n",
    "    #msno.heatmap(df, cmap=\"RdYlBu\", sort=\"ascending\")\n",
    "    msno.matrix(df, figsize=(12,8), color=(round(rd.random(),2),round(rd.random(),2),round(rd.random(),2)), sort=\"descending\")\n",
    "    missing_values = df.isnull().sum()\n",
    "    if missing_values.sum() > 0:      \n",
    "        missing_values = missing_values / df.shape[0] * 100\n",
    "        missing_values = missing_values[missing_values > 0]\n",
    "        missing_values.sort_values(inplace=True)\n",
    "        plt.figure(figsize=(12, 5))\n",
    "        plt.title(f\"Percentage of missing values in each column\")\n",
    "        sns.barplot(x=missing_values.index, y=missing_values)\n",
    "        plt.show()\n",
    "    else:\n",
    "        print(\"No missing values in the dataframe\")\n",
    "    df.info()\n",
    "    return df.describe()"
   ]
  },
  {
   "cell_type": "markdown",
   "metadata": {},
   "source": [
    "### Series"
   ]
  },
  {
   "cell_type": "code",
   "execution_count": 368,
   "metadata": {},
   "outputs": [],
   "source": [
    "# Replace the release_date string by the release year as a date \n",
    "series[\"release_date\"] = series[\"release_date\"].apply(lambda x: int(re.findall(r\"\\d{4}\", x)[0]))"
   ]
  },
  {
   "cell_type": "markdown",
   "metadata": {},
   "source": [
    "#### Stats"
   ]
  },
  {
   "cell_type": "code",
   "execution_count": 369,
   "metadata": {},
   "outputs": [
    {
     "data": {
      "image/png": "[encoded data removed]",
      "text/plain": [
       "<Figure size 864x576 with 2 Axes>"
      ]
     },
     "metadata": {
      "needs_background": "light"
     },
     "output_type": "display_data"
    },
    {
     "data": {
      "image/png": "[encoded data removed]",
      "text/plain": [
       "<Figure size 864x360 with 1 Axes>"
      ]
     },
     "metadata": {
      "needs_background": "light"
     },
     "output_type": "display_data"
    },
    {
     "name": "stdout",
     "output_type": "stream",
     "text": [
      "<class 'pandas.core.frame.DataFrame'>\n",
      "Int64Index: 1337 entries, 0 to 1341\n",
      "Data columns (total 17 columns):\n",
      " #   Column           Non-Null Count  Dtype  \n",
      "---  ------           --------------  -----  \n",
      " 0   id               1337 non-null   int64  \n",
      " 1   title            1337 non-null   object \n",
      " 2   status           1337 non-null   object \n",
      " 3   release_date     1337 non-null   int64  \n",
      " 4   duration         1324 non-null   float64\n",
      " 5   nb_seasons       1332 non-null   float64\n",
      " 6   nb_episodes      1324 non-null   float64\n",
      " 7   genres           1337 non-null   object \n",
      " 8   directors        1243 non-null   object \n",
      " 9   actors           1303 non-null   object \n",
      " 10  nationality      1336 non-null   object \n",
      " 11  press_rating     517 non-null    float64\n",
      " 12  nb_press_rating  517 non-null    float64\n",
      " 13  user_rating      1337 non-null   float64\n",
      " 14  nb_user_rating   1337 non-null   float64\n",
      " 15  summary          1332 non-null   object \n",
      " 16  poster_link      1337 non-null   object \n",
      "dtypes: float64(7), int64(2), object(8)\n",
      "memory usage: 188.0+ KB\n"
     ]
    },
    {
     "data": {
      "text/html": [
       "<div>\n",
       "<style scoped>\n",
       "    .dataframe tbody tr th:only-of-type {\n",
       "        vertical-align: middle;\n",
       "    }\n",
       "\n",
       "    .dataframe tbody tr th {\n",
       "        vertical-align: top;\n",
       "    }\n",
       "\n",
       "    .dataframe thead th {\n",
       "        text-align: right;\n",
       "    }\n",
       "</style>\n",
       "<table border=\"1\" class=\"dataframe\">\n",
       "  <thead>\n",
       "    <tr style=\"text-align: right;\">\n",
       "      <th></th>\n",
       "      <th>id</th>\n",
       "      <th>release_date</th>\n",
       "      <th>duration</th>\n",
       "      <th>nb_seasons</th>\n",
       "      <th>nb_episodes</th>\n",
       "      <th>press_rating</th>\n",
       "      <th>nb_press_rating</th>\n",
       "      <th>user_rating</th>\n",
       "      <th>nb_user_rating</th>\n",
       "    </tr>\n",
       "  </thead>\n",
       "  <tbody>\n",
       "    <tr>\n",
       "      <th>count</th>\n",
       "      <td>1337.000000</td>\n",
       "      <td>1337.000000</td>\n",
       "      <td>1324.000000</td>\n",
       "      <td>1332.000000</td>\n",
       "      <td>1324.000000</td>\n",
       "      <td>517.000000</td>\n",
       "      <td>517.000000</td>\n",
       "      <td>1337.000000</td>\n",
       "      <td>1337.000000</td>\n",
       "    </tr>\n",
       "    <tr>\n",
       "      <th>mean</th>\n",
       "      <td>18405.789828</td>\n",
       "      <td>2014.798055</td>\n",
       "      <td>45.731118</td>\n",
       "      <td>3.511261</td>\n",
       "      <td>57.027190</td>\n",
       "      <td>3.328820</td>\n",
       "      <td>8.456480</td>\n",
       "      <td>3.594166</td>\n",
       "      <td>3823.077786</td>\n",
       "    </tr>\n",
       "    <tr>\n",
       "      <th>std</th>\n",
       "      <td>9108.118180</td>\n",
       "      <td>8.710131</td>\n",
       "      <td>15.121085</td>\n",
       "      <td>4.028340</td>\n",
       "      <td>164.070268</td>\n",
       "      <td>0.598578</td>\n",
       "      <td>3.772162</td>\n",
       "      <td>0.606313</td>\n",
       "      <td>11857.966899</td>\n",
       "    </tr>\n",
       "    <tr>\n",
       "      <th>min</th>\n",
       "      <td>4.000000</td>\n",
       "      <td>1965.000000</td>\n",
       "      <td>3.000000</td>\n",
       "      <td>1.000000</td>\n",
       "      <td>1.000000</td>\n",
       "      <td>1.300000</td>\n",
       "      <td>1.000000</td>\n",
       "      <td>0.900000</td>\n",
       "      <td>1.000000</td>\n",
       "    </tr>\n",
       "    <tr>\n",
       "      <th>25%</th>\n",
       "      <td>11196.000000</td>\n",
       "      <td>2013.000000</td>\n",
       "      <td>42.000000</td>\n",
       "      <td>1.000000</td>\n",
       "      <td>10.000000</td>\n",
       "      <td>2.900000</td>\n",
       "      <td>6.000000</td>\n",
       "      <td>3.300000</td>\n",
       "      <td>130.000000</td>\n",
       "    </tr>\n",
       "    <tr>\n",
       "      <th>50%</th>\n",
       "      <td>21764.000000</td>\n",
       "      <td>2018.000000</td>\n",
       "      <td>45.000000</td>\n",
       "      <td>2.000000</td>\n",
       "      <td>20.000000</td>\n",
       "      <td>3.300000</td>\n",
       "      <td>8.000000</td>\n",
       "      <td>3.700000</td>\n",
       "      <td>495.000000</td>\n",
       "    </tr>\n",
       "    <tr>\n",
       "      <th>75%</th>\n",
       "      <td>25130.000000</td>\n",
       "      <td>2020.000000</td>\n",
       "      <td>55.000000</td>\n",
       "      <td>4.000000</td>\n",
       "      <td>53.000000</td>\n",
       "      <td>3.800000</td>\n",
       "      <td>10.000000</td>\n",
       "      <td>4.000000</td>\n",
       "      <td>2158.000000</td>\n",
       "    </tr>\n",
       "    <tr>\n",
       "      <th>max</th>\n",
       "      <td>31644.000000</td>\n",
       "      <td>2022.000000</td>\n",
       "      <td>150.000000</td>\n",
       "      <td>52.000000</td>\n",
       "      <td>4573.000000</td>\n",
       "      <td>5.000000</td>\n",
       "      <td>30.000000</td>\n",
       "      <td>4.700000</td>\n",
       "      <td>205979.000000</td>\n",
       "    </tr>\n",
       "  </tbody>\n",
       "</table>\n",
       "</div>"
      ],
      "text/plain": [
       "                 id  release_date     duration   nb_seasons  nb_episodes  \\\n",
       "count   1337.000000   1337.000000  1324.000000  1332.000000  1324.000000   \n",
       "mean   18405.789828   2014.798055    45.731118     3.511261    57.027190   \n",
       "std     9108.118180      8.710131    15.121085     4.028340   164.070268   \n",
       "min        4.000000   1965.000000     3.000000     1.000000     1.000000   \n",
       "25%    11196.000000   2013.000000    42.000000     1.000000    10.000000   \n",
       "50%    21764.000000   2018.000000    45.000000     2.000000    20.000000   \n",
       "75%    25130.000000   2020.000000    55.000000     4.000000    53.000000   \n",
       "max    31644.000000   2022.000000   150.000000    52.000000  4573.000000   \n",
       "\n",
       "       press_rating  nb_press_rating  user_rating  nb_user_rating  \n",
       "count    517.000000       517.000000  1337.000000     1337.000000  \n",
       "mean       3.328820         8.456480     3.594166     3823.077786  \n",
       "std        0.598578         3.772162     0.606313    11857.966899  \n",
       "min        1.300000         1.000000     0.900000        1.000000  \n",
       "25%        2.900000         6.000000     3.300000      130.000000  \n",
       "50%        3.300000         8.000000     3.700000      495.000000  \n",
       "75%        3.800000        10.000000     4.000000     2158.000000  \n",
       "max        5.000000        30.000000     4.700000   205979.000000  "
      ]
     },
     "execution_count": 369,
     "metadata": {},
     "output_type": "execute_result"
    }
   ],
   "source": [
    "s_stats = display_stats(series)\n",
    "s_stats"
   ]
  },
  {
   "cell_type": "code",
   "execution_count": 370,
   "metadata": {},
   "outputs": [
    {
     "data": {
      "text/html": [
       "<div>\n",
       "<style scoped>\n",
       "    .dataframe tbody tr th:only-of-type {\n",
       "        vertical-align: middle;\n",
       "    }\n",
       "\n",
       "    .dataframe tbody tr th {\n",
       "        vertical-align: top;\n",
       "    }\n",
       "\n",
       "    .dataframe thead th {\n",
       "        text-align: right;\n",
       "    }\n",
       "</style>\n",
       "<table border=\"1\" class=\"dataframe\">\n",
       "  <thead>\n",
       "    <tr style=\"text-align: right;\">\n",
       "      <th></th>\n",
       "      <th>id</th>\n",
       "      <th>title</th>\n",
       "      <th>status</th>\n",
       "      <th>release_date</th>\n",
       "      <th>duration</th>\n",
       "      <th>nb_seasons</th>\n",
       "      <th>nb_episodes</th>\n",
       "      <th>genres</th>\n",
       "      <th>directors</th>\n",
       "      <th>actors</th>\n",
       "      <th>nationality</th>\n",
       "      <th>press_rating</th>\n",
       "      <th>nb_press_rating</th>\n",
       "      <th>user_rating</th>\n",
       "      <th>nb_user_rating</th>\n",
       "      <th>summary</th>\n",
       "      <th>poster_link</th>\n",
       "    </tr>\n",
       "  </thead>\n",
       "  <tbody>\n",
       "    <tr>\n",
       "      <th>45</th>\n",
       "      <td>19874</td>\n",
       "      <td>La Petite Histoire de France</td>\n",
       "      <td>En cours</td>\n",
       "      <td>2015</td>\n",
       "      <td>3.0</td>\n",
       "      <td>4.0</td>\n",
       "      <td>1.0</td>\n",
       "      <td>[Comédie, Historique]</td>\n",
       "      <td>[Jamel Debbouze, Laurent Tiphaine, Frank Cimière]</td>\n",
       "      <td>[Maxime Gasteuil, David Salles, François Levan...</td>\n",
       "      <td>[France]</td>\n",
       "      <td>NaN</td>\n",
       "      <td>NaN</td>\n",
       "      <td>2.9</td>\n",
       "      <td>526.0</td>\n",
       "      <td>Tout le monde connaît Jeanne d'Arc, Louis XIV ...</td>\n",
       "      <td>https://fr.web.img4.acsta.net/c_310_420/pictur...</td>\n",
       "    </tr>\n",
       "    <tr>\n",
       "      <th>1271</th>\n",
       "      <td>9588</td>\n",
       "      <td>Soda</td>\n",
       "      <td>Terminée</td>\n",
       "      <td>2011</td>\n",
       "      <td>3.0</td>\n",
       "      <td>4.0</td>\n",
       "      <td>2.0</td>\n",
       "      <td>[Comédie]</td>\n",
       "      <td>[Frank Bellocq, David Soussan, Kev Adams]</td>\n",
       "      <td>[Kev Adams, Guy Lecluyse, William Lebghil]</td>\n",
       "      <td>[France]</td>\n",
       "      <td>NaN</td>\n",
       "      <td>NaN</td>\n",
       "      <td>2.5</td>\n",
       "      <td>3829.0</td>\n",
       "      <td>Fils aîné d’une famille de classe moyenne et m...</td>\n",
       "      <td>https://fr.web.img6.acsta.net/c_310_420/medias...</td>\n",
       "    </tr>\n",
       "  </tbody>\n",
       "</table>\n",
       "</div>"
      ],
      "text/plain": [
       "         id                         title    status  release_date  duration  \\\n",
       "45    19874  La Petite Histoire de France  En cours          2015       3.0   \n",
       "1271   9588                          Soda  Terminée          2011       3.0   \n",
       "\n",
       "      nb_seasons  nb_episodes                 genres  \\\n",
       "45           4.0          1.0  [Comédie, Historique]   \n",
       "1271         4.0          2.0              [Comédie]   \n",
       "\n",
       "                                              directors  \\\n",
       "45    [Jamel Debbouze, Laurent Tiphaine, Frank Cimière]   \n",
       "1271          [Frank Bellocq, David Soussan, Kev Adams]   \n",
       "\n",
       "                                                 actors nationality  \\\n",
       "45    [Maxime Gasteuil, David Salles, François Levan...    [France]   \n",
       "1271         [Kev Adams, Guy Lecluyse, William Lebghil]    [France]   \n",
       "\n",
       "      press_rating  nb_press_rating  user_rating  nb_user_rating  \\\n",
       "45             NaN              NaN          2.9           526.0   \n",
       "1271           NaN              NaN          2.5          3829.0   \n",
       "\n",
       "                                                summary  \\\n",
       "45    Tout le monde connaît Jeanne d'Arc, Louis XIV ...   \n",
       "1271  Fils aîné d’une famille de classe moyenne et m...   \n",
       "\n",
       "                                            poster_link  \n",
       "45    https://fr.web.img4.acsta.net/c_310_420/pictur...  \n",
       "1271  https://fr.web.img6.acsta.net/c_310_420/medias...  "
      ]
     },
     "execution_count": 370,
     "metadata": {},
     "output_type": "execute_result"
    }
   ],
   "source": [
    "# Find the series where nb_seasons is greater or equal to nb_episodes \n",
    "series[series.nb_seasons >= series.nb_episodes]"
   ]
  },
  {
   "cell_type": "code",
   "execution_count": null,
   "metadata": {},
   "outputs": [],
   "source": []
  },
  {
   "cell_type": "markdown",
   "metadata": {},
   "source": [
    "#### Impute missing duration"
   ]
  },
  {
   "cell_type": "code",
   "execution_count": null,
   "metadata": {},
   "outputs": [],
   "source": []
  },
  {
   "cell_type": "markdown",
   "metadata": {},
   "source": [
    "### Movies"
   ]
  },
  {
   "cell_type": "code",
   "execution_count": 372,
   "metadata": {},
   "outputs": [],
   "source": [
    "def get_release_season(date: str):\n",
    "    '''\n",
    "    Get the release season\n",
    "    '''\n",
    "    spring = \"03-21\"\n",
    "    summer = \"06-21\"\n",
    "    fall = \"09-21\"\n",
    "    winter = \"12-21\"\n",
    "    my = re.sub(r\"\\d{4}-\", \"\", date)\n",
    "    if my < spring or my >= winter:\n",
    "        return \"Winter\"\n",
    "    elif my < summer and my >= spring:\n",
    "        return \"Spring\"\n",
    "    elif my < fall and my >= summer:\n",
    "        return \"Summer\"\n",
    "    elif my < winter and my >= fall:\n",
    "        return \"Fall\""
   ]
  },
  {
   "cell_type": "code",
   "execution_count": 373,
   "metadata": {},
   "outputs": [],
   "source": [
    "# Keep only the year and the month of the release date\n",
    "# movies[\"release_date\"] = movies[\"release_date\"].apply(lambda x: x.split(\"-\")[0]+\"-\"+x.split(\"-\")[1])\n",
    "\n",
    "# Get the release season\n",
    "#movies[\"release_date\"] = movies[\"release_date\"].apply(lambda x: get_release_season(x) + \" \" + x.split(\"-\")[0])\n"
   ]
  },
  {
   "cell_type": "code",
   "execution_count": 375,
   "metadata": {},
   "outputs": [],
   "source": [
    "#print(sorted(set(movies.release_date.values),reverse=False))"
   ]
  },
  {
   "cell_type": "markdown",
   "metadata": {},
   "source": [
    "#### Stats"
   ]
  },
  {
   "cell_type": "code",
   "execution_count": 376,
   "metadata": {},
   "outputs": [
    {
     "data": {
      "image/png": "[encoded data removed]",
      "text/plain": [
       "<Figure size 864x576 with 2 Axes>"
      ]
     },
     "metadata": {
      "needs_background": "light"
     },
     "output_type": "display_data"
    },
    {
     "data": {
      "image/png": "[encoded data removed]",
      "text/plain": [
       "<Figure size 864x360 with 1 Axes>"
      ]
     },
     "metadata": {
      "needs_background": "light"
     },
     "output_type": "display_data"
    },
    {
     "name": "stdout",
     "output_type": "stream",
     "text": [
      "<class 'pandas.core.frame.DataFrame'>\n",
      "Int64Index: 1279 entries, 0 to 1279\n",
      "Data columns (total 14 columns):\n",
      " #   Column           Non-Null Count  Dtype  \n",
      "---  ------           --------------  -----  \n",
      " 0   id               1279 non-null   int64  \n",
      " 1   title            1279 non-null   object \n",
      " 2   release_date     1279 non-null   object \n",
      " 3   duration         1272 non-null   float64\n",
      " 4   genres           1279 non-null   object \n",
      " 5   directors        1276 non-null   object \n",
      " 6   actors           1269 non-null   object \n",
      " 7   nationality      1279 non-null   object \n",
      " 8   press_rating     1054 non-null   float64\n",
      " 9   nb_press_rating  1054 non-null   float64\n",
      " 10  user_rating      1279 non-null   float64\n",
      " 11  nb_user_rating   1279 non-null   float64\n",
      " 12  summary          1279 non-null   object \n",
      " 13  poster_link      1279 non-null   object \n",
      "dtypes: float64(5), int64(1), object(8)\n",
      "memory usage: 149.9+ KB\n"
     ]
    },
    {
     "data": {
      "text/html": [
       "<div>\n",
       "<style scoped>\n",
       "    .dataframe tbody tr th:only-of-type {\n",
       "        vertical-align: middle;\n",
       "    }\n",
       "\n",
       "    .dataframe tbody tr th {\n",
       "        vertical-align: top;\n",
       "    }\n",
       "\n",
       "    .dataframe thead th {\n",
       "        text-align: right;\n",
       "    }\n",
       "</style>\n",
       "<table border=\"1\" class=\"dataframe\">\n",
       "  <thead>\n",
       "    <tr style=\"text-align: right;\">\n",
       "      <th></th>\n",
       "      <th>id</th>\n",
       "      <th>duration</th>\n",
       "      <th>press_rating</th>\n",
       "      <th>nb_press_rating</th>\n",
       "      <th>user_rating</th>\n",
       "      <th>nb_user_rating</th>\n",
       "    </tr>\n",
       "  </thead>\n",
       "  <tbody>\n",
       "    <tr>\n",
       "      <th>count</th>\n",
       "      <td>1279.000000</td>\n",
       "      <td>1272.000000</td>\n",
       "      <td>1054.000000</td>\n",
       "      <td>1054.000000</td>\n",
       "      <td>1279.000000</td>\n",
       "      <td>1279.000000</td>\n",
       "    </tr>\n",
       "    <tr>\n",
       "      <th>mean</th>\n",
       "      <td>188883.328382</td>\n",
       "      <td>114.198899</td>\n",
       "      <td>3.366224</td>\n",
       "      <td>20.127135</td>\n",
       "      <td>3.396638</td>\n",
       "      <td>12319.230649</td>\n",
       "    </tr>\n",
       "    <tr>\n",
       "      <th>std</th>\n",
       "      <td>100563.100681</td>\n",
       "      <td>22.908992</td>\n",
       "      <td>0.673397</td>\n",
       "      <td>9.372170</td>\n",
       "      <td>0.724518</td>\n",
       "      <td>20302.422318</td>\n",
       "    </tr>\n",
       "    <tr>\n",
       "      <th>min</th>\n",
       "      <td>62.000000</td>\n",
       "      <td>40.000000</td>\n",
       "      <td>1.000000</td>\n",
       "      <td>1.000000</td>\n",
       "      <td>0.900000</td>\n",
       "      <td>2.000000</td>\n",
       "    </tr>\n",
       "    <tr>\n",
       "      <th>25%</th>\n",
       "      <td>110849.500000</td>\n",
       "      <td>98.000000</td>\n",
       "      <td>2.900000</td>\n",
       "      <td>13.000000</td>\n",
       "      <td>2.900000</td>\n",
       "      <td>616.500000</td>\n",
       "    </tr>\n",
       "    <tr>\n",
       "      <th>50%</th>\n",
       "      <td>230689.000000</td>\n",
       "      <td>110.000000</td>\n",
       "      <td>3.400000</td>\n",
       "      <td>21.000000</td>\n",
       "      <td>3.600000</td>\n",
       "      <td>3623.000000</td>\n",
       "    </tr>\n",
       "    <tr>\n",
       "      <th>75%</th>\n",
       "      <td>273509.000000</td>\n",
       "      <td>126.000000</td>\n",
       "      <td>3.800000</td>\n",
       "      <td>27.000000</td>\n",
       "      <td>4.000000</td>\n",
       "      <td>15769.500000</td>\n",
       "    </tr>\n",
       "    <tr>\n",
       "      <th>max</th>\n",
       "      <td>303108.000000</td>\n",
       "      <td>242.000000</td>\n",
       "      <td>5.000000</td>\n",
       "      <td>45.000000</td>\n",
       "      <td>4.600000</td>\n",
       "      <td>175729.000000</td>\n",
       "    </tr>\n",
       "  </tbody>\n",
       "</table>\n",
       "</div>"
      ],
      "text/plain": [
       "                  id     duration  press_rating  nb_press_rating  user_rating  \\\n",
       "count    1279.000000  1272.000000   1054.000000      1054.000000  1279.000000   \n",
       "mean   188883.328382   114.198899      3.366224        20.127135     3.396638   \n",
       "std    100563.100681    22.908992      0.673397         9.372170     0.724518   \n",
       "min        62.000000    40.000000      1.000000         1.000000     0.900000   \n",
       "25%    110849.500000    98.000000      2.900000        13.000000     2.900000   \n",
       "50%    230689.000000   110.000000      3.400000        21.000000     3.600000   \n",
       "75%    273509.000000   126.000000      3.800000        27.000000     4.000000   \n",
       "max    303108.000000   242.000000      5.000000        45.000000     4.600000   \n",
       "\n",
       "       nb_user_rating  \n",
       "count     1279.000000  \n",
       "mean     12319.230649  \n",
       "std      20302.422318  \n",
       "min          2.000000  \n",
       "25%        616.500000  \n",
       "50%       3623.000000  \n",
       "75%      15769.500000  \n",
       "max     175729.000000  "
      ]
     },
     "execution_count": 376,
     "metadata": {},
     "output_type": "execute_result"
    }
   ],
   "source": [
    "m_stats = display_stats(movies)\n",
    "m_stats"
   ]
  },
  {
   "cell_type": "markdown",
   "metadata": {},
   "source": [
    "## Save Cleaned datasets"
   ]
  },
  {
   "cell_type": "code",
   "execution_count": 222,
   "metadata": {},
   "outputs": [],
   "source": [
    "# Save all the dataframes from data in a csv file\n",
    "def save_data(df: pd.DataFrame, path:str, name: str):\n",
    "    # We create the folder if not exists\n",
    "    os.makedirs(os.path.dirname(path), exist_ok=True)\n",
    "    df.to_csv(f\"{path}{name}.csv\", index=False)\n",
    "    print(f\"File successfully saved in {path}{name}.csv\")"
   ]
  },
  {
   "cell_type": "code",
   "execution_count": 223,
   "metadata": {},
   "outputs": [
    {
     "name": "stdout",
     "output_type": "stream",
     "text": [
      "File successfully saved in ../Cleaned Data/movies.csv\n",
      "File successfully saved in ../Cleaned Data/series.csv\n",
      "File successfully saved in ../Cleaned Data/press_movies.csv\n",
      "File successfully saved in ../Cleaned Data/press_series.csv\n",
      "File successfully saved in ../Cleaned Data/user_movies.csv\n",
      "File successfully saved in ../Cleaned Data/user_series.csv\n"
     ]
    }
   ],
   "source": [
    "path = \"../Cleaned Data/\"\n",
    "for k,v in data.items():\n",
    "    save_data(v, path, k)"
   ]
  },
  {
   "cell_type": "markdown",
   "metadata": {},
   "source": [
    "# **Section 1. Ratings Distributions**\n",
    "\n",
    "## Plot the Distribution of Ratings "
   ]
  },
  {
   "cell_type": "code",
   "execution_count": 224,
   "metadata": {},
   "outputs": [
    {
     "data": {
      "image/png": "[encoded data removed]",
      "text/plain": [
       "<Figure size 1152x288 with 3 Axes>"
      ]
     },
     "metadata": {},
     "output_type": "display_data"
    },
    {
     "data": {
      "image/png": "[encoded data removed]",
      "text/plain": [
       "<Figure size 1152x288 with 3 Axes>"
      ]
     },
     "metadata": {},
     "output_type": "display_data"
    }
   ],
   "source": [
    "for k,df in list(data.items())[:2]:\n",
    "    sns.set(style=\"white\", palette=\"deep\")\n",
    "\n",
    "    fig, axes = plt.subplots(1, 3, figsize = (16,4))\n",
    "    ax1, ax2, ax3 = fig.axes\n",
    "\n",
    "    ax1.set_xlim([0.5,5.5])\n",
    "    ax2.set_xlim([0.5,5.5])\n",
    "    ax3.set_xlim([0.5,5.5])\n",
    "\n",
    "\n",
    "    ax1.hist(df[\"press_rating\"], bins = 10, range = (0,5), color='C0') # bin range = 1\n",
    "    ax1.set_title(f'{k.title()} Press Ratings Distribution')\n",
    "    ax1.set_xlabel('Ratings')\n",
    "\n",
    "    ax2.hist(df[\"user_rating\"], bins = 10, range = (0,5), color='C1') # bin range = 1\n",
    "    ax2.set_title(f'{k.title()} Users Ratings Distribution')\n",
    "    ax2.set_xlabel('Ratings')\n",
    "\n",
    "    ax3.hist(df[\"press_rating\"], bins = 10, range = (0,5), histtype = 'step', \n",
    "            lw=1.5, label='Press Ratings', color='C0')\n",
    "    ax3.hist(df[\"user_rating\"], bins = 10, range = (0,5), histtype = 'step', \n",
    "            lw=1.5, label='Users Ratings', color='C1')\n",
    "    ax3.legend(loc = 'upper left')\n",
    "    ax3.set_title(f'{k.title()} Comparison of Ratings Distributions')\n",
    "    ax3.set_xlabel('Ratings')\n",
    "\n",
    "    for ax in fig.axes:\n",
    "        ax.spines['top'].set_visible(False)\n",
    "        ax.spines['right'].set_visible(False)"
   ]
  },
  {
   "cell_type": "code",
   "execution_count": 225,
   "metadata": {},
   "outputs": [],
   "source": [
    "# save the fig\n",
    "#fig.savefig('allocine-0_hist.png', bbox_inches='tight', dpi=200)"
   ]
  },
  {
   "cell_type": "markdown",
   "metadata": {},
   "source": [
    "## Ratings Correlation"
   ]
  },
  {
   "cell_type": "code",
   "execution_count": 226,
   "metadata": {},
   "outputs": [
    {
     "data": {
      "image/png": "[encoded data removed]",
      "text/plain": [
       "<Figure size 504x504 with 3 Axes>"
      ]
     },
     "metadata": {},
     "output_type": "display_data"
    },
    {
     "data": {
      "image/png": "[encoded data removed]",
      "text/plain": [
       "<Figure size 504x504 with 3 Axes>"
      ]
     },
     "metadata": {},
     "output_type": "display_data"
    }
   ],
   "source": [
    "# Correlation between press_rating and user_rating\n",
    "for k,df in list(data.items())[:2]:\n",
    "    ax = sns.jointplot(x=\"press_rating\", y=\"user_rating\", \n",
    "                    data=df, kind=\"hex\",\n",
    "                    marginal_kws=dict(bins=20),\n",
    "                    xlim=(0.8,5.1), ylim=(0.8,5.1),\n",
    "                    height=7, space=0).set_axis_labels(\"Press Ratings\", \"Users Ratings\")"
   ]
  },
  {
   "cell_type": "code",
   "execution_count": 227,
   "metadata": {},
   "outputs": [],
   "source": [
    "# save the fig\n",
    "#ax.savefig('allocine-1_jointplot.png', bbox_inches='tight', dpi=200)"
   ]
  },
  {
   "cell_type": "markdown",
   "metadata": {},
   "source": [
    "## Compare to users ratings"
   ]
  },
  {
   "cell_type": "markdown",
   "metadata": {},
   "source": [
    "five_stars = allocine[allocine[\"press_rating\"] >= 5]\n",
    "f, ax = plt.subplots(figsize=(15,6))\n",
    "f.suptitle('Movies with Five Stars From The Press', \n",
    "           fontsize=13)\n",
    "f.subplots_adjust(top=0.85)\n",
    "\n",
    "sns.countplot(x=five_stars[\"user_rating\"], ax=ax)\n",
    "ax.set_xlabel(\"Users Ratings\")\n",
    "ax.set_ylabel(\"\")\n",
    "sns.despine(top=True, right=True, left=False, bottom=False)"
   ]
  },
  {
   "cell_type": "markdown",
   "metadata": {},
   "source": [
    "### save the fig\n",
    "f.savefig('allocine-2_hist5stars.png', bbox_inches='tight', dpi=200)"
   ]
  },
  {
   "cell_type": "markdown",
   "metadata": {},
   "source": [
    "### # print the first tier and second tier of the Users Ratings\n",
    "allocine[[\"user_rating\"]].quantile([.33,.66])"
   ]
  },
  {
   "cell_type": "markdown",
   "metadata": {},
   "source": [
    "p = (len(five_stars[(five_stars[\"user_rating\"] < 2.9)]) / len(five_stars)) * 100\n",
    "print('{} % of the movies with the highest press ratings received a low users ratings.'.format(round(p, 2)))\n",
    "p = (len(five_stars[(five_stars[\"user_rating\"] < 3.4) & (five_stars[\"user_rating\"] >= 2.9)]) / len(five_stars)) * 100\n",
    "print('{} % of the movies with the highest press ratings received a moderate users ratings.'.format(round(p, 2)))\n",
    "p = (len(five_stars[five_stars[\"user_rating\"] >= 3.4]) / len(five_stars)) * 100\n",
    "print('{} % of the movies with the highest press ratings received a high users ratings.'.format(round(p, 2)))"
   ]
  },
  {
   "cell_type": "markdown",
   "metadata": {},
   "source": [
    "# **Section 3. Data Exploration**"
   ]
  },
  {
   "cell_type": "markdown",
   "metadata": {},
   "source": [
    "## **GENRE**"
   ]
  },
  {
   "cell_type": "markdown",
   "metadata": {},
   "source": [
    "### *Create `genres` dataframes*"
   ]
  },
  {
   "cell_type": "code",
   "execution_count": 254,
   "metadata": {},
   "outputs": [],
   "source": [
    "def create_genre_df(df_key: str):\n",
    "    # Get dataframe from key\n",
    "    df = data.get(df_key)\n",
    "    genre_df = None\n",
    "    if df is not None:  \n",
    "        df = df.copy()      \n",
    "        # Remove all rows with no genres\n",
    "        df.dropna(subset=[\"genres\"], inplace=True)\n",
    "        # Get all unique genres from df\n",
    "        genres_list = [genre.lstrip() for genres in df[\"genres\"] for genre in genres]\n",
    "        genres_list = sorted(list(set(genres_list))) \n",
    "        # Create dataframe with the number of movies per genre from genres_list\n",
    "        genre_df = pd.DataFrame({\"genres\": genres_list, f\"nb_{df_key}\": [df[df[\"genres\"].apply(lambda x: genre in x).values].shape[0] for genre in genres_list]})\n",
    "\n",
    "        # Add the average duration per genre\n",
    "        genre_df[\"avg_duration\"] = [int(df[df[\"genres\"].apply(lambda x: genre in x).values][\"duration\"].mean()) for genre in genres_list]\n",
    "\n",
    "        # Add the median duration per genre\n",
    "        genre_df[\"median_duration\"] = [int(df[df[\"genres\"].apply(lambda x: genre in x).values][\"duration\"].median()) for genre in genres_list]\n",
    "\n",
    "        # Add the nb_press_rating and nb_user_rating to the genre_df\n",
    "        genre_df[\"nb_press_rating\"] = [int(df[df[\"genres\"].apply(lambda x: genre in x).values][\"nb_press_rating\"].sum()) for genre in genres_list]\n",
    "        genre_df[\"nb_user_rating\"] = [int(df[df[\"genres\"].apply(lambda x: genre in x).values][\"nb_user_rating\"].sum()) for genre in genres_list]\n",
    "\n",
    "        # Add the total_rating to the genre_df (press_rating + user_rating)\n",
    "        genre_df[\"total_rating\"] = genre_df[\"nb_press_rating\"] + genre_df[\"nb_user_rating\"]\n",
    "\n",
    "        # Add the press_rating_percentage and user_rating_percentage to the genre_df \n",
    "        genre_df[\"press_rating_percentage\"] = round(genre_df[\"nb_press_rating\"] / genre_df[\"nb_press_rating\"].values.sum() * 100, 3)\n",
    "        genre_df[\"user_rating_percentage\"] = round(genre_df[\"nb_user_rating\"] / genre_df[\"nb_user_rating\"].values.sum() * 100, 3)\n",
    "\n",
    "        # Add the movies/series_percentage to the genre_df\n",
    "        genre_df[f\"{df_key}_percentage\"] = round(genre_df[f\"nb_{df_key}\"]/df.shape[0] * 100, 3)\n",
    "        return genre_df.sort_values(by = \"genres\", ascending = True)"
   ]
  },
  {
   "cell_type": "code",
   "execution_count": 255,
   "metadata": {},
   "outputs": [],
   "source": [
    "m_genres_df = create_genre_df(\"movies\")\n",
    "s_genres_df = create_genre_df(\"series\")"
   ]
  },
  {
   "cell_type": "code",
   "execution_count": 256,
   "metadata": {},
   "outputs": [
    {
     "data": {
      "text/html": [
       "<div>\n",
       "<style scoped>\n",
       "    .dataframe tbody tr th:only-of-type {\n",
       "        vertical-align: middle;\n",
       "    }\n",
       "\n",
       "    .dataframe tbody tr th {\n",
       "        vertical-align: top;\n",
       "    }\n",
       "\n",
       "    .dataframe thead th {\n",
       "        text-align: right;\n",
       "    }\n",
       "</style>\n",
       "<table border=\"1\" class=\"dataframe\">\n",
       "  <thead>\n",
       "    <tr style=\"text-align: right;\">\n",
       "      <th></th>\n",
       "      <th>genres</th>\n",
       "      <th>nb_movies</th>\n",
       "      <th>avg_duration</th>\n",
       "      <th>median_duration</th>\n",
       "      <th>nb_press_rating</th>\n",
       "      <th>nb_user_rating</th>\n",
       "      <th>total_rating</th>\n",
       "      <th>press_rating_percentage</th>\n",
       "      <th>user_rating_percentage</th>\n",
       "      <th>movies_percentage</th>\n",
       "    </tr>\n",
       "  </thead>\n",
       "  <tbody>\n",
       "    <tr>\n",
       "      <th>0</th>\n",
       "      <td>Action</td>\n",
       "      <td>241</td>\n",
       "      <td>121</td>\n",
       "      <td>119</td>\n",
       "      <td>3854</td>\n",
       "      <td>3871820</td>\n",
       "      <td>3875674</td>\n",
       "      <td>9.177</td>\n",
       "      <td>11.771</td>\n",
       "      <td>18.843</td>\n",
       "    </tr>\n",
       "    <tr>\n",
       "      <th>1</th>\n",
       "      <td>Animation</td>\n",
       "      <td>68</td>\n",
       "      <td>92</td>\n",
       "      <td>97</td>\n",
       "      <td>1120</td>\n",
       "      <td>674736</td>\n",
       "      <td>675856</td>\n",
       "      <td>2.667</td>\n",
       "      <td>2.051</td>\n",
       "      <td>5.317</td>\n",
       "    </tr>\n",
       "    <tr>\n",
       "      <th>2</th>\n",
       "      <td>Arts Martiaux</td>\n",
       "      <td>3</td>\n",
       "      <td>104</td>\n",
       "      <td>105</td>\n",
       "      <td>30</td>\n",
       "      <td>3307</td>\n",
       "      <td>3337</td>\n",
       "      <td>0.071</td>\n",
       "      <td>0.010</td>\n",
       "      <td>0.235</td>\n",
       "    </tr>\n",
       "    <tr>\n",
       "      <th>3</th>\n",
       "      <td>Aventure</td>\n",
       "      <td>150</td>\n",
       "      <td>123</td>\n",
       "      <td>120</td>\n",
       "      <td>2646</td>\n",
       "      <td>3223332</td>\n",
       "      <td>3225978</td>\n",
       "      <td>6.301</td>\n",
       "      <td>9.799</td>\n",
       "      <td>11.728</td>\n",
       "    </tr>\n",
       "    <tr>\n",
       "      <th>4</th>\n",
       "      <td>Biopic</td>\n",
       "      <td>50</td>\n",
       "      <td>126</td>\n",
       "      <td>125</td>\n",
       "      <td>1087</td>\n",
       "      <td>540690</td>\n",
       "      <td>541777</td>\n",
       "      <td>2.588</td>\n",
       "      <td>1.644</td>\n",
       "      <td>3.909</td>\n",
       "    </tr>\n",
       "  </tbody>\n",
       "</table>\n",
       "</div>"
      ],
      "text/plain": [
       "          genres  nb_movies  avg_duration  median_duration  nb_press_rating  \\\n",
       "0         Action        241           121              119             3854   \n",
       "1      Animation         68            92               97             1120   \n",
       "2  Arts Martiaux          3           104              105               30   \n",
       "3       Aventure        150           123              120             2646   \n",
       "4         Biopic         50           126              125             1087   \n",
       "\n",
       "   nb_user_rating  total_rating  press_rating_percentage  \\\n",
       "0         3871820       3875674                    9.177   \n",
       "1          674736        675856                    2.667   \n",
       "2            3307          3337                    0.071   \n",
       "3         3223332       3225978                    6.301   \n",
       "4          540690        541777                    2.588   \n",
       "\n",
       "   user_rating_percentage  movies_percentage  \n",
       "0                  11.771             18.843  \n",
       "1                   2.051              5.317  \n",
       "2                   0.010              0.235  \n",
       "3                   9.799             11.728  \n",
       "4                   1.644              3.909  "
      ]
     },
     "execution_count": 256,
     "metadata": {},
     "output_type": "execute_result"
    }
   ],
   "source": [
    "m_genres_df.head()"
   ]
  },
  {
   "cell_type": "code",
   "execution_count": 257,
   "metadata": {},
   "outputs": [
    {
     "data": {
      "text/html": [
       "<div>\n",
       "<style scoped>\n",
       "    .dataframe tbody tr th:only-of-type {\n",
       "        vertical-align: middle;\n",
       "    }\n",
       "\n",
       "    .dataframe tbody tr th {\n",
       "        vertical-align: top;\n",
       "    }\n",
       "\n",
       "    .dataframe thead th {\n",
       "        text-align: right;\n",
       "    }\n",
       "</style>\n",
       "<table border=\"1\" class=\"dataframe\">\n",
       "  <thead>\n",
       "    <tr style=\"text-align: right;\">\n",
       "      <th></th>\n",
       "      <th>genres</th>\n",
       "      <th>nb_series</th>\n",
       "      <th>avg_duration</th>\n",
       "      <th>median_duration</th>\n",
       "      <th>nb_press_rating</th>\n",
       "      <th>nb_user_rating</th>\n",
       "      <th>total_rating</th>\n",
       "      <th>press_rating_percentage</th>\n",
       "      <th>user_rating_percentage</th>\n",
       "      <th>series_percentage</th>\n",
       "    </tr>\n",
       "  </thead>\n",
       "  <tbody>\n",
       "    <tr>\n",
       "      <th>10</th>\n",
       "      <td>Drame</td>\n",
       "      <td>899</td>\n",
       "      <td>49</td>\n",
       "      <td>50</td>\n",
       "      <td>3361</td>\n",
       "      <td>3716662</td>\n",
       "      <td>3720023</td>\n",
       "      <td>34.482</td>\n",
       "      <td>34.478</td>\n",
       "      <td>67.240</td>\n",
       "    </tr>\n",
       "    <tr>\n",
       "      <th>28</th>\n",
       "      <td>Thriller</td>\n",
       "      <td>302</td>\n",
       "      <td>50</td>\n",
       "      <td>52</td>\n",
       "      <td>1186</td>\n",
       "      <td>868872</td>\n",
       "      <td>870058</td>\n",
       "      <td>12.168</td>\n",
       "      <td>8.060</td>\n",
       "      <td>22.588</td>\n",
       "    </tr>\n",
       "    <tr>\n",
       "      <th>5</th>\n",
       "      <td>Comédie</td>\n",
       "      <td>281</td>\n",
       "      <td>32</td>\n",
       "      <td>30</td>\n",
       "      <td>857</td>\n",
       "      <td>1286504</td>\n",
       "      <td>1287361</td>\n",
       "      <td>8.792</td>\n",
       "      <td>11.934</td>\n",
       "      <td>21.017</td>\n",
       "    </tr>\n",
       "    <tr>\n",
       "      <th>21</th>\n",
       "      <td>Policier</td>\n",
       "      <td>261</td>\n",
       "      <td>53</td>\n",
       "      <td>52</td>\n",
       "      <td>764</td>\n",
       "      <td>1017717</td>\n",
       "      <td>1018481</td>\n",
       "      <td>7.838</td>\n",
       "      <td>9.441</td>\n",
       "      <td>19.521</td>\n",
       "    </tr>\n",
       "    <tr>\n",
       "      <th>15</th>\n",
       "      <td>Fantastique</td>\n",
       "      <td>164</td>\n",
       "      <td>43</td>\n",
       "      <td>42</td>\n",
       "      <td>654</td>\n",
       "      <td>767927</td>\n",
       "      <td>768581</td>\n",
       "      <td>6.710</td>\n",
       "      <td>7.124</td>\n",
       "      <td>12.266</td>\n",
       "    </tr>\n",
       "    <tr>\n",
       "      <th>0</th>\n",
       "      <td>Action</td>\n",
       "      <td>148</td>\n",
       "      <td>40</td>\n",
       "      <td>42</td>\n",
       "      <td>521</td>\n",
       "      <td>591319</td>\n",
       "      <td>591840</td>\n",
       "      <td>5.345</td>\n",
       "      <td>5.485</td>\n",
       "      <td>11.070</td>\n",
       "    </tr>\n",
       "    <tr>\n",
       "      <th>24</th>\n",
       "      <td>Science fiction</td>\n",
       "      <td>115</td>\n",
       "      <td>45</td>\n",
       "      <td>45</td>\n",
       "      <td>498</td>\n",
       "      <td>479566</td>\n",
       "      <td>480064</td>\n",
       "      <td>5.109</td>\n",
       "      <td>4.449</td>\n",
       "      <td>8.601</td>\n",
       "    </tr>\n",
       "    <tr>\n",
       "      <th>3</th>\n",
       "      <td>Aventure</td>\n",
       "      <td>90</td>\n",
       "      <td>39</td>\n",
       "      <td>42</td>\n",
       "      <td>332</td>\n",
       "      <td>348047</td>\n",
       "      <td>348379</td>\n",
       "      <td>3.406</td>\n",
       "      <td>3.229</td>\n",
       "      <td>6.731</td>\n",
       "    </tr>\n",
       "    <tr>\n",
       "      <th>1</th>\n",
       "      <td>Animation</td>\n",
       "      <td>88</td>\n",
       "      <td>24</td>\n",
       "      <td>24</td>\n",
       "      <td>44</td>\n",
       "      <td>174921</td>\n",
       "      <td>174965</td>\n",
       "      <td>0.451</td>\n",
       "      <td>1.623</td>\n",
       "      <td>6.582</td>\n",
       "    </tr>\n",
       "    <tr>\n",
       "      <th>17</th>\n",
       "      <td>Historique</td>\n",
       "      <td>79</td>\n",
       "      <td>52</td>\n",
       "      <td>52</td>\n",
       "      <td>257</td>\n",
       "      <td>198470</td>\n",
       "      <td>198727</td>\n",
       "      <td>2.637</td>\n",
       "      <td>1.841</td>\n",
       "      <td>5.909</td>\n",
       "    </tr>\n",
       "    <tr>\n",
       "      <th>11</th>\n",
       "      <td>Epouvante-horreur</td>\n",
       "      <td>73</td>\n",
       "      <td>48</td>\n",
       "      <td>45</td>\n",
       "      <td>347</td>\n",
       "      <td>208014</td>\n",
       "      <td>208361</td>\n",
       "      <td>3.560</td>\n",
       "      <td>1.930</td>\n",
       "      <td>5.460</td>\n",
       "    </tr>\n",
       "    <tr>\n",
       "      <th>23</th>\n",
       "      <td>Romance</td>\n",
       "      <td>68</td>\n",
       "      <td>44</td>\n",
       "      <td>45</td>\n",
       "      <td>155</td>\n",
       "      <td>159540</td>\n",
       "      <td>159695</td>\n",
       "      <td>1.590</td>\n",
       "      <td>1.480</td>\n",
       "      <td>5.086</td>\n",
       "    </tr>\n",
       "    <tr>\n",
       "      <th>18</th>\n",
       "      <td>Judiciaire</td>\n",
       "      <td>43</td>\n",
       "      <td>51</td>\n",
       "      <td>52</td>\n",
       "      <td>160</td>\n",
       "      <td>65409</td>\n",
       "      <td>65569</td>\n",
       "      <td>1.642</td>\n",
       "      <td>0.607</td>\n",
       "      <td>3.216</td>\n",
       "    </tr>\n",
       "    <tr>\n",
       "      <th>4</th>\n",
       "      <td>Biopic</td>\n",
       "      <td>33</td>\n",
       "      <td>56</td>\n",
       "      <td>60</td>\n",
       "      <td>133</td>\n",
       "      <td>32420</td>\n",
       "      <td>32553</td>\n",
       "      <td>1.365</td>\n",
       "      <td>0.301</td>\n",
       "      <td>2.468</td>\n",
       "    </tr>\n",
       "    <tr>\n",
       "      <th>14</th>\n",
       "      <td>Famille</td>\n",
       "      <td>33</td>\n",
       "      <td>34</td>\n",
       "      <td>30</td>\n",
       "      <td>53</td>\n",
       "      <td>167733</td>\n",
       "      <td>167786</td>\n",
       "      <td>0.544</td>\n",
       "      <td>1.556</td>\n",
       "      <td>2.468</td>\n",
       "    </tr>\n",
       "    <tr>\n",
       "      <th>13</th>\n",
       "      <td>Espionnage</td>\n",
       "      <td>30</td>\n",
       "      <td>48</td>\n",
       "      <td>48</td>\n",
       "      <td>97</td>\n",
       "      <td>103849</td>\n",
       "      <td>103946</td>\n",
       "      <td>0.995</td>\n",
       "      <td>0.963</td>\n",
       "      <td>2.244</td>\n",
       "    </tr>\n",
       "    <tr>\n",
       "      <th>6</th>\n",
       "      <td>Comédie dramatique</td>\n",
       "      <td>22</td>\n",
       "      <td>39</td>\n",
       "      <td>42</td>\n",
       "      <td>118</td>\n",
       "      <td>79555</td>\n",
       "      <td>79673</td>\n",
       "      <td>1.211</td>\n",
       "      <td>0.738</td>\n",
       "      <td>1.645</td>\n",
       "    </tr>\n",
       "    <tr>\n",
       "      <th>26</th>\n",
       "      <td>Soap</td>\n",
       "      <td>20</td>\n",
       "      <td>44</td>\n",
       "      <td>42</td>\n",
       "      <td>27</td>\n",
       "      <td>70509</td>\n",
       "      <td>70536</td>\n",
       "      <td>0.277</td>\n",
       "      <td>0.654</td>\n",
       "      <td>1.496</td>\n",
       "    </tr>\n",
       "    <tr>\n",
       "      <th>20</th>\n",
       "      <td>Médical</td>\n",
       "      <td>19</td>\n",
       "      <td>45</td>\n",
       "      <td>42</td>\n",
       "      <td>90</td>\n",
       "      <td>168489</td>\n",
       "      <td>168579</td>\n",
       "      <td>0.923</td>\n",
       "      <td>1.563</td>\n",
       "      <td>1.421</td>\n",
       "    </tr>\n",
       "    <tr>\n",
       "      <th>9</th>\n",
       "      <td>Documentaire</td>\n",
       "      <td>18</td>\n",
       "      <td>54</td>\n",
       "      <td>50</td>\n",
       "      <td>14</td>\n",
       "      <td>5386</td>\n",
       "      <td>5400</td>\n",
       "      <td>0.144</td>\n",
       "      <td>0.050</td>\n",
       "      <td>1.346</td>\n",
       "    </tr>\n",
       "  </tbody>\n",
       "</table>\n",
       "</div>"
      ],
      "text/plain": [
       "                genres  nb_series  avg_duration  median_duration  \\\n",
       "10               Drame        899            49               50   \n",
       "28            Thriller        302            50               52   \n",
       "5              Comédie        281            32               30   \n",
       "21            Policier        261            53               52   \n",
       "15         Fantastique        164            43               42   \n",
       "0               Action        148            40               42   \n",
       "24     Science fiction        115            45               45   \n",
       "3             Aventure         90            39               42   \n",
       "1            Animation         88            24               24   \n",
       "17          Historique         79            52               52   \n",
       "11   Epouvante-horreur         73            48               45   \n",
       "23             Romance         68            44               45   \n",
       "18          Judiciaire         43            51               52   \n",
       "4               Biopic         33            56               60   \n",
       "14             Famille         33            34               30   \n",
       "13          Espionnage         30            48               48   \n",
       "6   Comédie dramatique         22            39               42   \n",
       "26                Soap         20            44               42   \n",
       "20             Médical         19            45               42   \n",
       "9         Documentaire         18            54               50   \n",
       "\n",
       "    nb_press_rating  nb_user_rating  total_rating  press_rating_percentage  \\\n",
       "10             3361         3716662       3720023                   34.482   \n",
       "28             1186          868872        870058                   12.168   \n",
       "5               857         1286504       1287361                    8.792   \n",
       "21              764         1017717       1018481                    7.838   \n",
       "15              654          767927        768581                    6.710   \n",
       "0               521          591319        591840                    5.345   \n",
       "24              498          479566        480064                    5.109   \n",
       "3               332          348047        348379                    3.406   \n",
       "1                44          174921        174965                    0.451   \n",
       "17              257          198470        198727                    2.637   \n",
       "11              347          208014        208361                    3.560   \n",
       "23              155          159540        159695                    1.590   \n",
       "18              160           65409         65569                    1.642   \n",
       "4               133           32420         32553                    1.365   \n",
       "14               53          167733        167786                    0.544   \n",
       "13               97          103849        103946                    0.995   \n",
       "6               118           79555         79673                    1.211   \n",
       "26               27           70509         70536                    0.277   \n",
       "20               90          168489        168579                    0.923   \n",
       "9                14            5386          5400                    0.144   \n",
       "\n",
       "    user_rating_percentage  series_percentage  \n",
       "10                  34.478             67.240  \n",
       "28                   8.060             22.588  \n",
       "5                   11.934             21.017  \n",
       "21                   9.441             19.521  \n",
       "15                   7.124             12.266  \n",
       "0                    5.485             11.070  \n",
       "24                   4.449              8.601  \n",
       "3                    3.229              6.731  \n",
       "1                    1.623              6.582  \n",
       "17                   1.841              5.909  \n",
       "11                   1.930              5.460  \n",
       "23                   1.480              5.086  \n",
       "18                   0.607              3.216  \n",
       "4                    0.301              2.468  \n",
       "14                   1.556              2.468  \n",
       "13                   0.963              2.244  \n",
       "6                    0.738              1.645  \n",
       "26                   0.654              1.496  \n",
       "20                   1.563              1.421  \n",
       "9                    0.050              1.346  "
      ]
     },
     "execution_count": 257,
     "metadata": {},
     "output_type": "execute_result"
    }
   ],
   "source": [
    "s_genres_df.sort_values(by = \"nb_series\", ascending = False).head(20)"
   ]
  },
  {
   "cell_type": "code",
   "execution_count": 232,
   "metadata": {},
   "outputs": [
    {
     "name": "stdout",
     "output_type": "stream",
     "text": [
      "['Action' 'Animation' 'Arts Martiaux' 'Aventure' 'Biopic' 'Comédie'\n",
      " 'Comédie dramatique' 'Comédie musicale' 'Drame' 'Epouvante-horreur'\n",
      " 'Erotique' 'Espionnage' 'Famille' 'Fantastique' 'Guerre' 'Historique'\n",
      " 'Judiciaire' 'Musical' 'Policier' 'Péplum' 'Romance' 'Science fiction'\n",
      " 'Sport event' 'Thriller' 'Western']\n",
      "['Action' 'Animation' 'Arts Martiaux' 'Aventure' 'Biopic' 'Comédie'\n",
      " 'Comédie dramatique' 'Comédie musicale' 'Dessin animé' 'Documentaire'\n",
      " 'Drame' 'Epouvante-horreur' 'Erotique' 'Espionnage' 'Famille'\n",
      " 'Fantastique' 'Guerre' 'Historique' 'Judiciaire' 'Musical' 'Médical'\n",
      " 'Policier' 'Péplum' 'Romance' 'Science fiction' 'Show' 'Soap'\n",
      " 'Sport event' 'Thriller' 'Websérie' 'Western']\n"
     ]
    }
   ],
   "source": [
    "print(m_genres_df.genres.values)\n",
    "print(s_genres_df.genres.values)"
   ]
  },
  {
   "cell_type": "markdown",
   "metadata": {},
   "source": [
    "### *Save all `genres` dataframes*"
   ]
  },
  {
   "cell_type": "code",
   "execution_count": 25,
   "metadata": {},
   "outputs": [
    {
     "name": "stdout",
     "output_type": "stream",
     "text": [
      "File successfully saved in ../Cleaned Data/m_genres.csv\n",
      "File successfully saved in ../Cleaned Data/s_genres.csv\n"
     ]
    }
   ],
   "source": [
    "path = \"../Cleaned Data/\"\n",
    "save_data(m_genres_df, path, \"m_genres\")\n",
    "save_data(s_genres_df, path, \"s_genres\")"
   ]
  },
  {
   "cell_type": "markdown",
   "metadata": {},
   "source": [
    "## **NATIONALITY**"
   ]
  },
  {
   "cell_type": "markdown",
   "metadata": {},
   "source": [
    "### *Create `nationality` dataframes*"
   ]
  },
  {
   "cell_type": "code",
   "execution_count": 26,
   "metadata": {},
   "outputs": [],
   "source": [
    "def create_nationality_df(df_key: str):\n",
    "    # Get dataframe from key\n",
    "    df = data.get(df_key)\n",
    "    nation_df = None\n",
    "    if df is not None:        \n",
    "        df = df.copy()\n",
    "        # Remove all rows with no nationality\n",
    "        df.dropna(subset=[\"nationality\"], inplace=True)\n",
    "        # Get all unique nationality from df\n",
    "        nationality = [nat.lstrip() for nationality in df[\"nationality\"] for nat in nationality]\n",
    "        nationality = sorted(list(set(nationality))) \n",
    "        # Create dataframe with the number of movies per nationality from nationality list\n",
    "        nation_df = pd.DataFrame({\"nationality\": nationality, f\"nb_{df_key}\": [df[df[\"nationality\"].apply(lambda x: nation in x).values].shape[0] for nation in nationality]})\n",
    "\n",
    "        # Add the nb_press_rating and nb_user_rating to the nation_df\n",
    "        nation_df[\"nb_press_rating\"] = [int(df[df[\"nationality\"].apply(lambda x: nation in x).values][\"nb_press_rating\"].sum()) for nation in nationality]\n",
    "        nation_df[\"nb_user_rating\"] = [int(df[df[\"nationality\"].apply(lambda x: nation in x).values][\"nb_user_rating\"].sum()) for nation in nationality]\n",
    "\n",
    "        # Add the total_rating to the nation_df (press_rating + user_rating)\n",
    "        nation_df[\"total_rating\"] = nation_df[\"nb_press_rating\"] + nation_df[\"nb_user_rating\"]\n",
    "\n",
    "        # Add the press_rating_percentage and user_rating_percentage to the nation_df \n",
    "        nation_df[\"press_rating_percentage\"] = round(nation_df[\"nb_press_rating\"] / nation_df[\"nb_press_rating\"].values.sum() * 100, 4)\n",
    "        nation_df[\"user_rating_percentage\"] = round(nation_df[\"nb_user_rating\"] / nation_df[\"nb_user_rating\"].values.sum() * 100, 4)\n",
    "\n",
    "        # Add the movies/series_percentage to the nation_df\n",
    "        nation_df[f\"{df_key}_percentage\"] = round(nation_df[f\"nb_{df_key}\"]/df.shape[0] * 100, 4)\n",
    "        return nation_df.sort_values(by = \"nationality\", ascending = True)"
   ]
  },
  {
   "cell_type": "code",
   "execution_count": 27,
   "metadata": {},
   "outputs": [],
   "source": [
    "m_nationality_df = create_nationality_df(\"movies\")\n",
    "s_nationality_df = create_nationality_df(\"series\")"
   ]
  },
  {
   "cell_type": "code",
   "execution_count": 28,
   "metadata": {},
   "outputs": [
    {
     "data": {
      "text/html": [
       "<div>\n",
       "<style scoped>\n",
       "    .dataframe tbody tr th:only-of-type {\n",
       "        vertical-align: middle;\n",
       "    }\n",
       "\n",
       "    .dataframe tbody tr th {\n",
       "        vertical-align: top;\n",
       "    }\n",
       "\n",
       "    .dataframe thead th {\n",
       "        text-align: right;\n",
       "    }\n",
       "</style>\n",
       "<table border=\"1\" class=\"dataframe\">\n",
       "  <thead>\n",
       "    <tr style=\"text-align: right;\">\n",
       "      <th></th>\n",
       "      <th>nationality</th>\n",
       "      <th>nb_movies</th>\n",
       "      <th>nb_press_rating</th>\n",
       "      <th>nb_user_rating</th>\n",
       "      <th>total_rating</th>\n",
       "      <th>press_rating_percentage</th>\n",
       "      <th>user_rating_percentage</th>\n",
       "      <th>movies_percentage</th>\n",
       "    </tr>\n",
       "  </thead>\n",
       "  <tbody>\n",
       "    <tr>\n",
       "      <th>0</th>\n",
       "      <td>Algeria</td>\n",
       "      <td>4</td>\n",
       "      <td>30</td>\n",
       "      <td>4996</td>\n",
       "      <td>5026</td>\n",
       "      <td>0.0934</td>\n",
       "      <td>0.0226</td>\n",
       "      <td>0.3044</td>\n",
       "    </tr>\n",
       "    <tr>\n",
       "      <th>1</th>\n",
       "      <td>Argentina</td>\n",
       "      <td>7</td>\n",
       "      <td>95</td>\n",
       "      <td>14495</td>\n",
       "      <td>14590</td>\n",
       "      <td>0.2957</td>\n",
       "      <td>0.0655</td>\n",
       "      <td>0.5327</td>\n",
       "    </tr>\n",
       "    <tr>\n",
       "      <th>2</th>\n",
       "      <td>Australia</td>\n",
       "      <td>18</td>\n",
       "      <td>262</td>\n",
       "      <td>333797</td>\n",
       "      <td>334059</td>\n",
       "      <td>0.8155</td>\n",
       "      <td>1.5074</td>\n",
       "      <td>1.3699</td>\n",
       "    </tr>\n",
       "    <tr>\n",
       "      <th>3</th>\n",
       "      <td>Austria</td>\n",
       "      <td>6</td>\n",
       "      <td>143</td>\n",
       "      <td>13499</td>\n",
       "      <td>13642</td>\n",
       "      <td>0.4451</td>\n",
       "      <td>0.0610</td>\n",
       "      <td>0.4566</td>\n",
       "    </tr>\n",
       "    <tr>\n",
       "      <th>4</th>\n",
       "      <td>Belgium</td>\n",
       "      <td>79</td>\n",
       "      <td>1752</td>\n",
       "      <td>284035</td>\n",
       "      <td>285787</td>\n",
       "      <td>5.4535</td>\n",
       "      <td>1.2827</td>\n",
       "      <td>6.0122</td>\n",
       "    </tr>\n",
       "  </tbody>\n",
       "</table>\n",
       "</div>"
      ],
      "text/plain": [
       "  nationality  nb_movies  nb_press_rating  nb_user_rating  total_rating  \\\n",
       "0     Algeria          4               30            4996          5026   \n",
       "1   Argentina          7               95           14495         14590   \n",
       "2   Australia         18              262          333797        334059   \n",
       "3     Austria          6              143           13499         13642   \n",
       "4     Belgium         79             1752          284035        285787   \n",
       "\n",
       "   press_rating_percentage  user_rating_percentage  movies_percentage  \n",
       "0                   0.0934                  0.0226             0.3044  \n",
       "1                   0.2957                  0.0655             0.5327  \n",
       "2                   0.8155                  1.5074             1.3699  \n",
       "3                   0.4451                  0.0610             0.4566  \n",
       "4                   5.4535                  1.2827             6.0122  "
      ]
     },
     "execution_count": 28,
     "metadata": {},
     "output_type": "execute_result"
    }
   ],
   "source": [
    "m_nationality_df.head()"
   ]
  },
  {
   "cell_type": "code",
   "execution_count": 29,
   "metadata": {},
   "outputs": [
    {
     "data": {
      "text/html": [
       "<div>\n",
       "<style scoped>\n",
       "    .dataframe tbody tr th:only-of-type {\n",
       "        vertical-align: middle;\n",
       "    }\n",
       "\n",
       "    .dataframe tbody tr th {\n",
       "        vertical-align: top;\n",
       "    }\n",
       "\n",
       "    .dataframe thead th {\n",
       "        text-align: right;\n",
       "    }\n",
       "</style>\n",
       "<table border=\"1\" class=\"dataframe\">\n",
       "  <thead>\n",
       "    <tr style=\"text-align: right;\">\n",
       "      <th></th>\n",
       "      <th>nationality</th>\n",
       "      <th>nb_series</th>\n",
       "      <th>nb_press_rating</th>\n",
       "      <th>nb_user_rating</th>\n",
       "      <th>total_rating</th>\n",
       "      <th>press_rating_percentage</th>\n",
       "      <th>user_rating_percentage</th>\n",
       "      <th>series_percentage</th>\n",
       "    </tr>\n",
       "  </thead>\n",
       "  <tbody>\n",
       "    <tr>\n",
       "      <th>0</th>\n",
       "      <td>Afrique du Sud</td>\n",
       "      <td>2</td>\n",
       "      <td>14</td>\n",
       "      <td>3068</td>\n",
       "      <td>3082</td>\n",
       "      <td>0.2743</td>\n",
       "      <td>0.0526</td>\n",
       "      <td>0.1412</td>\n",
       "    </tr>\n",
       "    <tr>\n",
       "      <th>1</th>\n",
       "      <td>Allemagne</td>\n",
       "      <td>35</td>\n",
       "      <td>74</td>\n",
       "      <td>46837</td>\n",
       "      <td>46911</td>\n",
       "      <td>1.4501</td>\n",
       "      <td>0.8028</td>\n",
       "      <td>2.4718</td>\n",
       "    </tr>\n",
       "    <tr>\n",
       "      <th>2</th>\n",
       "      <td>Argentine</td>\n",
       "      <td>5</td>\n",
       "      <td>0</td>\n",
       "      <td>1272</td>\n",
       "      <td>1272</td>\n",
       "      <td>0.0000</td>\n",
       "      <td>0.0218</td>\n",
       "      <td>0.3531</td>\n",
       "    </tr>\n",
       "    <tr>\n",
       "      <th>3</th>\n",
       "      <td>Australie</td>\n",
       "      <td>16</td>\n",
       "      <td>11</td>\n",
       "      <td>14614</td>\n",
       "      <td>14625</td>\n",
       "      <td>0.2156</td>\n",
       "      <td>0.2505</td>\n",
       "      <td>1.1299</td>\n",
       "    </tr>\n",
       "    <tr>\n",
       "      <th>4</th>\n",
       "      <td>Autriche</td>\n",
       "      <td>4</td>\n",
       "      <td>7</td>\n",
       "      <td>516</td>\n",
       "      <td>523</td>\n",
       "      <td>0.1372</td>\n",
       "      <td>0.0088</td>\n",
       "      <td>0.2825</td>\n",
       "    </tr>\n",
       "  </tbody>\n",
       "</table>\n",
       "</div>"
      ],
      "text/plain": [
       "      nationality  nb_series  nb_press_rating  nb_user_rating  total_rating  \\\n",
       "0  Afrique du Sud          2               14            3068          3082   \n",
       "1       Allemagne         35               74           46837         46911   \n",
       "2       Argentine          5                0            1272          1272   \n",
       "3       Australie         16               11           14614         14625   \n",
       "4        Autriche          4                7             516           523   \n",
       "\n",
       "   press_rating_percentage  user_rating_percentage  series_percentage  \n",
       "0                   0.2743                  0.0526             0.1412  \n",
       "1                   1.4501                  0.8028             2.4718  \n",
       "2                   0.0000                  0.0218             0.3531  \n",
       "3                   0.2156                  0.2505             1.1299  \n",
       "4                   0.1372                  0.0088             0.2825  "
      ]
     },
     "execution_count": 29,
     "metadata": {},
     "output_type": "execute_result"
    }
   ],
   "source": [
    "s_nationality_df.head()"
   ]
  },
  {
   "cell_type": "code",
   "execution_count": 30,
   "metadata": {},
   "outputs": [
    {
     "name": "stdout",
     "output_type": "stream",
     "text": [
      "['Algeria' 'Argentina' 'Australia' 'Austria' 'Belgium' 'Bolivia' 'Bosnia'\n",
      " 'Brazil' 'Byelorussia' 'Cambodia' 'Canada' 'Chile' 'China' 'Colombia'\n",
      " 'Croatia' 'Czech Republic' 'Denmark' 'Dominican Republic' 'Egypt'\n",
      " 'Estonia' 'Finland' 'France' 'Georgia' 'Germany' 'Greece' 'Hongkong'\n",
      " 'Hungary' 'Iceland' 'India' 'Iran' 'Ireland' 'Israel' 'Italy' 'Japan'\n",
      " 'Latvia' 'Lebanon' 'Luxembourg' 'Malawi' 'Mexico' 'Morocco' 'Netherlands'\n",
      " 'New Zealand' 'Nigeria' 'Norway' 'Peru' 'Poland' 'Portugal' 'Qatar'\n",
      " 'Romania' 'Russia' 'Samoa' 'Serbia' 'Singapore' 'Slovenia' 'South Africa'\n",
      " 'South Korea' 'Spain' 'Sweden' 'Switzerland' 'Taiwan' 'Thaïland' 'Turkey'\n",
      " 'USA' 'Ukraine' 'United Arab Emirates' 'United Kingdom' 'Uruguay'\n",
      " 'Vietnam' 'West Germany']\n",
      "['Afrique du Sud' 'Allemagne' 'Argentine' 'Australie' 'Autriche'\n",
      " 'Belgique' 'Brésil' 'Canada' 'Chine' 'Colombie' 'Corée du Sud' 'Croatie'\n",
      " 'Danemark' 'Egypte' 'Espagne' 'Finlande' 'France' 'Grande-Bretagne'\n",
      " 'Hongrie' 'Inde' 'Iran' 'Irlande' 'Islande' 'Israël' 'Italie' 'Japon'\n",
      " 'Jordanie' 'Lettonie' 'Luxembourg' 'Maroc' 'Mexique' 'Norvège'\n",
      " 'Nouvelle-Zélande' 'Pays-Bas' 'Pologne' 'Portugal' 'Russie'\n",
      " 'République tchèque' 'Slovaquie' 'Suisse' 'Suède' 'Turquie' 'U.S.A.'\n",
      " 'Ukraine']\n"
     ]
    }
   ],
   "source": [
    "print(m_nationality_df.nationality.values)\n",
    "print(s_nationality_df.nationality.values)"
   ]
  },
  {
   "cell_type": "markdown",
   "metadata": {},
   "source": [
    "### *Save all `nationality` dataframes*"
   ]
  },
  {
   "cell_type": "code",
   "execution_count": 31,
   "metadata": {},
   "outputs": [
    {
     "name": "stdout",
     "output_type": "stream",
     "text": [
      "File successfully saved in ../Cleaned Data/m_nationality.csv\n",
      "File successfully saved in ../Cleaned Data/s_nationality.csv\n"
     ]
    }
   ],
   "source": [
    "path = \"../Cleaned Data/\"\n",
    "save_data(m_nationality_df, path, \"m_nationality\")\n",
    "save_data(s_nationality_df, path, \"s_nationality\")"
   ]
  },
  {
   "cell_type": "markdown",
   "metadata": {},
   "source": [
    "## **Some Analysis**"
   ]
  },
  {
   "cell_type": "code",
   "execution_count": 32,
   "metadata": {},
   "outputs": [],
   "source": [
    "def movies_per_genres(genre_df: pd.DataFrame, name: str):\n",
    "    # Hist of the percentage of movies per genre\n",
    "    ax = sns.barplot(x=\"genres\", y=f\"{name}_percentage\", data=genre_df, color=\"C2\")\n",
    "    ax.set_title(f\"Percentage of {name} per genre\")\n",
    "    ax.set_xlabel(\"Genre\")\n",
    "    ax.set_ylabel(f\"Percentage of {name}\")\n",
    "\n",
    "    # Pretty print x axis names\n",
    "    for i, genre in enumerate(ax.get_xticklabels()):\n",
    "        genre.set_rotation(90)\n",
    "        genre.set_horizontalalignment('center')\n",
    "        genre.set_position((i, 0))\n",
    "\n",
    "    # Print the data values on top of the bars\n",
    "    '''\n",
    "    for i, genre in enumerate(ax.patches):\n",
    "        ax.text(genre.get_x() + genre.get_width()/2.,\n",
    "                genre.get_height() + 0.5,\n",
    "                str(genre_df.iloc[i][f\"{name}_percentage\"]) + \"%\",\n",
    "                ha='center',\n",
    "                color='black',\n",
    "                fontsize=10)'''"
   ]
  },
  {
   "cell_type": "code",
   "execution_count": 33,
   "metadata": {},
   "outputs": [
    {
     "data": {
      "image/png": "[encoded data removed]",
      "text/plain": [
       "<Figure size 432x288 with 1 Axes>"
      ]
     },
     "metadata": {},
     "output_type": "display_data"
    }
   ],
   "source": [
    "movies_per_genres(s_genres_df,name=\"series\")"
   ]
  },
  {
   "cell_type": "code",
   "execution_count": 34,
   "metadata": {},
   "outputs": [
    {
     "data": {
      "image/png": "[encoded data removed]",
      "text/plain": [
       "<Figure size 432x288 with 1 Axes>"
      ]
     },
     "metadata": {},
     "output_type": "display_data"
    }
   ],
   "source": [
    "# Hist of the percentage of press_rating per genre\n",
    "ax = sns.barplot(x=\"genres\", y=\"press_rating_percentage\", data=m_genres_df, color=\"C0\")\n",
    "ax.set_title(\"Percentage of press_rating per genre\")\n",
    "ax.set_xlabel(\"Genres\")\n",
    "ax.set_ylabel(\"Percentage of press_rating\")\n",
    "\n",
    "# Pretty print x axis names\n",
    "for i, genre in enumerate(ax.get_xticklabels()):\n",
    "    genre.set_rotation(90)\n",
    "    genre.set_horizontalalignment('center')\n",
    "    genre.set_position((i, 0))\n",
    "# Hist of the percentage of user_rating per genre\n",
    "ax = sns.barplot(x=\"genres\", y=\"user_rating_percentage\", data=m_genres_df, color=\"C1\")\n",
    "ax.set_title(\"Percentage of user_rating per genre\")\n",
    "ax.set_xlabel(\"Genres\")\n",
    "ax.set_ylabel(\"Percentage of user_rating\")\n",
    "\n",
    "# Pretty print x axis names\n",
    "for i, genre in enumerate(ax.get_xticklabels()):\n",
    "    genre.set_rotation(90)\n",
    "    genre.set_horizontalalignment('center')\n",
    "    genre.set_position((i, 0))\n",
    "### Number of ratings per genre\n",
    "### Average ratings per genre"
   ]
  }
 ],
 "metadata": {
  "interpreter": {
   "hash": "8ff1774c64d83fce3825259fa3771bbe70271854497325f5fa1e2c1b92279703"
  },
  "kernelspec": {
   "display_name": "Python 3.9.5 64-bit",
   "language": "python",
   "name": "python3"
  },
  "language_info": {
   "codemirror_mode": {
    "name": "ipython",
    "version": 3
   },
   "file_extension": ".py",
   "mimetype": "text/x-python",
   "name": "python",
   "nbconvert_exporter": "python",
   "pygments_lexer": "ipython3",
   "version": "3.9.5"
  },
  "orig_nbformat": 4
 },
 "nbformat": 4,
 "nbformat_minor": 2
}
