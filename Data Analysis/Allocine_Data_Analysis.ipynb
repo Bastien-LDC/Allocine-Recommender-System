{
 "cells": [
  {
   "cell_type": "markdown",
   "metadata": {},
   "source": [
    "# 🎦**AlloCiné Data Analysis**📊\n",
    "\n",
    "We had web scraped the [movies](https://github.com/Bastien-LDC/Allocine-Recommender-System/blob/master/Webscraping/Webscraping_Movies_From_AlloCine.ipynb), [series](https://github.com/Bastien-LDC/Allocine-Recommender-System/blob/master/Webscraping/Webscraping_Series_From_AlloCine.ipynb), and [ratings](https://github.com/Bastien-LDC/Allocine-Recommender-System/blob/master/Webscraping/Webscraping_Ratings_From_AlloCine.ipynb) data from the [AlloCiné](https://www.allocine.fr/) website.\n",
    "\n",
    "**Data description :**\n",
    "\n",
    "Features|Movies|Series|Ratings\n",
    "-------|---------|---------|---\n",
    "`id`|X|X|-\n",
    "`title`|X|X|-\n",
    "`status`|-|X|-\n",
    "`release_date`|X|X|-\n",
    "`duration`|X|X|-\n",
    "`nb_seasons`|-|X|-\n",
    "`nb_episodes`|-|X|-\n",
    "`genres`|X|X|-\n",
    "`directors`|X|X|-\n",
    "`actors`|X|X|-\n",
    "`nationality`|X|X|-\n",
    "`press_rating`|X|X|X\n",
    "`nb_press_rating`|X|X|-\n",
    "`spect_rating`|X|X|X\n",
    "`nb_spect_rating`|X|X|-\n",
    "`summary`|X|X|-\n",
    "`poster_link`|X|X|-\n",
    "`user_id`|-|-|X\n",
    "`(user/press)_name`|-|-|X\n",
    "`(movie/series)_id`|-|-|X\n",
    "`date`|-|-|X\n",
    "\n",
    "\n",
    "If you are interested in, the data is available on one csv (brut and clean version) [allocine_dataset.zip](http://olivier-maillot.fr/wp-content/uploads/2017/08/allocine_dataset.zip) or in multiple csv files (clean version only) [allocine_rel-dataset.zip](http://olivier-maillot.fr/wp-content/uploads/2017/08/allocine_rel-dataset.zip)."
   ]
  },
  {
   "cell_type": "markdown",
   "metadata": {},
   "source": [
    "---\n",
    "# **Import libs**"
   ]
  },
  {
   "cell_type": "code",
   "execution_count": 399,
   "metadata": {},
   "outputs": [],
   "source": [
    "# import libraries\n",
    "import pandas as pd\n",
    "import numpy as np\n",
    "import random as rd\n",
    "import matplotlib.pyplot as plt\n",
    "import re\n",
    "import seaborn as sns\n",
    "import os\n",
    "from warnings import filterwarnings\n",
    "import missingno as msno\n",
    "\n",
    "# We ignore reindexing warnings\n",
    "filterwarnings(\"ignore\",message=\"Boolean Series key will be reindexed\")\n",
    "%matplotlib inline"
   ]
  },
  {
   "cell_type": "markdown",
   "metadata": {},
   "source": [
    "# **Data cleaning**"
   ]
  },
  {
   "cell_type": "markdown",
   "metadata": {},
   "source": [
    "## Saving files"
   ]
  },
  {
   "cell_type": "code",
   "execution_count": 400,
   "metadata": {},
   "outputs": [],
   "source": [
    "# Save all the dataframes from data in a csv file\n",
    "def save_data(df: pd.DataFrame, path:str, name: str):\n",
    "    # We create the folder if not exists\n",
    "    os.makedirs(os.path.dirname(path), exist_ok=True)\n",
    "    df.to_csv(f\"{path}{name}.csv\", index=False)\n",
    "    print(f\"File successfully saved in {path}{name}.csv\")"
   ]
  },
  {
   "cell_type": "markdown",
   "metadata": {},
   "source": [
    "## Load the csv files"
   ]
  },
  {
   "cell_type": "code",
   "execution_count": 401,
   "metadata": {},
   "outputs": [],
   "source": [
    "def load_csv():\n",
    "    '''\n",
    "    Load the csv file and return a dataframe\n",
    "    '''\n",
    "    root_path = f\"../Saved Data/\"\n",
    "    movies = pd.read_csv(f\"{root_path}allocine_movies.csv\")\n",
    "    series = pd.read_csv(f\"{root_path}allocine_series.csv\")\n",
    "    press_movies = pd.read_csv(f\"{root_path}press_ratings_movies.csv\")\n",
    "    press_series = pd.read_csv(f\"{root_path}press_ratings_series.csv\")\n",
    "    user_movies = pd.read_csv(f\"{root_path}user_ratings_movies.csv\")\n",
    "    user_series = pd.read_csv(f\"{root_path}user_ratings_series.csv\")\n",
    "    return {\"movies\":movies, \"series\":series, \"press_movies\":press_movies, \"press_series\":press_series, \"user_movies\":user_movies, \"user_series\":user_series}\n",
    "data = load_csv()\n",
    "movies, series, press_movies, press_series, user_movies, user_series = data[\"movies\"], data[\"series\"], data[\"press_movies\"], data[\"press_series\"], data[\"user_movies\"], data[\"user_series\"]"
   ]
  },
  {
   "cell_type": "markdown",
   "metadata": {},
   "source": [
    "## Rename and store columns names"
   ]
  },
  {
   "cell_type": "code",
   "execution_count": 402,
   "metadata": {},
   "outputs": [],
   "source": [
    "# Rename (nb_)spec_rating to (nb_)user_rating\n",
    "movies.rename(columns={'spect_rating':'user_rating', 'nb_spect_rating':'nb_user_rating'}, inplace=True)\n",
    "series.rename(columns={'spect_rating':'user_rating', 'nb_spect_rating':'nb_user_rating'}, inplace=True)"
   ]
  },
  {
   "cell_type": "code",
   "execution_count": 403,
   "metadata": {},
   "outputs": [],
   "source": [
    "# Store columns names\n",
    "movies_cols = movies.columns\n",
    "series_cols = series.columns\n",
    "press_movies_cols = press_movies.columns\n",
    "press_series_cols = press_series.columns\n",
    "user_movies_cols = user_movies.columns\n",
    "user_series_cols = user_series.columns"
   ]
  },
  {
   "cell_type": "markdown",
   "metadata": {},
   "source": [
    "## Drop duplicates and NaN rating values"
   ]
  },
  {
   "cell_type": "code",
   "execution_count": 404,
   "metadata": {},
   "outputs": [
    {
     "name": "stdout",
     "output_type": "stream",
     "text": [
      "Nb of movie duplicates: 119\n",
      "Nb of series duplicates: 125\n",
      "Nb of press movie duplicates: 649\n",
      "Nb of press series duplicates: 158\n",
      "Nb of user movie duplicates: 2463\n",
      "Nb of user series duplicates: 2184\n",
      "--> All duplicates removed\n"
     ]
    }
   ],
   "source": [
    "m_duplicates = movies.duplicated(subset=[\"id\"]).sum()\n",
    "s_duplicates = series.duplicated(subset=[\"id\"]).sum()\n",
    "pm_duplicates = press_movies.duplicated().sum()\n",
    "ps_duplicates = press_series.duplicated().sum()\n",
    "um_duplicates = user_movies.duplicated().sum()\n",
    "us_duplicates = user_series.duplicated().sum()\n",
    "print(f\"Nb of movie duplicates: {m_duplicates}\")\n",
    "print(f\"Nb of series duplicates: {s_duplicates}\")\n",
    "print(f\"Nb of press movie duplicates: {pm_duplicates}\")\n",
    "print(f\"Nb of press series duplicates: {ps_duplicates}\")\n",
    "print(f\"Nb of user movie duplicates: {um_duplicates}\")\n",
    "print(f\"Nb of user series duplicates: {us_duplicates}\")\n",
    "series.drop_duplicates(subset=[\"id\"], inplace=True, ignore_index=True)\n",
    "movies.drop_duplicates(subset=[\"id\"], inplace=True, ignore_index=True)\n",
    "press_movies.drop_duplicates(inplace=True, ignore_index=True)\n",
    "press_series.drop_duplicates(inplace=True, ignore_index=True)\n",
    "user_movies.drop_duplicates(inplace=True, ignore_index=True)\n",
    "user_series.drop_duplicates(inplace=True, ignore_index=True)\n",
    "print(\"--> All duplicates removed\")"
   ]
  },
  {
   "cell_type": "code",
   "execution_count": 405,
   "metadata": {},
   "outputs": [
    {
     "name": "stdout",
     "output_type": "stream",
     "text": [
      "Number of movies with no ratings: 9\n",
      "Number of series with no ratings: 1117\n",
      "--> All movies and series with no ratings removed\n"
     ]
    }
   ],
   "source": [
    "# Drop series and movies with no press AND no user ratings\n",
    "m_na_ratings = movies[movies[\"press_rating\"].isna()][movies[\"user_rating\"].isna()].shape[0]\n",
    "s_na_ratings = series[series[\"press_rating\"].isna()][series[\"user_rating\"].isna()].shape[0]\n",
    "movies.dropna(subset=[\"nb_press_rating\",\"nb_user_rating\",\"press_rating\",\"user_rating\"], inplace=True, how=\"all\")\n",
    "series.dropna(subset=[\"nb_press_rating\",\"nb_user_rating\",\"press_rating\",\"user_rating\"], inplace=True, how=\"all\")\n",
    "print(f\"Number of movies with no ratings: {m_na_ratings}\")\n",
    "print(f\"Number of series with no ratings: {s_na_ratings}\")\n",
    "print(\"--> All movies and series with no ratings removed\")"
   ]
  },
  {
   "cell_type": "code",
   "execution_count": 406,
   "metadata": {},
   "outputs": [],
   "source": [
    "# Drop series with \"Divers\" as genre\n",
    "series.drop(series[series.genres.apply(lambda x: \"Divers\" in x)].index, inplace=True)\n",
    "# Drop series with \"Datedesortieinconnue\" as release_date\n",
    "series.drop(series[series.release_date == \"Datedesortieinconnue\"].index, inplace=True)"
   ]
  },
  {
   "cell_type": "markdown",
   "metadata": {},
   "source": [
    "## Convert the strings to arrays"
   ]
  },
  {
   "cell_type": "code",
   "execution_count": 407,
   "metadata": {},
   "outputs": [],
   "source": [
    "def convert_to_array(df: pd.DataFrame):\n",
    "    '''\n",
    "    Convert the strings to arrays\n",
    "    '''\n",
    "    df[\"genres\"] = df[\"genres\"].apply(lambda x: x.split(\", \") if type(x) not in [float,list] else x)\n",
    "    df[\"directors\"] = df[\"directors\"].apply(lambda x: x.split(\", \") if type(x) not in [float,list] else x)\n",
    "    df[\"actors\"] = df[\"actors\"].apply(lambda x: x.split(\", \") if type(x) not in [float,list] else x)\n",
    "    df[\"nationality\"] = df[\"nationality\"].apply(lambda x: x.split(\", \") if type(x) not in [float,list] else x)"
   ]
  },
  {
   "cell_type": "code",
   "execution_count": 408,
   "metadata": {},
   "outputs": [],
   "source": [
    "convert_to_array(movies)\n",
    "convert_to_array(series)\n",
    "# Convert nb_spec_rating and nb_press_rating to int\n",
    "#movies[[\"nb_press_rating\",\"nb_user_rating\"]] = movies[[\"nb_press_rating\",\"nb_user_rating\"]].astype(int)\n",
    "#series[[\"nb_press_rating\",\"nb_user_rating\"]] = series[[\"nb_press_rating\",\"nb_user_rating\"]].astype(int)"
   ]
  },
  {
   "cell_type": "markdown",
   "metadata": {},
   "source": [
    "## Create new tables"
   ]
  },
  {
   "cell_type": "markdown",
   "metadata": {},
   "source": [
    "### *GENRE*"
   ]
  },
  {
   "cell_type": "markdown",
   "metadata": {},
   "source": [
    "#### *Create `genres` dataframes*"
   ]
  },
  {
   "cell_type": "code",
   "execution_count": 409,
   "metadata": {},
   "outputs": [],
   "source": [
    "def create_genre_df(df_key: str):\n",
    "    # Get dataframe from key\n",
    "    df = data.get(df_key)\n",
    "    genre_df = None\n",
    "    if df is not None:  \n",
    "        df = df.copy()      \n",
    "        # Remove all rows with no genres\n",
    "        df.dropna(subset=[\"genres\"], inplace=True)\n",
    "        # Get all unique genres from df\n",
    "        genres_list = [genre.lstrip() for genres in df[\"genres\"] for genre in genres]\n",
    "        genres_list = sorted(list(set(genres_list))) \n",
    "        # Create dataframe with the number of movies per genre from genres_list\n",
    "        genre_df = pd.DataFrame({\"genres\": genres_list, f\"nb_{df_key}\": [df[df[\"genres\"].apply(lambda x: genre in x).values].shape[0] for genre in genres_list]})\n",
    "\n",
    "        # Add the average duration per genre\n",
    "        genre_df[\"avg_duration\"] = [int(df[df[\"genres\"].apply(lambda x: genre in x).values][\"duration\"].mean()) for genre in genres_list]\n",
    "\n",
    "        # Add the median duration per genre\n",
    "        genre_df[\"median_duration\"] = [int(df[df[\"genres\"].apply(lambda x: genre in x).values][\"duration\"].median()) for genre in genres_list]\n",
    "\n",
    "        # Add the nb_press_rating and nb_user_rating to the genre_df\n",
    "        genre_df[\"nb_press_rating\"] = [int(df[df[\"genres\"].apply(lambda x: genre in x).values][\"nb_press_rating\"].sum()) for genre in genres_list]\n",
    "        genre_df[\"nb_user_rating\"] = [int(df[df[\"genres\"].apply(lambda x: genre in x).values][\"nb_user_rating\"].sum()) for genre in genres_list]\n",
    "\n",
    "        # Add the total_rating to the genre_df (press_rating + user_rating)\n",
    "        genre_df[\"total_rating\"] = genre_df[\"nb_press_rating\"] + genre_df[\"nb_user_rating\"]\n",
    "\n",
    "        # Add the press_rating_percentage and user_rating_percentage to the genre_df \n",
    "        genre_df[\"press_rating_percentage\"] = round(genre_df[\"nb_press_rating\"] / genre_df[\"nb_press_rating\"].values.sum() * 100, 3)\n",
    "        genre_df[\"user_rating_percentage\"] = round(genre_df[\"nb_user_rating\"] / genre_df[\"nb_user_rating\"].values.sum() * 100, 3)\n",
    "\n",
    "        # Add the movies/series_percentage to the genre_df\n",
    "        genre_df[f\"{df_key}_percentage\"] = round(genre_df[f\"nb_{df_key}\"]/df.shape[0] * 100, 3)\n",
    "        return genre_df.sort_values(by = \"genres\", ascending = True)"
   ]
  },
  {
   "cell_type": "code",
   "execution_count": 410,
   "metadata": {},
   "outputs": [],
   "source": [
    "m_genres_df = create_genre_df(\"movies\")\n",
    "s_genres_df = create_genre_df(\"series\")"
   ]
  },
  {
   "cell_type": "code",
   "execution_count": 411,
   "metadata": {},
   "outputs": [
    {
     "name": "stdout",
     "output_type": "stream",
     "text": [
      "['Action' 'Animation' 'Arts Martiaux' 'Aventure' 'Biopic' 'Bollywood'\n",
      " 'Comédie' 'Comédie dramatique' 'Comédie musicale' 'Divers' 'Drame'\n",
      " 'Epouvante-horreur' 'Erotique' 'Espionnage' 'Expérimental' 'Famille'\n",
      " 'Fantastique' 'Guerre' 'Historique' 'Judiciaire' 'Musical' 'Policier'\n",
      " 'Péplum' 'Romance' 'Science fiction' 'Sport event' 'Thriller' 'Western']\n",
      "['Action' 'Animation' 'Arts Martiaux' 'Aventure' 'Biopic' 'Classique'\n",
      " 'Comédie' 'Comédie dramatique' 'Comédie musicale' 'Dessin animé'\n",
      " 'Documentaire' 'Drama' 'Drame' 'Epouvante-horreur' 'Erotique'\n",
      " 'Espionnage' 'Famille' 'Fantastique' 'Guerre' 'Historique' 'Judiciaire'\n",
      " 'Mobisode' 'Musical' 'Médical' 'Policier' 'Péplum' 'Romance'\n",
      " 'Science fiction' 'Show' 'Soap' 'Sport event' 'Thriller' 'Websérie'\n",
      " 'Western']\n"
     ]
    }
   ],
   "source": [
    "print(m_genres_df.genres.values)\n",
    "print(s_genres_df.genres.values)"
   ]
  },
  {
   "cell_type": "markdown",
   "metadata": {},
   "source": [
    "#### *Save all `genres` dataframes*"
   ]
  },
  {
   "cell_type": "code",
   "execution_count": 412,
   "metadata": {},
   "outputs": [
    {
     "name": "stdout",
     "output_type": "stream",
     "text": [
      "File successfully saved in ../Cleaned Data/m_genres.csv\n",
      "File successfully saved in ../Cleaned Data/s_genres.csv\n"
     ]
    }
   ],
   "source": [
    "path = \"../Cleaned Data/\"\n",
    "save_data(m_genres_df, path, \"m_genres\")\n",
    "save_data(s_genres_df, path, \"s_genres\")"
   ]
  },
  {
   "cell_type": "markdown",
   "metadata": {},
   "source": [
    "### *NATIONALITY*"
   ]
  },
  {
   "cell_type": "markdown",
   "metadata": {},
   "source": [
    "#### *Create `nationality` dataframes*"
   ]
  },
  {
   "cell_type": "code",
   "execution_count": 413,
   "metadata": {},
   "outputs": [],
   "source": [
    "def create_nationality_df(df_key: str):\n",
    "    # Get dataframe from key\n",
    "    df = data.get(df_key)\n",
    "    nation_df = None\n",
    "    if df is not None:        \n",
    "        df = df.copy()\n",
    "        # Remove all rows with no nationality\n",
    "        df.dropna(subset=[\"nationality\"], inplace=True)\n",
    "        # Get all unique nationality from df\n",
    "        nationality = [nat.lstrip() for nationality in df[\"nationality\"] for nat in nationality]\n",
    "        nationality = sorted(list(set(nationality))) \n",
    "        # Create dataframe with the number of movies per nationality from nationality list\n",
    "        nation_df = pd.DataFrame({\"nationality\": nationality, f\"nb_{df_key}\": [df[df[\"nationality\"].apply(lambda x: nation in x).values].shape[0] for nation in nationality]})\n",
    "\n",
    "        # Add the nb_press_rating and nb_user_rating to the nation_df\n",
    "        nation_df[\"nb_press_rating\"] = [int(df[df[\"nationality\"].apply(lambda x: nation in x).values][\"nb_press_rating\"].sum()) for nation in nationality]\n",
    "        nation_df[\"nb_user_rating\"] = [int(df[df[\"nationality\"].apply(lambda x: nation in x).values][\"nb_user_rating\"].sum()) for nation in nationality]\n",
    "\n",
    "        # Add the total_rating to the nation_df (press_rating + user_rating)\n",
    "        nation_df[\"total_rating\"] = nation_df[\"nb_press_rating\"] + nation_df[\"nb_user_rating\"]\n",
    "\n",
    "        # Add the press_rating_percentage and user_rating_percentage to the nation_df \n",
    "        nation_df[\"press_rating_percentage\"] = round(nation_df[\"nb_press_rating\"] / nation_df[\"nb_press_rating\"].values.sum() * 100, 4)\n",
    "        nation_df[\"user_rating_percentage\"] = round(nation_df[\"nb_user_rating\"] / nation_df[\"nb_user_rating\"].values.sum() * 100, 4)\n",
    "\n",
    "        # Add the movies/series_percentage to the nation_df\n",
    "        nation_df[f\"{df_key}_percentage\"] = round(nation_df[f\"nb_{df_key}\"]/df.shape[0] * 100, 4)\n",
    "        return nation_df.sort_values(by = \"nationality\", ascending = True)"
   ]
  },
  {
   "cell_type": "code",
   "execution_count": 414,
   "metadata": {},
   "outputs": [],
   "source": [
    "m_nationality_df = create_nationality_df(\"movies\")\n",
    "s_nationality_df = create_nationality_df(\"series\")"
   ]
  },
  {
   "cell_type": "markdown",
   "metadata": {},
   "source": [
    "#### *Save all `nationality` dataframes*"
   ]
  },
  {
   "cell_type": "code",
   "execution_count": 415,
   "metadata": {},
   "outputs": [
    {
     "name": "stdout",
     "output_type": "stream",
     "text": [
      "File successfully saved in ../Cleaned Data/m_nationality.csv\n",
      "File successfully saved in ../Cleaned Data/s_nationality.csv\n"
     ]
    }
   ],
   "source": [
    "path = \"../Cleaned Data/\"\n",
    "save_data(m_nationality_df, path, \"m_nationality\")\n",
    "save_data(s_nationality_df, path, \"s_nationality\")"
   ]
  },
  {
   "cell_type": "markdown",
   "metadata": {},
   "source": [
    "## Check data coherence"
   ]
  },
  {
   "cell_type": "code",
   "execution_count": 416,
   "metadata": {},
   "outputs": [],
   "source": [
    "def display_stats(df: pd.DataFrame):\n",
    "    '''\n",
    "    Display the statistics of a dataframe\n",
    "    '''\n",
    "    # Graph of number of missing values by column\n",
    "    #msno.heatmap(df, cmap=\"RdYlBu\", sort=\"ascending\")\n",
    "    msno.matrix(df, figsize=(12,8), color=(round(rd.random(),2),round(rd.random(),2),round(rd.random(),2)), sort=\"descending\")\n",
    "    missing_values = df.isnull().sum()\n",
    "    if missing_values.sum() > 0:      \n",
    "        missing_values = missing_values / df.shape[0] * 100\n",
    "        missing_values = missing_values[missing_values > 0]\n",
    "        missing_values.sort_values(inplace=True)\n",
    "        plt.figure(figsize=(12, 5))\n",
    "        plt.title(f\"Percentage of missing values in each column\")\n",
    "        sns.barplot(x=missing_values.index, y=missing_values)\n",
    "        plt.show()\n",
    "    else:\n",
    "        print(\"No missing values in the dataframe\")\n",
    "    df.info()\n",
    "    return df.describe()"
   ]
  },
  {
   "cell_type": "markdown",
   "metadata": {},
   "source": [
    "### Impute missing duration"
   ]
  },
  {
   "cell_type": "code",
   "execution_count": 417,
   "metadata": {},
   "outputs": [],
   "source": [
    "def impute_missing_duration(df_key: str):\n",
    "    '''\n",
    "    From the m/s_genres_df DataFrames, we order the genres by the number of movies/series with that genre.\n",
    "    We then compute the median duration of the movies/series with that genre.\n",
    "    Finally, we impute the missing duration of the movies/series with the median duration of the movies/series with the most popular genre among their genres.\n",
    "    '''\n",
    "    # Get dataframe from key\n",
    "    df = data.get(df_key)\n",
    "    genres_df = m_genres_df if df_key == \"movies\" else s_genres_df if df_key == \"series\" else None\n",
    "    if df is not None:\n",
    "        df = df.copy()\n",
    "        # Get the movies/serie with missing duration\n",
    "        df_na_duration = df[df[\"duration\"].isna()]\n",
    "        for index, row in df_na_duration.iterrows():\n",
    "            # Get the genres of each movies/series from the m/s_genres_df DataFrame\n",
    "            na_duration_genres = genres_df.loc[genres_df.genres.isin(row[\"genres\"])]\n",
    "            # Get the genre with the most movies/series from the na_duration_genres DataFrame\n",
    "            most_pop_genre = na_duration_genres.sort_values(by = f\"nb_{df_key}\", ascending = False).iloc[0][\"genres\"]\n",
    "            # Retrieve the median duration of the movies/series with the most popular genre\n",
    "            median_duration = int(genres_df[genres_df.genres == most_pop_genre].median_duration)\n",
    "            # Impute the missing duration of the movies/series with the median duration of the most popular genre\n",
    "            df.loc[index, \"duration\"] = median_duration\n",
    "    return df"
   ]
  },
  {
   "cell_type": "markdown",
   "metadata": {},
   "source": [
    "### Series"
   ]
  },
  {
   "cell_type": "code",
   "execution_count": 418,
   "metadata": {},
   "outputs": [],
   "source": [
    "# Replace the release_date string by the release year as a date \n",
    "# Get all the 4-digits numbers from a string and keep only the first one, which is the release year. \n",
    "series[\"release_date\"] = series[\"release_date\"].apply(lambda x: int(re.findall(r\"\\d{4}\", x)[0]))"
   ]
  },
  {
   "cell_type": "markdown",
   "metadata": {},
   "source": [
    "#### Stats"
   ]
  },
  {
   "cell_type": "code",
   "execution_count": 419,
   "metadata": {},
   "outputs": [
    {
     "data": {
      "image/png": "[encoded data removed]",
      "text/plain": [
       "<Figure size 864x576 with 2 Axes>"
      ]
     },
     "metadata": {
      "needs_background": "light"
     },
     "output_type": "display_data"
    },
    {
     "data": {
      "image/png": "[encoded data removed]",
      "text/plain": [
       "<Figure size 864x360 with 1 Axes>"
      ]
     },
     "metadata": {
      "needs_background": "light"
     },
     "output_type": "display_data"
    },
    {
     "name": "stdout",
     "output_type": "stream",
     "text": [
      "<class 'pandas.core.frame.DataFrame'>\n",
      "Int64Index: 6879 entries, 0 to 8000\n",
      "Data columns (total 17 columns):\n",
      " #   Column           Non-Null Count  Dtype  \n",
      "---  ------           --------------  -----  \n",
      " 0   id               6879 non-null   int64  \n",
      " 1   title            6879 non-null   object \n",
      " 2   status           6843 non-null   object \n",
      " 3   release_date     6879 non-null   int64  \n",
      " 4   duration         6465 non-null   float64\n",
      " 5   nb_seasons       6167 non-null   float64\n",
      " 6   nb_episodes      5925 non-null   float64\n",
      " 7   genres           6879 non-null   object \n",
      " 8   directors        4816 non-null   object \n",
      " 9   actors           5947 non-null   object \n",
      " 10  nationality      6871 non-null   object \n",
      " 11  press_rating     792 non-null    float64\n",
      " 12  nb_press_rating  792 non-null    float64\n",
      " 13  user_rating      6878 non-null   float64\n",
      " 14  nb_user_rating   6878 non-null   float64\n",
      " 15  summary          6302 non-null   object \n",
      " 16  poster_link      6879 non-null   object \n",
      "dtypes: float64(7), int64(2), object(8)\n",
      "memory usage: 967.4+ KB\n"
     ]
    },
    {
     "data": {
      "text/html": [
       "<div>\n",
       "<style scoped>\n",
       "    .dataframe tbody tr th:only-of-type {\n",
       "        vertical-align: middle;\n",
       "    }\n",
       "\n",
       "    .dataframe tbody tr th {\n",
       "        vertical-align: top;\n",
       "    }\n",
       "\n",
       "    .dataframe thead th {\n",
       "        text-align: right;\n",
       "    }\n",
       "</style>\n",
       "<table border=\"1\" class=\"dataframe\">\n",
       "  <thead>\n",
       "    <tr style=\"text-align: right;\">\n",
       "      <th></th>\n",
       "      <th>id</th>\n",
       "      <th>release_date</th>\n",
       "      <th>duration</th>\n",
       "      <th>nb_seasons</th>\n",
       "      <th>nb_episodes</th>\n",
       "      <th>press_rating</th>\n",
       "      <th>nb_press_rating</th>\n",
       "      <th>user_rating</th>\n",
       "      <th>nb_user_rating</th>\n",
       "    </tr>\n",
       "  </thead>\n",
       "  <tbody>\n",
       "    <tr>\n",
       "      <th>count</th>\n",
       "      <td>6879.000000</td>\n",
       "      <td>6879.000000</td>\n",
       "      <td>6465.000000</td>\n",
       "      <td>6167.000000</td>\n",
       "      <td>5925.000000</td>\n",
       "      <td>792.000000</td>\n",
       "      <td>792.000000</td>\n",
       "      <td>6878.000000</td>\n",
       "      <td>6878.000000</td>\n",
       "    </tr>\n",
       "    <tr>\n",
       "      <th>mean</th>\n",
       "      <td>15050.246257</td>\n",
       "      <td>2009.102777</td>\n",
       "      <td>40.764424</td>\n",
       "      <td>2.477055</td>\n",
       "      <td>43.618565</td>\n",
       "      <td>3.245202</td>\n",
       "      <td>8.095960</td>\n",
       "      <td>3.269352</td>\n",
       "      <td>964.035766</td>\n",
       "    </tr>\n",
       "    <tr>\n",
       "      <th>std</th>\n",
       "      <td>9661.992519</td>\n",
       "      <td>13.241765</td>\n",
       "      <td>20.613930</td>\n",
       "      <td>3.240308</td>\n",
       "      <td>249.846859</td>\n",
       "      <td>0.611625</td>\n",
       "      <td>3.528591</td>\n",
       "      <td>0.516526</td>\n",
       "      <td>5727.422398</td>\n",
       "    </tr>\n",
       "    <tr>\n",
       "      <th>min</th>\n",
       "      <td>1.000000</td>\n",
       "      <td>1929.000000</td>\n",
       "      <td>1.000000</td>\n",
       "      <td>1.000000</td>\n",
       "      <td>1.000000</td>\n",
       "      <td>1.300000</td>\n",
       "      <td>1.000000</td>\n",
       "      <td>0.800000</td>\n",
       "      <td>1.000000</td>\n",
       "    </tr>\n",
       "    <tr>\n",
       "      <th>25%</th>\n",
       "      <td>5547.500000</td>\n",
       "      <td>2004.000000</td>\n",
       "      <td>25.000000</td>\n",
       "      <td>1.000000</td>\n",
       "      <td>8.000000</td>\n",
       "      <td>2.800000</td>\n",
       "      <td>6.000000</td>\n",
       "      <td>3.000000</td>\n",
       "      <td>7.000000</td>\n",
       "    </tr>\n",
       "    <tr>\n",
       "      <th>50%</th>\n",
       "      <td>17155.000000</td>\n",
       "      <td>2013.000000</td>\n",
       "      <td>42.000000</td>\n",
       "      <td>1.000000</td>\n",
       "      <td>16.000000</td>\n",
       "      <td>3.300000</td>\n",
       "      <td>8.000000</td>\n",
       "      <td>3.200000</td>\n",
       "      <td>36.000000</td>\n",
       "    </tr>\n",
       "    <tr>\n",
       "      <th>75%</th>\n",
       "      <td>23988.500000</td>\n",
       "      <td>2019.000000</td>\n",
       "      <td>52.000000</td>\n",
       "      <td>3.000000</td>\n",
       "      <td>39.000000</td>\n",
       "      <td>3.700000</td>\n",
       "      <td>10.000000</td>\n",
       "      <td>3.600000</td>\n",
       "      <td>189.000000</td>\n",
       "    </tr>\n",
       "    <tr>\n",
       "      <th>max</th>\n",
       "      <td>31747.000000</td>\n",
       "      <td>2022.000000</td>\n",
       "      <td>240.000000</td>\n",
       "      <td>59.000000</td>\n",
       "      <td>13484.000000</td>\n",
       "      <td>5.000000</td>\n",
       "      <td>30.000000</td>\n",
       "      <td>4.700000</td>\n",
       "      <td>206012.000000</td>\n",
       "    </tr>\n",
       "  </tbody>\n",
       "</table>\n",
       "</div>"
      ],
      "text/plain": [
       "                 id  release_date     duration   nb_seasons   nb_episodes  \\\n",
       "count   6879.000000   6879.000000  6465.000000  6167.000000   5925.000000   \n",
       "mean   15050.246257   2009.102777    40.764424     2.477055     43.618565   \n",
       "std     9661.992519     13.241765    20.613930     3.240308    249.846859   \n",
       "min        1.000000   1929.000000     1.000000     1.000000      1.000000   \n",
       "25%     5547.500000   2004.000000    25.000000     1.000000      8.000000   \n",
       "50%    17155.000000   2013.000000    42.000000     1.000000     16.000000   \n",
       "75%    23988.500000   2019.000000    52.000000     3.000000     39.000000   \n",
       "max    31747.000000   2022.000000   240.000000    59.000000  13484.000000   \n",
       "\n",
       "       press_rating  nb_press_rating  user_rating  nb_user_rating  \n",
       "count    792.000000       792.000000  6878.000000     6878.000000  \n",
       "mean       3.245202         8.095960     3.269352      964.035766  \n",
       "std        0.611625         3.528591     0.516526     5727.422398  \n",
       "min        1.300000         1.000000     0.800000        1.000000  \n",
       "25%        2.800000         6.000000     3.000000        7.000000  \n",
       "50%        3.300000         8.000000     3.200000       36.000000  \n",
       "75%        3.700000        10.000000     3.600000      189.000000  \n",
       "max        5.000000        30.000000     4.700000   206012.000000  "
      ]
     },
     "execution_count": 419,
     "metadata": {},
     "output_type": "execute_result"
    }
   ],
   "source": [
    "s_stats = display_stats(series)\n",
    "s_stats"
   ]
  },
  {
   "cell_type": "code",
   "execution_count": 430,
   "metadata": {},
   "outputs": [
    {
     "data": {
      "text/html": [
       "<div>\n",
       "<style scoped>\n",
       "    .dataframe tbody tr th:only-of-type {\n",
       "        vertical-align: middle;\n",
       "    }\n",
       "\n",
       "    .dataframe tbody tr th {\n",
       "        vertical-align: top;\n",
       "    }\n",
       "\n",
       "    .dataframe thead th {\n",
       "        text-align: right;\n",
       "    }\n",
       "</style>\n",
       "<table border=\"1\" class=\"dataframe\">\n",
       "  <thead>\n",
       "    <tr style=\"text-align: right;\">\n",
       "      <th></th>\n",
       "      <th>id</th>\n",
       "      <th>title</th>\n",
       "      <th>status</th>\n",
       "      <th>release_date</th>\n",
       "      <th>duration</th>\n",
       "      <th>nb_seasons</th>\n",
       "      <th>nb_episodes</th>\n",
       "      <th>genres</th>\n",
       "      <th>directors</th>\n",
       "      <th>actors</th>\n",
       "      <th>nationality</th>\n",
       "      <th>press_rating</th>\n",
       "      <th>nb_press_rating</th>\n",
       "      <th>user_rating</th>\n",
       "      <th>nb_user_rating</th>\n",
       "      <th>summary</th>\n",
       "      <th>poster_link</th>\n",
       "    </tr>\n",
       "  </thead>\n",
       "  <tbody>\n",
       "    <tr>\n",
       "      <th>436</th>\n",
       "      <td>19874</td>\n",
       "      <td>La Petite Histoire de France</td>\n",
       "      <td>En cours</td>\n",
       "      <td>2015</td>\n",
       "      <td>3.0</td>\n",
       "      <td>4.0</td>\n",
       "      <td>1.0</td>\n",
       "      <td>[Comédie, Historique]</td>\n",
       "      <td>[Jamel Debbouze, Laurent Tiphaine, Frank Cimière]</td>\n",
       "      <td>[Maxime Gasteuil, David Salles, Karina Marimon]</td>\n",
       "      <td>[France]</td>\n",
       "      <td>NaN</td>\n",
       "      <td>NaN</td>\n",
       "      <td>2.9</td>\n",
       "      <td>528.0</td>\n",
       "      <td>Tout le monde connaît Jeanne d'Arc, Louis XIV ...</td>\n",
       "      <td>https://fr.web.img4.acsta.net/c_310_420/pictur...</td>\n",
       "    </tr>\n",
       "    <tr>\n",
       "      <th>1614</th>\n",
       "      <td>12101</td>\n",
       "      <td>Parents mode d'emploi (2013)</td>\n",
       "      <td>Terminée</td>\n",
       "      <td>2013</td>\n",
       "      <td>3.0</td>\n",
       "      <td>7.0</td>\n",
       "      <td>5.0</td>\n",
       "      <td>[Comédie]</td>\n",
       "      <td>[Blanche Gardin, Béatrice Fournera, Eve-Sophie...</td>\n",
       "      <td>[Alix Poisson, Arnaud Ducret, Orféo Campanella]</td>\n",
       "      <td>[France]</td>\n",
       "      <td>NaN</td>\n",
       "      <td>NaN</td>\n",
       "      <td>2.8</td>\n",
       "      <td>229.0</td>\n",
       "      <td>Isa et Gaby, un couple de quadragénaires, pare...</td>\n",
       "      <td>https://fr.web.img4.acsta.net/c_310_420/pictur...</td>\n",
       "    </tr>\n",
       "    <tr>\n",
       "      <th>1627</th>\n",
       "      <td>9588</td>\n",
       "      <td>Soda</td>\n",
       "      <td>Terminée</td>\n",
       "      <td>2011</td>\n",
       "      <td>3.0</td>\n",
       "      <td>4.0</td>\n",
       "      <td>2.0</td>\n",
       "      <td>[Comédie]</td>\n",
       "      <td>[Frank Bellocq, David Soussan, Kev Adams]</td>\n",
       "      <td>[Kev Adams, William Lebghil, Guy Lecluyse]</td>\n",
       "      <td>[France]</td>\n",
       "      <td>NaN</td>\n",
       "      <td>NaN</td>\n",
       "      <td>2.5</td>\n",
       "      <td>3829.0</td>\n",
       "      <td>Fils aîné d’une famille de classe moyenne et m...</td>\n",
       "      <td>https://fr.web.img6.acsta.net/c_310_420/medias...</td>\n",
       "    </tr>\n",
       "    <tr>\n",
       "      <th>2090</th>\n",
       "      <td>16855</td>\n",
       "      <td>Pep's</td>\n",
       "      <td>Terminée</td>\n",
       "      <td>2013</td>\n",
       "      <td>5.0</td>\n",
       "      <td>3.0</td>\n",
       "      <td>1.0</td>\n",
       "      <td>[Comédie]</td>\n",
       "      <td>[Céline Guyot, Martin Guyot]</td>\n",
       "      <td>[Charlotte des Georges, Jean-Michel Lahmi, Yan...</td>\n",
       "      <td>[France]</td>\n",
       "      <td>NaN</td>\n",
       "      <td>NaN</td>\n",
       "      <td>2.4</td>\n",
       "      <td>211.0</td>\n",
       "      <td>Que l'on y travaille comme professeur, que l'o...</td>\n",
       "      <td>https://fr.web.img6.acsta.net/c_310_420/pictur...</td>\n",
       "    </tr>\n",
       "    <tr>\n",
       "      <th>2217</th>\n",
       "      <td>7237</td>\n",
       "      <td>Fate/Stay Night</td>\n",
       "      <td>Terminée</td>\n",
       "      <td>2014</td>\n",
       "      <td>25.0</td>\n",
       "      <td>2.0</td>\n",
       "      <td>1.0</td>\n",
       "      <td>[Animation]</td>\n",
       "      <td>[Akira Hiyama, Kazuharu Sato]</td>\n",
       "      <td>NaN</td>\n",
       "      <td>[Japon]</td>\n",
       "      <td>NaN</td>\n",
       "      <td>NaN</td>\n",
       "      <td>3.8</td>\n",
       "      <td>65.0</td>\n",
       "      <td>Emiya Shirô, fils adoptif d’un mage défunt, se...</td>\n",
       "      <td>https://fr.web.img4.acsta.net/c_310_420/medias...</td>\n",
       "    </tr>\n",
       "    <tr>\n",
       "      <th>2943</th>\n",
       "      <td>296</td>\n",
       "      <td>Kung Fu</td>\n",
       "      <td>Terminée</td>\n",
       "      <td>1972</td>\n",
       "      <td>42.0</td>\n",
       "      <td>3.0</td>\n",
       "      <td>1.0</td>\n",
       "      <td>[Drame, Action]</td>\n",
       "      <td>[Ed Spielman]</td>\n",
       "      <td>[David Carradine, Keith Carradine, John Blyth ...</td>\n",
       "      <td>[U.S.A.]</td>\n",
       "      <td>NaN</td>\n",
       "      <td>NaN</td>\n",
       "      <td>2.5</td>\n",
       "      <td>1374.0</td>\n",
       "      <td>A la recherche de son frère, Kwai Chang Caine ...</td>\n",
       "      <td>https://fr.web.img6.acsta.net/c_310_420/medias...</td>\n",
       "    </tr>\n",
       "    <tr>\n",
       "      <th>3973</th>\n",
       "      <td>19724</td>\n",
       "      <td>T.</td>\n",
       "      <td>Terminée</td>\n",
       "      <td>2015</td>\n",
       "      <td>52.0</td>\n",
       "      <td>3.0</td>\n",
       "      <td>1.0</td>\n",
       "      <td>[Drame, Thriller]</td>\n",
       "      <td>NaN</td>\n",
       "      <td>[Koen De Bouw, Ella Leyers, Herwig Ilegems]</td>\n",
       "      <td>[Belgique]</td>\n",
       "      <td>NaN</td>\n",
       "      <td>NaN</td>\n",
       "      <td>3.0</td>\n",
       "      <td>1.0</td>\n",
       "      <td>Jasper Teerlinck, alias \"Professeur T.\", la qu...</td>\n",
       "      <td>https://fr.web.img6.acsta.net/c_310_420/pictur...</td>\n",
       "    </tr>\n",
       "    <tr>\n",
       "      <th>5165</th>\n",
       "      <td>7508</td>\n",
       "      <td>Land Girls</td>\n",
       "      <td>Terminée</td>\n",
       "      <td>2009</td>\n",
       "      <td>45.0</td>\n",
       "      <td>3.0</td>\n",
       "      <td>1.0</td>\n",
       "      <td>[Drame]</td>\n",
       "      <td>NaN</td>\n",
       "      <td>NaN</td>\n",
       "      <td>[Grande-Bretagne]</td>\n",
       "      <td>NaN</td>\n",
       "      <td>NaN</td>\n",
       "      <td>3.2</td>\n",
       "      <td>22.0</td>\n",
       "      <td>Suivez le quotidien, les amours et les hauts e...</td>\n",
       "      <td>https://fr.web.img6.acsta.net/c_310_420/common...</td>\n",
       "    </tr>\n",
       "    <tr>\n",
       "      <th>6175</th>\n",
       "      <td>4784</td>\n",
       "      <td>Tokyo Demon Campus</td>\n",
       "      <td>En cours</td>\n",
       "      <td>2007</td>\n",
       "      <td>25.0</td>\n",
       "      <td>2.0</td>\n",
       "      <td>1.0</td>\n",
       "      <td>[Action, Animation]</td>\n",
       "      <td>[Toshizo Nemoto]</td>\n",
       "      <td>NaN</td>\n",
       "      <td>[Japon]</td>\n",
       "      <td>NaN</td>\n",
       "      <td>NaN</td>\n",
       "      <td>3.0</td>\n",
       "      <td>10.0</td>\n",
       "      <td>Tokyo est depuis peu la proie de crimes d'un n...</td>\n",
       "      <td>https://fr.web.img2.acsta.net/c_310_420/medias...</td>\n",
       "    </tr>\n",
       "    <tr>\n",
       "      <th>7650</th>\n",
       "      <td>11528</td>\n",
       "      <td>Chambres en ville</td>\n",
       "      <td>Terminée</td>\n",
       "      <td>1989</td>\n",
       "      <td>52.0</td>\n",
       "      <td>7.0</td>\n",
       "      <td>1.0</td>\n",
       "      <td>[Drame, Soap]</td>\n",
       "      <td>[Sylvie Payette]</td>\n",
       "      <td>[Louise Deschâtelets, Gregory Charles, Valérie...</td>\n",
       "      <td>[Canada]</td>\n",
       "      <td>NaN</td>\n",
       "      <td>NaN</td>\n",
       "      <td>3.1</td>\n",
       "      <td>3.0</td>\n",
       "      <td>Louise Leblanc est propriétaire d'une résidenc...</td>\n",
       "      <td>https://fr.web.img5.acsta.net/c_310_420/medias...</td>\n",
       "    </tr>\n",
       "    <tr>\n",
       "      <th>7758</th>\n",
       "      <td>11717</td>\n",
       "      <td>Clarence</td>\n",
       "      <td>En cours</td>\n",
       "      <td>2014</td>\n",
       "      <td>11.0</td>\n",
       "      <td>2.0</td>\n",
       "      <td>1.0</td>\n",
       "      <td>[Animation]</td>\n",
       "      <td>[Skyler Page]</td>\n",
       "      <td>[Skyler Page, Sean Giambrone, Eric Edelstein]</td>\n",
       "      <td>[U.S.A.]</td>\n",
       "      <td>NaN</td>\n",
       "      <td>NaN</td>\n",
       "      <td>3.2</td>\n",
       "      <td>11.0</td>\n",
       "      <td>Clarence est un petit garçon optimiste qui veu...</td>\n",
       "      <td>https://fr.web.img6.acsta.net/c_310_420/pictur...</td>\n",
       "    </tr>\n",
       "  </tbody>\n",
       "</table>\n",
       "</div>"
      ],
      "text/plain": [
       "         id                         title    status  release_date  duration  \\\n",
       "436   19874  La Petite Histoire de France  En cours          2015       3.0   \n",
       "1614  12101  Parents mode d'emploi (2013)  Terminée          2013       3.0   \n",
       "1627   9588                          Soda  Terminée          2011       3.0   \n",
       "2090  16855                         Pep's  Terminée          2013       5.0   \n",
       "2217   7237               Fate/Stay Night  Terminée          2014      25.0   \n",
       "2943    296                       Kung Fu  Terminée          1972      42.0   \n",
       "3973  19724                            T.  Terminée          2015      52.0   \n",
       "5165   7508                    Land Girls  Terminée          2009      45.0   \n",
       "6175   4784            Tokyo Demon Campus  En cours          2007      25.0   \n",
       "7650  11528             Chambres en ville  Terminée          1989      52.0   \n",
       "7758  11717                      Clarence  En cours          2014      11.0   \n",
       "\n",
       "      nb_seasons  nb_episodes                 genres  \\\n",
       "436          4.0          1.0  [Comédie, Historique]   \n",
       "1614         7.0          5.0              [Comédie]   \n",
       "1627         4.0          2.0              [Comédie]   \n",
       "2090         3.0          1.0              [Comédie]   \n",
       "2217         2.0          1.0            [Animation]   \n",
       "2943         3.0          1.0        [Drame, Action]   \n",
       "3973         3.0          1.0      [Drame, Thriller]   \n",
       "5165         3.0          1.0                [Drame]   \n",
       "6175         2.0          1.0    [Action, Animation]   \n",
       "7650         7.0          1.0          [Drame, Soap]   \n",
       "7758         2.0          1.0            [Animation]   \n",
       "\n",
       "                                              directors  \\\n",
       "436   [Jamel Debbouze, Laurent Tiphaine, Frank Cimière]   \n",
       "1614  [Blanche Gardin, Béatrice Fournera, Eve-Sophie...   \n",
       "1627          [Frank Bellocq, David Soussan, Kev Adams]   \n",
       "2090                       [Céline Guyot, Martin Guyot]   \n",
       "2217                      [Akira Hiyama, Kazuharu Sato]   \n",
       "2943                                      [Ed Spielman]   \n",
       "3973                                                NaN   \n",
       "5165                                                NaN   \n",
       "6175                                   [Toshizo Nemoto]   \n",
       "7650                                   [Sylvie Payette]   \n",
       "7758                                      [Skyler Page]   \n",
       "\n",
       "                                                 actors        nationality  \\\n",
       "436     [Maxime Gasteuil, David Salles, Karina Marimon]           [France]   \n",
       "1614    [Alix Poisson, Arnaud Ducret, Orféo Campanella]           [France]   \n",
       "1627         [Kev Adams, William Lebghil, Guy Lecluyse]           [France]   \n",
       "2090  [Charlotte des Georges, Jean-Michel Lahmi, Yan...           [France]   \n",
       "2217                                                NaN            [Japon]   \n",
       "2943  [David Carradine, Keith Carradine, John Blyth ...           [U.S.A.]   \n",
       "3973        [Koen De Bouw, Ella Leyers, Herwig Ilegems]         [Belgique]   \n",
       "5165                                                NaN  [Grande-Bretagne]   \n",
       "6175                                                NaN            [Japon]   \n",
       "7650  [Louise Deschâtelets, Gregory Charles, Valérie...           [Canada]   \n",
       "7758      [Skyler Page, Sean Giambrone, Eric Edelstein]           [U.S.A.]   \n",
       "\n",
       "      press_rating  nb_press_rating  user_rating  nb_user_rating  \\\n",
       "436            NaN              NaN          2.9           528.0   \n",
       "1614           NaN              NaN          2.8           229.0   \n",
       "1627           NaN              NaN          2.5          3829.0   \n",
       "2090           NaN              NaN          2.4           211.0   \n",
       "2217           NaN              NaN          3.8            65.0   \n",
       "2943           NaN              NaN          2.5          1374.0   \n",
       "3973           NaN              NaN          3.0             1.0   \n",
       "5165           NaN              NaN          3.2            22.0   \n",
       "6175           NaN              NaN          3.0            10.0   \n",
       "7650           NaN              NaN          3.1             3.0   \n",
       "7758           NaN              NaN          3.2            11.0   \n",
       "\n",
       "                                                summary  \\\n",
       "436   Tout le monde connaît Jeanne d'Arc, Louis XIV ...   \n",
       "1614  Isa et Gaby, un couple de quadragénaires, pare...   \n",
       "1627  Fils aîné d’une famille de classe moyenne et m...   \n",
       "2090  Que l'on y travaille comme professeur, que l'o...   \n",
       "2217  Emiya Shirô, fils adoptif d’un mage défunt, se...   \n",
       "2943  A la recherche de son frère, Kwai Chang Caine ...   \n",
       "3973  Jasper Teerlinck, alias \"Professeur T.\", la qu...   \n",
       "5165  Suivez le quotidien, les amours et les hauts e...   \n",
       "6175  Tokyo est depuis peu la proie de crimes d'un n...   \n",
       "7650  Louise Leblanc est propriétaire d'une résidenc...   \n",
       "7758  Clarence est un petit garçon optimiste qui veu...   \n",
       "\n",
       "                                            poster_link  \n",
       "436   https://fr.web.img4.acsta.net/c_310_420/pictur...  \n",
       "1614  https://fr.web.img4.acsta.net/c_310_420/pictur...  \n",
       "1627  https://fr.web.img6.acsta.net/c_310_420/medias...  \n",
       "2090  https://fr.web.img6.acsta.net/c_310_420/pictur...  \n",
       "2217  https://fr.web.img4.acsta.net/c_310_420/medias...  \n",
       "2943  https://fr.web.img6.acsta.net/c_310_420/medias...  \n",
       "3973  https://fr.web.img6.acsta.net/c_310_420/pictur...  \n",
       "5165  https://fr.web.img6.acsta.net/c_310_420/common...  \n",
       "6175  https://fr.web.img2.acsta.net/c_310_420/medias...  \n",
       "7650  https://fr.web.img5.acsta.net/c_310_420/medias...  \n",
       "7758  https://fr.web.img6.acsta.net/c_310_420/pictur...  "
      ]
     },
     "execution_count": 430,
     "metadata": {},
     "output_type": "execute_result"
    }
   ],
   "source": [
    "# Find the series where nb_seasons is greater or equal to nb_episodes \n",
    "series[series.nb_seasons > series.nb_episodes]"
   ]
  },
  {
   "cell_type": "markdown",
   "metadata": {},
   "source": [
    "#### Impute missing duration"
   ]
  },
  {
   "cell_type": "code",
   "execution_count": 421,
   "metadata": {},
   "outputs": [],
   "source": [
    "series = impute_missing_duration(\"series\")"
   ]
  },
  {
   "cell_type": "markdown",
   "metadata": {},
   "source": [
    "### Movies"
   ]
  },
  {
   "cell_type": "code",
   "execution_count": 422,
   "metadata": {},
   "outputs": [],
   "source": [
    "def get_release_season(date: str):\n",
    "    '''\n",
    "    Get the release season\n",
    "    '''\n",
    "    spring = \"03-21\"\n",
    "    summer = \"06-21\"\n",
    "    fall = \"09-21\"\n",
    "    winter = \"12-21\"\n",
    "    my = re.sub(r\"\\d{4}-\", \"\", date)\n",
    "    if my < spring or my >= winter:\n",
    "        return \"Winter\"\n",
    "    elif my < summer and my >= spring:\n",
    "        return \"Spring\"\n",
    "    elif my < fall and my >= summer:\n",
    "        return \"Summer\"\n",
    "    elif my < winter and my >= fall:\n",
    "        return \"Fall\""
   ]
  },
  {
   "cell_type": "code",
   "execution_count": 423,
   "metadata": {},
   "outputs": [],
   "source": [
    "# Keep only the year and the month of the release date\n",
    "# movies[\"release_date\"] = movies[\"release_date\"].apply(lambda x: x.split(\"-\")[0]+\"-\"+x.split(\"-\")[1])\n",
    "\n",
    "# Get the release season\n",
    "movies[\"release_date\"] = movies[\"release_date\"].apply(lambda x: get_release_season(x) + \" \" + x.split(\"-\")[0])\n"
   ]
  },
  {
   "cell_type": "code",
   "execution_count": 424,
   "metadata": {},
   "outputs": [],
   "source": [
    "#print(sorted(set(movies.release_date.values),reverse=False))"
   ]
  },
  {
   "cell_type": "code",
   "execution_count": 425,
   "metadata": {},
   "outputs": [],
   "source": [
    "movies = impute_missing_duration(\"movies\")"
   ]
  },
  {
   "cell_type": "code",
   "execution_count": 426,
   "metadata": {},
   "outputs": [
    {
     "data": {
      "text/html": [
       "<div>\n",
       "<style scoped>\n",
       "    .dataframe tbody tr th:only-of-type {\n",
       "        vertical-align: middle;\n",
       "    }\n",
       "\n",
       "    .dataframe tbody tr th {\n",
       "        vertical-align: top;\n",
       "    }\n",
       "\n",
       "    .dataframe thead th {\n",
       "        text-align: right;\n",
       "    }\n",
       "</style>\n",
       "<table border=\"1\" class=\"dataframe\">\n",
       "  <thead>\n",
       "    <tr style=\"text-align: right;\">\n",
       "      <th></th>\n",
       "      <th>genres</th>\n",
       "      <th>nb_movies</th>\n",
       "      <th>avg_duration</th>\n",
       "      <th>median_duration</th>\n",
       "      <th>nb_press_rating</th>\n",
       "      <th>nb_user_rating</th>\n",
       "      <th>total_rating</th>\n",
       "      <th>press_rating_percentage</th>\n",
       "      <th>user_rating_percentage</th>\n",
       "      <th>movies_percentage</th>\n",
       "    </tr>\n",
       "  </thead>\n",
       "  <tbody>\n",
       "    <tr>\n",
       "      <th>10</th>\n",
       "      <td>Drame</td>\n",
       "      <td>3275</td>\n",
       "      <td>113</td>\n",
       "      <td>109</td>\n",
       "      <td>40882</td>\n",
       "      <td>12966409</td>\n",
       "      <td>13007291</td>\n",
       "      <td>23.941</td>\n",
       "      <td>13.823</td>\n",
       "      <td>41.466</td>\n",
       "    </tr>\n",
       "    <tr>\n",
       "      <th>6</th>\n",
       "      <td>Comédie</td>\n",
       "      <td>2000</td>\n",
       "      <td>100</td>\n",
       "      <td>99</td>\n",
       "      <td>23074</td>\n",
       "      <td>11823748</td>\n",
       "      <td>11846822</td>\n",
       "      <td>13.512</td>\n",
       "      <td>12.605</td>\n",
       "      <td>25.323</td>\n",
       "    </tr>\n",
       "    <tr>\n",
       "      <th>26</th>\n",
       "      <td>Thriller</td>\n",
       "      <td>1667</td>\n",
       "      <td>108</td>\n",
       "      <td>105</td>\n",
       "      <td>16488</td>\n",
       "      <td>8405278</td>\n",
       "      <td>8421766</td>\n",
       "      <td>9.656</td>\n",
       "      <td>8.961</td>\n",
       "      <td>21.107</td>\n",
       "    </tr>\n",
       "    <tr>\n",
       "      <th>0</th>\n",
       "      <td>Action</td>\n",
       "      <td>1275</td>\n",
       "      <td>112</td>\n",
       "      <td>110</td>\n",
       "      <td>12795</td>\n",
       "      <td>12131275</td>\n",
       "      <td>12144070</td>\n",
       "      <td>7.493</td>\n",
       "      <td>12.933</td>\n",
       "      <td>16.143</td>\n",
       "    </tr>\n",
       "    <tr>\n",
       "      <th>23</th>\n",
       "      <td>Romance</td>\n",
       "      <td>885</td>\n",
       "      <td>110</td>\n",
       "      <td>106</td>\n",
       "      <td>9206</td>\n",
       "      <td>4211642</td>\n",
       "      <td>4220848</td>\n",
       "      <td>5.391</td>\n",
       "      <td>4.490</td>\n",
       "      <td>11.205</td>\n",
       "    </tr>\n",
       "    <tr>\n",
       "      <th>3</th>\n",
       "      <td>Aventure</td>\n",
       "      <td>868</td>\n",
       "      <td>111</td>\n",
       "      <td>106</td>\n",
       "      <td>9946</td>\n",
       "      <td>8799177</td>\n",
       "      <td>8809123</td>\n",
       "      <td>5.825</td>\n",
       "      <td>9.380</td>\n",
       "      <td>10.990</td>\n",
       "    </tr>\n",
       "    <tr>\n",
       "      <th>21</th>\n",
       "      <td>Policier</td>\n",
       "      <td>686</td>\n",
       "      <td>110</td>\n",
       "      <td>108</td>\n",
       "      <td>6069</td>\n",
       "      <td>4781005</td>\n",
       "      <td>4787074</td>\n",
       "      <td>3.554</td>\n",
       "      <td>5.097</td>\n",
       "      <td>8.686</td>\n",
       "    </tr>\n",
       "    <tr>\n",
       "      <th>11</th>\n",
       "      <td>Epouvante-horreur</td>\n",
       "      <td>678</td>\n",
       "      <td>98</td>\n",
       "      <td>96</td>\n",
       "      <td>5246</td>\n",
       "      <td>2392325</td>\n",
       "      <td>2397571</td>\n",
       "      <td>3.072</td>\n",
       "      <td>2.550</td>\n",
       "      <td>8.584</td>\n",
       "    </tr>\n",
       "    <tr>\n",
       "      <th>16</th>\n",
       "      <td>Fantastique</td>\n",
       "      <td>654</td>\n",
       "      <td>110</td>\n",
       "      <td>105</td>\n",
       "      <td>7994</td>\n",
       "      <td>7191710</td>\n",
       "      <td>7199704</td>\n",
       "      <td>4.681</td>\n",
       "      <td>7.667</td>\n",
       "      <td>8.281</td>\n",
       "    </tr>\n",
       "    <tr>\n",
       "      <th>24</th>\n",
       "      <td>Science fiction</td>\n",
       "      <td>570</td>\n",
       "      <td>110</td>\n",
       "      <td>108</td>\n",
       "      <td>6372</td>\n",
       "      <td>6517170</td>\n",
       "      <td>6523542</td>\n",
       "      <td>3.732</td>\n",
       "      <td>6.948</td>\n",
       "      <td>7.217</td>\n",
       "    </tr>\n",
       "  </tbody>\n",
       "</table>\n",
       "</div>"
      ],
      "text/plain": [
       "               genres  nb_movies  avg_duration  median_duration  \\\n",
       "10              Drame       3275           113              109   \n",
       "6             Comédie       2000           100               99   \n",
       "26           Thriller       1667           108              105   \n",
       "0              Action       1275           112              110   \n",
       "23            Romance        885           110              106   \n",
       "3            Aventure        868           111              106   \n",
       "21           Policier        686           110              108   \n",
       "11  Epouvante-horreur        678            98               96   \n",
       "16        Fantastique        654           110              105   \n",
       "24    Science fiction        570           110              108   \n",
       "\n",
       "    nb_press_rating  nb_user_rating  total_rating  press_rating_percentage  \\\n",
       "10            40882        12966409      13007291                   23.941   \n",
       "6             23074        11823748      11846822                   13.512   \n",
       "26            16488         8405278       8421766                    9.656   \n",
       "0             12795        12131275      12144070                    7.493   \n",
       "23             9206         4211642       4220848                    5.391   \n",
       "3              9946         8799177       8809123                    5.825   \n",
       "21             6069         4781005       4787074                    3.554   \n",
       "11             5246         2392325       2397571                    3.072   \n",
       "16             7994         7191710       7199704                    4.681   \n",
       "24             6372         6517170       6523542                    3.732   \n",
       "\n",
       "    user_rating_percentage  movies_percentage  \n",
       "10                  13.823             41.466  \n",
       "6                   12.605             25.323  \n",
       "26                   8.961             21.107  \n",
       "0                   12.933             16.143  \n",
       "23                   4.490             11.205  \n",
       "3                    9.380             10.990  \n",
       "21                   5.097              8.686  \n",
       "11                   2.550              8.584  \n",
       "16                   7.667              8.281  \n",
       "24                   6.948              7.217  "
      ]
     },
     "execution_count": 426,
     "metadata": {},
     "output_type": "execute_result"
    }
   ],
   "source": [
    "m_genres_df.sort_values(by = \"nb_movies\", ascending = False).head(10)"
   ]
  },
  {
   "cell_type": "code",
   "execution_count": 427,
   "metadata": {},
   "outputs": [
    {
     "data": {
      "text/html": [
       "<div>\n",
       "<style scoped>\n",
       "    .dataframe tbody tr th:only-of-type {\n",
       "        vertical-align: middle;\n",
       "    }\n",
       "\n",
       "    .dataframe tbody tr th {\n",
       "        vertical-align: top;\n",
       "    }\n",
       "\n",
       "    .dataframe thead th {\n",
       "        text-align: right;\n",
       "    }\n",
       "</style>\n",
       "<table border=\"1\" class=\"dataframe\">\n",
       "  <thead>\n",
       "    <tr style=\"text-align: right;\">\n",
       "      <th></th>\n",
       "      <th>id</th>\n",
       "      <th>title</th>\n",
       "      <th>release_date</th>\n",
       "      <th>duration</th>\n",
       "      <th>genres</th>\n",
       "      <th>directors</th>\n",
       "      <th>actors</th>\n",
       "      <th>nationality</th>\n",
       "      <th>press_rating</th>\n",
       "      <th>nb_press_rating</th>\n",
       "      <th>user_rating</th>\n",
       "      <th>nb_user_rating</th>\n",
       "      <th>summary</th>\n",
       "      <th>poster_link</th>\n",
       "    </tr>\n",
       "  </thead>\n",
       "  <tbody>\n",
       "    <tr>\n",
       "      <th>1634</th>\n",
       "      <td>291764</td>\n",
       "      <td>Rocky IV: Rocky Vs. Drago</td>\n",
       "      <td>Winter 2022</td>\n",
       "      <td>109.0</td>\n",
       "      <td>[Drame, Action]</td>\n",
       "      <td>[Jeb Stuart, Sylvester Stallone]</td>\n",
       "      <td>[Sylvester Stallone, Dolph Lundgren, Carl Weat...</td>\n",
       "      <td>[USA]</td>\n",
       "      <td>NaN</td>\n",
       "      <td>NaN</td>\n",
       "      <td>4.0</td>\n",
       "      <td>113.0</td>\n",
       "      <td>La version \"Director's Cut\" par Sylvester Stal...</td>\n",
       "      <td>https://fr.web.img6.acsta.net/c_310_420/pictur...</td>\n",
       "    </tr>\n",
       "  </tbody>\n",
       "</table>\n",
       "</div>"
      ],
      "text/plain": [
       "          id                      title release_date  duration  \\\n",
       "1634  291764  Rocky IV: Rocky Vs. Drago  Winter 2022     109.0   \n",
       "\n",
       "               genres                         directors  \\\n",
       "1634  [Drame, Action]  [Jeb Stuart, Sylvester Stallone]   \n",
       "\n",
       "                                                 actors nationality  \\\n",
       "1634  [Sylvester Stallone, Dolph Lundgren, Carl Weat...       [USA]   \n",
       "\n",
       "      press_rating  nb_press_rating  user_rating  nb_user_rating  \\\n",
       "1634           NaN              NaN          4.0           113.0   \n",
       "\n",
       "                                                summary  \\\n",
       "1634  La version \"Director's Cut\" par Sylvester Stal...   \n",
       "\n",
       "                                            poster_link  \n",
       "1634  https://fr.web.img6.acsta.net/c_310_420/pictur...  "
      ]
     },
     "execution_count": 427,
     "metadata": {},
     "output_type": "execute_result"
    }
   ],
   "source": [
    "movies[movies.id == 291764]"
   ]
  },
  {
   "cell_type": "markdown",
   "metadata": {},
   "source": [
    "#### Stats"
   ]
  },
  {
   "cell_type": "code",
   "execution_count": 428,
   "metadata": {},
   "outputs": [
    {
     "data": {
      "image/png": "[encoded data removed]",
      "text/plain": [
       "<Figure size 864x576 with 2 Axes>"
      ]
     },
     "metadata": {
      "needs_background": "light"
     },
     "output_type": "display_data"
    },
    {
     "data": {
      "image/png": "[encoded data removed]",
      "text/plain": [
       "<Figure size 864x360 with 1 Axes>"
      ]
     },
     "metadata": {
      "needs_background": "light"
     },
     "output_type": "display_data"
    },
    {
     "name": "stdout",
     "output_type": "stream",
     "text": [
      "<class 'pandas.core.frame.DataFrame'>\n",
      "Int64Index: 7898 entries, 0 to 7906\n",
      "Data columns (total 14 columns):\n",
      " #   Column           Non-Null Count  Dtype  \n",
      "---  ------           --------------  -----  \n",
      " 0   id               7898 non-null   int64  \n",
      " 1   title            7898 non-null   object \n",
      " 2   release_date     7898 non-null   object \n",
      " 3   duration         7898 non-null   float64\n",
      " 4   genres           7898 non-null   object \n",
      " 5   directors        7878 non-null   object \n",
      " 6   actors           7864 non-null   object \n",
      " 7   nationality      7890 non-null   object \n",
      " 8   press_rating     5111 non-null   float64\n",
      " 9   nb_press_rating  5111 non-null   float64\n",
      " 10  user_rating      7898 non-null   float64\n",
      " 11  nb_user_rating   7898 non-null   float64\n",
      " 12  summary          7875 non-null   object \n",
      " 13  poster_link      7898 non-null   object \n",
      "dtypes: float64(5), int64(1), object(8)\n",
      "memory usage: 1.2+ MB\n"
     ]
    },
    {
     "data": {
      "text/html": [
       "<div>\n",
       "<style scoped>\n",
       "    .dataframe tbody tr th:only-of-type {\n",
       "        vertical-align: middle;\n",
       "    }\n",
       "\n",
       "    .dataframe tbody tr th {\n",
       "        vertical-align: top;\n",
       "    }\n",
       "\n",
       "    .dataframe thead th {\n",
       "        text-align: right;\n",
       "    }\n",
       "</style>\n",
       "<table border=\"1\" class=\"dataframe\">\n",
       "  <thead>\n",
       "    <tr style=\"text-align: right;\">\n",
       "      <th></th>\n",
       "      <th>id</th>\n",
       "      <th>duration</th>\n",
       "      <th>press_rating</th>\n",
       "      <th>nb_press_rating</th>\n",
       "      <th>user_rating</th>\n",
       "      <th>nb_user_rating</th>\n",
       "    </tr>\n",
       "  </thead>\n",
       "  <tbody>\n",
       "    <tr>\n",
       "      <th>count</th>\n",
       "      <td>7898.000000</td>\n",
       "      <td>7898.000000</td>\n",
       "      <td>5111.000000</td>\n",
       "      <td>5111.000000</td>\n",
       "      <td>7898.000000</td>\n",
       "      <td>7898.000000</td>\n",
       "    </tr>\n",
       "    <tr>\n",
       "      <th>mean</th>\n",
       "      <td>150481.210180</td>\n",
       "      <td>107.923018</td>\n",
       "      <td>3.247388</td>\n",
       "      <td>17.464880</td>\n",
       "      <td>3.140491</td>\n",
       "      <td>5563.583059</td>\n",
       "    </tr>\n",
       "    <tr>\n",
       "      <th>std</th>\n",
       "      <td>104553.465455</td>\n",
       "      <td>21.594608</td>\n",
       "      <td>0.738463</td>\n",
       "      <td>8.656134</td>\n",
       "      <td>0.732848</td>\n",
       "      <td>12946.183790</td>\n",
       "    </tr>\n",
       "    <tr>\n",
       "      <th>min</th>\n",
       "      <td>1.000000</td>\n",
       "      <td>26.000000</td>\n",
       "      <td>1.000000</td>\n",
       "      <td>1.000000</td>\n",
       "      <td>0.800000</td>\n",
       "      <td>1.000000</td>\n",
       "    </tr>\n",
       "    <tr>\n",
       "      <th>25%</th>\n",
       "      <td>37106.250000</td>\n",
       "      <td>95.000000</td>\n",
       "      <td>2.800000</td>\n",
       "      <td>11.000000</td>\n",
       "      <td>2.600000</td>\n",
       "      <td>394.000000</td>\n",
       "    </tr>\n",
       "    <tr>\n",
       "      <th>50%</th>\n",
       "      <td>176718.000000</td>\n",
       "      <td>104.000000</td>\n",
       "      <td>3.300000</td>\n",
       "      <td>18.000000</td>\n",
       "      <td>3.200000</td>\n",
       "      <td>1501.500000</td>\n",
       "    </tr>\n",
       "    <tr>\n",
       "      <th>75%</th>\n",
       "      <td>250618.750000</td>\n",
       "      <td>118.000000</td>\n",
       "      <td>3.700000</td>\n",
       "      <td>24.000000</td>\n",
       "      <td>3.700000</td>\n",
       "      <td>4724.750000</td>\n",
       "    </tr>\n",
       "    <tr>\n",
       "      <th>max</th>\n",
       "      <td>303494.000000</td>\n",
       "      <td>450.000000</td>\n",
       "      <td>5.000000</td>\n",
       "      <td>45.000000</td>\n",
       "      <td>4.600000</td>\n",
       "      <td>218842.000000</td>\n",
       "    </tr>\n",
       "  </tbody>\n",
       "</table>\n",
       "</div>"
      ],
      "text/plain": [
       "                  id     duration  press_rating  nb_press_rating  user_rating  \\\n",
       "count    7898.000000  7898.000000   5111.000000      5111.000000  7898.000000   \n",
       "mean   150481.210180   107.923018      3.247388        17.464880     3.140491   \n",
       "std    104553.465455    21.594608      0.738463         8.656134     0.732848   \n",
       "min         1.000000    26.000000      1.000000         1.000000     0.800000   \n",
       "25%     37106.250000    95.000000      2.800000        11.000000     2.600000   \n",
       "50%    176718.000000   104.000000      3.300000        18.000000     3.200000   \n",
       "75%    250618.750000   118.000000      3.700000        24.000000     3.700000   \n",
       "max    303494.000000   450.000000      5.000000        45.000000     4.600000   \n",
       "\n",
       "       nb_user_rating  \n",
       "count     7898.000000  \n",
       "mean      5563.583059  \n",
       "std      12946.183790  \n",
       "min          1.000000  \n",
       "25%        394.000000  \n",
       "50%       1501.500000  \n",
       "75%       4724.750000  \n",
       "max     218842.000000  "
      ]
     },
     "execution_count": 428,
     "metadata": {},
     "output_type": "execute_result"
    }
   ],
   "source": [
    "m_stats = display_stats(movies)\n",
    "m_stats"
   ]
  },
  {
   "cell_type": "markdown",
   "metadata": {},
   "source": [
    "## Save Cleaned datasets"
   ]
  },
  {
   "cell_type": "code",
   "execution_count": 429,
   "metadata": {},
   "outputs": [
    {
     "name": "stdout",
     "output_type": "stream",
     "text": [
      "File successfully saved in ../Cleaned Data/movies.csv\n",
      "File successfully saved in ../Cleaned Data/series.csv\n",
      "File successfully saved in ../Cleaned Data/press_movies.csv\n",
      "File successfully saved in ../Cleaned Data/press_series.csv\n",
      "File successfully saved in ../Cleaned Data/user_movies.csv\n",
      "File successfully saved in ../Cleaned Data/user_series.csv\n"
     ]
    }
   ],
   "source": [
    "path = \"../Cleaned Data/\"\n",
    "for k,v in data.items():\n",
    "    save_data(v, path, k)"
   ]
  },
  {
   "cell_type": "markdown",
   "metadata": {},
   "source": [
    "# **Section 1. Ratings Distributions**\n",
    "\n",
    "## Plot the Distribution of Ratings "
   ]
  },
  {
   "cell_type": "code",
   "execution_count": 224,
   "metadata": {},
   "outputs": [
    {
     "data": {
      "image/png": "[encoded data removed]",
      "text/plain": [
       "<Figure size 1152x288 with 3 Axes>"
      ]
     },
     "metadata": {},
     "output_type": "display_data"
    },
    {
     "data": {
      "image/png": "[encoded data removed]",
      "text/plain": [
       "<Figure size 1152x288 with 3 Axes>"
      ]
     },
     "metadata": {},
     "output_type": "display_data"
    }
   ],
   "source": [
    "for k,df in list(data.items())[:2]:\n",
    "    sns.set(style=\"white\", palette=\"deep\")\n",
    "\n",
    "    fig, axes = plt.subplots(1, 3, figsize = (16,4))\n",
    "    ax1, ax2, ax3 = fig.axes\n",
    "\n",
    "    ax1.set_xlim([0.5,5.5])\n",
    "    ax2.set_xlim([0.5,5.5])\n",
    "    ax3.set_xlim([0.5,5.5])\n",
    "\n",
    "\n",
    "    ax1.hist(df[\"press_rating\"], bins = 10, range = (0,5), color='C0') # bin range = 1\n",
    "    ax1.set_title(f'{k.title()} Press Ratings Distribution')\n",
    "    ax1.set_xlabel('Ratings')\n",
    "\n",
    "    ax2.hist(df[\"user_rating\"], bins = 10, range = (0,5), color='C1') # bin range = 1\n",
    "    ax2.set_title(f'{k.title()} Users Ratings Distribution')\n",
    "    ax2.set_xlabel('Ratings')\n",
    "\n",
    "    ax3.hist(df[\"press_rating\"], bins = 10, range = (0,5), histtype = 'step', \n",
    "            lw=1.5, label='Press Ratings', color='C0')\n",
    "    ax3.hist(df[\"user_rating\"], bins = 10, range = (0,5), histtype = 'step', \n",
    "            lw=1.5, label='Users Ratings', color='C1')\n",
    "    ax3.legend(loc = 'upper left')\n",
    "    ax3.set_title(f'{k.title()} Comparison of Ratings Distributions')\n",
    "    ax3.set_xlabel('Ratings')\n",
    "\n",
    "    for ax in fig.axes:\n",
    "        ax.spines['top'].set_visible(False)\n",
    "        ax.spines['right'].set_visible(False)"
   ]
  },
  {
   "cell_type": "code",
   "execution_count": 225,
   "metadata": {},
   "outputs": [],
   "source": [
    "# save the fig\n",
    "#fig.savefig('allocine-0_hist.png', bbox_inches='tight', dpi=200)"
   ]
  },
  {
   "cell_type": "markdown",
   "metadata": {},
   "source": [
    "## Ratings Correlation"
   ]
  },
  {
   "cell_type": "code",
   "execution_count": 226,
   "metadata": {},
   "outputs": [
    {
     "data": {
      "image/png": "[encoded data removed]",
      "text/plain": [
       "<Figure size 504x504 with 3 Axes>"
      ]
     },
     "metadata": {},
     "output_type": "display_data"
    },
    {
     "data": {
      "image/png": "[encoded data removed]",
      "text/plain": [
       "<Figure size 504x504 with 3 Axes>"
      ]
     },
     "metadata": {},
     "output_type": "display_data"
    }
   ],
   "source": [
    "# Correlation between press_rating and user_rating\n",
    "for k,df in list(data.items())[:2]:\n",
    "    ax = sns.jointplot(x=\"press_rating\", y=\"user_rating\", \n",
    "                    data=df, kind=\"hex\",\n",
    "                    marginal_kws=dict(bins=20),\n",
    "                    xlim=(0.8,5.1), ylim=(0.8,5.1),\n",
    "                    height=7, space=0).set_axis_labels(\"Press Ratings\", \"Users Ratings\")"
   ]
  },
  {
   "cell_type": "code",
   "execution_count": 227,
   "metadata": {},
   "outputs": [],
   "source": [
    "# save the fig\n",
    "#ax.savefig('allocine-1_jointplot.png', bbox_inches='tight', dpi=200)"
   ]
  },
  {
   "cell_type": "markdown",
   "metadata": {},
   "source": [
    "## Compare to users ratings"
   ]
  },
  {
   "cell_type": "markdown",
   "metadata": {},
   "source": [
    "five_stars = allocine[allocine[\"press_rating\"] >= 5]\n",
    "f, ax = plt.subplots(figsize=(15,6))\n",
    "f.suptitle('Movies with Five Stars From The Press', \n",
    "           fontsize=13)\n",
    "f.subplots_adjust(top=0.85)\n",
    "\n",
    "sns.countplot(x=five_stars[\"user_rating\"], ax=ax)\n",
    "ax.set_xlabel(\"Users Ratings\")\n",
    "ax.set_ylabel(\"\")\n",
    "sns.despine(top=True, right=True, left=False, bottom=False)"
   ]
  },
  {
   "cell_type": "markdown",
   "metadata": {},
   "source": [
    "### save the fig\n",
    "f.savefig('allocine-2_hist5stars.png', bbox_inches='tight', dpi=200)"
   ]
  },
  {
   "cell_type": "markdown",
   "metadata": {},
   "source": [
    "### # print the first tier and second tier of the Users Ratings\n",
    "allocine[[\"user_rating\"]].quantile([.33,.66])"
   ]
  },
  {
   "cell_type": "markdown",
   "metadata": {},
   "source": [
    "p = (len(five_stars[(five_stars[\"user_rating\"] < 2.9)]) / len(five_stars)) * 100\n",
    "print('{} % of the movies with the highest press ratings received a low users ratings.'.format(round(p, 2)))\n",
    "p = (len(five_stars[(five_stars[\"user_rating\"] < 3.4) & (five_stars[\"user_rating\"] >= 2.9)]) / len(five_stars)) * 100\n",
    "print('{} % of the movies with the highest press ratings received a moderate users ratings.'.format(round(p, 2)))\n",
    "p = (len(five_stars[five_stars[\"user_rating\"] >= 3.4]) / len(five_stars)) * 100\n",
    "print('{} % of the movies with the highest press ratings received a high users ratings.'.format(round(p, 2)))"
   ]
  },
  {
   "cell_type": "markdown",
   "metadata": {},
   "source": [
    "# **Section 3. Data Exploration**"
   ]
  },
  {
   "cell_type": "markdown",
   "metadata": {},
   "source": [
    "## **GENRE**"
   ]
  },
  {
   "cell_type": "markdown",
   "metadata": {},
   "source": [
    "### *Create `genres` dataframes*"
   ]
  },
  {
   "cell_type": "code",
   "execution_count": 254,
   "metadata": {},
   "outputs": [],
   "source": [
    "def create_genre_df(df_key: str):\n",
    "    # Get dataframe from key\n",
    "    df = data.get(df_key)\n",
    "    genre_df = None\n",
    "    if df is not None:  \n",
    "        df = df.copy()      \n",
    "        # Remove all rows with no genres\n",
    "        df.dropna(subset=[\"genres\"], inplace=True)\n",
    "        # Get all unique genres from df\n",
    "        genres_list = [genre.lstrip() for genres in df[\"genres\"] for genre in genres]\n",
    "        genres_list = sorted(list(set(genres_list))) \n",
    "        # Create dataframe with the number of movies per genre from genres_list\n",
    "        genre_df = pd.DataFrame({\"genres\": genres_list, f\"nb_{df_key}\": [df[df[\"genres\"].apply(lambda x: genre in x).values].shape[0] for genre in genres_list]})\n",
    "\n",
    "        # Add the average duration per genre\n",
    "        genre_df[\"avg_duration\"] = [int(df[df[\"genres\"].apply(lambda x: genre in x).values][\"duration\"].mean()) for genre in genres_list]\n",
    "\n",
    "        # Add the median duration per genre\n",
    "        genre_df[\"median_duration\"] = [int(df[df[\"genres\"].apply(lambda x: genre in x).values][\"duration\"].median()) for genre in genres_list]\n",
    "\n",
    "        # Add the nb_press_rating and nb_user_rating to the genre_df\n",
    "        genre_df[\"nb_press_rating\"] = [int(df[df[\"genres\"].apply(lambda x: genre in x).values][\"nb_press_rating\"].sum()) for genre in genres_list]\n",
    "        genre_df[\"nb_user_rating\"] = [int(df[df[\"genres\"].apply(lambda x: genre in x).values][\"nb_user_rating\"].sum()) for genre in genres_list]\n",
    "\n",
    "        # Add the total_rating to the genre_df (press_rating + user_rating)\n",
    "        genre_df[\"total_rating\"] = genre_df[\"nb_press_rating\"] + genre_df[\"nb_user_rating\"]\n",
    "\n",
    "        # Add the press_rating_percentage and user_rating_percentage to the genre_df \n",
    "        genre_df[\"press_rating_percentage\"] = round(genre_df[\"nb_press_rating\"] / genre_df[\"nb_press_rating\"].values.sum() * 100, 3)\n",
    "        genre_df[\"user_rating_percentage\"] = round(genre_df[\"nb_user_rating\"] / genre_df[\"nb_user_rating\"].values.sum() * 100, 3)\n",
    "\n",
    "        # Add the movies/series_percentage to the genre_df\n",
    "        genre_df[f\"{df_key}_percentage\"] = round(genre_df[f\"nb_{df_key}\"]/df.shape[0] * 100, 3)\n",
    "        return genre_df.sort_values(by = \"genres\", ascending = True)"
   ]
  },
  {
   "cell_type": "code",
   "execution_count": 255,
   "metadata": {},
   "outputs": [],
   "source": [
    "m_genres_df = create_genre_df(\"movies\")\n",
    "s_genres_df = create_genre_df(\"series\")"
   ]
  },
  {
   "cell_type": "code",
   "execution_count": 232,
   "metadata": {},
   "outputs": [
    {
     "name": "stdout",
     "output_type": "stream",
     "text": [
      "['Action' 'Animation' 'Arts Martiaux' 'Aventure' 'Biopic' 'Comédie'\n",
      " 'Comédie dramatique' 'Comédie musicale' 'Drame' 'Epouvante-horreur'\n",
      " 'Erotique' 'Espionnage' 'Famille' 'Fantastique' 'Guerre' 'Historique'\n",
      " 'Judiciaire' 'Musical' 'Policier' 'Péplum' 'Romance' 'Science fiction'\n",
      " 'Sport event' 'Thriller' 'Western']\n",
      "['Action' 'Animation' 'Arts Martiaux' 'Aventure' 'Biopic' 'Comédie'\n",
      " 'Comédie dramatique' 'Comédie musicale' 'Dessin animé' 'Documentaire'\n",
      " 'Drame' 'Epouvante-horreur' 'Erotique' 'Espionnage' 'Famille'\n",
      " 'Fantastique' 'Guerre' 'Historique' 'Judiciaire' 'Musical' 'Médical'\n",
      " 'Policier' 'Péplum' 'Romance' 'Science fiction' 'Show' 'Soap'\n",
      " 'Sport event' 'Thriller' 'Websérie' 'Western']\n"
     ]
    }
   ],
   "source": [
    "print(m_genres_df.genres.values)\n",
    "print(s_genres_df.genres.values)"
   ]
  },
  {
   "cell_type": "markdown",
   "metadata": {},
   "source": [
    "### *Save all `genres` dataframes*"
   ]
  },
  {
   "cell_type": "code",
   "execution_count": 25,
   "metadata": {},
   "outputs": [
    {
     "name": "stdout",
     "output_type": "stream",
     "text": [
      "File successfully saved in ../Cleaned Data/m_genres.csv\n",
      "File successfully saved in ../Cleaned Data/s_genres.csv\n"
     ]
    }
   ],
   "source": [
    "path = \"../Cleaned Data/\"\n",
    "save_data(m_genres_df, path, \"m_genres\")\n",
    "save_data(s_genres_df, path, \"s_genres\")"
   ]
  },
  {
   "cell_type": "markdown",
   "metadata": {},
   "source": [
    "## **NATIONALITY**"
   ]
  },
  {
   "cell_type": "markdown",
   "metadata": {},
   "source": [
    "### *Create `nationality` dataframes*"
   ]
  },
  {
   "cell_type": "code",
   "execution_count": 26,
   "metadata": {},
   "outputs": [],
   "source": [
    "def create_nationality_df(df_key: str):\n",
    "    # Get dataframe from key\n",
    "    df = data.get(df_key)\n",
    "    nation_df = None\n",
    "    if df is not None:        \n",
    "        df = df.copy()\n",
    "        # Remove all rows with no nationality\n",
    "        df.dropna(subset=[\"nationality\"], inplace=True)\n",
    "        # Get all unique nationality from df\n",
    "        nationality = [nat.lstrip() for nationality in df[\"nationality\"] for nat in nationality]\n",
    "        nationality = sorted(list(set(nationality))) \n",
    "        # Create dataframe with the number of movies per nationality from nationality list\n",
    "        nation_df = pd.DataFrame({\"nationality\": nationality, f\"nb_{df_key}\": [df[df[\"nationality\"].apply(lambda x: nation in x).values].shape[0] for nation in nationality]})\n",
    "\n",
    "        # Add the nb_press_rating and nb_user_rating to the nation_df\n",
    "        nation_df[\"nb_press_rating\"] = [int(df[df[\"nationality\"].apply(lambda x: nation in x).values][\"nb_press_rating\"].sum()) for nation in nationality]\n",
    "        nation_df[\"nb_user_rating\"] = [int(df[df[\"nationality\"].apply(lambda x: nation in x).values][\"nb_user_rating\"].sum()) for nation in nationality]\n",
    "\n",
    "        # Add the total_rating to the nation_df (press_rating + user_rating)\n",
    "        nation_df[\"total_rating\"] = nation_df[\"nb_press_rating\"] + nation_df[\"nb_user_rating\"]\n",
    "\n",
    "        # Add the press_rating_percentage and user_rating_percentage to the nation_df \n",
    "        nation_df[\"press_rating_percentage\"] = round(nation_df[\"nb_press_rating\"] / nation_df[\"nb_press_rating\"].values.sum() * 100, 4)\n",
    "        nation_df[\"user_rating_percentage\"] = round(nation_df[\"nb_user_rating\"] / nation_df[\"nb_user_rating\"].values.sum() * 100, 4)\n",
    "\n",
    "        # Add the movies/series_percentage to the nation_df\n",
    "        nation_df[f\"{df_key}_percentage\"] = round(nation_df[f\"nb_{df_key}\"]/df.shape[0] * 100, 4)\n",
    "        return nation_df.sort_values(by = \"nationality\", ascending = True)"
   ]
  },
  {
   "cell_type": "code",
   "execution_count": 27,
   "metadata": {},
   "outputs": [],
   "source": [
    "m_nationality_df = create_nationality_df(\"movies\")\n",
    "s_nationality_df = create_nationality_df(\"series\")"
   ]
  },
  {
   "cell_type": "markdown",
   "metadata": {},
   "source": [
    "### *Save all `nationality` dataframes*"
   ]
  },
  {
   "cell_type": "code",
   "execution_count": 31,
   "metadata": {},
   "outputs": [
    {
     "name": "stdout",
     "output_type": "stream",
     "text": [
      "File successfully saved in ../Cleaned Data/m_nationality.csv\n",
      "File successfully saved in ../Cleaned Data/s_nationality.csv\n"
     ]
    }
   ],
   "source": [
    "path = \"../Cleaned Data/\"\n",
    "save_data(m_nationality_df, path, \"m_nationality\")\n",
    "save_data(s_nationality_df, path, \"s_nationality\")"
   ]
  }
 ],
 "metadata": {
  "interpreter": {
   "hash": "48c0ee024c6cc2421e377eb4076cadf4ce6eb7a4584917e3645e162e32894617"
  },
  "kernelspec": {
   "display_name": "Python 3.9.5 64-bit",
   "language": "python",
   "name": "python3"
  },
  "language_info": {
   "codemirror_mode": {
    "name": "ipython",
    "version": 3
   },
   "file_extension": ".py",
   "mimetype": "text/x-python",
   "name": "python",
   "nbconvert_exporter": "python",
   "pygments_lexer": "ipython3",
   "version": "3.9.5"
  },
  "orig_nbformat": 4
 },
 "nbformat": 4,
 "nbformat_minor": 2
}
