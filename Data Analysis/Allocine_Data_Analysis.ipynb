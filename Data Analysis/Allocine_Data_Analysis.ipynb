{
 "cells": [
  {
   "cell_type": "markdown",
   "metadata": {},
   "source": [
    "# 🎦**AlloCiné Data Analysis**📊\n",
    "\n",
    "We had web scraped the [movies](https://github.com/Bastien-LDC/Allocine-Recommender-System/blob/master/Webscraping/Webscraping_Movies_From_AlloCine.ipynb), [series](https://github.com/Bastien-LDC/Allocine-Recommender-System/blob/master/Webscraping/Webscraping_Series_From_AlloCine.ipynb), and [ratings](https://github.com/Bastien-LDC/Allocine-Recommender-System/blob/master/Webscraping/Webscraping_Ratings_From_AlloCine.ipynb) data from the [AlloCiné](https://www.allocine.fr/) website.\n",
    "\n",
    "**Data description :**\n",
    "\n",
    "This is a reminder of the features of the data we had scraped from the AlloCiné website.\n",
    "Features|Movies|Series|Ratings\n",
    "-------|---------|---------|---\n",
    "`id`|X|X|-\n",
    "`title`|X|X|-\n",
    "`status`|-|X|-\n",
    "`release_date`|X|X|-\n",
    "`duration`|X|X|-\n",
    "`nb_seasons`|-|X|-\n",
    "`nb_episodes`|-|X|-\n",
    "`genres`|X|X|-\n",
    "`directors`|X|X|-\n",
    "`actors`|X|X|-\n",
    "`nationality`|X|X|-\n",
    "`press_rating`|X|X|X\n",
    "`nb_press_rating`|X|X|-\n",
    "`spect_rating`|X|X|X\n",
    "`nb_spect_rating`|X|X|-\n",
    "`summary`|X|X|-\n",
    "`poster_link`|X|X|-\n",
    "`user_id`|-|-|X\n",
    "`(user/press)_name`|-|-|X\n",
    "`(movie/series)_id`|-|-|X\n",
    "`date`|-|-|X\n",
    "\n",
    "In this notebook, we will first look at the raw data statistics of all dataframes before proceeding to a oriented data cleaning. After this, 4 new tables will be created: the `genres` and `nationality` dataframes for both movies and series. Then, we will add and update some features to improve the data format and coherence. Finally, we will save all the cleaned dataframes in CSV files.\n",
    "\n",
    "For our final study, we will us the data scraped from the first **600 pages** of the movies and series pages of the [AlloCiné](https://www.allocine.fr/) website. The data is dated from **May 6th, 2022** to **May 14th, 2022**. \n",
    "\n",
    "If you are interested in it, the data from all the movies, series and ratings scraping is available here:\n",
    "- Raw data:\n",
    "    - [movies](https://storage.cloud.google.com/bucket-bastien/Saved%20Data/allocine_movies_600p.csv).\n",
    "    - [series](https://storage.cloud.google.com/bucket-bastien/Saved%20Data/allocine_series_600p.csv).\n",
    "    - [press_ratings_movies](https://storage.cloud.google.com/bucket-bastien/Saved%20Data/press_ratings_movies_600p.csv).\n",
    "    - [press_ratings_series](https://storage.cloud.google.com/bucket-bastien/Saved%20Data/press_ratings_series_600p.csv).\n",
    "    - [user_ratings_movies](https://storage.cloud.google.com/bucket-bastien/Saved%20Data/user_ratings_movies_600p.csv).\n",
    "    - [user_ratings_series](https://storage.cloud.google.com/bucket-bastien/Saved%20Data/user_ratings_series_600p.csv).\n",
    "\n",
    "- Cleaned data:\n",
    "    - [movies](https://storage.cloud.google.com/bucket-bastien/Cleaned%20Data/movies.csv).\n",
    "    - [series](https://storage.cloud.google.com/bucket-bastien/Cleaned%20Data/series.csv).\n",
    "    - [press_movies](https://storage.cloud.google.com/bucket-bastien/Cleaned%20Data/press_movies.csv).\n",
    "    - [press_series](https://storage.cloud.google.com/bucket-bastien/Cleaned%20Data/press_series.csv).\n",
    "    - [user_movies](https://storage.cloud.google.com/bucket-bastien/Cleaned%20Data/user_movies.csv).\n",
    "    - [user_series](https://storage.cloud.google.com/bucket-bastien/Cleaned%20Data/user_series.csv).\n",
    "\n",
    "- Additional data:\n",
    "    - [movies_genres](https://storage.cloud.google.com/bucket-bastien/Cleaned%20Data/m_genres.csv).\n",
    "    - [series_genres](https://storage.cloud.google.com/bucket-bastien/Cleaned%20Data/s_genres.csv).\n",
    "    - [movies_nationality](https://storage.cloud.google.com/bucket-bastien/Cleaned%20Data/m_nationality.csv).\n",
    "    - [series_nationality](https://storage.cloud.google.com/bucket-bastien/Cleaned%20Data/s_nationality.csv)."
   ]
  },
  {
   "cell_type": "markdown",
   "metadata": {},
   "source": [
    "---\n",
    "# **Import libs**"
   ]
  },
  {
   "cell_type": "code",
   "execution_count": 1,
   "metadata": {},
   "outputs": [],
   "source": [
    "# import libraries\n",
    "import pandas as pd\n",
    "import random as rd\n",
    "import matplotlib.pyplot as plt\n",
    "import re\n",
    "import seaborn as sns\n",
    "import os\n",
    "from warnings import filterwarnings\n",
    "import missingno as msno\n",
    "\n",
    "# We ignore reindexing warnings\n",
    "filterwarnings(\"ignore\",message=\"Boolean Series key will be reindexed\")\n",
    "%matplotlib inline"
   ]
  },
  {
   "cell_type": "markdown",
   "metadata": {},
   "source": [
    "# **Data Cleaning**"
   ]
  },
  {
   "cell_type": "markdown",
   "metadata": {},
   "source": [
    "## Saving files"
   ]
  },
  {
   "cell_type": "code",
   "execution_count": 2,
   "metadata": {},
   "outputs": [],
   "source": [
    "def save_data(df: pd.DataFrame, path:str, name: str):\n",
    "    '''\n",
    "    This function saves the dataframe in a csv file.\n",
    "    :param df: dataframe to save\n",
    "    :param path: path to save the file\n",
    "    :param name: name of the file\n",
    "    :return: None    \n",
    "    '''\n",
    "    # We create the folder if not exists\n",
    "    os.makedirs(os.path.dirname(path), exist_ok=True)\n",
    "    df.to_csv(f\"{path}{name}.csv\", index=False)\n",
    "    print(f\"File successfully saved in {path}{name}.csv\")"
   ]
  },
  {
   "cell_type": "markdown",
   "metadata": {},
   "source": [
    "## Load the csv files"
   ]
  },
  {
   "cell_type": "code",
   "execution_count": 3,
   "metadata": {},
   "outputs": [],
   "source": [
    "def load_csv():\n",
    "    '''\n",
    "    Load the csv files and return a dict of dataframes.\n",
    "    '''\n",
    "    root_path = f\"../Saved Data/\"\n",
    "    movies = pd.read_csv(f\"{root_path}allocine_movies_600p.csv\")\n",
    "    series = pd.read_csv(f\"{root_path}allocine_series_600p.csv\")\n",
    "    press_movies = pd.read_csv(f\"{root_path}press_ratings_movies_600p.csv\")\n",
    "    press_series = pd.read_csv(f\"{root_path}press_ratings_series_600p.csv\")\n",
    "    user_movies = pd.read_csv(f\"{root_path}user_ratings_movies_600p.csv\")\n",
    "    user_series = pd.read_csv(f\"{root_path}user_ratings_series_600p.csv\")\n",
    "    #user_series = pd.read_csv(f\"../Series/Ratings/Webscraping_Series_Ratings_user_ratings_series_#1-1.csv\")\n",
    "    return {\"movies\":movies, \"series\":series, \"press_movies\":press_movies, \"press_series\":press_series, \"user_movies\":user_movies, \"user_series\":user_series}\n",
    "data = load_csv()\n",
    "movies, series, press_movies, press_series, user_movies, user_series = data[\"movies\"], data[\"series\"], data[\"press_movies\"], data[\"press_series\"], data[\"user_movies\"], data[\"user_series\"]"
   ]
  },
  {
   "cell_type": "markdown",
   "metadata": {},
   "source": [
    "## Rename and store columns names"
   ]
  },
  {
   "cell_type": "code",
   "execution_count": 4,
   "metadata": {},
   "outputs": [],
   "source": [
    "# Rename (nb_)spec_rating to (nb_)user_rating\n",
    "movies.rename(columns={'spect_rating':'user_rating', 'nb_spect_rating':'nb_user_rating'}, inplace=True)\n",
    "series.rename(columns={'spect_rating':'user_rating', 'nb_spect_rating':'nb_user_rating'}, inplace=True)\n",
    "# Store columns names\n",
    "movies_cols = movies.columns.to_list()\n",
    "series_cols = series.columns.to_list()\n",
    "press_movies_cols = press_movies.columns.to_list()\n",
    "press_series_cols = press_series.columns.to_list()\n",
    "user_movies_cols = user_movies.columns.to_list()\n",
    "user_series_cols = user_series.columns.to_list()"
   ]
  },
  {
   "cell_type": "markdown",
   "metadata": {},
   "source": [
    "## Display the first stats"
   ]
  },
  {
   "cell_type": "markdown",
   "metadata": {},
   "source": [
    "### Function: `display_stats(df, chart_type)`"
   ]
  },
  {
   "cell_type": "code",
   "execution_count": 5,
   "metadata": {},
   "outputs": [],
   "source": [
    "def display_stats(df: pd.DataFrame,chart_type: str):\n",
    "    '''\n",
    "    Display the statistics of a dataframe about their features and missing values.\n",
    "    :param df: dataframe to display stats from.\n",
    "    :param chart_type: type of chart to display (matrix, bar or heatmap).\n",
    "    :return: The \"description\" dataframe of pandas.\n",
    "    '''\n",
    "    missing_values = df.isnull().sum()\n",
    "    if missing_values.sum() > 0:      \n",
    "        # Graph of number of missing values by column\n",
    "        if chart_type == \"heatmap\":\n",
    "            msno.heatmap(df, figsize=(12,8), cmap=\"RdYlBu_r\", sort=\"ascending\") # Useful to know the correlation between the missing values\n",
    "            plt.title(\"Heatmap of missing values correlation\", fontsize=20, fontweight=\"bold\", color=\"black\")\n",
    "        elif chart_type == \"bar\":\n",
    "            msno.bar(df, figsize=(12,8), color=(round(rd.random(),2),round(rd.random(),2),round(rd.random(),2)), sort=\"descending\")\n",
    "            plt.title(\"Bars of missing values by column\", fontsize=20, fontweight=\"bold\", color=\"black\")\n",
    "            plt.xlabel(\"Number of non-NA values by column\", fontsize=14, fontweight=\"bold\", color=\"black\")\n",
    "        elif chart_type == \"matrix\":  \n",
    "            msno.matrix(df, figsize=(12,8), color=(round(rd.random(),2),round(rd.random(),2),round(rd.random(),2)), sort=\"descending\")\n",
    "            plt.title(\"Matrix of missing values by column\", fontsize=20, fontweight=\"bold\", color=\"black\")\n",
    "            plt.ylabel(\"Rows Range/\\nNumber of columns\\nwithout NA values\", fontsize=16, fontweight=\"bold\", color=\"black\")\n",
    "            plt.xlabel(\"Columns\", fontsize=16, fontweight=\"bold\", color=\"black\")\n",
    "        else:\n",
    "            print(\"Chart type not recognized! Please choose between 'matrix', 'bar' or 'heatmap'.\")\n",
    "            \n",
    "        missing_values = missing_values / df.shape[0] * 100\n",
    "        missing_values = missing_values[missing_values > 0]\n",
    "        missing_values.sort_values(inplace=True)\n",
    "        plt.figure(figsize=(12, 5))\n",
    "        plt.title(f\"Percentage of missing values in each column\")\n",
    "        sns.barplot(x=missing_values.index, y=missing_values)\n",
    "        plt.show()\n",
    "    else:\n",
    "        print(\"No missing values in the dataframe.\")\n",
    "    df.info()\n",
    "    return df.describe().T"
   ]
  },
  {
   "cell_type": "markdown",
   "metadata": {},
   "source": [
    "### Function: `display_summary_table(data)`"
   ]
  },
  {
   "cell_type": "code",
   "execution_count": 6,
   "metadata": {},
   "outputs": [],
   "source": [
    "def display_summary_table(data: dict) -> pd.DataFrame:\n",
    "    '''\n",
    "    Display the summary table of the shape and unique values in the dataframes.\n",
    "    :param data: dict of dataframes.\n",
    "    :return: the summary table of the dataframes.\n",
    "    '''\n",
    "    dict_df = data.copy()\n",
    "    # Initiate the dataframe with the number of rows and columns of each dataframe\n",
    "    summary_table = pd.DataFrame(columns=[\"Nb rows\", \"Nb columns\"])\n",
    "    for key, value in dict_df.items():\n",
    "        summary_table.loc[key.title()] = [value.shape[0], value.shape[1]]   \n",
    "\n",
    "    # Movies & Series\n",
    "    for key, value in list(dict_df.items())[0:2]:\n",
    "        value = value.copy()\n",
    "        ## Insert the number of duplicated rows in the dataframe\n",
    "        ### For movies and series, we consider a duplicate as two movies or two series with the same ID\n",
    "        summary_table.loc[key.title(), \"Nb duplicates\"] = value.duplicated(subset=[\"id\"]).sum()       \n",
    "        value.drop_duplicates(subset=[\"id\"], inplace=True, ignore_index=True) \n",
    "        ## Insert the number of unique rows in the dataframe\n",
    "        summary_table.loc[key.title(), \"Nb unique item\"] = value.drop_duplicates(subset=[\"id\"]).shape[0]\n",
    "        ## Insert the number of press ratings and press reviews in the dataframe\n",
    "        summary_table.loc[key.title(), \"Nb items w/ press ratings\"] = value[value.press_rating.notna()].shape[0]\n",
    "        summary_table.loc[key.title(), \"Nb items w/ press reviews\"] = len(set(dict_df[f\"press_{key}\"][f\"{key if key=='series' else 'movie'}_id\"].values))\n",
    "        ## Insert the number of user ratings and user reviews in the dataframe\n",
    "        summary_table.loc[key.title(), \"Nb items w/ user ratings\"] = value[value.user_rating.notna()].shape[0]\n",
    "        summary_table.loc[key.title(), \"Nb items w/ user reviews\"] = len(set(dict_df[f\"user_{key}\"][f\"{key if key=='series' else 'movie'}_id\"].values))\n",
    "\n",
    "    # Ratings\n",
    "    for key, value in list(dict_df.items())[2:]:\n",
    "        value = value.copy()\n",
    "        ## Insert the number of duplicated rows in the dataframe        \n",
    "        ### For the ratings, we consider a duplicate as two identical rows\n",
    "        summary_table.loc[key.title(), \"Nb duplicates\"] = value.duplicated().sum()\n",
    "        value.drop_duplicates(inplace=True, ignore_index=True)\n",
    "        ## Insert the number of unique rows in the dataframe\n",
    "        summary_table.loc[key.title(), \"Nb unique item\"] = value.drop_duplicates().shape[0]\n",
    "   \n",
    "    return summary_table"
   ]
  },
  {
   "cell_type": "markdown",
   "metadata": {},
   "source": [
    "### Movies"
   ]
  },
  {
   "cell_type": "code",
   "execution_count": 7,
   "metadata": {},
   "outputs": [],
   "source": [
    "m_unclean = movies.copy()"
   ]
  },
  {
   "cell_type": "code",
   "execution_count": 8,
   "metadata": {},
   "outputs": [
    {
     "data": {
      "image/png": "[encoded data removed]",
      "text/plain": [
       "<Figure size 864x576 with 3 Axes>"
      ]
     },
     "metadata": {
      "needs_background": "light"
     },
     "output_type": "display_data"
    },
    {
     "data": {
      "image/png": "[encoded data removed]",
      "text/plain": [
       "<Figure size 864x360 with 1 Axes>"
      ]
     },
     "metadata": {
      "needs_background": "light"
     },
     "output_type": "display_data"
    },
    {
     "name": "stdout",
     "output_type": "stream",
     "text": [
      "<class 'pandas.core.frame.DataFrame'>\n",
      "RangeIndex: 8026 entries, 0 to 8025\n",
      "Data columns (total 14 columns):\n",
      " #   Column           Non-Null Count  Dtype  \n",
      "---  ------           --------------  -----  \n",
      " 0   id               8026 non-null   int64  \n",
      " 1   title            8026 non-null   object \n",
      " 2   release_date     8026 non-null   object \n",
      " 3   duration         7988 non-null   float64\n",
      " 4   genres           8026 non-null   object \n",
      " 5   directors        8005 non-null   object \n",
      " 6   actors           7992 non-null   object \n",
      " 7   nationality      8018 non-null   object \n",
      " 8   press_rating     5200 non-null   float64\n",
      " 9   nb_press_rating  5200 non-null   float64\n",
      " 10  user_rating      8017 non-null   float64\n",
      " 11  nb_user_rating   8017 non-null   float64\n",
      " 12  summary          8001 non-null   object \n",
      " 13  poster_link      8026 non-null   object \n",
      "dtypes: float64(5), int64(1), object(8)\n",
      "memory usage: 878.0+ KB\n"
     ]
    },
    {
     "data": {
      "text/html": [
       "<div>\n",
       "<style scoped>\n",
       "    .dataframe tbody tr th:only-of-type {\n",
       "        vertical-align: middle;\n",
       "    }\n",
       "\n",
       "    .dataframe tbody tr th {\n",
       "        vertical-align: top;\n",
       "    }\n",
       "\n",
       "    .dataframe thead th {\n",
       "        text-align: right;\n",
       "    }\n",
       "</style>\n",
       "<table border=\"1\" class=\"dataframe\">\n",
       "  <thead>\n",
       "    <tr style=\"text-align: right;\">\n",
       "      <th></th>\n",
       "      <th>count</th>\n",
       "      <th>mean</th>\n",
       "      <th>std</th>\n",
       "      <th>min</th>\n",
       "      <th>25%</th>\n",
       "      <th>50%</th>\n",
       "      <th>75%</th>\n",
       "      <th>max</th>\n",
       "    </tr>\n",
       "  </thead>\n",
       "  <tbody>\n",
       "    <tr>\n",
       "      <th>id</th>\n",
       "      <td>8026.0</td>\n",
       "      <td>150688.183529</td>\n",
       "      <td>104595.612810</td>\n",
       "      <td>1.0</td>\n",
       "      <td>37259.5</td>\n",
       "      <td>176807.5</td>\n",
       "      <td>250685.5</td>\n",
       "      <td>303494.0</td>\n",
       "    </tr>\n",
       "    <tr>\n",
       "      <th>duration</th>\n",
       "      <td>7988.0</td>\n",
       "      <td>107.992489</td>\n",
       "      <td>21.608678</td>\n",
       "      <td>26.0</td>\n",
       "      <td>95.0</td>\n",
       "      <td>104.0</td>\n",
       "      <td>118.0</td>\n",
       "      <td>450.0</td>\n",
       "    </tr>\n",
       "    <tr>\n",
       "      <th>press_rating</th>\n",
       "      <td>5200.0</td>\n",
       "      <td>3.247538</td>\n",
       "      <td>0.737270</td>\n",
       "      <td>1.0</td>\n",
       "      <td>2.8</td>\n",
       "      <td>3.3</td>\n",
       "      <td>3.7</td>\n",
       "      <td>5.0</td>\n",
       "    </tr>\n",
       "    <tr>\n",
       "      <th>nb_press_rating</th>\n",
       "      <td>5200.0</td>\n",
       "      <td>17.497885</td>\n",
       "      <td>8.647640</td>\n",
       "      <td>1.0</td>\n",
       "      <td>11.0</td>\n",
       "      <td>18.0</td>\n",
       "      <td>24.0</td>\n",
       "      <td>45.0</td>\n",
       "    </tr>\n",
       "    <tr>\n",
       "      <th>user_rating</th>\n",
       "      <td>8017.0</td>\n",
       "      <td>3.143059</td>\n",
       "      <td>0.733237</td>\n",
       "      <td>0.8</td>\n",
       "      <td>2.6</td>\n",
       "      <td>3.3</td>\n",
       "      <td>3.7</td>\n",
       "      <td>4.6</td>\n",
       "    </tr>\n",
       "    <tr>\n",
       "      <th>nb_user_rating</th>\n",
       "      <td>8017.0</td>\n",
       "      <td>5613.947362</td>\n",
       "      <td>13079.942641</td>\n",
       "      <td>1.0</td>\n",
       "      <td>396.0</td>\n",
       "      <td>1511.0</td>\n",
       "      <td>4746.0</td>\n",
       "      <td>218842.0</td>\n",
       "    </tr>\n",
       "  </tbody>\n",
       "</table>\n",
       "</div>"
      ],
      "text/plain": [
       "                  count           mean            std   min      25%  \\\n",
       "id               8026.0  150688.183529  104595.612810   1.0  37259.5   \n",
       "duration         7988.0     107.992489      21.608678  26.0     95.0   \n",
       "press_rating     5200.0       3.247538       0.737270   1.0      2.8   \n",
       "nb_press_rating  5200.0      17.497885       8.647640   1.0     11.0   \n",
       "user_rating      8017.0       3.143059       0.733237   0.8      2.6   \n",
       "nb_user_rating   8017.0    5613.947362   13079.942641   1.0    396.0   \n",
       "\n",
       "                      50%       75%       max  \n",
       "id               176807.5  250685.5  303494.0  \n",
       "duration            104.0     118.0     450.0  \n",
       "press_rating          3.3       3.7       5.0  \n",
       "nb_press_rating      18.0      24.0      45.0  \n",
       "user_rating           3.3       3.7       4.6  \n",
       "nb_user_rating     1511.0    4746.0  218842.0  "
      ]
     },
     "execution_count": 8,
     "metadata": {},
     "output_type": "execute_result"
    }
   ],
   "source": [
    "display_stats(m_unclean, \"bar\")"
   ]
  },
  {
   "cell_type": "markdown",
   "metadata": {},
   "source": [
    "### Series"
   ]
  },
  {
   "cell_type": "code",
   "execution_count": 9,
   "metadata": {},
   "outputs": [],
   "source": [
    "s_unclean = series.copy()"
   ]
  },
  {
   "cell_type": "code",
   "execution_count": 10,
   "metadata": {},
   "outputs": [
    {
     "data": {
      "image/png": "[encoded data removed]",
      "text/plain": [
       "<Figure size 864x576 with 2 Axes>"
      ]
     },
     "metadata": {
      "needs_background": "light"
     },
     "output_type": "display_data"
    },
    {
     "data": {
      "image/png": "[encoded data removed]",
      "text/plain": [
       "<Figure size 864x360 with 1 Axes>"
      ]
     },
     "metadata": {
      "needs_background": "light"
     },
     "output_type": "display_data"
    },
    {
     "name": "stdout",
     "output_type": "stream",
     "text": [
      "<class 'pandas.core.frame.DataFrame'>\n",
      "RangeIndex: 8126 entries, 0 to 8125\n",
      "Data columns (total 17 columns):\n",
      " #   Column           Non-Null Count  Dtype  \n",
      "---  ------           --------------  -----  \n",
      " 0   id               8126 non-null   int64  \n",
      " 1   title            8126 non-null   object \n",
      " 2   status           8048 non-null   object \n",
      " 3   release_date     8126 non-null   object \n",
      " 4   duration         7420 non-null   float64\n",
      " 5   nb_seasons       6859 non-null   float64\n",
      " 6   nb_episodes      6508 non-null   float64\n",
      " 7   genres           8126 non-null   object \n",
      " 8   directors        5547 non-null   object \n",
      " 9   actors           6759 non-null   object \n",
      " 10  nationality      8094 non-null   object \n",
      " 11  press_rating     833 non-null    float64\n",
      " 12  nb_press_rating  833 non-null    float64\n",
      " 13  user_rating      7006 non-null   float64\n",
      " 14  nb_user_rating   7006 non-null   float64\n",
      " 15  summary          7117 non-null   object \n",
      " 16  poster_link      8126 non-null   object \n",
      "dtypes: float64(7), int64(1), object(9)\n",
      "memory usage: 1.1+ MB\n"
     ]
    },
    {
     "data": {
      "text/html": [
       "<div>\n",
       "<style scoped>\n",
       "    .dataframe tbody tr th:only-of-type {\n",
       "        vertical-align: middle;\n",
       "    }\n",
       "\n",
       "    .dataframe tbody tr th {\n",
       "        vertical-align: top;\n",
       "    }\n",
       "\n",
       "    .dataframe thead th {\n",
       "        text-align: right;\n",
       "    }\n",
       "</style>\n",
       "<table border=\"1\" class=\"dataframe\">\n",
       "  <thead>\n",
       "    <tr style=\"text-align: right;\">\n",
       "      <th></th>\n",
       "      <th>count</th>\n",
       "      <th>mean</th>\n",
       "      <th>std</th>\n",
       "      <th>min</th>\n",
       "      <th>25%</th>\n",
       "      <th>50%</th>\n",
       "      <th>75%</th>\n",
       "      <th>max</th>\n",
       "    </tr>\n",
       "  </thead>\n",
       "  <tbody>\n",
       "    <tr>\n",
       "      <th>id</th>\n",
       "      <td>8126.0</td>\n",
       "      <td>15548.236402</td>\n",
       "      <td>9571.320117</td>\n",
       "      <td>1.0</td>\n",
       "      <td>6256.25</td>\n",
       "      <td>17480.5</td>\n",
       "      <td>24203.25</td>\n",
       "      <td>31807.0</td>\n",
       "    </tr>\n",
       "    <tr>\n",
       "      <th>duration</th>\n",
       "      <td>7420.0</td>\n",
       "      <td>40.674798</td>\n",
       "      <td>20.811908</td>\n",
       "      <td>1.0</td>\n",
       "      <td>25.00</td>\n",
       "      <td>42.0</td>\n",
       "      <td>52.00</td>\n",
       "      <td>240.0</td>\n",
       "    </tr>\n",
       "    <tr>\n",
       "      <th>nb_seasons</th>\n",
       "      <td>6859.0</td>\n",
       "      <td>2.403995</td>\n",
       "      <td>3.129590</td>\n",
       "      <td>1.0</td>\n",
       "      <td>1.00</td>\n",
       "      <td>1.0</td>\n",
       "      <td>3.00</td>\n",
       "      <td>59.0</td>\n",
       "    </tr>\n",
       "    <tr>\n",
       "      <th>nb_episodes</th>\n",
       "      <td>6508.0</td>\n",
       "      <td>41.359096</td>\n",
       "      <td>238.676016</td>\n",
       "      <td>1.0</td>\n",
       "      <td>8.00</td>\n",
       "      <td>14.0</td>\n",
       "      <td>38.00</td>\n",
       "      <td>13484.0</td>\n",
       "    </tr>\n",
       "    <tr>\n",
       "      <th>press_rating</th>\n",
       "      <td>833.0</td>\n",
       "      <td>3.249100</td>\n",
       "      <td>0.616424</td>\n",
       "      <td>1.3</td>\n",
       "      <td>2.90</td>\n",
       "      <td>3.3</td>\n",
       "      <td>3.70</td>\n",
       "      <td>5.0</td>\n",
       "    </tr>\n",
       "    <tr>\n",
       "      <th>nb_press_rating</th>\n",
       "      <td>833.0</td>\n",
       "      <td>8.099640</td>\n",
       "      <td>3.533958</td>\n",
       "      <td>1.0</td>\n",
       "      <td>6.00</td>\n",
       "      <td>8.0</td>\n",
       "      <td>10.00</td>\n",
       "      <td>30.0</td>\n",
       "    </tr>\n",
       "    <tr>\n",
       "      <th>user_rating</th>\n",
       "      <td>7006.0</td>\n",
       "      <td>3.273351</td>\n",
       "      <td>0.517935</td>\n",
       "      <td>0.8</td>\n",
       "      <td>3.00</td>\n",
       "      <td>3.2</td>\n",
       "      <td>3.60</td>\n",
       "      <td>4.7</td>\n",
       "    </tr>\n",
       "    <tr>\n",
       "      <th>nb_user_rating</th>\n",
       "      <td>7006.0</td>\n",
       "      <td>990.761205</td>\n",
       "      <td>5741.767257</td>\n",
       "      <td>1.0</td>\n",
       "      <td>7.00</td>\n",
       "      <td>37.0</td>\n",
       "      <td>199.00</td>\n",
       "      <td>206012.0</td>\n",
       "    </tr>\n",
       "  </tbody>\n",
       "</table>\n",
       "</div>"
      ],
      "text/plain": [
       "                  count          mean          std  min      25%      50%  \\\n",
       "id               8126.0  15548.236402  9571.320117  1.0  6256.25  17480.5   \n",
       "duration         7420.0     40.674798    20.811908  1.0    25.00     42.0   \n",
       "nb_seasons       6859.0      2.403995     3.129590  1.0     1.00      1.0   \n",
       "nb_episodes      6508.0     41.359096   238.676016  1.0     8.00     14.0   \n",
       "press_rating      833.0      3.249100     0.616424  1.3     2.90      3.3   \n",
       "nb_press_rating   833.0      8.099640     3.533958  1.0     6.00      8.0   \n",
       "user_rating      7006.0      3.273351     0.517935  0.8     3.00      3.2   \n",
       "nb_user_rating   7006.0    990.761205  5741.767257  1.0     7.00     37.0   \n",
       "\n",
       "                      75%       max  \n",
       "id               24203.25   31807.0  \n",
       "duration            52.00     240.0  \n",
       "nb_seasons           3.00      59.0  \n",
       "nb_episodes         38.00   13484.0  \n",
       "press_rating         3.70       5.0  \n",
       "nb_press_rating     10.00      30.0  \n",
       "user_rating          3.60       4.7  \n",
       "nb_user_rating     199.00  206012.0  "
      ]
     },
     "execution_count": 10,
     "metadata": {},
     "output_type": "execute_result"
    }
   ],
   "source": [
    "display_stats(s_unclean, \"heatmap\")"
   ]
  },
  {
   "cell_type": "markdown",
   "metadata": {},
   "source": [
    "### Ratings"
   ]
  },
  {
   "cell_type": "markdown",
   "metadata": {},
   "source": [
    "#### Movies Press Ratings"
   ]
  },
  {
   "cell_type": "code",
   "execution_count": 11,
   "metadata": {},
   "outputs": [],
   "source": [
    "mp_unclean = press_movies.copy()"
   ]
  },
  {
   "cell_type": "code",
   "execution_count": 12,
   "metadata": {},
   "outputs": [
    {
     "name": "stdout",
     "output_type": "stream",
     "text": [
      "No missing values in the dataframe.\n",
      "<class 'pandas.core.frame.DataFrame'>\n",
      "RangeIndex: 90040 entries, 0 to 90039\n",
      "Data columns (total 3 columns):\n",
      " #   Column        Non-Null Count  Dtype  \n",
      "---  ------        --------------  -----  \n",
      " 0   press_name    90040 non-null  object \n",
      " 1   movie_id      90040 non-null  int64  \n",
      " 2   press_rating  90040 non-null  float64\n",
      "dtypes: float64(1), int64(1), object(1)\n",
      "memory usage: 2.1+ MB\n"
     ]
    },
    {
     "data": {
      "text/html": [
       "<div>\n",
       "<style scoped>\n",
       "    .dataframe tbody tr th:only-of-type {\n",
       "        vertical-align: middle;\n",
       "    }\n",
       "\n",
       "    .dataframe tbody tr th {\n",
       "        vertical-align: top;\n",
       "    }\n",
       "\n",
       "    .dataframe thead th {\n",
       "        text-align: right;\n",
       "    }\n",
       "</style>\n",
       "<table border=\"1\" class=\"dataframe\">\n",
       "  <thead>\n",
       "    <tr style=\"text-align: right;\">\n",
       "      <th></th>\n",
       "      <th>count</th>\n",
       "      <th>mean</th>\n",
       "      <th>std</th>\n",
       "      <th>min</th>\n",
       "      <th>25%</th>\n",
       "      <th>50%</th>\n",
       "      <th>75%</th>\n",
       "      <th>max</th>\n",
       "    </tr>\n",
       "  </thead>\n",
       "  <tbody>\n",
       "    <tr>\n",
       "      <th>movie_id</th>\n",
       "      <td>90040.0</td>\n",
       "      <td>171023.777255</td>\n",
       "      <td>87568.777968</td>\n",
       "      <td>4.0</td>\n",
       "      <td>109544.0</td>\n",
       "      <td>195051.0</td>\n",
       "      <td>247579.0</td>\n",
       "      <td>302334.0</td>\n",
       "    </tr>\n",
       "    <tr>\n",
       "      <th>press_rating</th>\n",
       "      <td>90040.0</td>\n",
       "      <td>3.301932</td>\n",
       "      <td>1.110021</td>\n",
       "      <td>0.5</td>\n",
       "      <td>3.0</td>\n",
       "      <td>3.0</td>\n",
       "      <td>4.0</td>\n",
       "      <td>5.0</td>\n",
       "    </tr>\n",
       "  </tbody>\n",
       "</table>\n",
       "</div>"
      ],
      "text/plain": [
       "                count           mean           std  min       25%       50%  \\\n",
       "movie_id      90040.0  171023.777255  87568.777968  4.0  109544.0  195051.0   \n",
       "press_rating  90040.0       3.301932      1.110021  0.5       3.0       3.0   \n",
       "\n",
       "                   75%       max  \n",
       "movie_id      247579.0  302334.0  \n",
       "press_rating       4.0       5.0  "
      ]
     },
     "execution_count": 12,
     "metadata": {},
     "output_type": "execute_result"
    }
   ],
   "source": [
    "display_stats(mp_unclean, \"matrix\")"
   ]
  },
  {
   "cell_type": "markdown",
   "metadata": {},
   "source": [
    "#### Movies User Ratings"
   ]
  },
  {
   "cell_type": "code",
   "execution_count": 13,
   "metadata": {},
   "outputs": [],
   "source": [
    "mu_unclean = user_movies.copy()"
   ]
  },
  {
   "cell_type": "code",
   "execution_count": 14,
   "metadata": {},
   "outputs": [
    {
     "name": "stdout",
     "output_type": "stream",
     "text": [
      "No missing values in the dataframe.\n",
      "<class 'pandas.core.frame.DataFrame'>\n",
      "RangeIndex: 330413 entries, 0 to 330412\n",
      "Data columns (total 5 columns):\n",
      " #   Column       Non-Null Count   Dtype  \n",
      "---  ------       --------------   -----  \n",
      " 0   user_id      330413 non-null  object \n",
      " 1   user_name    330413 non-null  object \n",
      " 2   movie_id     330413 non-null  int64  \n",
      " 3   user_rating  330413 non-null  float64\n",
      " 4   date         330413 non-null  object \n",
      "dtypes: float64(1), int64(1), object(3)\n",
      "memory usage: 12.6+ MB\n"
     ]
    },
    {
     "data": {
      "text/html": [
       "<div>\n",
       "<style scoped>\n",
       "    .dataframe tbody tr th:only-of-type {\n",
       "        vertical-align: middle;\n",
       "    }\n",
       "\n",
       "    .dataframe tbody tr th {\n",
       "        vertical-align: top;\n",
       "    }\n",
       "\n",
       "    .dataframe thead th {\n",
       "        text-align: right;\n",
       "    }\n",
       "</style>\n",
       "<table border=\"1\" class=\"dataframe\">\n",
       "  <thead>\n",
       "    <tr style=\"text-align: right;\">\n",
       "      <th></th>\n",
       "      <th>count</th>\n",
       "      <th>mean</th>\n",
       "      <th>std</th>\n",
       "      <th>min</th>\n",
       "      <th>25%</th>\n",
       "      <th>50%</th>\n",
       "      <th>75%</th>\n",
       "      <th>max</th>\n",
       "    </tr>\n",
       "  </thead>\n",
       "  <tbody>\n",
       "    <tr>\n",
       "      <th>movie_id</th>\n",
       "      <td>330413.0</td>\n",
       "      <td>140231.740634</td>\n",
       "      <td>100803.699732</td>\n",
       "      <td>1.0</td>\n",
       "      <td>32758.0</td>\n",
       "      <td>140005.0</td>\n",
       "      <td>237510.0</td>\n",
       "      <td>303478.0</td>\n",
       "    </tr>\n",
       "    <tr>\n",
       "      <th>user_rating</th>\n",
       "      <td>330413.0</td>\n",
       "      <td>3.079087</td>\n",
       "      <td>1.202838</td>\n",
       "      <td>0.5</td>\n",
       "      <td>2.5</td>\n",
       "      <td>3.0</td>\n",
       "      <td>4.0</td>\n",
       "      <td>5.0</td>\n",
       "    </tr>\n",
       "  </tbody>\n",
       "</table>\n",
       "</div>"
      ],
      "text/plain": [
       "                count           mean            std  min      25%       50%  \\\n",
       "movie_id     330413.0  140231.740634  100803.699732  1.0  32758.0  140005.0   \n",
       "user_rating  330413.0       3.079087       1.202838  0.5      2.5       3.0   \n",
       "\n",
       "                  75%       max  \n",
       "movie_id     237510.0  303478.0  \n",
       "user_rating       4.0       5.0  "
      ]
     },
     "execution_count": 14,
     "metadata": {},
     "output_type": "execute_result"
    }
   ],
   "source": [
    "display_stats(mu_unclean, \"matrix\")"
   ]
  },
  {
   "cell_type": "markdown",
   "metadata": {},
   "source": [
    "#### Series Press Ratings"
   ]
  },
  {
   "cell_type": "code",
   "execution_count": 15,
   "metadata": {},
   "outputs": [],
   "source": [
    "sp_unclean = press_series.copy()"
   ]
  },
  {
   "cell_type": "code",
   "execution_count": 16,
   "metadata": {},
   "outputs": [
    {
     "name": "stdout",
     "output_type": "stream",
     "text": [
      "No missing values in the dataframe.\n",
      "<class 'pandas.core.frame.DataFrame'>\n",
      "RangeIndex: 6732 entries, 0 to 6731\n",
      "Data columns (total 3 columns):\n",
      " #   Column        Non-Null Count  Dtype  \n",
      "---  ------        --------------  -----  \n",
      " 0   press_name    6732 non-null   object \n",
      " 1   series_id     6732 non-null   int64  \n",
      " 2   press_rating  6732 non-null   float64\n",
      "dtypes: float64(1), int64(1), object(1)\n",
      "memory usage: 157.9+ KB\n"
     ]
    },
    {
     "data": {
      "text/html": [
       "<div>\n",
       "<style scoped>\n",
       "    .dataframe tbody tr th:only-of-type {\n",
       "        vertical-align: middle;\n",
       "    }\n",
       "\n",
       "    .dataframe tbody tr th {\n",
       "        vertical-align: top;\n",
       "    }\n",
       "\n",
       "    .dataframe thead th {\n",
       "        text-align: right;\n",
       "    }\n",
       "</style>\n",
       "<table border=\"1\" class=\"dataframe\">\n",
       "  <thead>\n",
       "    <tr style=\"text-align: right;\">\n",
       "      <th></th>\n",
       "      <th>count</th>\n",
       "      <th>mean</th>\n",
       "      <th>std</th>\n",
       "      <th>min</th>\n",
       "      <th>25%</th>\n",
       "      <th>50%</th>\n",
       "      <th>75%</th>\n",
       "      <th>max</th>\n",
       "    </tr>\n",
       "  </thead>\n",
       "  <tbody>\n",
       "    <tr>\n",
       "      <th>series_id</th>\n",
       "      <td>6732.0</td>\n",
       "      <td>19525.694444</td>\n",
       "      <td>6235.905184</td>\n",
       "      <td>49.0</td>\n",
       "      <td>17052.0</td>\n",
       "      <td>21505.0</td>\n",
       "      <td>24084.0</td>\n",
       "      <td>31130.0</td>\n",
       "    </tr>\n",
       "    <tr>\n",
       "      <th>press_rating</th>\n",
       "      <td>6732.0</td>\n",
       "      <td>3.293672</td>\n",
       "      <td>0.971661</td>\n",
       "      <td>0.5</td>\n",
       "      <td>2.5</td>\n",
       "      <td>3.5</td>\n",
       "      <td>4.0</td>\n",
       "      <td>5.0</td>\n",
       "    </tr>\n",
       "  </tbody>\n",
       "</table>\n",
       "</div>"
      ],
      "text/plain": [
       "               count          mean          std   min      25%      50%  \\\n",
       "series_id     6732.0  19525.694444  6235.905184  49.0  17052.0  21505.0   \n",
       "press_rating  6732.0      3.293672     0.971661   0.5      2.5      3.5   \n",
       "\n",
       "                  75%      max  \n",
       "series_id     24084.0  31130.0  \n",
       "press_rating      4.0      5.0  "
      ]
     },
     "execution_count": 16,
     "metadata": {},
     "output_type": "execute_result"
    }
   ],
   "source": [
    "display_stats(sp_unclean, \"matrix\")"
   ]
  },
  {
   "cell_type": "markdown",
   "metadata": {},
   "source": [
    "#### Series User Ratings"
   ]
  },
  {
   "cell_type": "code",
   "execution_count": 17,
   "metadata": {},
   "outputs": [],
   "source": [
    "su_unclean = user_series.copy()"
   ]
  },
  {
   "cell_type": "code",
   "execution_count": 18,
   "metadata": {},
   "outputs": [
    {
     "name": "stdout",
     "output_type": "stream",
     "text": [
      "No missing values in the dataframe.\n",
      "<class 'pandas.core.frame.DataFrame'>\n",
      "RangeIndex: 69946 entries, 0 to 69945\n",
      "Data columns (total 5 columns):\n",
      " #   Column       Non-Null Count  Dtype  \n",
      "---  ------       --------------  -----  \n",
      " 0   user_id      69946 non-null  object \n",
      " 1   user_name    69946 non-null  object \n",
      " 2   series_id    69946 non-null  int64  \n",
      " 3   user_rating  69946 non-null  float64\n",
      " 4   date         69946 non-null  object \n",
      "dtypes: float64(1), int64(1), object(3)\n",
      "memory usage: 2.7+ MB\n"
     ]
    },
    {
     "data": {
      "text/html": [
       "<div>\n",
       "<style scoped>\n",
       "    .dataframe tbody tr th:only-of-type {\n",
       "        vertical-align: middle;\n",
       "    }\n",
       "\n",
       "    .dataframe tbody tr th {\n",
       "        vertical-align: top;\n",
       "    }\n",
       "\n",
       "    .dataframe thead th {\n",
       "        text-align: right;\n",
       "    }\n",
       "</style>\n",
       "<table border=\"1\" class=\"dataframe\">\n",
       "  <thead>\n",
       "    <tr style=\"text-align: right;\">\n",
       "      <th></th>\n",
       "      <th>count</th>\n",
       "      <th>mean</th>\n",
       "      <th>std</th>\n",
       "      <th>min</th>\n",
       "      <th>25%</th>\n",
       "      <th>50%</th>\n",
       "      <th>75%</th>\n",
       "      <th>max</th>\n",
       "    </tr>\n",
       "  </thead>\n",
       "  <tbody>\n",
       "    <tr>\n",
       "      <th>series_id</th>\n",
       "      <td>69946.0</td>\n",
       "      <td>14716.302390</td>\n",
       "      <td>9485.358350</td>\n",
       "      <td>1.0</td>\n",
       "      <td>4536.0</td>\n",
       "      <td>17565.0</td>\n",
       "      <td>23415.0</td>\n",
       "      <td>31804.0</td>\n",
       "    </tr>\n",
       "    <tr>\n",
       "      <th>user_rating</th>\n",
       "      <td>69946.0</td>\n",
       "      <td>3.481121</td>\n",
       "      <td>1.424246</td>\n",
       "      <td>0.5</td>\n",
       "      <td>2.5</td>\n",
       "      <td>4.0</td>\n",
       "      <td>4.5</td>\n",
       "      <td>5.0</td>\n",
       "    </tr>\n",
       "  </tbody>\n",
       "</table>\n",
       "</div>"
      ],
      "text/plain": [
       "               count          mean          std  min     25%      50%  \\\n",
       "series_id    69946.0  14716.302390  9485.358350  1.0  4536.0  17565.0   \n",
       "user_rating  69946.0      3.481121     1.424246  0.5     2.5      4.0   \n",
       "\n",
       "                 75%      max  \n",
       "series_id    23415.0  31804.0  \n",
       "user_rating      4.5      5.0  "
      ]
     },
     "execution_count": 18,
     "metadata": {},
     "output_type": "execute_result"
    }
   ],
   "source": [
    "display_stats(su_unclean, \"bar\")"
   ]
  },
  {
   "cell_type": "markdown",
   "metadata": {},
   "source": [
    "### Summary"
   ]
  },
  {
   "cell_type": "code",
   "execution_count": 19,
   "metadata": {},
   "outputs": [],
   "source": [
    "data_unclean = {\"movies\": m_unclean, \"series\": s_unclean, \"press_movies\": mp_unclean, \"user_movies\": mu_unclean, \"press_series\": sp_unclean, \"user_series\": su_unclean}"
   ]
  },
  {
   "cell_type": "code",
   "execution_count": 20,
   "metadata": {},
   "outputs": [
    {
     "data": {
      "text/html": [
       "<div>\n",
       "<style scoped>\n",
       "    .dataframe tbody tr th:only-of-type {\n",
       "        vertical-align: middle;\n",
       "    }\n",
       "\n",
       "    .dataframe tbody tr th {\n",
       "        vertical-align: top;\n",
       "    }\n",
       "\n",
       "    .dataframe thead th {\n",
       "        text-align: right;\n",
       "    }\n",
       "</style>\n",
       "<table border=\"1\" class=\"dataframe\">\n",
       "  <thead>\n",
       "    <tr style=\"text-align: right;\">\n",
       "      <th></th>\n",
       "      <th>Nb rows</th>\n",
       "      <th>Nb columns</th>\n",
       "      <th>Nb duplicates</th>\n",
       "      <th>Nb unique item</th>\n",
       "      <th>Nb items w/ press ratings</th>\n",
       "      <th>Nb items w/ press reviews</th>\n",
       "      <th>Nb items w/ user ratings</th>\n",
       "      <th>Nb items w/ user reviews</th>\n",
       "    </tr>\n",
       "  </thead>\n",
       "  <tbody>\n",
       "    <tr>\n",
       "      <th>Movies</th>\n",
       "      <td>8026</td>\n",
       "      <td>14</td>\n",
       "      <td>119.0</td>\n",
       "      <td>7907.0</td>\n",
       "      <td>5111.0</td>\n",
       "      <td>5112.0</td>\n",
       "      <td>7898.0</td>\n",
       "      <td>7806.0</td>\n",
       "    </tr>\n",
       "    <tr>\n",
       "      <th>Series</th>\n",
       "      <td>8126</td>\n",
       "      <td>17</td>\n",
       "      <td>125.0</td>\n",
       "      <td>8001.0</td>\n",
       "      <td>792.0</td>\n",
       "      <td>792.0</td>\n",
       "      <td>6883.0</td>\n",
       "      <td>4775.0</td>\n",
       "    </tr>\n",
       "    <tr>\n",
       "      <th>Press_Movies</th>\n",
       "      <td>90040</td>\n",
       "      <td>3</td>\n",
       "      <td>1700.0</td>\n",
       "      <td>88340.0</td>\n",
       "      <td>NaN</td>\n",
       "      <td>NaN</td>\n",
       "      <td>NaN</td>\n",
       "      <td>NaN</td>\n",
       "    </tr>\n",
       "    <tr>\n",
       "      <th>User_Movies</th>\n",
       "      <td>330413</td>\n",
       "      <td>5</td>\n",
       "      <td>5224.0</td>\n",
       "      <td>325189.0</td>\n",
       "      <td>NaN</td>\n",
       "      <td>NaN</td>\n",
       "      <td>NaN</td>\n",
       "      <td>NaN</td>\n",
       "    </tr>\n",
       "    <tr>\n",
       "      <th>Press_Series</th>\n",
       "      <td>6732</td>\n",
       "      <td>3</td>\n",
       "      <td>335.0</td>\n",
       "      <td>6397.0</td>\n",
       "      <td>NaN</td>\n",
       "      <td>NaN</td>\n",
       "      <td>NaN</td>\n",
       "      <td>NaN</td>\n",
       "    </tr>\n",
       "    <tr>\n",
       "      <th>User_Series</th>\n",
       "      <td>69946</td>\n",
       "      <td>5</td>\n",
       "      <td>3449.0</td>\n",
       "      <td>66497.0</td>\n",
       "      <td>NaN</td>\n",
       "      <td>NaN</td>\n",
       "      <td>NaN</td>\n",
       "      <td>NaN</td>\n",
       "    </tr>\n",
       "  </tbody>\n",
       "</table>\n",
       "</div>"
      ],
      "text/plain": [
       "             Nb rows Nb columns  Nb duplicates  Nb unique item  \\\n",
       "Movies          8026         14          119.0          7907.0   \n",
       "Series          8126         17          125.0          8001.0   \n",
       "Press_Movies   90040          3         1700.0         88340.0   \n",
       "User_Movies   330413          5         5224.0        325189.0   \n",
       "Press_Series    6732          3          335.0          6397.0   \n",
       "User_Series    69946          5         3449.0         66497.0   \n",
       "\n",
       "              Nb items w/ press ratings  Nb items w/ press reviews  \\\n",
       "Movies                           5111.0                     5112.0   \n",
       "Series                            792.0                      792.0   \n",
       "Press_Movies                        NaN                        NaN   \n",
       "User_Movies                         NaN                        NaN   \n",
       "Press_Series                        NaN                        NaN   \n",
       "User_Series                         NaN                        NaN   \n",
       "\n",
       "              Nb items w/ user ratings  Nb items w/ user reviews  \n",
       "Movies                          7898.0                    7806.0  \n",
       "Series                          6883.0                    4775.0  \n",
       "Press_Movies                       NaN                       NaN  \n",
       "User_Movies                        NaN                       NaN  \n",
       "Press_Series                       NaN                       NaN  \n",
       "User_Series                        NaN                       NaN  "
      ]
     },
     "execution_count": 20,
     "metadata": {},
     "output_type": "execute_result"
    }
   ],
   "source": [
    "display_summary_table(data_unclean)"
   ]
  },
  {
   "cell_type": "markdown",
   "metadata": {},
   "source": [
    "By looking at this summary table, we will focus our interest on the columns related to the number of ratings and reviews (from both press and users) on the number of unique movies and series. We got the number of items (movies and series) with ratings from the `Movies` and `Series` dataframes and the number of items with reviews from the `Ratings` dataframes. The latter corresponds to the number of movies/series from which we were able to collect the ratings data from individual users. To do so, we used the movies/series ID to get directly to the review page. At first, we would expect the number of items with ratings to be the same as the number of items with reviews, but as we can see, this is not the case. This noticeable difference can be explained by several reasons:\n",
    "- If the the **number of items with ratings** is ***lower than*** the **number of items with reviews**, it means that:\n",
    "    - some items don't have any reviews\n",
    "    - the review page is unavailable\n",
    "    - the reviews were made by \"`Visitors`\" (people with no account) from whom no data can be collected to build a user profile. \n",
    "- If the **number of items with ratings** is ***higher than*** the **number of items with reviews**, it means that:\n",
    "    - some items were updated on the website by the time we could collect all the data (e.g. a movie with no press ratings received some press ratings between the time it was scraped and the time we collected its rating data)."
   ]
  },
  {
   "cell_type": "markdown",
   "metadata": {},
   "source": [
    "## Dropping rows"
   ]
  },
  {
   "cell_type": "markdown",
   "metadata": {},
   "source": [
    "### Duplicates"
   ]
  },
  {
   "cell_type": "code",
   "execution_count": 21,
   "metadata": {},
   "outputs": [
    {
     "name": "stdout",
     "output_type": "stream",
     "text": [
      "Nb of movie duplicates: 119\n",
      "Nb of series duplicates: 125\n",
      "Nb of press movie duplicates: 1700\n",
      "Nb of press series duplicates: 335\n",
      "Nb of user movie duplicates: 5224\n",
      "Nb of user series duplicates: 3449\n",
      "--> All duplicates removed\n"
     ]
    }
   ],
   "source": [
    "m_duplicates = movies.duplicated(subset=[\"id\"]).sum()\n",
    "s_duplicates = series.duplicated(subset=[\"id\"]).sum()\n",
    "pm_duplicates = press_movies.duplicated().sum()\n",
    "ps_duplicates = press_series.duplicated().sum()\n",
    "um_duplicates = user_movies.duplicated().sum()\n",
    "us_duplicates = user_series.duplicated().sum()\n",
    "print(f\"Nb of movie duplicates: {m_duplicates}\")\n",
    "print(f\"Nb of series duplicates: {s_duplicates}\")\n",
    "print(f\"Nb of press movie duplicates: {pm_duplicates}\")\n",
    "print(f\"Nb of press series duplicates: {ps_duplicates}\")\n",
    "print(f\"Nb of user movie duplicates: {um_duplicates}\")\n",
    "print(f\"Nb of user series duplicates: {us_duplicates}\")\n",
    "series.drop_duplicates(subset=[\"id\"], inplace=True, ignore_index=True)\n",
    "movies.drop_duplicates(subset=[\"id\"], inplace=True, ignore_index=True)\n",
    "press_movies.drop_duplicates(inplace=True, ignore_index=True)\n",
    "press_series.drop_duplicates(inplace=True, ignore_index=True)\n",
    "user_movies.drop_duplicates(inplace=True, ignore_index=True)\n",
    "user_series.drop_duplicates(inplace=True, ignore_index=True)\n",
    "print(\"--> All duplicates removed\")"
   ]
  },
  {
   "cell_type": "markdown",
   "metadata": {},
   "source": [
    "### Other"
   ]
  },
  {
   "cell_type": "code",
   "execution_count": 22,
   "metadata": {},
   "outputs": [
    {
     "name": "stdout",
     "output_type": "stream",
     "text": [
      "--> 18 'Divers' series removed\n"
     ]
    }
   ],
   "source": [
    "# Drop series with \"Divers\" as genre (lots of missing values)\n",
    "series_divers = series[series.genres.apply(lambda x: \"Divers\" in x)]\n",
    "series.drop(series_divers.index, inplace=True)\n",
    "print(f\"--> {len(series_divers)} 'Divers' series removed\")"
   ]
  },
  {
   "cell_type": "code",
   "execution_count": 23,
   "metadata": {},
   "outputs": [
    {
     "data": {
      "text/html": [
       "<div>\n",
       "<style scoped>\n",
       "    .dataframe tbody tr th:only-of-type {\n",
       "        vertical-align: middle;\n",
       "    }\n",
       "\n",
       "    .dataframe tbody tr th {\n",
       "        vertical-align: top;\n",
       "    }\n",
       "\n",
       "    .dataframe thead th {\n",
       "        text-align: right;\n",
       "    }\n",
       "</style>\n",
       "<table border=\"1\" class=\"dataframe\">\n",
       "  <thead>\n",
       "    <tr style=\"text-align: right;\">\n",
       "      <th></th>\n",
       "      <th>id</th>\n",
       "      <th>title</th>\n",
       "      <th>status</th>\n",
       "      <th>release_date</th>\n",
       "      <th>duration</th>\n",
       "      <th>nb_seasons</th>\n",
       "      <th>nb_episodes</th>\n",
       "      <th>genres</th>\n",
       "      <th>directors</th>\n",
       "      <th>actors</th>\n",
       "      <th>nationality</th>\n",
       "      <th>press_rating</th>\n",
       "      <th>nb_press_rating</th>\n",
       "      <th>user_rating</th>\n",
       "      <th>nb_user_rating</th>\n",
       "      <th>summary</th>\n",
       "      <th>poster_link</th>\n",
       "    </tr>\n",
       "  </thead>\n",
       "  <tbody>\n",
       "    <tr>\n",
       "      <th>7338</th>\n",
       "      <td>25466</td>\n",
       "      <td>Bong Appetit</td>\n",
       "      <td>En cours</td>\n",
       "      <td>Depuis 2016</td>\n",
       "      <td>44.0</td>\n",
       "      <td>3.0</td>\n",
       "      <td>NaN</td>\n",
       "      <td>Divers</td>\n",
       "      <td>NaN</td>\n",
       "      <td>NaN</td>\n",
       "      <td>U.S.A.</td>\n",
       "      <td>NaN</td>\n",
       "      <td>NaN</td>\n",
       "      <td>NaN</td>\n",
       "      <td>NaN</td>\n",
       "      <td>B Real, Vanessa Lavorato et Miguel Trinidad an...</td>\n",
       "      <td>https://fr.web.img6.acsta.net/c_310_420/pictur...</td>\n",
       "    </tr>\n",
       "    <tr>\n",
       "      <th>7428</th>\n",
       "      <td>21493</td>\n",
       "      <td>Brillante Mendoza Presents</td>\n",
       "      <td>Terminée</td>\n",
       "      <td>Depuis2017</td>\n",
       "      <td>NaN</td>\n",
       "      <td>1.0</td>\n",
       "      <td>NaN</td>\n",
       "      <td>Divers</td>\n",
       "      <td>Brillante Mendoza</td>\n",
       "      <td>NaN</td>\n",
       "      <td>NaN</td>\n",
       "      <td>NaN</td>\n",
       "      <td>NaN</td>\n",
       "      <td>NaN</td>\n",
       "      <td>NaN</td>\n",
       "      <td>Une série de programmes mensuels créés par le ...</td>\n",
       "      <td>https://fr.web.img6.acsta.net/c_310_420/pictur...</td>\n",
       "    </tr>\n",
       "    <tr>\n",
       "      <th>7558</th>\n",
       "      <td>8328</td>\n",
       "      <td>Canterbury Tales</td>\n",
       "      <td>Terminée</td>\n",
       "      <td>2003</td>\n",
       "      <td>NaN</td>\n",
       "      <td>NaN</td>\n",
       "      <td>NaN</td>\n",
       "      <td>Divers</td>\n",
       "      <td>NaN</td>\n",
       "      <td>NaN</td>\n",
       "      <td>NaN</td>\n",
       "      <td>NaN</td>\n",
       "      <td>NaN</td>\n",
       "      <td>NaN</td>\n",
       "      <td>NaN</td>\n",
       "      <td>NaN</td>\n",
       "      <td>https://fr.web.img6.acsta.net/c_310_420/common...</td>\n",
       "    </tr>\n",
       "    <tr>\n",
       "      <th>7715</th>\n",
       "      <td>18734</td>\n",
       "      <td>Christine Cromwell</td>\n",
       "      <td>Terminée</td>\n",
       "      <td>1989-1990</td>\n",
       "      <td>NaN</td>\n",
       "      <td>1.0</td>\n",
       "      <td>4.0</td>\n",
       "      <td>Divers</td>\n",
       "      <td>NaN</td>\n",
       "      <td>Jaclyn Smith, Jason Beghe</td>\n",
       "      <td>NaN</td>\n",
       "      <td>NaN</td>\n",
       "      <td>NaN</td>\n",
       "      <td>NaN</td>\n",
       "      <td>NaN</td>\n",
       "      <td>Les enquêtes de Christine Cromwell...</td>\n",
       "      <td>https://fr.web.img6.acsta.net/c_310_420/common...</td>\n",
       "    </tr>\n",
       "    <tr>\n",
       "      <th>7766</th>\n",
       "      <td>29315</td>\n",
       "      <td>Claude</td>\n",
       "      <td>NaN</td>\n",
       "      <td>Depuis 2017</td>\n",
       "      <td>NaN</td>\n",
       "      <td>NaN</td>\n",
       "      <td>NaN</td>\n",
       "      <td>Divers</td>\n",
       "      <td>NaN</td>\n",
       "      <td>NaN</td>\n",
       "      <td>NaN</td>\n",
       "      <td>NaN</td>\n",
       "      <td>NaN</td>\n",
       "      <td>NaN</td>\n",
       "      <td>NaN</td>\n",
       "      <td>NaN</td>\n",
       "      <td>https://fr.web.img6.acsta.net/c_310_420/common...</td>\n",
       "    </tr>\n",
       "  </tbody>\n",
       "</table>\n",
       "</div>"
      ],
      "text/plain": [
       "         id                       title    status release_date  duration  \\\n",
       "7338  25466                Bong Appetit  En cours  Depuis 2016      44.0   \n",
       "7428  21493  Brillante Mendoza Presents  Terminée   Depuis2017       NaN   \n",
       "7558   8328            Canterbury Tales  Terminée         2003       NaN   \n",
       "7715  18734          Christine Cromwell  Terminée    1989-1990       NaN   \n",
       "7766  29315                      Claude       NaN  Depuis 2017       NaN   \n",
       "\n",
       "      nb_seasons  nb_episodes  genres          directors  \\\n",
       "7338         3.0          NaN  Divers                NaN   \n",
       "7428         1.0          NaN  Divers  Brillante Mendoza   \n",
       "7558         NaN          NaN  Divers                NaN   \n",
       "7715         1.0          4.0  Divers                NaN   \n",
       "7766         NaN          NaN  Divers                NaN   \n",
       "\n",
       "                         actors nationality  press_rating  nb_press_rating  \\\n",
       "7338                        NaN      U.S.A.           NaN              NaN   \n",
       "7428                        NaN         NaN           NaN              NaN   \n",
       "7558                        NaN         NaN           NaN              NaN   \n",
       "7715  Jaclyn Smith, Jason Beghe         NaN           NaN              NaN   \n",
       "7766                        NaN         NaN           NaN              NaN   \n",
       "\n",
       "      user_rating  nb_user_rating  \\\n",
       "7338          NaN             NaN   \n",
       "7428          NaN             NaN   \n",
       "7558          NaN             NaN   \n",
       "7715          NaN             NaN   \n",
       "7766          NaN             NaN   \n",
       "\n",
       "                                                summary  \\\n",
       "7338  B Real, Vanessa Lavorato et Miguel Trinidad an...   \n",
       "7428  Une série de programmes mensuels créés par le ...   \n",
       "7558                                                NaN   \n",
       "7715              Les enquêtes de Christine Cromwell...   \n",
       "7766                                                NaN   \n",
       "\n",
       "                                            poster_link  \n",
       "7338  https://fr.web.img6.acsta.net/c_310_420/pictur...  \n",
       "7428  https://fr.web.img6.acsta.net/c_310_420/pictur...  \n",
       "7558  https://fr.web.img6.acsta.net/c_310_420/common...  \n",
       "7715  https://fr.web.img6.acsta.net/c_310_420/common...  \n",
       "7766  https://fr.web.img6.acsta.net/c_310_420/common...  "
      ]
     },
     "execution_count": 23,
     "metadata": {},
     "output_type": "execute_result"
    }
   ],
   "source": [
    "series_divers.tail()"
   ]
  },
  {
   "cell_type": "code",
   "execution_count": 24,
   "metadata": {},
   "outputs": [
    {
     "name": "stdout",
     "output_type": "stream",
     "text": [
      "--> 4 series with unknown release date removed\n"
     ]
    }
   ],
   "source": [
    "# Drop series with \"Datedesortieinconnue\" as release_date (lots of missing values)\n",
    "s_unknown_release_date = series[series.release_date == \"Datedesortieinconnue\"]\n",
    "series.drop(s_unknown_release_date.index, inplace=True)\n",
    "series.reset_index(drop=True, inplace=True)\n",
    "print(f\"--> {len(s_unknown_release_date)} series with unknown release date removed\")"
   ]
  },
  {
   "cell_type": "code",
   "execution_count": 25,
   "metadata": {},
   "outputs": [
    {
     "data": {
      "text/html": [
       "<div>\n",
       "<style scoped>\n",
       "    .dataframe tbody tr th:only-of-type {\n",
       "        vertical-align: middle;\n",
       "    }\n",
       "\n",
       "    .dataframe tbody tr th {\n",
       "        vertical-align: top;\n",
       "    }\n",
       "\n",
       "    .dataframe thead th {\n",
       "        text-align: right;\n",
       "    }\n",
       "</style>\n",
       "<table border=\"1\" class=\"dataframe\">\n",
       "  <thead>\n",
       "    <tr style=\"text-align: right;\">\n",
       "      <th></th>\n",
       "      <th>id</th>\n",
       "      <th>title</th>\n",
       "      <th>status</th>\n",
       "      <th>release_date</th>\n",
       "      <th>duration</th>\n",
       "      <th>nb_seasons</th>\n",
       "      <th>nb_episodes</th>\n",
       "      <th>genres</th>\n",
       "      <th>directors</th>\n",
       "      <th>actors</th>\n",
       "      <th>nationality</th>\n",
       "      <th>press_rating</th>\n",
       "      <th>nb_press_rating</th>\n",
       "      <th>user_rating</th>\n",
       "      <th>nb_user_rating</th>\n",
       "      <th>summary</th>\n",
       "      <th>poster_link</th>\n",
       "    </tr>\n",
       "  </thead>\n",
       "  <tbody>\n",
       "    <tr>\n",
       "      <th>5270</th>\n",
       "      <td>8390</td>\n",
       "      <td>Les Baskerville : une famille d'enfer</td>\n",
       "      <td>Terminée</td>\n",
       "      <td>Datedesortieinconnue</td>\n",
       "      <td>26.0</td>\n",
       "      <td>NaN</td>\n",
       "      <td>NaN</td>\n",
       "      <td>Animation</td>\n",
       "      <td>NaN</td>\n",
       "      <td>NaN</td>\n",
       "      <td>NaN</td>\n",
       "      <td>NaN</td>\n",
       "      <td>NaN</td>\n",
       "      <td>3.1</td>\n",
       "      <td>2.0</td>\n",
       "      <td>NaN</td>\n",
       "      <td>https://fr.web.img6.acsta.net/c_310_420/common...</td>\n",
       "    </tr>\n",
       "    <tr>\n",
       "      <th>6449</th>\n",
       "      <td>9832</td>\n",
       "      <td>5. Boyut</td>\n",
       "      <td>Terminée</td>\n",
       "      <td>Datedesortieinconnue</td>\n",
       "      <td>NaN</td>\n",
       "      <td>NaN</td>\n",
       "      <td>NaN</td>\n",
       "      <td>Drame</td>\n",
       "      <td>NaN</td>\n",
       "      <td>NaN</td>\n",
       "      <td>Turquie</td>\n",
       "      <td>NaN</td>\n",
       "      <td>NaN</td>\n",
       "      <td>NaN</td>\n",
       "      <td>NaN</td>\n",
       "      <td>NaN</td>\n",
       "      <td>https://fr.web.img6.acsta.net/c_310_420/common...</td>\n",
       "    </tr>\n",
       "    <tr>\n",
       "      <th>7269</th>\n",
       "      <td>8847</td>\n",
       "      <td>Blaise le blasé</td>\n",
       "      <td>Terminée</td>\n",
       "      <td>Datedesortieinconnue</td>\n",
       "      <td>22.0</td>\n",
       "      <td>NaN</td>\n",
       "      <td>NaN</td>\n",
       "      <td>Animation</td>\n",
       "      <td>NaN</td>\n",
       "      <td>NaN</td>\n",
       "      <td>NaN</td>\n",
       "      <td>NaN</td>\n",
       "      <td>NaN</td>\n",
       "      <td>NaN</td>\n",
       "      <td>NaN</td>\n",
       "      <td>NaN</td>\n",
       "      <td>https://fr.web.img6.acsta.net/c_310_420/common...</td>\n",
       "    </tr>\n",
       "    <tr>\n",
       "      <th>7793</th>\n",
       "      <td>8366</td>\n",
       "      <td>Co2</td>\n",
       "      <td>Terminée</td>\n",
       "      <td>Datedesortieinconnue</td>\n",
       "      <td>2.0</td>\n",
       "      <td>NaN</td>\n",
       "      <td>NaN</td>\n",
       "      <td>Animation</td>\n",
       "      <td>NaN</td>\n",
       "      <td>NaN</td>\n",
       "      <td>NaN</td>\n",
       "      <td>NaN</td>\n",
       "      <td>NaN</td>\n",
       "      <td>NaN</td>\n",
       "      <td>NaN</td>\n",
       "      <td>NaN</td>\n",
       "      <td>https://fr.web.img6.acsta.net/c_310_420/common...</td>\n",
       "    </tr>\n",
       "  </tbody>\n",
       "</table>\n",
       "</div>"
      ],
      "text/plain": [
       "        id                                  title    status  \\\n",
       "5270  8390  Les Baskerville : une famille d'enfer  Terminée   \n",
       "6449  9832                               5. Boyut  Terminée   \n",
       "7269  8847                        Blaise le blasé  Terminée   \n",
       "7793  8366                                    Co2  Terminée   \n",
       "\n",
       "              release_date  duration  nb_seasons  nb_episodes     genres  \\\n",
       "5270  Datedesortieinconnue      26.0         NaN          NaN  Animation   \n",
       "6449  Datedesortieinconnue       NaN         NaN          NaN      Drame   \n",
       "7269  Datedesortieinconnue      22.0         NaN          NaN  Animation   \n",
       "7793  Datedesortieinconnue       2.0         NaN          NaN  Animation   \n",
       "\n",
       "     directors actors nationality  press_rating  nb_press_rating  user_rating  \\\n",
       "5270       NaN    NaN         NaN           NaN              NaN          3.1   \n",
       "6449       NaN    NaN     Turquie           NaN              NaN          NaN   \n",
       "7269       NaN    NaN         NaN           NaN              NaN          NaN   \n",
       "7793       NaN    NaN         NaN           NaN              NaN          NaN   \n",
       "\n",
       "      nb_user_rating summary  \\\n",
       "5270             2.0     NaN   \n",
       "6449             NaN     NaN   \n",
       "7269             NaN     NaN   \n",
       "7793             NaN     NaN   \n",
       "\n",
       "                                            poster_link  \n",
       "5270  https://fr.web.img6.acsta.net/c_310_420/common...  \n",
       "6449  https://fr.web.img6.acsta.net/c_310_420/common...  \n",
       "7269  https://fr.web.img6.acsta.net/c_310_420/common...  \n",
       "7793  https://fr.web.img6.acsta.net/c_310_420/common...  "
      ]
     },
     "execution_count": 25,
     "metadata": {},
     "output_type": "execute_result"
    }
   ],
   "source": [
    "s_unknown_release_date"
   ]
  },
  {
   "cell_type": "markdown",
   "metadata": {},
   "source": [
    "## Convert CSV strings to arrays"
   ]
  },
  {
   "cell_type": "code",
   "execution_count": 26,
   "metadata": {},
   "outputs": [],
   "source": [
    "def convert_to_array(df: pd.DataFrame):\n",
    "    '''\n",
    "    Convert CSV strings values into arrays.\n",
    "    :param df: dataframe in which we convert CSV strings values into arrays.\n",
    "    :return: None\n",
    "    '''\n",
    "    df[\"genres\"] = df[\"genres\"].apply(lambda x: x.split(\", \") if type(x) not in [float,list] else x)\n",
    "    df[\"directors\"] = df[\"directors\"].apply(lambda x: x.split(\", \") if type(x) not in [float,list] else x)\n",
    "    df[\"actors\"] = df[\"actors\"].apply(lambda x: x.split(\", \") if type(x) not in [float,list] else x)\n",
    "    df[\"nationality\"] = df[\"nationality\"].apply(lambda x: x.split(\", \") if type(x) not in [float,list] else x)"
   ]
  },
  {
   "cell_type": "code",
   "execution_count": 27,
   "metadata": {},
   "outputs": [],
   "source": [
    "convert_to_array(movies)\n",
    "convert_to_array(series)"
   ]
  },
  {
   "cell_type": "markdown",
   "metadata": {},
   "source": [
    "## Create new tables"
   ]
  },
  {
   "cell_type": "markdown",
   "metadata": {},
   "source": [
    "### *GENRE*"
   ]
  },
  {
   "cell_type": "markdown",
   "metadata": {},
   "source": [
    "#### *Create `genres` dataframes*"
   ]
  },
  {
   "cell_type": "code",
   "execution_count": 28,
   "metadata": {},
   "outputs": [],
   "source": [
    "def create_genre_df(df_key: str):\n",
    "    '''\n",
    "    Create a dataframe that contains information about each genre.\n",
    "    :param df_key: The dataframe key of the data dict to get the genres from (movies or series).\n",
    "    :return: The movies or series genre dataframe.\n",
    "    '''\n",
    "    # Get dataframe from key\n",
    "    df = data.get(df_key)\n",
    "    genre_df = None\n",
    "    if df is not None:  \n",
    "        df = df.copy()      \n",
    "        # Remove all rows with no genres\n",
    "        df.dropna(subset=[\"genres\"], inplace=True)\n",
    "        # Get all unique genres from df\n",
    "        genres_list = [genre.lstrip() for genres in df[\"genres\"] for genre in genres]\n",
    "        genres_list = sorted(list(set(genres_list))) \n",
    "\n",
    "        # Create dataframe with the number of movies/series per genre from genres_list\n",
    "        genre_df = pd.DataFrame({\"genres\": genres_list, f\"nb_{df_key}\": [df[df[\"genres\"].apply(lambda x: genre in x).values].shape[0] for genre in genres_list]})\n",
    "\n",
    "        # Add the average duration per genre\n",
    "        genre_df[\"avg_duration\"] = [int(df[df[\"genres\"].apply(lambda x: genre in x).values][\"duration\"].mean()) for genre in genres_list]\n",
    "\n",
    "        # Add the median duration per genre\n",
    "        genre_df[\"median_duration\"] = [int(df[df[\"genres\"].apply(lambda x: genre in x).values][\"duration\"].median()) for genre in genres_list]\n",
    "\n",
    "        # Add the nb_press_rating and nb_user_rating to the genre_df\n",
    "        genre_df[\"nb_press_rating\"] = [int(df[df[\"genres\"].apply(lambda x: genre in x).values][\"nb_press_rating\"].sum()) for genre in genres_list]\n",
    "        genre_df[\"nb_user_rating\"] = [int(df[df[\"genres\"].apply(lambda x: genre in x).values][\"nb_user_rating\"].sum()) for genre in genres_list]\n",
    "\n",
    "        # Add the total_rating to the genre_df (press_rating + user_rating)\n",
    "        genre_df[\"total_rating\"] = genre_df[\"nb_press_rating\"] + genre_df[\"nb_user_rating\"]\n",
    "\n",
    "        # Add the press_rating_percentage and user_rating_percentage to the genre_df \n",
    "        genre_df[\"press_rating_percentage\"] = round(genre_df[\"nb_press_rating\"] / genre_df[\"nb_press_rating\"].values.sum() * 100, 3)\n",
    "        genre_df[\"user_rating_percentage\"] = round(genre_df[\"nb_user_rating\"] / genre_df[\"nb_user_rating\"].values.sum() * 100, 3)\n",
    "\n",
    "        # Add the movies/series_percentage to the genre_df\n",
    "        genre_df[f\"{df_key}_percentage\"] = round(genre_df[f\"nb_{df_key}\"]/df.shape[0] * 100, 3)\n",
    "        # Return the genre_df sorted by genre\n",
    "        return genre_df.sort_values(by = \"genres\", ascending = True)"
   ]
  },
  {
   "cell_type": "code",
   "execution_count": 29,
   "metadata": {},
   "outputs": [],
   "source": [
    "m_genres_df = create_genre_df(\"movies\")\n",
    "s_genres_df = create_genre_df(\"series\")"
   ]
  },
  {
   "cell_type": "code",
   "execution_count": 30,
   "metadata": {},
   "outputs": [
    {
     "name": "stdout",
     "output_type": "stream",
     "text": [
      "['Action' 'Animation' 'Arts Martiaux' 'Aventure' 'Biopic' 'Bollywood'\n",
      " 'Comédie' 'Comédie dramatique' 'Comédie musicale' 'Divers' 'Drame'\n",
      " 'Epouvante-horreur' 'Erotique' 'Espionnage' 'Expérimental' 'Famille'\n",
      " 'Fantastique' 'Guerre' 'Historique' 'Judiciaire' 'Musical' 'Policier'\n",
      " 'Péplum' 'Romance' 'Science fiction' 'Sport event' 'Thriller' 'Western']\n",
      "['Action' 'Animation' 'Arts Martiaux' 'Aventure' 'Biopic' 'Classique'\n",
      " 'Comédie' 'Comédie dramatique' 'Comédie musicale' 'Dessin animé'\n",
      " 'Documentaire' 'Drama' 'Drame' 'Epouvante-horreur' 'Erotique'\n",
      " 'Espionnage' 'Famille' 'Fantastique' 'Guerre' 'Historique' 'Judiciaire'\n",
      " 'Mobisode' 'Musical' 'Médical' 'Policier' 'Péplum' 'Romance'\n",
      " 'Science fiction' 'Show' 'Soap' 'Sport event' 'Thriller' 'Websérie'\n",
      " 'Western']\n"
     ]
    }
   ],
   "source": [
    "print(m_genres_df.genres.values)\n",
    "print(s_genres_df.genres.values)"
   ]
  },
  {
   "cell_type": "code",
   "execution_count": 31,
   "metadata": {},
   "outputs": [
    {
     "data": {
      "text/html": [
       "<div>\n",
       "<style scoped>\n",
       "    .dataframe tbody tr th:only-of-type {\n",
       "        vertical-align: middle;\n",
       "    }\n",
       "\n",
       "    .dataframe tbody tr th {\n",
       "        vertical-align: top;\n",
       "    }\n",
       "\n",
       "    .dataframe thead th {\n",
       "        text-align: right;\n",
       "    }\n",
       "</style>\n",
       "<table border=\"1\" class=\"dataframe\">\n",
       "  <thead>\n",
       "    <tr style=\"text-align: right;\">\n",
       "      <th></th>\n",
       "      <th>genres</th>\n",
       "      <th>nb_movies</th>\n",
       "      <th>avg_duration</th>\n",
       "      <th>median_duration</th>\n",
       "      <th>nb_press_rating</th>\n",
       "      <th>nb_user_rating</th>\n",
       "      <th>total_rating</th>\n",
       "      <th>press_rating_percentage</th>\n",
       "      <th>user_rating_percentage</th>\n",
       "      <th>movies_percentage</th>\n",
       "    </tr>\n",
       "  </thead>\n",
       "  <tbody>\n",
       "    <tr>\n",
       "      <th>0</th>\n",
       "      <td>Action</td>\n",
       "      <td>1275</td>\n",
       "      <td>112</td>\n",
       "      <td>110</td>\n",
       "      <td>12795</td>\n",
       "      <td>12131275</td>\n",
       "      <td>12144070</td>\n",
       "      <td>7.493</td>\n",
       "      <td>12.933</td>\n",
       "      <td>16.125</td>\n",
       "    </tr>\n",
       "    <tr>\n",
       "      <th>1</th>\n",
       "      <td>Animation</td>\n",
       "      <td>499</td>\n",
       "      <td>90</td>\n",
       "      <td>91</td>\n",
       "      <td>6605</td>\n",
       "      <td>3124143</td>\n",
       "      <td>3130748</td>\n",
       "      <td>3.868</td>\n",
       "      <td>3.331</td>\n",
       "      <td>6.311</td>\n",
       "    </tr>\n",
       "    <tr>\n",
       "      <th>2</th>\n",
       "      <td>Arts Martiaux</td>\n",
       "      <td>40</td>\n",
       "      <td>106</td>\n",
       "      <td>105</td>\n",
       "      <td>275</td>\n",
       "      <td>97131</td>\n",
       "      <td>97406</td>\n",
       "      <td>0.161</td>\n",
       "      <td>0.104</td>\n",
       "      <td>0.506</td>\n",
       "    </tr>\n",
       "    <tr>\n",
       "      <th>3</th>\n",
       "      <td>Aventure</td>\n",
       "      <td>868</td>\n",
       "      <td>111</td>\n",
       "      <td>106</td>\n",
       "      <td>9946</td>\n",
       "      <td>8799177</td>\n",
       "      <td>8809123</td>\n",
       "      <td>5.825</td>\n",
       "      <td>9.380</td>\n",
       "      <td>10.978</td>\n",
       "    </tr>\n",
       "    <tr>\n",
       "      <th>4</th>\n",
       "      <td>Biopic</td>\n",
       "      <td>346</td>\n",
       "      <td>122</td>\n",
       "      <td>119</td>\n",
       "      <td>5077</td>\n",
       "      <td>1566343</td>\n",
       "      <td>1571420</td>\n",
       "      <td>2.973</td>\n",
       "      <td>1.670</td>\n",
       "      <td>4.376</td>\n",
       "    </tr>\n",
       "    <tr>\n",
       "      <th>5</th>\n",
       "      <td>Bollywood</td>\n",
       "      <td>8</td>\n",
       "      <td>164</td>\n",
       "      <td>168</td>\n",
       "      <td>50</td>\n",
       "      <td>3618</td>\n",
       "      <td>3668</td>\n",
       "      <td>0.029</td>\n",
       "      <td>0.004</td>\n",
       "      <td>0.101</td>\n",
       "    </tr>\n",
       "    <tr>\n",
       "      <th>6</th>\n",
       "      <td>Comédie</td>\n",
       "      <td>2001</td>\n",
       "      <td>100</td>\n",
       "      <td>99</td>\n",
       "      <td>23074</td>\n",
       "      <td>11823748</td>\n",
       "      <td>11846822</td>\n",
       "      <td>13.512</td>\n",
       "      <td>12.605</td>\n",
       "      <td>25.307</td>\n",
       "    </tr>\n",
       "    <tr>\n",
       "      <th>7</th>\n",
       "      <td>Comédie dramatique</td>\n",
       "      <td>451</td>\n",
       "      <td>108</td>\n",
       "      <td>105</td>\n",
       "      <td>5114</td>\n",
       "      <td>1683534</td>\n",
       "      <td>1688648</td>\n",
       "      <td>2.995</td>\n",
       "      <td>1.795</td>\n",
       "      <td>5.704</td>\n",
       "    </tr>\n",
       "    <tr>\n",
       "      <th>8</th>\n",
       "      <td>Comédie musicale</td>\n",
       "      <td>78</td>\n",
       "      <td>114</td>\n",
       "      <td>113</td>\n",
       "      <td>974</td>\n",
       "      <td>545628</td>\n",
       "      <td>546602</td>\n",
       "      <td>0.570</td>\n",
       "      <td>0.582</td>\n",
       "      <td>0.986</td>\n",
       "    </tr>\n",
       "    <tr>\n",
       "      <th>9</th>\n",
       "      <td>Divers</td>\n",
       "      <td>4</td>\n",
       "      <td>127</td>\n",
       "      <td>150</td>\n",
       "      <td>0</td>\n",
       "      <td>95</td>\n",
       "      <td>95</td>\n",
       "      <td>0.000</td>\n",
       "      <td>0.000</td>\n",
       "      <td>0.051</td>\n",
       "    </tr>\n",
       "    <tr>\n",
       "      <th>10</th>\n",
       "      <td>Drame</td>\n",
       "      <td>3281</td>\n",
       "      <td>113</td>\n",
       "      <td>109</td>\n",
       "      <td>40882</td>\n",
       "      <td>12966409</td>\n",
       "      <td>13007291</td>\n",
       "      <td>23.941</td>\n",
       "      <td>13.823</td>\n",
       "      <td>41.495</td>\n",
       "    </tr>\n",
       "    <tr>\n",
       "      <th>11</th>\n",
       "      <td>Epouvante-horreur</td>\n",
       "      <td>679</td>\n",
       "      <td>98</td>\n",
       "      <td>96</td>\n",
       "      <td>5246</td>\n",
       "      <td>2392325</td>\n",
       "      <td>2397571</td>\n",
       "      <td>3.072</td>\n",
       "      <td>2.550</td>\n",
       "      <td>8.587</td>\n",
       "    </tr>\n",
       "    <tr>\n",
       "      <th>12</th>\n",
       "      <td>Erotique</td>\n",
       "      <td>68</td>\n",
       "      <td>109</td>\n",
       "      <td>107</td>\n",
       "      <td>624</td>\n",
       "      <td>123506</td>\n",
       "      <td>124130</td>\n",
       "      <td>0.365</td>\n",
       "      <td>0.132</td>\n",
       "      <td>0.860</td>\n",
       "    </tr>\n",
       "    <tr>\n",
       "      <th>13</th>\n",
       "      <td>Espionnage</td>\n",
       "      <td>83</td>\n",
       "      <td>120</td>\n",
       "      <td>118</td>\n",
       "      <td>1109</td>\n",
       "      <td>1004772</td>\n",
       "      <td>1005881</td>\n",
       "      <td>0.649</td>\n",
       "      <td>1.071</td>\n",
       "      <td>1.050</td>\n",
       "    </tr>\n",
       "    <tr>\n",
       "      <th>14</th>\n",
       "      <td>Expérimental</td>\n",
       "      <td>3</td>\n",
       "      <td>96</td>\n",
       "      <td>105</td>\n",
       "      <td>4</td>\n",
       "      <td>321</td>\n",
       "      <td>325</td>\n",
       "      <td>0.002</td>\n",
       "      <td>0.000</td>\n",
       "      <td>0.038</td>\n",
       "    </tr>\n",
       "    <tr>\n",
       "      <th>15</th>\n",
       "      <td>Famille</td>\n",
       "      <td>385</td>\n",
       "      <td>95</td>\n",
       "      <td>95</td>\n",
       "      <td>4228</td>\n",
       "      <td>2290391</td>\n",
       "      <td>2294619</td>\n",
       "      <td>2.476</td>\n",
       "      <td>2.442</td>\n",
       "      <td>4.869</td>\n",
       "    </tr>\n",
       "    <tr>\n",
       "      <th>16</th>\n",
       "      <td>Fantastique</td>\n",
       "      <td>654</td>\n",
       "      <td>110</td>\n",
       "      <td>105</td>\n",
       "      <td>7994</td>\n",
       "      <td>7191710</td>\n",
       "      <td>7199704</td>\n",
       "      <td>4.681</td>\n",
       "      <td>7.667</td>\n",
       "      <td>8.271</td>\n",
       "    </tr>\n",
       "    <tr>\n",
       "      <th>17</th>\n",
       "      <td>Guerre</td>\n",
       "      <td>207</td>\n",
       "      <td>125</td>\n",
       "      <td>123</td>\n",
       "      <td>2029</td>\n",
       "      <td>1297205</td>\n",
       "      <td>1299234</td>\n",
       "      <td>1.188</td>\n",
       "      <td>1.383</td>\n",
       "      <td>2.618</td>\n",
       "    </tr>\n",
       "    <tr>\n",
       "      <th>18</th>\n",
       "      <td>Historique</td>\n",
       "      <td>319</td>\n",
       "      <td>127</td>\n",
       "      <td>122</td>\n",
       "      <td>3789</td>\n",
       "      <td>1313687</td>\n",
       "      <td>1317476</td>\n",
       "      <td>2.219</td>\n",
       "      <td>1.400</td>\n",
       "      <td>4.034</td>\n",
       "    </tr>\n",
       "    <tr>\n",
       "      <th>19</th>\n",
       "      <td>Judiciaire</td>\n",
       "      <td>38</td>\n",
       "      <td>111</td>\n",
       "      <td>106</td>\n",
       "      <td>319</td>\n",
       "      <td>86420</td>\n",
       "      <td>86739</td>\n",
       "      <td>0.187</td>\n",
       "      <td>0.092</td>\n",
       "      <td>0.481</td>\n",
       "    </tr>\n",
       "    <tr>\n",
       "      <th>20</th>\n",
       "      <td>Musical</td>\n",
       "      <td>139</td>\n",
       "      <td>111</td>\n",
       "      <td>108</td>\n",
       "      <td>1297</td>\n",
       "      <td>663452</td>\n",
       "      <td>664749</td>\n",
       "      <td>0.760</td>\n",
       "      <td>0.707</td>\n",
       "      <td>1.758</td>\n",
       "    </tr>\n",
       "    <tr>\n",
       "      <th>21</th>\n",
       "      <td>Policier</td>\n",
       "      <td>686</td>\n",
       "      <td>110</td>\n",
       "      <td>108</td>\n",
       "      <td>6069</td>\n",
       "      <td>4781005</td>\n",
       "      <td>4787074</td>\n",
       "      <td>3.554</td>\n",
       "      <td>5.097</td>\n",
       "      <td>8.676</td>\n",
       "    </tr>\n",
       "    <tr>\n",
       "      <th>22</th>\n",
       "      <td>Péplum</td>\n",
       "      <td>13</td>\n",
       "      <td>131</td>\n",
       "      <td>123</td>\n",
       "      <td>202</td>\n",
       "      <td>153323</td>\n",
       "      <td>153525</td>\n",
       "      <td>0.118</td>\n",
       "      <td>0.163</td>\n",
       "      <td>0.164</td>\n",
       "    </tr>\n",
       "    <tr>\n",
       "      <th>23</th>\n",
       "      <td>Romance</td>\n",
       "      <td>887</td>\n",
       "      <td>110</td>\n",
       "      <td>106</td>\n",
       "      <td>9206</td>\n",
       "      <td>4211642</td>\n",
       "      <td>4220848</td>\n",
       "      <td>5.391</td>\n",
       "      <td>4.490</td>\n",
       "      <td>11.218</td>\n",
       "    </tr>\n",
       "    <tr>\n",
       "      <th>24</th>\n",
       "      <td>Science fiction</td>\n",
       "      <td>570</td>\n",
       "      <td>110</td>\n",
       "      <td>108</td>\n",
       "      <td>6372</td>\n",
       "      <td>6517170</td>\n",
       "      <td>6523542</td>\n",
       "      <td>3.732</td>\n",
       "      <td>6.948</td>\n",
       "      <td>7.209</td>\n",
       "    </tr>\n",
       "    <tr>\n",
       "      <th>25</th>\n",
       "      <td>Sport event</td>\n",
       "      <td>9</td>\n",
       "      <td>110</td>\n",
       "      <td>108</td>\n",
       "      <td>85</td>\n",
       "      <td>11590</td>\n",
       "      <td>11675</td>\n",
       "      <td>0.050</td>\n",
       "      <td>0.012</td>\n",
       "      <td>0.114</td>\n",
       "    </tr>\n",
       "    <tr>\n",
       "      <th>26</th>\n",
       "      <td>Thriller</td>\n",
       "      <td>1670</td>\n",
       "      <td>108</td>\n",
       "      <td>105</td>\n",
       "      <td>16488</td>\n",
       "      <td>8405278</td>\n",
       "      <td>8421766</td>\n",
       "      <td>9.656</td>\n",
       "      <td>8.961</td>\n",
       "      <td>21.121</td>\n",
       "    </tr>\n",
       "    <tr>\n",
       "      <th>27</th>\n",
       "      <td>Western</td>\n",
       "      <td>99</td>\n",
       "      <td>121</td>\n",
       "      <td>118</td>\n",
       "      <td>908</td>\n",
       "      <td>618131</td>\n",
       "      <td>619039</td>\n",
       "      <td>0.532</td>\n",
       "      <td>0.659</td>\n",
       "      <td>1.252</td>\n",
       "    </tr>\n",
       "  </tbody>\n",
       "</table>\n",
       "</div>"
      ],
      "text/plain": [
       "                genres  nb_movies  avg_duration  median_duration  \\\n",
       "0               Action       1275           112              110   \n",
       "1            Animation        499            90               91   \n",
       "2        Arts Martiaux         40           106              105   \n",
       "3             Aventure        868           111              106   \n",
       "4               Biopic        346           122              119   \n",
       "5            Bollywood          8           164              168   \n",
       "6              Comédie       2001           100               99   \n",
       "7   Comédie dramatique        451           108              105   \n",
       "8     Comédie musicale         78           114              113   \n",
       "9               Divers          4           127              150   \n",
       "10               Drame       3281           113              109   \n",
       "11   Epouvante-horreur        679            98               96   \n",
       "12            Erotique         68           109              107   \n",
       "13          Espionnage         83           120              118   \n",
       "14        Expérimental          3            96              105   \n",
       "15             Famille        385            95               95   \n",
       "16         Fantastique        654           110              105   \n",
       "17              Guerre        207           125              123   \n",
       "18          Historique        319           127              122   \n",
       "19          Judiciaire         38           111              106   \n",
       "20             Musical        139           111              108   \n",
       "21            Policier        686           110              108   \n",
       "22              Péplum         13           131              123   \n",
       "23             Romance        887           110              106   \n",
       "24     Science fiction        570           110              108   \n",
       "25         Sport event          9           110              108   \n",
       "26            Thriller       1670           108              105   \n",
       "27             Western         99           121              118   \n",
       "\n",
       "    nb_press_rating  nb_user_rating  total_rating  press_rating_percentage  \\\n",
       "0             12795        12131275      12144070                    7.493   \n",
       "1              6605         3124143       3130748                    3.868   \n",
       "2               275           97131         97406                    0.161   \n",
       "3              9946         8799177       8809123                    5.825   \n",
       "4              5077         1566343       1571420                    2.973   \n",
       "5                50            3618          3668                    0.029   \n",
       "6             23074        11823748      11846822                   13.512   \n",
       "7              5114         1683534       1688648                    2.995   \n",
       "8               974          545628        546602                    0.570   \n",
       "9                 0              95            95                    0.000   \n",
       "10            40882        12966409      13007291                   23.941   \n",
       "11             5246         2392325       2397571                    3.072   \n",
       "12              624          123506        124130                    0.365   \n",
       "13             1109         1004772       1005881                    0.649   \n",
       "14                4             321           325                    0.002   \n",
       "15             4228         2290391       2294619                    2.476   \n",
       "16             7994         7191710       7199704                    4.681   \n",
       "17             2029         1297205       1299234                    1.188   \n",
       "18             3789         1313687       1317476                    2.219   \n",
       "19              319           86420         86739                    0.187   \n",
       "20             1297          663452        664749                    0.760   \n",
       "21             6069         4781005       4787074                    3.554   \n",
       "22              202          153323        153525                    0.118   \n",
       "23             9206         4211642       4220848                    5.391   \n",
       "24             6372         6517170       6523542                    3.732   \n",
       "25               85           11590         11675                    0.050   \n",
       "26            16488         8405278       8421766                    9.656   \n",
       "27              908          618131        619039                    0.532   \n",
       "\n",
       "    user_rating_percentage  movies_percentage  \n",
       "0                   12.933             16.125  \n",
       "1                    3.331              6.311  \n",
       "2                    0.104              0.506  \n",
       "3                    9.380             10.978  \n",
       "4                    1.670              4.376  \n",
       "5                    0.004              0.101  \n",
       "6                   12.605             25.307  \n",
       "7                    1.795              5.704  \n",
       "8                    0.582              0.986  \n",
       "9                    0.000              0.051  \n",
       "10                  13.823             41.495  \n",
       "11                   2.550              8.587  \n",
       "12                   0.132              0.860  \n",
       "13                   1.071              1.050  \n",
       "14                   0.000              0.038  \n",
       "15                   2.442              4.869  \n",
       "16                   7.667              8.271  \n",
       "17                   1.383              2.618  \n",
       "18                   1.400              4.034  \n",
       "19                   0.092              0.481  \n",
       "20                   0.707              1.758  \n",
       "21                   5.097              8.676  \n",
       "22                   0.163              0.164  \n",
       "23                   4.490             11.218  \n",
       "24                   6.948              7.209  \n",
       "25                   0.012              0.114  \n",
       "26                   8.961             21.121  \n",
       "27                   0.659              1.252  "
      ]
     },
     "execution_count": 31,
     "metadata": {},
     "output_type": "execute_result"
    }
   ],
   "source": [
    "m_genres_df"
   ]
  },
  {
   "cell_type": "markdown",
   "metadata": {},
   "source": [
    "#### *Save all `genres` dataframes*"
   ]
  },
  {
   "cell_type": "code",
   "execution_count": 32,
   "metadata": {},
   "outputs": [
    {
     "name": "stdout",
     "output_type": "stream",
     "text": [
      "File successfully saved in ../Cleaned Data/m_genres.csv\n",
      "File successfully saved in ../Cleaned Data/s_genres.csv\n"
     ]
    }
   ],
   "source": [
    "path = \"../Cleaned Data/\"\n",
    "save_data(m_genres_df, path, \"m_genres\")\n",
    "save_data(s_genres_df, path, \"s_genres\")"
   ]
  },
  {
   "cell_type": "markdown",
   "metadata": {},
   "source": [
    "### *NATIONALITY*"
   ]
  },
  {
   "cell_type": "markdown",
   "metadata": {},
   "source": [
    "#### *Create `nationality` dataframes*"
   ]
  },
  {
   "cell_type": "code",
   "execution_count": 33,
   "metadata": {},
   "outputs": [],
   "source": [
    "def create_nationality_df(df_key: str):\n",
    "    '''\n",
    "    Create a dataframe that contains information about each nationality.\n",
    "    :param df_key: The dataframe key of the data dict to get the nationalities from (movies or series).\n",
    "    :return: The movies or series nationality dataframe.\n",
    "    '''\n",
    "    # Get dataframe from key\n",
    "    df = data.get(df_key)\n",
    "    nation_df = None\n",
    "    if df is not None:        \n",
    "        df = df.copy()\n",
    "        # Remove all rows with no nationality\n",
    "        df.dropna(subset=[\"nationality\"], inplace=True)\n",
    "        # Get all unique nationality from df\n",
    "        nationality = [nat.lstrip() for nationality in df[\"nationality\"] for nat in nationality]\n",
    "        nationality = sorted(list(set(nationality))) \n",
    "        # Create dataframe with the number of movies/series per nationality from nationality list\n",
    "        nation_df = pd.DataFrame({\"nationality\": nationality, f\"nb_{df_key}\": [df[df[\"nationality\"].apply(lambda x: nation in x).values].shape[0] for nation in nationality]})\n",
    "\n",
    "        # Add the nb_press_rating and nb_user_rating to the nation_df\n",
    "        nation_df[\"nb_press_rating\"] = [int(df[df[\"nationality\"].apply(lambda x: nation in x).values][\"nb_press_rating\"].sum()) for nation in nationality]\n",
    "        nation_df[\"nb_user_rating\"] = [int(df[df[\"nationality\"].apply(lambda x: nation in x).values][\"nb_user_rating\"].sum()) for nation in nationality]\n",
    "\n",
    "        # Add the total_rating to the nation_df (press_rating + user_rating)\n",
    "        nation_df[\"total_rating\"] = nation_df[\"nb_press_rating\"] + nation_df[\"nb_user_rating\"]\n",
    "\n",
    "        # Add the press_rating_percentage and user_rating_percentage to the nation_df \n",
    "        nation_df[\"press_rating_percentage\"] = round(nation_df[\"nb_press_rating\"] / nation_df[\"nb_press_rating\"].values.sum() * 100, 4)\n",
    "        nation_df[\"user_rating_percentage\"] = round(nation_df[\"nb_user_rating\"] / nation_df[\"nb_user_rating\"].values.sum() * 100, 4)\n",
    "\n",
    "        # Add the movies/series_percentage to the nation_df\n",
    "        nation_df[f\"{df_key}_percentage\"] = round(nation_df[f\"nb_{df_key}\"]/df.shape[0] * 100, 4)\n",
    "        return nation_df.sort_values(by = \"nationality\", ascending = True)"
   ]
  },
  {
   "cell_type": "code",
   "execution_count": 34,
   "metadata": {},
   "outputs": [],
   "source": [
    "m_nationality_df = create_nationality_df(\"movies\")\n",
    "s_nationality_df = create_nationality_df(\"series\")"
   ]
  },
  {
   "cell_type": "code",
   "execution_count": 35,
   "metadata": {},
   "outputs": [
    {
     "name": "stdout",
     "output_type": "stream",
     "text": [
      "['Albania' 'Algeria' 'Argentina' 'Armenia' 'Australia' 'Austria' 'Belgium'\n",
      " 'Benin' 'Bolivia' 'Bosnia' 'Botswana' 'Brazil' 'Bulgaria' 'Byelorussia'\n",
      " 'Cambodia' 'Canada' 'Chad' 'Chile' 'China' 'Colombia' 'Croatia' 'Cuba'\n",
      " 'Cyprus' 'Czech Republic' 'Czechoslovakia' 'Denmark' 'Dominican Republic'\n",
      " 'Egypt' 'Estonia' 'Ethiopia' 'Finland' 'France' 'Georgia' 'Germany'\n",
      " 'Greece' 'Guatemala' 'Guinea' 'Haiti' 'Hongkong' 'Hungary' 'Iceland'\n",
      " 'India' 'Indonesia' 'Iran' 'Ireland' 'Israel' 'Italy' 'Ivory Coast'\n",
      " 'Japan' 'Jordan' 'Kazakhstan' 'Kenya' 'Korea' 'Kosovo' 'Laos' 'Latvia'\n",
      " 'Lebanon' 'Libia' 'Liechtenstein' 'Lithuania' 'Luxembourg' 'Malawi'\n",
      " 'Malaysia' 'Malta' 'Mauritania' 'Mexico' 'Monaco' 'Mongolia' 'Morocco'\n",
      " 'Nepal' 'Netherlands' 'New Zealand' 'Nigeria' 'Norway' 'Pakistan'\n",
      " 'Palestine' 'Panama' 'Paraguay' 'Peru' 'Philippines' 'Poland' 'Portugal'\n",
      " 'Qatar' 'Romania' 'Russia' 'Rwanda' 'Samoa' 'Saudi Arabia' 'Senegal'\n",
      " 'Serbia' 'Singapore' 'Slovakia' 'Slovenia' 'Somalia' 'South Africa'\n",
      " 'South Korea' 'Spain' 'Sweden' 'Switzerland' 'Syria' 'Taiwan' 'Thaïland'\n",
      " 'Tunisia' 'Turkey' 'USA' 'Ukraine' 'United Arab Emirates'\n",
      " 'United Kingdom' 'Uruguay' 'Venezuela' 'Vietnam' 'West Germany']\n",
      "['Afrique du Sud' 'Algérie' 'Allemagne' \"Allemagne de l'Est\"\n",
      " \"Allemagne de l'Ouest\" 'Arabie Saoudite' 'Argentine' 'Australie'\n",
      " 'Autriche' 'Belgique' 'Bolivie' 'Brésil' 'Bulgarie' 'Burkina Faso'\n",
      " 'Cameroun' 'Canada' 'Cap-Vert' 'Chili' 'Chine' 'Colombie'\n",
      " 'Congo (Brazzaville)' 'Corée' 'Corée du Nord' 'Corée du Sud' 'Croatie'\n",
      " \"Côte-d'Ivoire\" 'Danemark' 'Egypte' 'Emirats Arabes Unis' 'Espagne'\n",
      " 'Estonie' 'Finlande' 'France' 'Gabon' 'Grande-Bretagne' 'Grèce'\n",
      " 'Hong-Kong' 'Hongrie' 'Inde' 'Iran' 'Irlande' 'Islande' 'Israël' 'Italie'\n",
      " 'Japon' 'Jordanie' 'Kenya' 'Lettonie' 'Liban' 'Lituanie' 'Luxembourg'\n",
      " 'Malaisie' 'Maroc' 'Mexique' 'Nigéria' 'Norvège' 'Nouvelle-Zélande'\n",
      " 'Pakistan' 'Pays-Bas' 'Philippines' 'Pologne' 'Portugal' 'Pérou' 'Québec'\n",
      " 'Russie' 'République tchèque' 'Serbie' 'Singapour' 'Slovaquie' 'Suisse'\n",
      " 'Suède' 'Sénégal' 'Taïwan' 'Thaïlande' 'Turquie' 'U.S.A.' 'Ukraine'\n",
      " 'Vénézuela']\n"
     ]
    }
   ],
   "source": [
    "print(m_nationality_df.nationality.values)\n",
    "print(s_nationality_df.nationality.values)"
   ]
  },
  {
   "cell_type": "code",
   "execution_count": 36,
   "metadata": {},
   "outputs": [
    {
     "data": {
      "text/html": [
       "<div>\n",
       "<style scoped>\n",
       "    .dataframe tbody tr th:only-of-type {\n",
       "        vertical-align: middle;\n",
       "    }\n",
       "\n",
       "    .dataframe tbody tr th {\n",
       "        vertical-align: top;\n",
       "    }\n",
       "\n",
       "    .dataframe thead th {\n",
       "        text-align: right;\n",
       "    }\n",
       "</style>\n",
       "<table border=\"1\" class=\"dataframe\">\n",
       "  <thead>\n",
       "    <tr style=\"text-align: right;\">\n",
       "      <th></th>\n",
       "      <th>nationality</th>\n",
       "      <th>nb_movies</th>\n",
       "      <th>nb_press_rating</th>\n",
       "      <th>nb_user_rating</th>\n",
       "      <th>total_rating</th>\n",
       "      <th>press_rating_percentage</th>\n",
       "      <th>user_rating_percentage</th>\n",
       "      <th>movies_percentage</th>\n",
       "    </tr>\n",
       "  </thead>\n",
       "  <tbody>\n",
       "    <tr>\n",
       "      <th>0</th>\n",
       "      <td>Albania</td>\n",
       "      <td>1</td>\n",
       "      <td>0</td>\n",
       "      <td>3</td>\n",
       "      <td>3</td>\n",
       "      <td>0.0000</td>\n",
       "      <td>0.0000</td>\n",
       "      <td>0.0127</td>\n",
       "    </tr>\n",
       "    <tr>\n",
       "      <th>1</th>\n",
       "      <td>Algeria</td>\n",
       "      <td>10</td>\n",
       "      <td>141</td>\n",
       "      <td>21713</td>\n",
       "      <td>21854</td>\n",
       "      <td>0.1062</td>\n",
       "      <td>0.0359</td>\n",
       "      <td>0.1266</td>\n",
       "    </tr>\n",
       "    <tr>\n",
       "      <th>2</th>\n",
       "      <td>Argentina</td>\n",
       "      <td>27</td>\n",
       "      <td>361</td>\n",
       "      <td>47775</td>\n",
       "      <td>48136</td>\n",
       "      <td>0.2720</td>\n",
       "      <td>0.0791</td>\n",
       "      <td>0.3418</td>\n",
       "    </tr>\n",
       "    <tr>\n",
       "      <th>3</th>\n",
       "      <td>Armenia</td>\n",
       "      <td>1</td>\n",
       "      <td>16</td>\n",
       "      <td>203</td>\n",
       "      <td>219</td>\n",
       "      <td>0.0121</td>\n",
       "      <td>0.0003</td>\n",
       "      <td>0.0127</td>\n",
       "    </tr>\n",
       "    <tr>\n",
       "      <th>4</th>\n",
       "      <td>Australia</td>\n",
       "      <td>126</td>\n",
       "      <td>1266</td>\n",
       "      <td>693229</td>\n",
       "      <td>694495</td>\n",
       "      <td>0.9537</td>\n",
       "      <td>1.1475</td>\n",
       "      <td>1.5951</td>\n",
       "    </tr>\n",
       "    <tr>\n",
       "      <th>...</th>\n",
       "      <td>...</td>\n",
       "      <td>...</td>\n",
       "      <td>...</td>\n",
       "      <td>...</td>\n",
       "      <td>...</td>\n",
       "      <td>...</td>\n",
       "      <td>...</td>\n",
       "      <td>...</td>\n",
       "    </tr>\n",
       "    <tr>\n",
       "      <th>107</th>\n",
       "      <td>United Kingdom</td>\n",
       "      <td>810</td>\n",
       "      <td>9930</td>\n",
       "      <td>5776055</td>\n",
       "      <td>5785985</td>\n",
       "      <td>7.4807</td>\n",
       "      <td>9.5613</td>\n",
       "      <td>10.2545</td>\n",
       "    </tr>\n",
       "    <tr>\n",
       "      <th>108</th>\n",
       "      <td>Uruguay</td>\n",
       "      <td>3</td>\n",
       "      <td>59</td>\n",
       "      <td>1217</td>\n",
       "      <td>1276</td>\n",
       "      <td>0.0444</td>\n",
       "      <td>0.0020</td>\n",
       "      <td>0.0380</td>\n",
       "    </tr>\n",
       "    <tr>\n",
       "      <th>109</th>\n",
       "      <td>Venezuela</td>\n",
       "      <td>1</td>\n",
       "      <td>17</td>\n",
       "      <td>704</td>\n",
       "      <td>721</td>\n",
       "      <td>0.0128</td>\n",
       "      <td>0.0012</td>\n",
       "      <td>0.0127</td>\n",
       "    </tr>\n",
       "    <tr>\n",
       "      <th>110</th>\n",
       "      <td>Vietnam</td>\n",
       "      <td>2</td>\n",
       "      <td>31</td>\n",
       "      <td>11658</td>\n",
       "      <td>11689</td>\n",
       "      <td>0.0234</td>\n",
       "      <td>0.0193</td>\n",
       "      <td>0.0253</td>\n",
       "    </tr>\n",
       "    <tr>\n",
       "      <th>111</th>\n",
       "      <td>West Germany</td>\n",
       "      <td>33</td>\n",
       "      <td>22</td>\n",
       "      <td>68811</td>\n",
       "      <td>68833</td>\n",
       "      <td>0.0166</td>\n",
       "      <td>0.1139</td>\n",
       "      <td>0.4178</td>\n",
       "    </tr>\n",
       "  </tbody>\n",
       "</table>\n",
       "<p>112 rows × 8 columns</p>\n",
       "</div>"
      ],
      "text/plain": [
       "        nationality  nb_movies  nb_press_rating  nb_user_rating  total_rating  \\\n",
       "0           Albania          1                0               3             3   \n",
       "1           Algeria         10              141           21713         21854   \n",
       "2         Argentina         27              361           47775         48136   \n",
       "3           Armenia          1               16             203           219   \n",
       "4         Australia        126             1266          693229        694495   \n",
       "..              ...        ...              ...             ...           ...   \n",
       "107  United Kingdom        810             9930         5776055       5785985   \n",
       "108         Uruguay          3               59            1217          1276   \n",
       "109       Venezuela          1               17             704           721   \n",
       "110         Vietnam          2               31           11658         11689   \n",
       "111    West Germany         33               22           68811         68833   \n",
       "\n",
       "     press_rating_percentage  user_rating_percentage  movies_percentage  \n",
       "0                     0.0000                  0.0000             0.0127  \n",
       "1                     0.1062                  0.0359             0.1266  \n",
       "2                     0.2720                  0.0791             0.3418  \n",
       "3                     0.0121                  0.0003             0.0127  \n",
       "4                     0.9537                  1.1475             1.5951  \n",
       "..                       ...                     ...                ...  \n",
       "107                   7.4807                  9.5613            10.2545  \n",
       "108                   0.0444                  0.0020             0.0380  \n",
       "109                   0.0128                  0.0012             0.0127  \n",
       "110                   0.0234                  0.0193             0.0253  \n",
       "111                   0.0166                  0.1139             0.4178  \n",
       "\n",
       "[112 rows x 8 columns]"
      ]
     },
     "execution_count": 36,
     "metadata": {},
     "output_type": "execute_result"
    }
   ],
   "source": [
    "m_nationality_df"
   ]
  },
  {
   "cell_type": "markdown",
   "metadata": {},
   "source": [
    "#### *Save all `nationality` dataframes*"
   ]
  },
  {
   "cell_type": "code",
   "execution_count": 37,
   "metadata": {},
   "outputs": [
    {
     "name": "stdout",
     "output_type": "stream",
     "text": [
      "File successfully saved in ../Cleaned Data/m_nationality.csv\n",
      "File successfully saved in ../Cleaned Data/s_nationality.csv\n"
     ]
    }
   ],
   "source": [
    "path = \"../Cleaned Data/\"\n",
    "save_data(m_nationality_df, path, \"m_nationality\")\n",
    "save_data(s_nationality_df, path, \"s_nationality\")"
   ]
  },
  {
   "cell_type": "markdown",
   "metadata": {},
   "source": [
    "## Improve data format & coherence"
   ]
  },
  {
   "cell_type": "markdown",
   "metadata": {},
   "source": [
    "### Impute missing duration"
   ]
  },
  {
   "cell_type": "code",
   "execution_count": 38,
   "metadata": {},
   "outputs": [],
   "source": [
    "def impute_missing_duration(df_key: str):\n",
    "    '''\n",
    "    From the m/s_genres_df DataFrames, we order the genres by the amount of movies/series with that genre.\n",
    "    We then compute the median duration of the movies/series with that genre.\n",
    "    Finally, we impute the missing duration of the movies/series with the median duration of the movies/series with the most popular genre among their genres.\n",
    "    We choose the median as it is more robust than the mean duration.\n",
    "    :param df_key: Key of the dataframe in the data dictionary to impute the missing duration from.\n",
    "    :return: The imputed dataframe.\n",
    "    '''\n",
    "    # Get dataframe from key\n",
    "    df = data.get(df_key)\n",
    "    genres_df = m_genres_df if df_key == \"movies\" else s_genres_df if df_key == \"series\" else None\n",
    "    if df is not None:\n",
    "        df = df.copy()\n",
    "        # Get the movies/serie with missing duration\n",
    "        df_na_duration = df[df[\"duration\"].isna()]\n",
    "        for index, row in df_na_duration.iterrows():\n",
    "            # Get the genre rows of each movies/series genres from the m/s_genres_df DataFrame\n",
    "            na_duration_genres = genres_df.loc[genres_df.genres.isin(row[\"genres\"])]\n",
    "            # Get the genre with the most movies/series from the na_duration_genres DataFrame\n",
    "            most_pop_genre = na_duration_genres.sort_values(by = f\"nb_{df_key}\", ascending = False).iloc[0][\"genres\"]\n",
    "            # Retrieve the median duration of the movies/series with the most popular genre\n",
    "            median_duration = int(genres_df[genres_df.genres == most_pop_genre].median_duration)\n",
    "            # Impute the missing duration of the movies/series with the median duration of the most popular genre\n",
    "            df.loc[index, \"duration\"] = median_duration\n",
    "    return df"
   ]
  },
  {
   "cell_type": "markdown",
   "metadata": {},
   "source": [
    "### Series"
   ]
  },
  {
   "cell_type": "code",
   "execution_count": 39,
   "metadata": {},
   "outputs": [],
   "source": [
    "series = impute_missing_duration(\"series\")"
   ]
  },
  {
   "cell_type": "markdown",
   "metadata": {},
   "source": [
    "#### Drop missing ratings and NA threshold"
   ]
  },
  {
   "cell_type": "code",
   "execution_count": 40,
   "metadata": {},
   "outputs": [
    {
     "data": {
      "text/plain": [
       "'s_na_ratings = series[series[\"press_rating\"].isna()][series[\"user_rating\"].isna()].shape[0]\\nseries.dropna(subset=[\"press_rating\",\"user_rating\"], inplace=True, how=\"all\")\\nseries.reset_index(drop=True, inplace=True)\\nprint(f\"Number of series with no ratings: {s_na_ratings}\")\\nprint(\"--> All series with no ratings removed\")'"
      ]
     },
     "execution_count": 40,
     "metadata": {},
     "output_type": "execute_result"
    }
   ],
   "source": [
    "# Drop series with no press AND no user ratings\n",
    "'''s_na_ratings = series[series[\"press_rating\"].isna()][series[\"user_rating\"].isna()].shape[0]\n",
    "series.dropna(subset=[\"press_rating\",\"user_rating\"], inplace=True, how=\"all\")\n",
    "series.reset_index(drop=True, inplace=True)\n",
    "print(f\"Number of series with no ratings: {s_na_ratings}\")\n",
    "print(\"--> All series with no ratings removed\")'''\n",
    "# IT WILL BE USED LATER WHEN BUILDING THE RECOMMANDATION MODELS"
   ]
  },
  {
   "cell_type": "code",
   "execution_count": 41,
   "metadata": {},
   "outputs": [
    {
     "name": "stdout",
     "output_type": "stream",
     "text": [
      "Number of series with at least 7 missing values: 761\n",
      "--> All series with at least 7 missing values removed\n"
     ]
    }
   ],
   "source": [
    "# Drop series with at least na_thresh missing values\n",
    "na_thresh = 7\n",
    "# Dataframe with series with at least na_thresh missing values\n",
    "s_na_thresh = series[series.apply(lambda x: sum(x.isna()) >= na_thresh, axis=1)]\n",
    "series.drop(index=s_na_thresh.index, inplace=True)\n",
    "series.reset_index(drop=True, inplace=True)\n",
    "print(f\"Number of series with at least {na_thresh} missing values: {len(s_na_thresh)}\")\n",
    "print(f\"--> All series with at least {na_thresh} missing values removed\")"
   ]
  },
  {
   "cell_type": "markdown",
   "metadata": {},
   "source": [
    "#### Change `release_date` format"
   ]
  },
  {
   "cell_type": "code",
   "execution_count": 42,
   "metadata": {},
   "outputs": [],
   "source": [
    "# Replace the release_date string by the release year as a date \n",
    "# Get all the 4-digits numbers from a string and keep only the first one, which is the release year. \n",
    "series[\"release_date\"] = series[\"release_date\"].apply(lambda x: int(re.findall(r\"\\d{4}\", x)[0]))"
   ]
  },
  {
   "cell_type": "code",
   "execution_count": 43,
   "metadata": {},
   "outputs": [
    {
     "data": {
      "text/plain": [
       "(14, 17)"
      ]
     },
     "execution_count": 43,
     "metadata": {},
     "output_type": "execute_result"
    }
   ],
   "source": [
    "# Find the series where nb_seasons is greater or equal to nb_episodes \n",
    "series[series.nb_seasons > series.nb_episodes].shape"
   ]
  },
  {
   "cell_type": "markdown",
   "metadata": {},
   "source": [
    "### Movies"
   ]
  },
  {
   "cell_type": "code",
   "execution_count": 44,
   "metadata": {},
   "outputs": [],
   "source": [
    "movies = impute_missing_duration(\"movies\")"
   ]
  },
  {
   "cell_type": "markdown",
   "metadata": {},
   "source": [
    "#### Drop missing ratings"
   ]
  },
  {
   "cell_type": "code",
   "execution_count": 45,
   "metadata": {},
   "outputs": [
    {
     "data": {
      "text/plain": [
       "'m_na_ratings = movies[movies[\"press_rating\"].isna()][movies[\"user_rating\"].isna()].shape[0]\\nmovies.dropna(subset=[\"nb_press_rating\",\"nb_user_rating\",\"press_rating\",\"user_rating\"], inplace=True, how=\"all\")\\nmovies.reset_index(drop=True, inplace=True)\\nprint(f\"Number of movies with no ratings: {m_na_ratings}\")\\nprint(\"--> All movies with no ratings removed\")'"
      ]
     },
     "execution_count": 45,
     "metadata": {},
     "output_type": "execute_result"
    }
   ],
   "source": [
    "# Drop series and movies with no press AND no user ratings\n",
    "'''m_na_ratings = movies[movies[\"press_rating\"].isna()][movies[\"user_rating\"].isna()].shape[0]\n",
    "movies.dropna(subset=[\"nb_press_rating\",\"nb_user_rating\",\"press_rating\",\"user_rating\"], inplace=True, how=\"all\")\n",
    "movies.reset_index(drop=True, inplace=True)\n",
    "print(f\"Number of movies with no ratings: {m_na_ratings}\")\n",
    "print(\"--> All movies with no ratings removed\")'''\n",
    "# IT WILL BE USED LATER WHEN BUILDING THE RECOMMANDATION MODELS"
   ]
  },
  {
   "cell_type": "markdown",
   "metadata": {},
   "source": [
    "#### Get the release season date"
   ]
  },
  {
   "cell_type": "code",
   "execution_count": 46,
   "metadata": {},
   "outputs": [],
   "source": [
    "def get_release_season(date: str):\n",
    "    '''\n",
    "    Get the release season date (eg: from \"2019-05-10\" return \"Spring\")\n",
    "    :param date: Date to get the release season from.\n",
    "    :return: The release season of the movie.\n",
    "    '''\n",
    "    spring = \"03-21\"\n",
    "    summer = \"06-21\"\n",
    "    fall = \"09-21\"\n",
    "    winter = \"12-21\"\n",
    "    my = re.sub(r\"\\d{4}-\", \"\", date)\n",
    "    if my < spring or my >= winter:\n",
    "        return \"Winter\"\n",
    "    elif my < summer and my >= spring:\n",
    "        return \"Spring\"\n",
    "    elif my < fall and my >= summer:\n",
    "        return \"Summer\"\n",
    "    elif my < winter and my >= fall:\n",
    "        return \"Fall\""
   ]
  },
  {
   "cell_type": "code",
   "execution_count": 47,
   "metadata": {},
   "outputs": [],
   "source": [
    "# Get the release season\n",
    "movies[\"release_season\"] = movies[\"release_date\"].apply(lambda x: get_release_season(x))\n",
    "movies_cols = movies_cols[:3] + [\"release_season\"] + movies_cols[3:]\n",
    "movies = movies[movies_cols]"
   ]
  },
  {
   "cell_type": "markdown",
   "metadata": {},
   "source": [
    "## Display the last stats"
   ]
  },
  {
   "cell_type": "markdown",
   "metadata": {},
   "source": [
    "### Movies"
   ]
  },
  {
   "cell_type": "code",
   "execution_count": 48,
   "metadata": {},
   "outputs": [],
   "source": [
    "m_clean = movies.copy()"
   ]
  },
  {
   "cell_type": "code",
   "execution_count": 49,
   "metadata": {},
   "outputs": [
    {
     "data": {
      "image/png": "[encoded data removed]",
      "text/plain": [
       "<Figure size 864x576 with 3 Axes>"
      ]
     },
     "metadata": {
      "needs_background": "light"
     },
     "output_type": "display_data"
    },
    {
     "data": {
      "image/png": "[encoded data removed]",
      "text/plain": [
       "<Figure size 864x360 with 1 Axes>"
      ]
     },
     "metadata": {
      "needs_background": "light"
     },
     "output_type": "display_data"
    },
    {
     "name": "stdout",
     "output_type": "stream",
     "text": [
      "<class 'pandas.core.frame.DataFrame'>\n",
      "RangeIndex: 7907 entries, 0 to 7906\n",
      "Data columns (total 15 columns):\n",
      " #   Column           Non-Null Count  Dtype  \n",
      "---  ------           --------------  -----  \n",
      " 0   id               7907 non-null   int64  \n",
      " 1   title            7907 non-null   object \n",
      " 2   release_date     7907 non-null   object \n",
      " 3   release_season   7907 non-null   object \n",
      " 4   duration         7907 non-null   float64\n",
      " 5   genres           7907 non-null   object \n",
      " 6   directors        7887 non-null   object \n",
      " 7   actors           7873 non-null   object \n",
      " 8   nationality      7899 non-null   object \n",
      " 9   press_rating     5111 non-null   float64\n",
      " 10  nb_press_rating  5111 non-null   float64\n",
      " 11  user_rating      7898 non-null   float64\n",
      " 12  nb_user_rating   7898 non-null   float64\n",
      " 13  summary          7882 non-null   object \n",
      " 14  poster_link      7907 non-null   object \n",
      "dtypes: float64(5), int64(1), object(9)\n",
      "memory usage: 926.7+ KB\n"
     ]
    },
    {
     "data": {
      "text/html": [
       "<div>\n",
       "<style scoped>\n",
       "    .dataframe tbody tr th:only-of-type {\n",
       "        vertical-align: middle;\n",
       "    }\n",
       "\n",
       "    .dataframe tbody tr th {\n",
       "        vertical-align: top;\n",
       "    }\n",
       "\n",
       "    .dataframe thead th {\n",
       "        text-align: right;\n",
       "    }\n",
       "</style>\n",
       "<table border=\"1\" class=\"dataframe\">\n",
       "  <thead>\n",
       "    <tr style=\"text-align: right;\">\n",
       "      <th></th>\n",
       "      <th>count</th>\n",
       "      <th>mean</th>\n",
       "      <th>std</th>\n",
       "      <th>min</th>\n",
       "      <th>25%</th>\n",
       "      <th>50%</th>\n",
       "      <th>75%</th>\n",
       "      <th>max</th>\n",
       "    </tr>\n",
       "  </thead>\n",
       "  <tbody>\n",
       "    <tr>\n",
       "      <th>id</th>\n",
       "      <td>7907.0</td>\n",
       "      <td>150633.523713</td>\n",
       "      <td>104594.601583</td>\n",
       "      <td>1.0</td>\n",
       "      <td>37177.0</td>\n",
       "      <td>177009.0</td>\n",
       "      <td>250670.00</td>\n",
       "      <td>303494.0</td>\n",
       "    </tr>\n",
       "    <tr>\n",
       "      <th>duration</th>\n",
       "      <td>7907.0</td>\n",
       "      <td>107.910712</td>\n",
       "      <td>21.602160</td>\n",
       "      <td>26.0</td>\n",
       "      <td>95.0</td>\n",
       "      <td>104.0</td>\n",
       "      <td>118.00</td>\n",
       "      <td>450.0</td>\n",
       "    </tr>\n",
       "    <tr>\n",
       "      <th>press_rating</th>\n",
       "      <td>5111.0</td>\n",
       "      <td>3.247388</td>\n",
       "      <td>0.738463</td>\n",
       "      <td>1.0</td>\n",
       "      <td>2.8</td>\n",
       "      <td>3.3</td>\n",
       "      <td>3.70</td>\n",
       "      <td>5.0</td>\n",
       "    </tr>\n",
       "    <tr>\n",
       "      <th>nb_press_rating</th>\n",
       "      <td>5111.0</td>\n",
       "      <td>17.464880</td>\n",
       "      <td>8.656134</td>\n",
       "      <td>1.0</td>\n",
       "      <td>11.0</td>\n",
       "      <td>18.0</td>\n",
       "      <td>24.00</td>\n",
       "      <td>45.0</td>\n",
       "    </tr>\n",
       "    <tr>\n",
       "      <th>user_rating</th>\n",
       "      <td>7898.0</td>\n",
       "      <td>3.140491</td>\n",
       "      <td>0.732848</td>\n",
       "      <td>0.8</td>\n",
       "      <td>2.6</td>\n",
       "      <td>3.2</td>\n",
       "      <td>3.70</td>\n",
       "      <td>4.6</td>\n",
       "    </tr>\n",
       "    <tr>\n",
       "      <th>nb_user_rating</th>\n",
       "      <td>7898.0</td>\n",
       "      <td>5563.583059</td>\n",
       "      <td>12946.183790</td>\n",
       "      <td>1.0</td>\n",
       "      <td>394.0</td>\n",
       "      <td>1501.5</td>\n",
       "      <td>4724.75</td>\n",
       "      <td>218842.0</td>\n",
       "    </tr>\n",
       "  </tbody>\n",
       "</table>\n",
       "</div>"
      ],
      "text/plain": [
       "                  count           mean            std   min      25%  \\\n",
       "id               7907.0  150633.523713  104594.601583   1.0  37177.0   \n",
       "duration         7907.0     107.910712      21.602160  26.0     95.0   \n",
       "press_rating     5111.0       3.247388       0.738463   1.0      2.8   \n",
       "nb_press_rating  5111.0      17.464880       8.656134   1.0     11.0   \n",
       "user_rating      7898.0       3.140491       0.732848   0.8      2.6   \n",
       "nb_user_rating   7898.0    5563.583059   12946.183790   1.0    394.0   \n",
       "\n",
       "                      50%        75%       max  \n",
       "id               177009.0  250670.00  303494.0  \n",
       "duration            104.0     118.00     450.0  \n",
       "press_rating          3.3       3.70       5.0  \n",
       "nb_press_rating      18.0      24.00      45.0  \n",
       "user_rating           3.2       3.70       4.6  \n",
       "nb_user_rating     1501.5    4724.75  218842.0  "
      ]
     },
     "execution_count": 49,
     "metadata": {},
     "output_type": "execute_result"
    }
   ],
   "source": [
    "display_stats(m_clean, \"bar\")"
   ]
  },
  {
   "cell_type": "markdown",
   "metadata": {},
   "source": [
    "### Series"
   ]
  },
  {
   "cell_type": "code",
   "execution_count": 50,
   "metadata": {},
   "outputs": [],
   "source": [
    "s_clean = series.copy()"
   ]
  },
  {
   "cell_type": "code",
   "execution_count": 51,
   "metadata": {},
   "outputs": [
    {
     "data": {
      "image/png": "[encoded data removed]",
      "text/plain": [
       "<Figure size 864x576 with 2 Axes>"
      ]
     },
     "metadata": {
      "needs_background": "light"
     },
     "output_type": "display_data"
    },
    {
     "data": {
      "image/png": "[encoded data removed]",
      "text/plain": [
       "<Figure size 864x360 with 1 Axes>"
      ]
     },
     "metadata": {
      "needs_background": "light"
     },
     "output_type": "display_data"
    },
    {
     "name": "stdout",
     "output_type": "stream",
     "text": [
      "<class 'pandas.core.frame.DataFrame'>\n",
      "RangeIndex: 7218 entries, 0 to 7217\n",
      "Data columns (total 17 columns):\n",
      " #   Column           Non-Null Count  Dtype  \n",
      "---  ------           --------------  -----  \n",
      " 0   id               7218 non-null   int64  \n",
      " 1   title            7218 non-null   object \n",
      " 2   status           7182 non-null   object \n",
      " 3   release_date     7218 non-null   int64  \n",
      " 4   duration         7218 non-null   float64\n",
      " 5   nb_seasons       6682 non-null   float64\n",
      " 6   nb_episodes      6377 non-null   float64\n",
      " 7   genres           7218 non-null   object \n",
      " 8   directors        5251 non-null   object \n",
      " 9   actors           6401 non-null   object \n",
      " 10  nationality      7213 non-null   object \n",
      " 11  press_rating     792 non-null    float64\n",
      " 12  nb_press_rating  792 non-null    float64\n",
      " 13  user_rating      6656 non-null   float64\n",
      " 14  nb_user_rating   6656 non-null   float64\n",
      " 15  summary          6861 non-null   object \n",
      " 16  poster_link      7218 non-null   object \n",
      "dtypes: float64(7), int64(2), object(8)\n",
      "memory usage: 958.8+ KB\n"
     ]
    },
    {
     "data": {
      "text/html": [
       "<div>\n",
       "<style scoped>\n",
       "    .dataframe tbody tr th:only-of-type {\n",
       "        vertical-align: middle;\n",
       "    }\n",
       "\n",
       "    .dataframe tbody tr th {\n",
       "        vertical-align: top;\n",
       "    }\n",
       "\n",
       "    .dataframe thead th {\n",
       "        text-align: right;\n",
       "    }\n",
       "</style>\n",
       "<table border=\"1\" class=\"dataframe\">\n",
       "  <thead>\n",
       "    <tr style=\"text-align: right;\">\n",
       "      <th></th>\n",
       "      <th>count</th>\n",
       "      <th>mean</th>\n",
       "      <th>std</th>\n",
       "      <th>min</th>\n",
       "      <th>25%</th>\n",
       "      <th>50%</th>\n",
       "      <th>75%</th>\n",
       "      <th>max</th>\n",
       "    </tr>\n",
       "  </thead>\n",
       "  <tbody>\n",
       "    <tr>\n",
       "      <th>id</th>\n",
       "      <td>7218.0</td>\n",
       "      <td>15907.882377</td>\n",
       "      <td>9717.005349</td>\n",
       "      <td>1.0</td>\n",
       "      <td>6014.5</td>\n",
       "      <td>18590.0</td>\n",
       "      <td>24516.75</td>\n",
       "      <td>31807.0</td>\n",
       "    </tr>\n",
       "    <tr>\n",
       "      <th>release_date</th>\n",
       "      <td>7218.0</td>\n",
       "      <td>2009.983652</td>\n",
       "      <td>12.658660</td>\n",
       "      <td>1929.0</td>\n",
       "      <td>2006.0</td>\n",
       "      <td>2014.0</td>\n",
       "      <td>2019.00</td>\n",
       "      <td>2022.0</td>\n",
       "    </tr>\n",
       "    <tr>\n",
       "      <th>duration</th>\n",
       "      <td>7218.0</td>\n",
       "      <td>40.683153</td>\n",
       "      <td>20.080758</td>\n",
       "      <td>1.0</td>\n",
       "      <td>25.0</td>\n",
       "      <td>42.0</td>\n",
       "      <td>52.00</td>\n",
       "      <td>240.0</td>\n",
       "    </tr>\n",
       "    <tr>\n",
       "      <th>nb_seasons</th>\n",
       "      <td>6682.0</td>\n",
       "      <td>2.396438</td>\n",
       "      <td>3.139496</td>\n",
       "      <td>1.0</td>\n",
       "      <td>1.0</td>\n",
       "      <td>1.0</td>\n",
       "      <td>3.00</td>\n",
       "      <td>59.0</td>\n",
       "    </tr>\n",
       "    <tr>\n",
       "      <th>nb_episodes</th>\n",
       "      <td>6377.0</td>\n",
       "      <td>41.416026</td>\n",
       "      <td>241.004230</td>\n",
       "      <td>1.0</td>\n",
       "      <td>8.0</td>\n",
       "      <td>14.0</td>\n",
       "      <td>38.00</td>\n",
       "      <td>13484.0</td>\n",
       "    </tr>\n",
       "    <tr>\n",
       "      <th>press_rating</th>\n",
       "      <td>792.0</td>\n",
       "      <td>3.245202</td>\n",
       "      <td>0.611625</td>\n",
       "      <td>1.3</td>\n",
       "      <td>2.8</td>\n",
       "      <td>3.3</td>\n",
       "      <td>3.70</td>\n",
       "      <td>5.0</td>\n",
       "    </tr>\n",
       "    <tr>\n",
       "      <th>nb_press_rating</th>\n",
       "      <td>792.0</td>\n",
       "      <td>8.095960</td>\n",
       "      <td>3.528591</td>\n",
       "      <td>1.0</td>\n",
       "      <td>6.0</td>\n",
       "      <td>8.0</td>\n",
       "      <td>10.00</td>\n",
       "      <td>30.0</td>\n",
       "    </tr>\n",
       "    <tr>\n",
       "      <th>user_rating</th>\n",
       "      <td>6656.0</td>\n",
       "      <td>3.275451</td>\n",
       "      <td>0.521327</td>\n",
       "      <td>0.8</td>\n",
       "      <td>3.0</td>\n",
       "      <td>3.2</td>\n",
       "      <td>3.60</td>\n",
       "      <td>4.7</td>\n",
       "    </tr>\n",
       "    <tr>\n",
       "      <th>nb_user_rating</th>\n",
       "      <td>6656.0</td>\n",
       "      <td>995.076322</td>\n",
       "      <td>5819.471164</td>\n",
       "      <td>1.0</td>\n",
       "      <td>8.0</td>\n",
       "      <td>39.0</td>\n",
       "      <td>200.00</td>\n",
       "      <td>206012.0</td>\n",
       "    </tr>\n",
       "  </tbody>\n",
       "</table>\n",
       "</div>"
      ],
      "text/plain": [
       "                  count          mean          std     min     25%      50%  \\\n",
       "id               7218.0  15907.882377  9717.005349     1.0  6014.5  18590.0   \n",
       "release_date     7218.0   2009.983652    12.658660  1929.0  2006.0   2014.0   \n",
       "duration         7218.0     40.683153    20.080758     1.0    25.0     42.0   \n",
       "nb_seasons       6682.0      2.396438     3.139496     1.0     1.0      1.0   \n",
       "nb_episodes      6377.0     41.416026   241.004230     1.0     8.0     14.0   \n",
       "press_rating      792.0      3.245202     0.611625     1.3     2.8      3.3   \n",
       "nb_press_rating   792.0      8.095960     3.528591     1.0     6.0      8.0   \n",
       "user_rating      6656.0      3.275451     0.521327     0.8     3.0      3.2   \n",
       "nb_user_rating   6656.0    995.076322  5819.471164     1.0     8.0     39.0   \n",
       "\n",
       "                      75%       max  \n",
       "id               24516.75   31807.0  \n",
       "release_date      2019.00    2022.0  \n",
       "duration            52.00     240.0  \n",
       "nb_seasons           3.00      59.0  \n",
       "nb_episodes         38.00   13484.0  \n",
       "press_rating         3.70       5.0  \n",
       "nb_press_rating     10.00      30.0  \n",
       "user_rating          3.60       4.7  \n",
       "nb_user_rating     200.00  206012.0  "
      ]
     },
     "execution_count": 51,
     "metadata": {},
     "output_type": "execute_result"
    }
   ],
   "source": [
    "display_stats(s_clean, \"heatmap\")"
   ]
  },
  {
   "cell_type": "markdown",
   "metadata": {},
   "source": [
    "### Ratings"
   ]
  },
  {
   "cell_type": "markdown",
   "metadata": {},
   "source": [
    "#### Movies Press Ratings"
   ]
  },
  {
   "cell_type": "code",
   "execution_count": 52,
   "metadata": {},
   "outputs": [],
   "source": [
    "mp_clean = press_movies.copy()"
   ]
  },
  {
   "cell_type": "code",
   "execution_count": 53,
   "metadata": {},
   "outputs": [
    {
     "name": "stdout",
     "output_type": "stream",
     "text": [
      "No missing values in the dataframe.\n",
      "<class 'pandas.core.frame.DataFrame'>\n",
      "RangeIndex: 88340 entries, 0 to 88339\n",
      "Data columns (total 3 columns):\n",
      " #   Column        Non-Null Count  Dtype  \n",
      "---  ------        --------------  -----  \n",
      " 0   press_name    88340 non-null  object \n",
      " 1   movie_id      88340 non-null  int64  \n",
      " 2   press_rating  88340 non-null  float64\n",
      "dtypes: float64(1), int64(1), object(1)\n",
      "memory usage: 2.0+ MB\n"
     ]
    },
    {
     "data": {
      "text/html": [
       "<div>\n",
       "<style scoped>\n",
       "    .dataframe tbody tr th:only-of-type {\n",
       "        vertical-align: middle;\n",
       "    }\n",
       "\n",
       "    .dataframe tbody tr th {\n",
       "        vertical-align: top;\n",
       "    }\n",
       "\n",
       "    .dataframe thead th {\n",
       "        text-align: right;\n",
       "    }\n",
       "</style>\n",
       "<table border=\"1\" class=\"dataframe\">\n",
       "  <thead>\n",
       "    <tr style=\"text-align: right;\">\n",
       "      <th></th>\n",
       "      <th>count</th>\n",
       "      <th>mean</th>\n",
       "      <th>std</th>\n",
       "      <th>min</th>\n",
       "      <th>25%</th>\n",
       "      <th>50%</th>\n",
       "      <th>75%</th>\n",
       "      <th>max</th>\n",
       "    </tr>\n",
       "  </thead>\n",
       "  <tbody>\n",
       "    <tr>\n",
       "      <th>movie_id</th>\n",
       "      <td>88340.0</td>\n",
       "      <td>170869.956860</td>\n",
       "      <td>87518.317516</td>\n",
       "      <td>4.0</td>\n",
       "      <td>109551.0</td>\n",
       "      <td>195021.0</td>\n",
       "      <td>247450.0</td>\n",
       "      <td>302334.0</td>\n",
       "    </tr>\n",
       "    <tr>\n",
       "      <th>press_rating</th>\n",
       "      <td>88340.0</td>\n",
       "      <td>3.301755</td>\n",
       "      <td>1.110449</td>\n",
       "      <td>0.5</td>\n",
       "      <td>3.0</td>\n",
       "      <td>3.0</td>\n",
       "      <td>4.0</td>\n",
       "      <td>5.0</td>\n",
       "    </tr>\n",
       "  </tbody>\n",
       "</table>\n",
       "</div>"
      ],
      "text/plain": [
       "                count           mean           std  min       25%       50%  \\\n",
       "movie_id      88340.0  170869.956860  87518.317516  4.0  109551.0  195021.0   \n",
       "press_rating  88340.0       3.301755      1.110449  0.5       3.0       3.0   \n",
       "\n",
       "                   75%       max  \n",
       "movie_id      247450.0  302334.0  \n",
       "press_rating       4.0       5.0  "
      ]
     },
     "execution_count": 53,
     "metadata": {},
     "output_type": "execute_result"
    }
   ],
   "source": [
    "display_stats(mp_clean, \"matrix\")"
   ]
  },
  {
   "cell_type": "markdown",
   "metadata": {},
   "source": [
    "#### Movies User Ratings"
   ]
  },
  {
   "cell_type": "code",
   "execution_count": 54,
   "metadata": {},
   "outputs": [],
   "source": [
    "mu_clean = user_movies.copy()"
   ]
  },
  {
   "cell_type": "code",
   "execution_count": 55,
   "metadata": {},
   "outputs": [
    {
     "name": "stdout",
     "output_type": "stream",
     "text": [
      "No missing values in the dataframe.\n",
      "<class 'pandas.core.frame.DataFrame'>\n",
      "RangeIndex: 325189 entries, 0 to 325188\n",
      "Data columns (total 5 columns):\n",
      " #   Column       Non-Null Count   Dtype  \n",
      "---  ------       --------------   -----  \n",
      " 0   user_id      325189 non-null  object \n",
      " 1   user_name    325189 non-null  object \n",
      " 2   movie_id     325189 non-null  int64  \n",
      " 3   user_rating  325189 non-null  float64\n",
      " 4   date         325189 non-null  object \n",
      "dtypes: float64(1), int64(1), object(3)\n",
      "memory usage: 12.4+ MB\n"
     ]
    },
    {
     "data": {
      "text/html": [
       "<div>\n",
       "<style scoped>\n",
       "    .dataframe tbody tr th:only-of-type {\n",
       "        vertical-align: middle;\n",
       "    }\n",
       "\n",
       "    .dataframe tbody tr th {\n",
       "        vertical-align: top;\n",
       "    }\n",
       "\n",
       "    .dataframe thead th {\n",
       "        text-align: right;\n",
       "    }\n",
       "</style>\n",
       "<table border=\"1\" class=\"dataframe\">\n",
       "  <thead>\n",
       "    <tr style=\"text-align: right;\">\n",
       "      <th></th>\n",
       "      <th>count</th>\n",
       "      <th>mean</th>\n",
       "      <th>std</th>\n",
       "      <th>min</th>\n",
       "      <th>25%</th>\n",
       "      <th>50%</th>\n",
       "      <th>75%</th>\n",
       "      <th>max</th>\n",
       "    </tr>\n",
       "  </thead>\n",
       "  <tbody>\n",
       "    <tr>\n",
       "      <th>movie_id</th>\n",
       "      <td>325189.0</td>\n",
       "      <td>140130.186965</td>\n",
       "      <td>100795.251563</td>\n",
       "      <td>1.0</td>\n",
       "      <td>32704.0</td>\n",
       "      <td>139966.0</td>\n",
       "      <td>237415.0</td>\n",
       "      <td>303478.0</td>\n",
       "    </tr>\n",
       "    <tr>\n",
       "      <th>user_rating</th>\n",
       "      <td>325189.0</td>\n",
       "      <td>3.076469</td>\n",
       "      <td>1.202988</td>\n",
       "      <td>0.5</td>\n",
       "      <td>2.5</td>\n",
       "      <td>3.0</td>\n",
       "      <td>4.0</td>\n",
       "      <td>5.0</td>\n",
       "    </tr>\n",
       "  </tbody>\n",
       "</table>\n",
       "</div>"
      ],
      "text/plain": [
       "                count           mean            std  min      25%       50%  \\\n",
       "movie_id     325189.0  140130.186965  100795.251563  1.0  32704.0  139966.0   \n",
       "user_rating  325189.0       3.076469       1.202988  0.5      2.5       3.0   \n",
       "\n",
       "                  75%       max  \n",
       "movie_id     237415.0  303478.0  \n",
       "user_rating       4.0       5.0  "
      ]
     },
     "execution_count": 55,
     "metadata": {},
     "output_type": "execute_result"
    }
   ],
   "source": [
    "display_stats(mu_clean, \"matrix\")"
   ]
  },
  {
   "cell_type": "markdown",
   "metadata": {},
   "source": [
    "#### Series Press Ratings"
   ]
  },
  {
   "cell_type": "code",
   "execution_count": 56,
   "metadata": {},
   "outputs": [],
   "source": [
    "sp_clean = press_series.copy()"
   ]
  },
  {
   "cell_type": "code",
   "execution_count": 57,
   "metadata": {},
   "outputs": [
    {
     "name": "stdout",
     "output_type": "stream",
     "text": [
      "No missing values in the dataframe.\n",
      "<class 'pandas.core.frame.DataFrame'>\n",
      "RangeIndex: 6397 entries, 0 to 6396\n",
      "Data columns (total 3 columns):\n",
      " #   Column        Non-Null Count  Dtype  \n",
      "---  ------        --------------  -----  \n",
      " 0   press_name    6397 non-null   object \n",
      " 1   series_id     6397 non-null   int64  \n",
      " 2   press_rating  6397 non-null   float64\n",
      "dtypes: float64(1), int64(1), object(1)\n",
      "memory usage: 150.1+ KB\n"
     ]
    },
    {
     "data": {
      "text/html": [
       "<div>\n",
       "<style scoped>\n",
       "    .dataframe tbody tr th:only-of-type {\n",
       "        vertical-align: middle;\n",
       "    }\n",
       "\n",
       "    .dataframe tbody tr th {\n",
       "        vertical-align: top;\n",
       "    }\n",
       "\n",
       "    .dataframe thead th {\n",
       "        text-align: right;\n",
       "    }\n",
       "</style>\n",
       "<table border=\"1\" class=\"dataframe\">\n",
       "  <thead>\n",
       "    <tr style=\"text-align: right;\">\n",
       "      <th></th>\n",
       "      <th>count</th>\n",
       "      <th>mean</th>\n",
       "      <th>std</th>\n",
       "      <th>min</th>\n",
       "      <th>25%</th>\n",
       "      <th>50%</th>\n",
       "      <th>75%</th>\n",
       "      <th>max</th>\n",
       "    </tr>\n",
       "  </thead>\n",
       "  <tbody>\n",
       "    <tr>\n",
       "      <th>series_id</th>\n",
       "      <td>6397.0</td>\n",
       "      <td>19505.837267</td>\n",
       "      <td>6273.479267</td>\n",
       "      <td>49.0</td>\n",
       "      <td>17052.0</td>\n",
       "      <td>21394.0</td>\n",
       "      <td>24084.0</td>\n",
       "      <td>31130.0</td>\n",
       "    </tr>\n",
       "    <tr>\n",
       "      <th>press_rating</th>\n",
       "      <td>6397.0</td>\n",
       "      <td>3.288573</td>\n",
       "      <td>0.971393</td>\n",
       "      <td>0.5</td>\n",
       "      <td>2.5</td>\n",
       "      <td>3.5</td>\n",
       "      <td>4.0</td>\n",
       "      <td>5.0</td>\n",
       "    </tr>\n",
       "  </tbody>\n",
       "</table>\n",
       "</div>"
      ],
      "text/plain": [
       "               count          mean          std   min      25%      50%  \\\n",
       "series_id     6397.0  19505.837267  6273.479267  49.0  17052.0  21394.0   \n",
       "press_rating  6397.0      3.288573     0.971393   0.5      2.5      3.5   \n",
       "\n",
       "                  75%      max  \n",
       "series_id     24084.0  31130.0  \n",
       "press_rating      4.0      5.0  "
      ]
     },
     "execution_count": 57,
     "metadata": {},
     "output_type": "execute_result"
    }
   ],
   "source": [
    "display_stats(sp_clean, \"matrix\")"
   ]
  },
  {
   "cell_type": "markdown",
   "metadata": {},
   "source": [
    "#### Series User Ratings"
   ]
  },
  {
   "cell_type": "code",
   "execution_count": 58,
   "metadata": {},
   "outputs": [],
   "source": [
    "su_clean = user_series.copy()"
   ]
  },
  {
   "cell_type": "code",
   "execution_count": 59,
   "metadata": {},
   "outputs": [
    {
     "name": "stdout",
     "output_type": "stream",
     "text": [
      "No missing values in the dataframe.\n",
      "<class 'pandas.core.frame.DataFrame'>\n",
      "RangeIndex: 66497 entries, 0 to 66496\n",
      "Data columns (total 5 columns):\n",
      " #   Column       Non-Null Count  Dtype  \n",
      "---  ------       --------------  -----  \n",
      " 0   user_id      66497 non-null  object \n",
      " 1   user_name    66497 non-null  object \n",
      " 2   series_id    66497 non-null  int64  \n",
      " 3   user_rating  66497 non-null  float64\n",
      " 4   date         66497 non-null  object \n",
      "dtypes: float64(1), int64(1), object(3)\n",
      "memory usage: 2.5+ MB\n"
     ]
    },
    {
     "data": {
      "text/html": [
       "<div>\n",
       "<style scoped>\n",
       "    .dataframe tbody tr th:only-of-type {\n",
       "        vertical-align: middle;\n",
       "    }\n",
       "\n",
       "    .dataframe tbody tr th {\n",
       "        vertical-align: top;\n",
       "    }\n",
       "\n",
       "    .dataframe thead th {\n",
       "        text-align: right;\n",
       "    }\n",
       "</style>\n",
       "<table border=\"1\" class=\"dataframe\">\n",
       "  <thead>\n",
       "    <tr style=\"text-align: right;\">\n",
       "      <th></th>\n",
       "      <th>count</th>\n",
       "      <th>mean</th>\n",
       "      <th>std</th>\n",
       "      <th>min</th>\n",
       "      <th>25%</th>\n",
       "      <th>50%</th>\n",
       "      <th>75%</th>\n",
       "      <th>max</th>\n",
       "    </tr>\n",
       "  </thead>\n",
       "  <tbody>\n",
       "    <tr>\n",
       "      <th>series_id</th>\n",
       "      <td>66497.0</td>\n",
       "      <td>14674.014151</td>\n",
       "      <td>9510.309961</td>\n",
       "      <td>1.0</td>\n",
       "      <td>4509.0</td>\n",
       "      <td>17483.0</td>\n",
       "      <td>23405.0</td>\n",
       "      <td>31804.0</td>\n",
       "    </tr>\n",
       "    <tr>\n",
       "      <th>user_rating</th>\n",
       "      <td>66497.0</td>\n",
       "      <td>3.482879</td>\n",
       "      <td>1.425350</td>\n",
       "      <td>0.5</td>\n",
       "      <td>2.5</td>\n",
       "      <td>4.0</td>\n",
       "      <td>4.5</td>\n",
       "      <td>5.0</td>\n",
       "    </tr>\n",
       "  </tbody>\n",
       "</table>\n",
       "</div>"
      ],
      "text/plain": [
       "               count          mean          std  min     25%      50%  \\\n",
       "series_id    66497.0  14674.014151  9510.309961  1.0  4509.0  17483.0   \n",
       "user_rating  66497.0      3.482879     1.425350  0.5     2.5      4.0   \n",
       "\n",
       "                 75%      max  \n",
       "series_id    23405.0  31804.0  \n",
       "user_rating      4.5      5.0  "
      ]
     },
     "execution_count": 59,
     "metadata": {},
     "output_type": "execute_result"
    }
   ],
   "source": [
    "display_stats(su_clean, \"bar\")"
   ]
  },
  {
   "cell_type": "markdown",
   "metadata": {},
   "source": [
    "### Summary"
   ]
  },
  {
   "cell_type": "code",
   "execution_count": 60,
   "metadata": {},
   "outputs": [],
   "source": [
    "data_cleaned = {\"movies\": m_clean, \"series\": s_clean, \"press_movies\": mp_clean, \"press_series\": sp_clean, \"user_movies\": mu_clean, \"user_series\": su_clean}"
   ]
  },
  {
   "cell_type": "code",
   "execution_count": 61,
   "metadata": {},
   "outputs": [
    {
     "data": {
      "text/html": [
       "<div>\n",
       "<style scoped>\n",
       "    .dataframe tbody tr th:only-of-type {\n",
       "        vertical-align: middle;\n",
       "    }\n",
       "\n",
       "    .dataframe tbody tr th {\n",
       "        vertical-align: top;\n",
       "    }\n",
       "\n",
       "    .dataframe thead th {\n",
       "        text-align: right;\n",
       "    }\n",
       "</style>\n",
       "<table border=\"1\" class=\"dataframe\">\n",
       "  <thead>\n",
       "    <tr style=\"text-align: right;\">\n",
       "      <th></th>\n",
       "      <th>Nb rows</th>\n",
       "      <th>Nb columns</th>\n",
       "      <th>Nb duplicates</th>\n",
       "      <th>Nb unique item</th>\n",
       "      <th>Nb items w/ press ratings</th>\n",
       "      <th>Nb items w/ press reviews</th>\n",
       "      <th>Nb items w/ user ratings</th>\n",
       "      <th>Nb items w/ user reviews</th>\n",
       "    </tr>\n",
       "  </thead>\n",
       "  <tbody>\n",
       "    <tr>\n",
       "      <th>Movies</th>\n",
       "      <td>7907</td>\n",
       "      <td>15</td>\n",
       "      <td>0.0</td>\n",
       "      <td>7907.0</td>\n",
       "      <td>5111.0</td>\n",
       "      <td>5112.0</td>\n",
       "      <td>7898.0</td>\n",
       "      <td>7806.0</td>\n",
       "    </tr>\n",
       "    <tr>\n",
       "      <th>Series</th>\n",
       "      <td>7218</td>\n",
       "      <td>17</td>\n",
       "      <td>0.0</td>\n",
       "      <td>7218.0</td>\n",
       "      <td>792.0</td>\n",
       "      <td>792.0</td>\n",
       "      <td>6656.0</td>\n",
       "      <td>4775.0</td>\n",
       "    </tr>\n",
       "    <tr>\n",
       "      <th>Press_Movies</th>\n",
       "      <td>88340</td>\n",
       "      <td>3</td>\n",
       "      <td>0.0</td>\n",
       "      <td>88340.0</td>\n",
       "      <td>NaN</td>\n",
       "      <td>NaN</td>\n",
       "      <td>NaN</td>\n",
       "      <td>NaN</td>\n",
       "    </tr>\n",
       "    <tr>\n",
       "      <th>Press_Series</th>\n",
       "      <td>6397</td>\n",
       "      <td>3</td>\n",
       "      <td>0.0</td>\n",
       "      <td>6397.0</td>\n",
       "      <td>NaN</td>\n",
       "      <td>NaN</td>\n",
       "      <td>NaN</td>\n",
       "      <td>NaN</td>\n",
       "    </tr>\n",
       "    <tr>\n",
       "      <th>User_Movies</th>\n",
       "      <td>325189</td>\n",
       "      <td>5</td>\n",
       "      <td>0.0</td>\n",
       "      <td>325189.0</td>\n",
       "      <td>NaN</td>\n",
       "      <td>NaN</td>\n",
       "      <td>NaN</td>\n",
       "      <td>NaN</td>\n",
       "    </tr>\n",
       "    <tr>\n",
       "      <th>User_Series</th>\n",
       "      <td>66497</td>\n",
       "      <td>5</td>\n",
       "      <td>0.0</td>\n",
       "      <td>66497.0</td>\n",
       "      <td>NaN</td>\n",
       "      <td>NaN</td>\n",
       "      <td>NaN</td>\n",
       "      <td>NaN</td>\n",
       "    </tr>\n",
       "  </tbody>\n",
       "</table>\n",
       "</div>"
      ],
      "text/plain": [
       "             Nb rows Nb columns  Nb duplicates  Nb unique item  \\\n",
       "Movies          7907         15            0.0          7907.0   \n",
       "Series          7218         17            0.0          7218.0   \n",
       "Press_Movies   88340          3            0.0         88340.0   \n",
       "Press_Series    6397          3            0.0          6397.0   \n",
       "User_Movies   325189          5            0.0        325189.0   \n",
       "User_Series    66497          5            0.0         66497.0   \n",
       "\n",
       "              Nb items w/ press ratings  Nb items w/ press reviews  \\\n",
       "Movies                           5111.0                     5112.0   \n",
       "Series                            792.0                      792.0   \n",
       "Press_Movies                        NaN                        NaN   \n",
       "Press_Series                        NaN                        NaN   \n",
       "User_Movies                         NaN                        NaN   \n",
       "User_Series                         NaN                        NaN   \n",
       "\n",
       "              Nb items w/ user ratings  Nb items w/ user reviews  \n",
       "Movies                          7898.0                    7806.0  \n",
       "Series                          6656.0                    4775.0  \n",
       "Press_Movies                       NaN                       NaN  \n",
       "Press_Series                       NaN                       NaN  \n",
       "User_Movies                        NaN                       NaN  \n",
       "User_Series                        NaN                       NaN  "
      ]
     },
     "execution_count": 61,
     "metadata": {},
     "output_type": "execute_result"
    }
   ],
   "source": [
    "display_summary_table(data_cleaned)"
   ]
  },
  {
   "cell_type": "markdown",
   "metadata": {},
   "source": [
    "## Save Cleaned datasets"
   ]
  },
  {
   "cell_type": "code",
   "execution_count": 62,
   "metadata": {},
   "outputs": [
    {
     "name": "stdout",
     "output_type": "stream",
     "text": [
      "File successfully saved in ../Cleaned Data/movies.csv\n",
      "File successfully saved in ../Cleaned Data/series.csv\n",
      "File successfully saved in ../Cleaned Data/press_movies.csv\n",
      "File successfully saved in ../Cleaned Data/press_series.csv\n",
      "File successfully saved in ../Cleaned Data/user_movies.csv\n",
      "File successfully saved in ../Cleaned Data/user_series.csv\n"
     ]
    }
   ],
   "source": [
    "path = \"../Cleaned Data/\"\n",
    "for k,v in data_cleaned.items():\n",
    "    save_data(v, path, k)"
   ]
  },
  {
   "cell_type": "markdown",
   "metadata": {},
   "source": [
    "---\n",
    "# **Section 1. Ratings Distribution**"
   ]
  },
  {
   "cell_type": "markdown",
   "metadata": {},
   "source": [
    "\n",
    "## Plot the Distribution of Ratings "
   ]
  },
  {
   "cell_type": "code",
   "execution_count": 63,
   "metadata": {},
   "outputs": [
    {
     "data": {
      "image/png": "[encoded data removed]",
      "text/plain": [
       "<Figure size 1152x360 with 3 Axes>"
      ]
     },
     "metadata": {},
     "output_type": "display_data"
    },
    {
     "data": {
      "image/png": "[encoded data removed]",
      "text/plain": [
       "<Figure size 1152x360 with 3 Axes>"
      ]
     },
     "metadata": {},
     "output_type": "display_data"
    }
   ],
   "source": [
    "for k,df in list(data.items())[:2]:\n",
    "        sns.set(style=\"white\", palette=\"deep\")\n",
    "\n",
    "        fig, axes = plt.subplots(1, 3, figsize = (16,5))\n",
    "        fig.suptitle(f\"{k.title()} Ratings Distribution\", fontsize=18, fontweight='bold')\n",
    "        ax1, ax2, ax3 = fig.axes\n",
    "\n",
    "        ax1.set_xlim([0.5,5.5])\n",
    "        ax2.set_xlim([0.5,5.5])\n",
    "        ax3.set_xlim([0.5,5.5])\n",
    "\n",
    "        ax1.hist(df[\"press_rating\"], bins = 10, range = (0,5), color='C0') # bin range = 1\n",
    "        ax1.set_title(f'{k.title()} Press Ratings Distribution')\n",
    "        ax1.set_xlabel('Ratings')\n",
    "        ax1.set_ylabel('Number of ratings')\n",
    "\n",
    "        ax2.hist(df[\"user_rating\"], bins = 10, range = (0,5), color='C1') # bin range = 1\n",
    "        ax2.set_title(f'{k.title()} Users Ratings Distribution')\n",
    "        ax2.set_xlabel('Ratings')\n",
    "        ax2.set_ylabel('Number of ratings')\n",
    "\n",
    "        ax3.hist(df[\"press_rating\"], bins = 10, range = (0,5), histtype = 'step', \n",
    "                lw=1.5, label='Press Ratings', color='C0')\n",
    "        ax3.hist(df[\"user_rating\"], bins = 10, range = (0,5), histtype = 'step', \n",
    "                lw=1.5, label='Users Ratings', color='C1')\n",
    "        ax3.legend(loc = 'upper left')\n",
    "        ax3.set_title(f'{k.title()} Comparison of Ratings Distributions')\n",
    "        ax3.set_xlabel('Ratings')\n",
    "        ax3.set_ylabel('Number of ratings')\n",
    "\n",
    "        for ax in fig.axes:\n",
    "                ax.spines['top'].set_visible(False)\n",
    "                ax.spines['right'].set_visible(False)\n",
    "        # Save the figure\n",
    "        fig.savefig(f\"{k}_rating_dist.png\", bbox_inches='tight', dpi=200)"
   ]
  },
  {
   "cell_type": "markdown",
   "metadata": {},
   "source": [
    "## Ratings Correlation"
   ]
  },
  {
   "cell_type": "code",
   "execution_count": 64,
   "metadata": {},
   "outputs": [
    {
     "data": {
      "image/png": "[encoded data removed]",
      "text/plain": [
       "<Figure size 504x504 with 3 Axes>"
      ]
     },
     "metadata": {},
     "output_type": "display_data"
    },
    {
     "data": {
      "image/png": "[encoded data removed]",
      "text/plain": [
       "<Figure size 504x504 with 3 Axes>"
      ]
     },
     "metadata": {},
     "output_type": "display_data"
    }
   ],
   "source": [
    "# Correlation between press_rating and user_rating\n",
    "for k,df in list(data.items())[:2]:\n",
    "    ax = sns.jointplot(x=\"press_rating\", y=\"user_rating\", \n",
    "                    data=df, kind=\"hex\",\n",
    "                    marginal_kws=dict(bins=20),\n",
    "                    xlim=(0.8,5.1), ylim=(0.8,5.1),\n",
    "                    height=7, space=0)\n",
    "    ax.set_axis_labels(\"Press Ratings\", \"Users Ratings\")\n",
    "    ax.fig.suptitle(f\"{k.title()} Press Ratings vs Users Ratings Correlation\", fontsize=16, fontweight='bold')\n",
    "    ax.fig.subplots_adjust(top=0.95) # Reduce plot to make room \n",
    "    # save the fig\n",
    "    ax.savefig(f\"{k}_press_user_corr.png\", bbox_inches='tight', dpi=200)"
   ]
  },
  {
   "cell_type": "markdown",
   "metadata": {},
   "source": [
    "## Compare users to press ratings"
   ]
  },
  {
   "cell_type": "code",
   "execution_count": 65,
   "metadata": {},
   "outputs": [],
   "source": [
    "def compare_max_ratings(rating_from: str, rating_to: str):\n",
    "    '''\n",
    "    Compare the (user|press) ratings of movies and series for which the (press|user) gave the highest rating.\n",
    "    :param rating_from: The dataset to compare the max ratings from (user|press).\n",
    "    :param rating_to: The dataset to compare the max ratings to (press|user).\n",
    "    '''\n",
    "    try:\n",
    "        max_rating = 4.5 if rating_to == \"user\" else 5 \n",
    "        # The max rating for user is 4.6 but we get more data to compare with if we use 4.5 and above.\n",
    "        for k,df in list(data.items())[:2]:\n",
    "            five_stars = df[df[f\"{rating_to}_rating\"] >= max_rating]\n",
    "            f, ax = plt.subplots(figsize=(15,6))\n",
    "            f.suptitle(f'{k.title()} with {max_rating} Stars From The {rating_to.title()}', fontsize=18, fontweight='bold')\n",
    "            f.subplots_adjust(top=0.85)\n",
    "\n",
    "            sns.countplot(x=five_stars[f\"{rating_from}_rating\"], ax=ax)\n",
    "            ax.set_xlabel(f\"{rating_from.title()} Ratings\")\n",
    "            ax.set_ylabel(\"Number of ratings\")\n",
    "            sns.despine(top=True, right=True, left=False, bottom=False)\n",
    "            \n",
    "            ### print the first tier and second tier of the User Ratings\n",
    "            print(f\"\\n{k.upper()} {rating_from} RATINGS TIER DISTRIBUTION\")\n",
    "            quant = df[[f\"{rating_from}_rating\"]].quantile([.33,.66])\n",
    "            print(quant)\n",
    "            \n",
    "            p = (len(five_stars[(five_stars[f\"{rating_from}_rating\"] < quant.values[0][0])]) / len(five_stars)) * 100\n",
    "            print(f'{round(p, 2)} % of the {k.title()} with the highest {rating_to} ratings received a low {rating_from} ratings.')\n",
    "            p = (len(five_stars[(five_stars[f\"{rating_from}_rating\"] < quant.values[1][0]) & (five_stars[f\"{rating_from}_rating\"] >= quant.values[0][0])]) / len(five_stars)) * 100\n",
    "            print(f'{round(p, 2)} % of the {k.title()} with the highest {rating_to} ratings received a moderate {rating_from} ratings.')\n",
    "            p = (len(five_stars[five_stars[f\"{rating_from}_rating\"] >= quant.values[1][0]]) / len(five_stars)) * 100\n",
    "            print(f'{round(p, 2)} % of the {k.title()} with the highest {rating_to} ratings received a high {rating_from} ratings.')\n",
    "            \n",
    "            ### save the fig\n",
    "            f.savefig(f'{k}_max_{rating_to}.png', bbox_inches='tight', dpi=200)\n",
    "    except Exception as e:\n",
    "        print(f\"Error in compare_max_ratings:\\n {e} is not a valid rating type.\")"
   ]
  },
  {
   "cell_type": "code",
   "execution_count": 66,
   "metadata": {},
   "outputs": [
    {
     "name": "stdout",
     "output_type": "stream",
     "text": [
      "\n",
      "MOVIES user RATINGS TIER DISTRIBUTION\n",
      "      user_rating\n",
      "0.33          2.8\n",
      "0.66          3.6\n",
      "0.0 % of the Movies with the highest press ratings received a low user ratings.\n",
      "4.95 % of the Movies with the highest press ratings received a moderate user ratings.\n",
      "95.05 % of the Movies with the highest press ratings received a high user ratings.\n",
      "\n",
      "SERIES user RATINGS TIER DISTRIBUTION\n",
      "      user_rating\n",
      "0.33          3.1\n",
      "0.66          3.4\n",
      "0.0 % of the Series with the highest press ratings received a low user ratings.\n",
      "0.0 % of the Series with the highest press ratings received a moderate user ratings.\n",
      "100.0 % of the Series with the highest press ratings received a high user ratings.\n"
     ]
    },
    {
     "data": {
      "image/png": "[encoded data removed]",
      "text/plain": [
       "<Figure size 1080x432 with 1 Axes>"
      ]
     },
     "metadata": {},
     "output_type": "display_data"
    },
    {
     "data": {
      "image/png": "[encoded data removed]",
      "text/plain": [
       "<Figure size 1080x432 with 1 Axes>"
      ]
     },
     "metadata": {},
     "output_type": "display_data"
    }
   ],
   "source": [
    "compare_max_ratings(rating_from=\"user\", rating_to=\"press\")"
   ]
  },
  {
   "cell_type": "markdown",
   "metadata": {},
   "source": [
    "## Compare press to users ratings"
   ]
  },
  {
   "cell_type": "code",
   "execution_count": 67,
   "metadata": {},
   "outputs": [
    {
     "name": "stdout",
     "output_type": "stream",
     "text": [
      "\n",
      "MOVIES press RATINGS TIER DISTRIBUTION\n",
      "      press_rating\n",
      "0.33           2.9\n",
      "0.66           3.5\n",
      "9.38 % of the Movies with the highest user ratings received a low press ratings.\n",
      "6.25 % of the Movies with the highest user ratings received a moderate press ratings.\n",
      "84.38 % of the Movies with the highest user ratings received a high press ratings.\n",
      "\n",
      "SERIES press RATINGS TIER DISTRIBUTION\n",
      "      press_rating\n",
      "0.33           3.0\n",
      "0.66           3.5\n",
      "0.0 % of the Series with the highest user ratings received a low press ratings.\n",
      "0.0 % of the Series with the highest user ratings received a moderate press ratings.\n",
      "64.29 % of the Series with the highest user ratings received a high press ratings.\n"
     ]
    },
    {
     "data": {
      "image/png": "[encoded data removed]",
      "text/plain": [
       "<Figure size 1080x432 with 1 Axes>"
      ]
     },
     "metadata": {},
     "output_type": "display_data"
    },
    {
     "data": {
      "image/png": "[encoded data removed]",
      "text/plain": [
       "<Figure size 1080x432 with 1 Axes>"
      ]
     },
     "metadata": {},
     "output_type": "display_data"
    }
   ],
   "source": [
    "compare_max_ratings(rating_from=\"press\", rating_to=\"user\")"
   ]
  }
 ],
 "metadata": {
  "interpreter": {
   "hash": "48c0ee024c6cc2421e377eb4076cadf4ce6eb7a4584917e3645e162e32894617"
  },
  "kernelspec": {
   "display_name": "Python 3.9.5 64-bit",
   "language": "python",
   "name": "python3"
  },
  "language_info": {
   "codemirror_mode": {
    "name": "ipython",
    "version": 3
   },
   "file_extension": ".py",
   "mimetype": "text/x-python",
   "name": "python",
   "nbconvert_exporter": "python",
   "pygments_lexer": "ipython3",
   "version": "3.9.5"
  },
  "orig_nbformat": 4
 },
 "nbformat": 4,
 "nbformat_minor": 2
}
