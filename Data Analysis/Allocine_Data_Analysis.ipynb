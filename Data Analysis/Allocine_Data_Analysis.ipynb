{
 "cells": [
  {
   "cell_type": "markdown",
   "metadata": {},
   "source": [
    "# 🎦**AlloCiné Data Analysis**📊\n",
    "\n",
    "We had web scraped the [movies](https://github.com/Bastien-LDC/Allocine-Recommender-System/blob/master/Webscraping/Webscraping_Movies_From_AlloCine.ipynb), [series](https://github.com/Bastien-LDC/Allocine-Recommender-System/blob/master/Webscraping/Webscraping_Series_From_AlloCine.ipynb), and [ratings](https://github.com/Bastien-LDC/Allocine-Recommender-System/blob/master/Webscraping/Webscraping_Ratings_From_AlloCine.ipynb) data from the [AlloCiné](https://www.allocine.fr/) website.\n",
    "\n",
    "**Data description :**\n",
    "\n",
    "Features|Movies|Series|Ratings\n",
    "-------|---------|---------|---\n",
    "`id`|X|X|-\n",
    "`title`|X|X|-\n",
    "`status`|-|X|-\n",
    "`release_date`|X|X|-\n",
    "`duration`|X|X|-\n",
    "`nb_seasons`|-|X|-\n",
    "`nb_episodes`|-|X|-\n",
    "`genres`|X|X|-\n",
    "`directors`|X|X|-\n",
    "`actors`|X|X|-\n",
    "`nationality`|X|X|-\n",
    "`press_rating`|X|X|X\n",
    "`nb_press_rating`|X|X|-\n",
    "`spect_rating`|X|X|X\n",
    "`nb_spect_rating`|X|X|-\n",
    "`summary`|X|X|-\n",
    "`poster_link`|X|X|-\n",
    "`user_id`|-|-|X\n",
    "`(user/press)_name`|-|-|X\n",
    "`(movie/series)_id`|-|-|X\n",
    "`date`|-|-|X\n",
    "\n",
    "\n",
    "If you are interested in, the data is available on one csv (brut and clean version) [allocine_dataset.zip](http://olivier-maillot.fr/wp-content/uploads/2017/08/allocine_dataset.zip) or in multiple csv files (clean version only) [allocine_rel-dataset.zip](http://olivier-maillot.fr/wp-content/uploads/2017/08/allocine_rel-dataset.zip)."
   ]
  },
  {
   "cell_type": "markdown",
   "metadata": {},
   "source": [
    "---\n",
    "# **Data cleaning**"
   ]
  },
  {
   "cell_type": "code",
   "execution_count": 100,
   "metadata": {},
   "outputs": [],
   "source": [
    "# import libraries\n",
    "import pandas as pd\n",
    "import numpy as np\n",
    "import matplotlib.pyplot as plt\n",
    "import seaborn as sns\n",
    "import os\n",
    "\n",
    "\n",
    "%matplotlib inline"
   ]
  },
  {
   "cell_type": "code",
   "execution_count": 101,
   "metadata": {},
   "outputs": [],
   "source": [
    "# Load the csv\n",
    "def load_csv():\n",
    "    '''\n",
    "    Load the csv file and return a dataframe\n",
    "    '''\n",
    "    root_path = \"../Saved Data/\"\n",
    "    movies = pd.read_csv(f\"{root_path}allocine_movies_100p.csv\")\n",
    "    series = pd.read_csv(f\"{root_path}allocine_series_100p.csv\")\n",
    "    press_movies = pd.read_csv(f\"{root_path}press_ratings_movies.csv\")\n",
    "    press_series = pd.read_csv(f\"{root_path}press_ratings_series.csv\")\n",
    "    user_movies = pd.read_csv(f\"{root_path}user_ratings_movies.csv\")\n",
    "    user_series = pd.read_csv(f\"{root_path}user_ratings_series.csv\")\n",
    "    return {\"movies\":movies, \"series\":series, \"press_movies\":press_movies, \"press_series\":press_series, \"user_movies\":user_movies, \"user_series\":user_series}\n",
    "data = load_csv()\n",
    "movies, series, press_movies, press_series, user_movies, user_series = data[\"movies\"], data[\"series\"], data[\"press_movies\"], data[\"press_series\"], data[\"user_movies\"], data[\"user_series\"]"
   ]
  },
  {
   "cell_type": "code",
   "execution_count": 102,
   "metadata": {},
   "outputs": [],
   "source": [
    "# Rename (nb_)spec_rating to (nb_)user_rating\n",
    "movies.rename(columns={'spect_rating':'user_rating', 'nb_spect_rating':'nb_user_rating'}, inplace=True)\n",
    "series.rename(columns={'spect_rating':'user_rating', 'nb_spect_rating':'nb_user_rating'}, inplace=True)"
   ]
  },
  {
   "cell_type": "code",
   "execution_count": 103,
   "metadata": {},
   "outputs": [],
   "source": [
    "# Store columns names\n",
    "movies_cols = movies.columns\n",
    "series_cols = series.columns\n",
    "press_movies_cols = press_movies.columns\n",
    "press_series_cols = press_series.columns\n",
    "user_movies_cols = user_movies.columns\n",
    "user_series_cols = user_series.columns"
   ]
  },
  {
   "cell_type": "code",
   "execution_count": 104,
   "metadata": {},
   "outputs": [],
   "source": [
    "# Convert the strings to arrays\n",
    "def convert_to_array(df: pd.DataFrame):\n",
    "    '''\n",
    "    Convert the strings to arrays\n",
    "    '''\n",
    "    df[\"genres\"] = df[\"genres\"].apply(lambda x: x.split(\",\") if type(x) not in [float,list] else x)\n",
    "    df[\"directors\"] = df[\"directors\"].apply(lambda x: x.split(\",\") if type(x) not in [float,list] else x)\n",
    "    df[\"actors\"] = df[\"actors\"].apply(lambda x: x.split(\",\") if type(x) not in [float,list] else x)\n",
    "    df[\"nationality\"] = df[\"nationality\"].apply(lambda x: x.split(\",\") if type(x) not in [float,list] else x)"
   ]
  },
  {
   "cell_type": "code",
   "execution_count": 105,
   "metadata": {},
   "outputs": [],
   "source": [
    "convert_to_array(movies)\n",
    "convert_to_array(series)\n",
    "# Convert nb_spec_rating and nb_press_rating to int\n",
    "#movies[[\"nb_press_rating\",\"nb_user_rating\"]] = movies[[\"nb_press_rating\",\"nb_user_rating\"]].astype(int)\n",
    "#series[[\"nb_press_rating\",\"nb_user_rating\"]] = series[[\"nb_press_rating\",\"nb_user_rating\"]].astype(int)"
   ]
  },
  {
   "cell_type": "code",
   "execution_count": 106,
   "metadata": {},
   "outputs": [],
   "source": [
    "# Get keys from values in dictionnary\n",
    "def get_keys(val):\n",
    "    '''\n",
    "    Get keys from values in dictionnary\n",
    "    '''\n",
    "    return list(val.keys())"
   ]
  },
  {
   "cell_type": "code",
   "execution_count": 107,
   "metadata": {},
   "outputs": [],
   "source": [
    "def display_stats(df: pd.DataFrame):\n",
    "    '''\n",
    "    Display the statistics of a dataframe\n",
    "    '''\n",
    "    # Graph of number of missing values by column\n",
    "    missing_values = df.isnull().sum()\n",
    "    if missing_values.sum() > 0:      \n",
    "        missing_values = missing_values / df.shape[0] * 100\n",
    "        missing_values = missing_values[missing_values > 0]\n",
    "        missing_values.sort_values(inplace=True)\n",
    "        plt.figure(figsize=(12, 5))\n",
    "        plt.title(f\"Number of missing values in each column\")\n",
    "        sns.barplot(x=missing_values.index, y=missing_values)\n",
    "        plt.show()\n",
    "    else:\n",
    "        print(\"No missing values in the dataframe\")\n",
    "    df.info()\n",
    "    return df.describe()"
   ]
  },
  {
   "cell_type": "code",
   "execution_count": 108,
   "metadata": {},
   "outputs": [
    {
     "data": {
      "image/png": "[encoded data removed]",
      "text/plain": [
       "<Figure size 864x360 with 1 Axes>"
      ]
     },
     "metadata": {
      "needs_background": "light"
     },
     "output_type": "display_data"
    },
    {
     "name": "stdout",
     "output_type": "stream",
     "text": [
      "<class 'pandas.core.frame.DataFrame'>\n",
      "RangeIndex: 1314 entries, 0 to 1313\n",
      "Data columns (total 14 columns):\n",
      " #   Column           Non-Null Count  Dtype  \n",
      "---  ------           --------------  -----  \n",
      " 0   id               1314 non-null   int64  \n",
      " 1   title            1314 non-null   object \n",
      " 2   release_date     1314 non-null   object \n",
      " 3   duration         1306 non-null   float64\n",
      " 4   genres           1314 non-null   object \n",
      " 5   directors        1311 non-null   object \n",
      " 6   actors           1304 non-null   object \n",
      " 7   nationality      1314 non-null   object \n",
      " 8   press_rating     1082 non-null   float64\n",
      " 9   nb_press_rating  1082 non-null   float64\n",
      " 10  user_rating      1313 non-null   float64\n",
      " 11  nb_user_rating   1313 non-null   float64\n",
      " 12  summary          1314 non-null   object \n",
      " 13  poster_link      1314 non-null   object \n",
      "dtypes: float64(5), int64(1), object(8)\n",
      "memory usage: 143.8+ KB\n"
     ]
    },
    {
     "data": {
      "text/html": [
       "<div>\n",
       "<style scoped>\n",
       "    .dataframe tbody tr th:only-of-type {\n",
       "        vertical-align: middle;\n",
       "    }\n",
       "\n",
       "    .dataframe tbody tr th {\n",
       "        vertical-align: top;\n",
       "    }\n",
       "\n",
       "    .dataframe thead th {\n",
       "        text-align: right;\n",
       "    }\n",
       "</style>\n",
       "<table border=\"1\" class=\"dataframe\">\n",
       "  <thead>\n",
       "    <tr style=\"text-align: right;\">\n",
       "      <th></th>\n",
       "      <th>id</th>\n",
       "      <th>duration</th>\n",
       "      <th>press_rating</th>\n",
       "      <th>nb_press_rating</th>\n",
       "      <th>user_rating</th>\n",
       "      <th>nb_user_rating</th>\n",
       "    </tr>\n",
       "  </thead>\n",
       "  <tbody>\n",
       "    <tr>\n",
       "      <th>count</th>\n",
       "      <td>1314.000000</td>\n",
       "      <td>1306.000000</td>\n",
       "      <td>1082.000000</td>\n",
       "      <td>1082.000000</td>\n",
       "      <td>1313.000000</td>\n",
       "      <td>1313.000000</td>\n",
       "    </tr>\n",
       "    <tr>\n",
       "      <th>mean</th>\n",
       "      <td>190412.920852</td>\n",
       "      <td>114.133997</td>\n",
       "      <td>3.368669</td>\n",
       "      <td>20.210721</td>\n",
       "      <td>3.393222</td>\n",
       "      <td>12183.638233</td>\n",
       "    </tr>\n",
       "    <tr>\n",
       "      <th>std</th>\n",
       "      <td>100371.378919</td>\n",
       "      <td>22.899272</td>\n",
       "      <td>0.671301</td>\n",
       "      <td>9.405942</td>\n",
       "      <td>0.725331</td>\n",
       "      <td>20182.985813</td>\n",
       "    </tr>\n",
       "    <tr>\n",
       "      <th>min</th>\n",
       "      <td>62.000000</td>\n",
       "      <td>40.000000</td>\n",
       "      <td>1.000000</td>\n",
       "      <td>1.000000</td>\n",
       "      <td>0.900000</td>\n",
       "      <td>2.000000</td>\n",
       "    </tr>\n",
       "    <tr>\n",
       "      <th>25%</th>\n",
       "      <td>114985.500000</td>\n",
       "      <td>98.000000</td>\n",
       "      <td>2.900000</td>\n",
       "      <td>13.000000</td>\n",
       "      <td>2.900000</td>\n",
       "      <td>605.000000</td>\n",
       "    </tr>\n",
       "    <tr>\n",
       "      <th>50%</th>\n",
       "      <td>231904.000000</td>\n",
       "      <td>110.000000</td>\n",
       "      <td>3.400000</td>\n",
       "      <td>21.000000</td>\n",
       "      <td>3.500000</td>\n",
       "      <td>3518.000000</td>\n",
       "    </tr>\n",
       "    <tr>\n",
       "      <th>75%</th>\n",
       "      <td>274180.250000</td>\n",
       "      <td>126.000000</td>\n",
       "      <td>3.800000</td>\n",
       "      <td>27.000000</td>\n",
       "      <td>4.000000</td>\n",
       "      <td>15259.000000</td>\n",
       "    </tr>\n",
       "    <tr>\n",
       "      <th>max</th>\n",
       "      <td>303108.000000</td>\n",
       "      <td>242.000000</td>\n",
       "      <td>5.000000</td>\n",
       "      <td>45.000000</td>\n",
       "      <td>4.600000</td>\n",
       "      <td>175729.000000</td>\n",
       "    </tr>\n",
       "  </tbody>\n",
       "</table>\n",
       "</div>"
      ],
      "text/plain": [
       "                  id     duration  press_rating  nb_press_rating  user_rating  \\\n",
       "count    1314.000000  1306.000000   1082.000000      1082.000000  1313.000000   \n",
       "mean   190412.920852   114.133997      3.368669        20.210721     3.393222   \n",
       "std    100371.378919    22.899272      0.671301         9.405942     0.725331   \n",
       "min        62.000000    40.000000      1.000000         1.000000     0.900000   \n",
       "25%    114985.500000    98.000000      2.900000        13.000000     2.900000   \n",
       "50%    231904.000000   110.000000      3.400000        21.000000     3.500000   \n",
       "75%    274180.250000   126.000000      3.800000        27.000000     4.000000   \n",
       "max    303108.000000   242.000000      5.000000        45.000000     4.600000   \n",
       "\n",
       "       nb_user_rating  \n",
       "count     1313.000000  \n",
       "mean     12183.638233  \n",
       "std      20182.985813  \n",
       "min          2.000000  \n",
       "25%        605.000000  \n",
       "50%       3518.000000  \n",
       "75%      15259.000000  \n",
       "max     175729.000000  "
      ]
     },
     "execution_count": 108,
     "metadata": {},
     "output_type": "execute_result"
    }
   ],
   "source": [
    "m_stats = display_stats(movies)\n",
    "m_stats"
   ]
  },
  {
   "cell_type": "code",
   "execution_count": 109,
   "metadata": {},
   "outputs": [
    {
     "data": {
      "image/png": "[encoded data removed]",
      "text/plain": [
       "<Figure size 864x360 with 1 Axes>"
      ]
     },
     "metadata": {
      "needs_background": "light"
     },
     "output_type": "display_data"
    },
    {
     "name": "stdout",
     "output_type": "stream",
     "text": [
      "<class 'pandas.core.frame.DataFrame'>\n",
      "RangeIndex: 1417 entries, 0 to 1416\n",
      "Data columns (total 17 columns):\n",
      " #   Column           Non-Null Count  Dtype  \n",
      "---  ------           --------------  -----  \n",
      " 0   id               1417 non-null   int64  \n",
      " 1   title            1417 non-null   object \n",
      " 2   status           1417 non-null   object \n",
      " 3   release_date     1417 non-null   object \n",
      " 4   duration         1402 non-null   float64\n",
      " 5   nb_seasons       1412 non-null   float64\n",
      " 6   nb_episodes      1403 non-null   float64\n",
      " 7   genres           1417 non-null   object \n",
      " 8   directors        1314 non-null   object \n",
      " 9   actors           1380 non-null   object \n",
      " 10  nationality      1416 non-null   object \n",
      " 11  press_rating     538 non-null    float64\n",
      " 12  nb_press_rating  538 non-null    float64\n",
      " 13  user_rating      1412 non-null   float64\n",
      " 14  nb_user_rating   1412 non-null   float64\n",
      " 15  summary          1412 non-null   object \n",
      " 16  poster_link      1417 non-null   object \n",
      "dtypes: float64(7), int64(1), object(9)\n",
      "memory usage: 188.3+ KB\n"
     ]
    },
    {
     "data": {
      "text/html": [
       "<div>\n",
       "<style scoped>\n",
       "    .dataframe tbody tr th:only-of-type {\n",
       "        vertical-align: middle;\n",
       "    }\n",
       "\n",
       "    .dataframe tbody tr th {\n",
       "        vertical-align: top;\n",
       "    }\n",
       "\n",
       "    .dataframe thead th {\n",
       "        text-align: right;\n",
       "    }\n",
       "</style>\n",
       "<table border=\"1\" class=\"dataframe\">\n",
       "  <thead>\n",
       "    <tr style=\"text-align: right;\">\n",
       "      <th></th>\n",
       "      <th>id</th>\n",
       "      <th>duration</th>\n",
       "      <th>nb_seasons</th>\n",
       "      <th>nb_episodes</th>\n",
       "      <th>press_rating</th>\n",
       "      <th>nb_press_rating</th>\n",
       "      <th>user_rating</th>\n",
       "      <th>nb_user_rating</th>\n",
       "    </tr>\n",
       "  </thead>\n",
       "  <tbody>\n",
       "    <tr>\n",
       "      <th>count</th>\n",
       "      <td>1417.000000</td>\n",
       "      <td>1402.000000</td>\n",
       "      <td>1412.000000</td>\n",
       "      <td>1403.000000</td>\n",
       "      <td>538.000000</td>\n",
       "      <td>538.000000</td>\n",
       "      <td>1412.000000</td>\n",
       "      <td>1412.000000</td>\n",
       "    </tr>\n",
       "    <tr>\n",
       "      <th>mean</th>\n",
       "      <td>18410.076923</td>\n",
       "      <td>45.589872</td>\n",
       "      <td>3.462465</td>\n",
       "      <td>56.213115</td>\n",
       "      <td>3.320260</td>\n",
       "      <td>8.423792</td>\n",
       "      <td>3.582861</td>\n",
       "      <td>3858.217422</td>\n",
       "    </tr>\n",
       "    <tr>\n",
       "      <th>std</th>\n",
       "      <td>9185.343923</td>\n",
       "      <td>15.212255</td>\n",
       "      <td>3.973424</td>\n",
       "      <td>160.353704</td>\n",
       "      <td>0.598803</td>\n",
       "      <td>3.749457</td>\n",
       "      <td>0.607539</td>\n",
       "      <td>12297.334603</td>\n",
       "    </tr>\n",
       "    <tr>\n",
       "      <th>min</th>\n",
       "      <td>4.000000</td>\n",
       "      <td>3.000000</td>\n",
       "      <td>1.000000</td>\n",
       "      <td>1.000000</td>\n",
       "      <td>1.300000</td>\n",
       "      <td>1.000000</td>\n",
       "      <td>0.900000</td>\n",
       "      <td>1.000000</td>\n",
       "    </tr>\n",
       "    <tr>\n",
       "      <th>25%</th>\n",
       "      <td>11146.000000</td>\n",
       "      <td>42.000000</td>\n",
       "      <td>1.000000</td>\n",
       "      <td>10.000000</td>\n",
       "      <td>2.900000</td>\n",
       "      <td>6.000000</td>\n",
       "      <td>3.300000</td>\n",
       "      <td>126.000000</td>\n",
       "    </tr>\n",
       "    <tr>\n",
       "      <th>50%</th>\n",
       "      <td>21842.000000</td>\n",
       "      <td>45.000000</td>\n",
       "      <td>2.000000</td>\n",
       "      <td>20.000000</td>\n",
       "      <td>3.300000</td>\n",
       "      <td>8.000000</td>\n",
       "      <td>3.700000</td>\n",
       "      <td>482.000000</td>\n",
       "    </tr>\n",
       "    <tr>\n",
       "      <th>75%</th>\n",
       "      <td>25149.000000</td>\n",
       "      <td>55.000000</td>\n",
       "      <td>4.000000</td>\n",
       "      <td>52.000000</td>\n",
       "      <td>3.800000</td>\n",
       "      <td>10.000000</td>\n",
       "      <td>4.000000</td>\n",
       "      <td>2090.500000</td>\n",
       "    </tr>\n",
       "    <tr>\n",
       "      <th>max</th>\n",
       "      <td>31644.000000</td>\n",
       "      <td>150.000000</td>\n",
       "      <td>52.000000</td>\n",
       "      <td>4573.000000</td>\n",
       "      <td>5.000000</td>\n",
       "      <td>30.000000</td>\n",
       "      <td>4.700000</td>\n",
       "      <td>205979.000000</td>\n",
       "    </tr>\n",
       "  </tbody>\n",
       "</table>\n",
       "</div>"
      ],
      "text/plain": [
       "                 id     duration   nb_seasons  nb_episodes  press_rating  \\\n",
       "count   1417.000000  1402.000000  1412.000000  1403.000000    538.000000   \n",
       "mean   18410.076923    45.589872     3.462465    56.213115      3.320260   \n",
       "std     9185.343923    15.212255     3.973424   160.353704      0.598803   \n",
       "min        4.000000     3.000000     1.000000     1.000000      1.300000   \n",
       "25%    11146.000000    42.000000     1.000000    10.000000      2.900000   \n",
       "50%    21842.000000    45.000000     2.000000    20.000000      3.300000   \n",
       "75%    25149.000000    55.000000     4.000000    52.000000      3.800000   \n",
       "max    31644.000000   150.000000    52.000000  4573.000000      5.000000   \n",
       "\n",
       "       nb_press_rating  user_rating  nb_user_rating  \n",
       "count       538.000000  1412.000000     1412.000000  \n",
       "mean          8.423792     3.582861     3858.217422  \n",
       "std           3.749457     0.607539    12297.334603  \n",
       "min           1.000000     0.900000        1.000000  \n",
       "25%           6.000000     3.300000      126.000000  \n",
       "50%           8.000000     3.700000      482.000000  \n",
       "75%          10.000000     4.000000     2090.500000  \n",
       "max          30.000000     4.700000   205979.000000  "
      ]
     },
     "execution_count": 109,
     "metadata": {},
     "output_type": "execute_result"
    }
   ],
   "source": [
    "s_stats = display_stats(series)\n",
    "s_stats"
   ]
  },
  {
   "cell_type": "code",
   "execution_count": 110,
   "metadata": {},
   "outputs": [
    {
     "name": "stdout",
     "output_type": "stream",
     "text": [
      "No missing values in the dataframe\n",
      "<class 'pandas.core.frame.DataFrame'>\n",
      "RangeIndex: 21582 entries, 0 to 21581\n",
      "Data columns (total 3 columns):\n",
      " #   Column        Non-Null Count  Dtype  \n",
      "---  ------        --------------  -----  \n",
      " 0   press_name    21582 non-null  object \n",
      " 1   movie_id      21582 non-null  int64  \n",
      " 2   press_rating  21582 non-null  float64\n",
      "dtypes: float64(1), int64(1), object(1)\n",
      "memory usage: 506.0+ KB\n"
     ]
    },
    {
     "data": {
      "text/html": [
       "<div>\n",
       "<style scoped>\n",
       "    .dataframe tbody tr th:only-of-type {\n",
       "        vertical-align: middle;\n",
       "    }\n",
       "\n",
       "    .dataframe tbody tr th {\n",
       "        vertical-align: top;\n",
       "    }\n",
       "\n",
       "    .dataframe thead th {\n",
       "        text-align: right;\n",
       "    }\n",
       "</style>\n",
       "<table border=\"1\" class=\"dataframe\">\n",
       "  <thead>\n",
       "    <tr style=\"text-align: right;\">\n",
       "      <th></th>\n",
       "      <th>movie_id</th>\n",
       "      <th>press_rating</th>\n",
       "    </tr>\n",
       "  </thead>\n",
       "  <tbody>\n",
       "    <tr>\n",
       "      <th>count</th>\n",
       "      <td>21582.000000</td>\n",
       "      <td>21582.000000</td>\n",
       "    </tr>\n",
       "    <tr>\n",
       "      <th>mean</th>\n",
       "      <td>200088.014920</td>\n",
       "      <td>3.446159</td>\n",
       "    </tr>\n",
       "    <tr>\n",
       "      <th>std</th>\n",
       "      <td>85667.022665</td>\n",
       "      <td>1.097436</td>\n",
       "    </tr>\n",
       "    <tr>\n",
       "      <th>min</th>\n",
       "      <td>62.000000</td>\n",
       "      <td>1.000000</td>\n",
       "    </tr>\n",
       "    <tr>\n",
       "      <th>25%</th>\n",
       "      <td>135082.000000</td>\n",
       "      <td>3.000000</td>\n",
       "    </tr>\n",
       "    <tr>\n",
       "      <th>50%</th>\n",
       "      <td>230868.000000</td>\n",
       "      <td>4.000000</td>\n",
       "    </tr>\n",
       "    <tr>\n",
       "      <th>75%</th>\n",
       "      <td>269758.000000</td>\n",
       "      <td>4.000000</td>\n",
       "    </tr>\n",
       "    <tr>\n",
       "      <th>max</th>\n",
       "      <td>299394.000000</td>\n",
       "      <td>5.000000</td>\n",
       "    </tr>\n",
       "  </tbody>\n",
       "</table>\n",
       "</div>"
      ],
      "text/plain": [
       "            movie_id  press_rating\n",
       "count   21582.000000  21582.000000\n",
       "mean   200088.014920      3.446159\n",
       "std     85667.022665      1.097436\n",
       "min        62.000000      1.000000\n",
       "25%    135082.000000      3.000000\n",
       "50%    230868.000000      4.000000\n",
       "75%    269758.000000      4.000000\n",
       "max    299394.000000      5.000000"
      ]
     },
     "execution_count": 110,
     "metadata": {},
     "output_type": "execute_result"
    }
   ],
   "source": [
    "pm_stats = display_stats(press_movies)\n",
    "pm_stats"
   ]
  },
  {
   "cell_type": "code",
   "execution_count": 111,
   "metadata": {},
   "outputs": [
    {
     "name": "stdout",
     "output_type": "stream",
     "text": [
      "No missing values in the dataframe\n",
      "<class 'pandas.core.frame.DataFrame'>\n",
      "RangeIndex: 4516 entries, 0 to 4515\n",
      "Data columns (total 3 columns):\n",
      " #   Column        Non-Null Count  Dtype  \n",
      "---  ------        --------------  -----  \n",
      " 0   press_name    4516 non-null   object \n",
      " 1   series_id     4516 non-null   int64  \n",
      " 2   press_rating  4516 non-null   float64\n",
      "dtypes: float64(1), int64(1), object(1)\n",
      "memory usage: 106.0+ KB\n"
     ]
    },
    {
     "data": {
      "text/html": [
       "<div>\n",
       "<style scoped>\n",
       "    .dataframe tbody tr th:only-of-type {\n",
       "        vertical-align: middle;\n",
       "    }\n",
       "\n",
       "    .dataframe tbody tr th {\n",
       "        vertical-align: top;\n",
       "    }\n",
       "\n",
       "    .dataframe thead th {\n",
       "        text-align: right;\n",
       "    }\n",
       "</style>\n",
       "<table border=\"1\" class=\"dataframe\">\n",
       "  <thead>\n",
       "    <tr style=\"text-align: right;\">\n",
       "      <th></th>\n",
       "      <th>series_id</th>\n",
       "      <th>press_rating</th>\n",
       "    </tr>\n",
       "  </thead>\n",
       "  <tbody>\n",
       "    <tr>\n",
       "      <th>count</th>\n",
       "      <td>4516.00000</td>\n",
       "      <td>4516.000000</td>\n",
       "    </tr>\n",
       "    <tr>\n",
       "      <th>mean</th>\n",
       "      <td>19829.66519</td>\n",
       "      <td>3.379650</td>\n",
       "    </tr>\n",
       "    <tr>\n",
       "      <th>std</th>\n",
       "      <td>6495.73654</td>\n",
       "      <td>0.951869</td>\n",
       "    </tr>\n",
       "    <tr>\n",
       "      <th>min</th>\n",
       "      <td>49.00000</td>\n",
       "      <td>0.500000</td>\n",
       "    </tr>\n",
       "    <tr>\n",
       "      <th>25%</th>\n",
       "      <td>17464.00000</td>\n",
       "      <td>3.000000</td>\n",
       "    </tr>\n",
       "    <tr>\n",
       "      <th>50%</th>\n",
       "      <td>22019.00000</td>\n",
       "      <td>3.500000</td>\n",
       "    </tr>\n",
       "    <tr>\n",
       "      <th>75%</th>\n",
       "      <td>24397.00000</td>\n",
       "      <td>4.000000</td>\n",
       "    </tr>\n",
       "    <tr>\n",
       "      <th>max</th>\n",
       "      <td>30429.00000</td>\n",
       "      <td>5.000000</td>\n",
       "    </tr>\n",
       "  </tbody>\n",
       "</table>\n",
       "</div>"
      ],
      "text/plain": [
       "         series_id  press_rating\n",
       "count   4516.00000   4516.000000\n",
       "mean   19829.66519      3.379650\n",
       "std     6495.73654      0.951869\n",
       "min       49.00000      0.500000\n",
       "25%    17464.00000      3.000000\n",
       "50%    22019.00000      3.500000\n",
       "75%    24397.00000      4.000000\n",
       "max    30429.00000      5.000000"
      ]
     },
     "execution_count": 111,
     "metadata": {},
     "output_type": "execute_result"
    }
   ],
   "source": [
    "ps_stats = display_stats(press_series)\n",
    "ps_stats"
   ]
  },
  {
   "cell_type": "code",
   "execution_count": 112,
   "metadata": {},
   "outputs": [
    {
     "name": "stdout",
     "output_type": "stream",
     "text": [
      "No missing values in the dataframe\n",
      "<class 'pandas.core.frame.DataFrame'>\n",
      "RangeIndex: 105711 entries, 0 to 105710\n",
      "Data columns (total 5 columns):\n",
      " #   Column       Non-Null Count   Dtype  \n",
      "---  ------       --------------   -----  \n",
      " 0   user_id      105711 non-null  object \n",
      " 1   user_name    105711 non-null  object \n",
      " 2   movie_id     105711 non-null  int64  \n",
      " 3   user_rating  105711 non-null  float64\n",
      " 4   date         105711 non-null  object \n",
      "dtypes: float64(1), int64(1), object(3)\n",
      "memory usage: 4.0+ MB\n"
     ]
    },
    {
     "data": {
      "text/html": [
       "<div>\n",
       "<style scoped>\n",
       "    .dataframe tbody tr th:only-of-type {\n",
       "        vertical-align: middle;\n",
       "    }\n",
       "\n",
       "    .dataframe tbody tr th {\n",
       "        vertical-align: top;\n",
       "    }\n",
       "\n",
       "    .dataframe thead th {\n",
       "        text-align: right;\n",
       "    }\n",
       "</style>\n",
       "<table border=\"1\" class=\"dataframe\">\n",
       "  <thead>\n",
       "    <tr style=\"text-align: right;\">\n",
       "      <th></th>\n",
       "      <th>movie_id</th>\n",
       "      <th>user_rating</th>\n",
       "    </tr>\n",
       "  </thead>\n",
       "  <tbody>\n",
       "    <tr>\n",
       "      <th>count</th>\n",
       "      <td>105711.000000</td>\n",
       "      <td>105711.000000</td>\n",
       "    </tr>\n",
       "    <tr>\n",
       "      <th>mean</th>\n",
       "      <td>177012.461220</td>\n",
       "      <td>3.302168</td>\n",
       "    </tr>\n",
       "    <tr>\n",
       "      <th>std</th>\n",
       "      <td>98340.085009</td>\n",
       "      <td>1.170735</td>\n",
       "    </tr>\n",
       "    <tr>\n",
       "      <th>min</th>\n",
       "      <td>62.000000</td>\n",
       "      <td>0.500000</td>\n",
       "    </tr>\n",
       "    <tr>\n",
       "      <th>25%</th>\n",
       "      <td>61764.000000</td>\n",
       "      <td>2.500000</td>\n",
       "    </tr>\n",
       "    <tr>\n",
       "      <th>50%</th>\n",
       "      <td>218229.000000</td>\n",
       "      <td>3.500000</td>\n",
       "    </tr>\n",
       "    <tr>\n",
       "      <th>75%</th>\n",
       "      <td>263209.000000</td>\n",
       "      <td>4.000000</td>\n",
       "    </tr>\n",
       "    <tr>\n",
       "      <th>max</th>\n",
       "      <td>302945.000000</td>\n",
       "      <td>5.000000</td>\n",
       "    </tr>\n",
       "  </tbody>\n",
       "</table>\n",
       "</div>"
      ],
      "text/plain": [
       "            movie_id    user_rating\n",
       "count  105711.000000  105711.000000\n",
       "mean   177012.461220       3.302168\n",
       "std     98340.085009       1.170735\n",
       "min        62.000000       0.500000\n",
       "25%     61764.000000       2.500000\n",
       "50%    218229.000000       3.500000\n",
       "75%    263209.000000       4.000000\n",
       "max    302945.000000       5.000000"
      ]
     },
     "execution_count": 112,
     "metadata": {},
     "output_type": "execute_result"
    }
   ],
   "source": [
    "um_stats = display_stats(user_movies)\n",
    "um_stats"
   ]
  },
  {
   "cell_type": "code",
   "execution_count": 113,
   "metadata": {},
   "outputs": [
    {
     "data": {
      "image/png": "[encoded data removed]",
      "text/plain": [
       "<Figure size 864x360 with 1 Axes>"
      ]
     },
     "metadata": {
      "needs_background": "light"
     },
     "output_type": "display_data"
    },
    {
     "name": "stdout",
     "output_type": "stream",
     "text": [
      "<class 'pandas.core.frame.DataFrame'>\n",
      "RangeIndex: 60031 entries, 0 to 60030\n",
      "Data columns (total 5 columns):\n",
      " #   Column       Non-Null Count  Dtype  \n",
      "---  ------       --------------  -----  \n",
      " 0   user_id      60031 non-null  object \n",
      " 1   user_name    60030 non-null  object \n",
      " 2   series_id    60031 non-null  int64  \n",
      " 3   user_rating  60031 non-null  float64\n",
      " 4   date         60031 non-null  object \n",
      "dtypes: float64(1), int64(1), object(3)\n",
      "memory usage: 2.3+ MB\n"
     ]
    },
    {
     "data": {
      "text/html": [
       "<div>\n",
       "<style scoped>\n",
       "    .dataframe tbody tr th:only-of-type {\n",
       "        vertical-align: middle;\n",
       "    }\n",
       "\n",
       "    .dataframe tbody tr th {\n",
       "        vertical-align: top;\n",
       "    }\n",
       "\n",
       "    .dataframe thead th {\n",
       "        text-align: right;\n",
       "    }\n",
       "</style>\n",
       "<table border=\"1\" class=\"dataframe\">\n",
       "  <thead>\n",
       "    <tr style=\"text-align: right;\">\n",
       "      <th></th>\n",
       "      <th>series_id</th>\n",
       "      <th>user_rating</th>\n",
       "    </tr>\n",
       "  </thead>\n",
       "  <tbody>\n",
       "    <tr>\n",
       "      <th>count</th>\n",
       "      <td>60031.000000</td>\n",
       "      <td>60031.000000</td>\n",
       "    </tr>\n",
       "    <tr>\n",
       "      <th>mean</th>\n",
       "      <td>15515.704053</td>\n",
       "      <td>3.584356</td>\n",
       "    </tr>\n",
       "    <tr>\n",
       "      <th>std</th>\n",
       "      <td>9351.003920</td>\n",
       "      <td>1.421383</td>\n",
       "    </tr>\n",
       "    <tr>\n",
       "      <th>min</th>\n",
       "      <td>4.000000</td>\n",
       "      <td>0.500000</td>\n",
       "    </tr>\n",
       "    <tr>\n",
       "      <th>25%</th>\n",
       "      <td>7634.000000</td>\n",
       "      <td>2.500000</td>\n",
       "    </tr>\n",
       "    <tr>\n",
       "      <th>50%</th>\n",
       "      <td>18752.000000</td>\n",
       "      <td>4.000000</td>\n",
       "    </tr>\n",
       "    <tr>\n",
       "      <th>75%</th>\n",
       "      <td>23563.000000</td>\n",
       "      <td>5.000000</td>\n",
       "    </tr>\n",
       "    <tr>\n",
       "      <th>max</th>\n",
       "      <td>31644.000000</td>\n",
       "      <td>5.000000</td>\n",
       "    </tr>\n",
       "  </tbody>\n",
       "</table>\n",
       "</div>"
      ],
      "text/plain": [
       "          series_id   user_rating\n",
       "count  60031.000000  60031.000000\n",
       "mean   15515.704053      3.584356\n",
       "std     9351.003920      1.421383\n",
       "min        4.000000      0.500000\n",
       "25%     7634.000000      2.500000\n",
       "50%    18752.000000      4.000000\n",
       "75%    23563.000000      5.000000\n",
       "max    31644.000000      5.000000"
      ]
     },
     "execution_count": 113,
     "metadata": {},
     "output_type": "execute_result"
    }
   ],
   "source": [
    "us_stats = display_stats(user_series)\n",
    "us_stats"
   ]
  },
  {
   "cell_type": "markdown",
   "metadata": {},
   "source": [
    "## **Save Cleaned datasets**"
   ]
  },
  {
   "cell_type": "code",
   "execution_count": 99,
   "metadata": {},
   "outputs": [],
   "source": [
    "# Save all the dataframes from data in a csv file\n",
    "def save_data(df: pd.DataFrame, path:str, name: str):\n",
    "    df.to_csv(f\"{path}{name}.csv\", index=False)\n",
    "\n",
    "path = \"../Cleaned Data/\"\n",
    "# We create the folder if not exists\n",
    "os.makedirs(os.path.dirname(path), exist_ok=True)\n",
    "for k,v in data.items():\n",
    "    save_data(v, path, k)"
   ]
  },
  {
   "cell_type": "markdown",
   "metadata": {},
   "source": [
    "# **Section 1. Ratings Distributions**\n",
    "\n",
    "## Plot the Distribution of Ratings "
   ]
  },
  {
   "cell_type": "code",
   "execution_count": 72,
   "metadata": {},
   "outputs": [
    {
     "data": {
      "image/png": "[encoded data removed]",
      "text/plain": [
       "<Figure size 1152x288 with 3 Axes>"
      ]
     },
     "metadata": {},
     "output_type": "display_data"
    },
    {
     "data": {
      "image/png": "[encoded data removed]",
      "text/plain": [
       "<Figure size 1152x288 with 3 Axes>"
      ]
     },
     "metadata": {},
     "output_type": "display_data"
    }
   ],
   "source": [
    "for df in data[:2]:\n",
    "    sns.set(style=\"white\", palette=\"deep\")\n",
    "\n",
    "    fig, axes = plt.subplots(1, 3, figsize = (16,4))\n",
    "    ax1, ax2, ax3 = fig.axes\n",
    "\n",
    "    ax1.set_xlim([0.5,5.5])\n",
    "    ax2.set_xlim([0.5,5.5])\n",
    "    ax3.set_xlim([0.5,5.5])\n",
    "\n",
    "\n",
    "    ax1.hist(df[\"press_rating\"], bins = 10, range = (0,5), color='C0') # bin range = 1\n",
    "    ax1.set_title('Press Ratings Distribution')\n",
    "    ax1.set_xlabel('Ratings')\n",
    "\n",
    "    ax2.hist(df[\"user_rating\"], bins = 10, range = (0,5), color='C1') # bin range = 1\n",
    "    ax2.set_title('Users Ratings Distribution')\n",
    "    ax2.set_xlabel('Ratings')\n",
    "\n",
    "    ax3.hist(df[\"press_rating\"], bins = 10, range = (0,5), histtype = 'step', \n",
    "            lw=1.5, label='Press Ratings', color='C0')\n",
    "    ax3.hist(df[\"user_rating\"], bins = 10, range = (0,5), histtype = 'step', \n",
    "            lw=1.5, label='Users Ratings', color='C1')\n",
    "    ax3.legend(loc = 'upper left')\n",
    "    ax3.set_title('Comparison of Distributions')\n",
    "    ax3.set_xlabel('Ratings')\n",
    "\n",
    "    for ax in fig.axes:\n",
    "        ax.spines['top'].set_visible(False)\n",
    "        ax.spines['right'].set_visible(False)"
   ]
  },
  {
   "cell_type": "code",
   "execution_count": 73,
   "metadata": {},
   "outputs": [],
   "source": [
    "# save the fig\n",
    "fig.savefig('allocine-0_hist.png', bbox_inches='tight', dpi=200)"
   ]
  },
  {
   "cell_type": "markdown",
   "metadata": {},
   "source": [
    "## Ratings Correlation"
   ]
  },
  {
   "cell_type": "code",
   "execution_count": 74,
   "metadata": {},
   "outputs": [
    {
     "data": {
      "image/png": "[encoded data removed]",
      "text/plain": [
       "<Figure size 504x504 with 3 Axes>"
      ]
     },
     "metadata": {},
     "output_type": "display_data"
    },
    {
     "data": {
      "image/png": "[encoded data removed]",
      "text/plain": [
       "<Figure size 504x504 with 3 Axes>"
      ]
     },
     "metadata": {},
     "output_type": "display_data"
    }
   ],
   "source": [
    "# Correlation between press_rating and user_rating\n",
    "for df in data[:2]:\n",
    "    ax = sns.jointplot(x=\"press_rating\", y=\"user_rating\", \n",
    "                    data=df, kind=\"hex\",\n",
    "                    marginal_kws=dict(bins=20),\n",
    "                    xlim=(0.8,5.1), ylim=(0.8,5.1),\n",
    "                    height=7, space=0).set_axis_labels(\"Press Ratings\", \"Users Ratings\")"
   ]
  },
  {
   "cell_type": "code",
   "execution_count": null,
   "metadata": {},
   "outputs": [],
   "source": [
    "# save the fig\n",
    "ax.savefig('allocine-1_jointplot.png', bbox_inches='tight', dpi=200)"
   ]
  },
  {
   "cell_type": "markdown",
   "metadata": {},
   "source": [
    "# **Section 2. Five Stars Movies Analysis**\n",
    "\n",
    "The press seems to give much more hightest ratings than AlloCiné users. We need to dig a little bit more to see what happening here. In this section we use a subset of the data where press ratings are five stars. "
   ]
  },
  {
   "cell_type": "markdown",
   "metadata": {},
   "source": [
    "## Compare to users ratings"
   ]
  },
  {
   "cell_type": "code",
   "execution_count": null,
   "metadata": {},
   "outputs": [],
   "source": [
    "five_stars = allocine[allocine[\"press_rating\"] >= 5]\n",
    "f, ax = plt.subplots(figsize=(15,6))\n",
    "f.suptitle('Movies with Five Stars From The Press', \n",
    "           fontsize=13)\n",
    "f.subplots_adjust(top=0.85)\n",
    "\n",
    "sns.countplot(x=five_stars[\"user_rating\"], ax=ax)\n",
    "ax.set_xlabel(\"Users Ratings\")\n",
    "ax.set_ylabel(\"\")\n",
    "sns.despine(top=True, right=True, left=False, bottom=False)"
   ]
  },
  {
   "cell_type": "code",
   "execution_count": null,
   "metadata": {},
   "outputs": [],
   "source": [
    "# save the fig\n",
    "f.savefig('allocine-2_hist5stars.png', bbox_inches='tight', dpi=200)"
   ]
  },
  {
   "cell_type": "code",
   "execution_count": null,
   "metadata": {},
   "outputs": [],
   "source": [
    "# print the first tier and second tier of the Users Ratings\n",
    "allocine[[\"user_rating\"]].quantile([.33,.66])"
   ]
  },
  {
   "cell_type": "code",
   "execution_count": null,
   "metadata": {},
   "outputs": [],
   "source": [
    "p = (len(five_stars[(five_stars[\"user_rating\"] < 2.9)]) / len(five_stars)) * 100\n",
    "print('{} % of the movies with the highest press ratings received a low users ratings.'.format(round(p, 2)))\n",
    "p = (len(five_stars[(five_stars[\"user_rating\"] < 3.4) & (five_stars[\"user_rating\"] >= 2.9)]) / len(five_stars)) * 100\n",
    "print('{} % of the movies with the highest press ratings received a moderate users ratings.'.format(round(p, 2)))\n",
    "p = (len(five_stars[five_stars[\"user_rating\"] >= 3.4]) / len(five_stars)) * 100\n",
    "print('{} % of the movies with the highest press ratings received a high users ratings.'.format(round(p, 2)))"
   ]
  },
  {
   "cell_type": "markdown",
   "metadata": {},
   "source": [
    "# **Section 3. Data Exploration**"
   ]
  },
  {
   "cell_type": "markdown",
   "metadata": {},
   "source": [
    "## **GENRE**"
   ]
  },
  {
   "cell_type": "markdown",
   "metadata": {},
   "source": [
    "### Number of movies per genre"
   ]
  },
  {
   "cell_type": "markdown",
   "metadata": {},
   "source": [
    "#### *Get all genres*"
   ]
  },
  {
   "cell_type": "code",
   "execution_count": 85,
   "metadata": {},
   "outputs": [
    {
     "name": "stdout",
     "output_type": "stream",
     "text": [
      "['Action', 'Animation', 'Arts Martiaux', 'Aventure', 'Biopic', 'Comédie', 'Comédie dramatique', 'Comédie musicale', 'Drame', 'Epouvante-horreur', 'Erotique', 'Espionnage', 'Famille', 'Fantastique', 'Guerre', 'Historique', 'Judiciaire', 'Musical', 'Policier', 'Péplum', 'Romance', 'Science fiction', 'Sport event', 'Thriller', 'Western']\n",
      "['Action', 'Animation', 'Arts Martiaux', 'Aventure', 'Biopic', 'Comédie', 'Comédie dramatique', 'Comédie musicale', 'Dessin animé', 'Documentaire', 'Drame', 'Epouvante-horreur', 'Erotique', 'Espionnage', 'Famille', 'Fantastique', 'Guerre', 'Historique', 'Judiciaire', 'Musical', 'Médical', 'Policier', 'Péplum', 'Romance', 'Science fiction', 'Show', 'Soap', 'Sport event', 'Thriller', 'Websérie', 'Western']\n"
     ]
    },
    {
     "data": {
      "text/plain": [
       "False"
      ]
     },
     "execution_count": 85,
     "metadata": {},
     "output_type": "execute_result"
    }
   ],
   "source": [
    "# Get all unique m_genres from list of m_genres\n",
    "m_genres, s_genres = [genre.lstrip() for m_genres in movies[\"genres\"] for genre in m_genres], [genre.lstrip() for m_genres in series[\"genres\"] for genre in m_genres]\n",
    "m_genres, s_genres = sorted(list(set(m_genres))), sorted(list(set(s_genres)))\n",
    "print(m_genres),print(s_genres)\n",
    "m_genres == s_genres"
   ]
  },
  {
   "cell_type": "markdown",
   "metadata": {},
   "source": [
    "#### *Create a `genre` dataframe*"
   ]
  },
  {
   "cell_type": "code",
   "execution_count": null,
   "metadata": {},
   "outputs": [],
   "source": [
    "# Create dataframe with the number of movies per genre from genre list\n",
    "genre_df = pd.DataFrame({\"genre\": genres, \"nb_movies\": [allocine[allocine[\"genres\"].apply(lambda x: genre in x).values].shape[0] for genre in genres]})\n",
    "\n",
    "# Add the nb_press_rating and nb_user_rating to the genre_df\n",
    "genre_df[\"nb_press_rating\"] = [allocine[allocine[\"genres\"].apply(lambda x: genre in x).values][\"nb_press_rating\"].sum() for genre in genres]\n",
    "genre_df[\"nb_user_rating\"] = [allocine[allocine[\"genres\"].apply(lambda x: genre in x).values][\"nb_user_rating\"].sum() for genre in genres]\n",
    "\n",
    "# Add the total_ rating to the genre_df (press_rating + user_rating)\n",
    "genre_df[\"total_rating\"] = genre_df[\"nb_press_rating\"] + genre_df[\"nb_user_rating\"]\n",
    "\n",
    "# Add the press_rating_percentage and user_rating_percentage to the genre_df \n",
    "genre_df[\"press_rating_percentage\"] = round(genre_df[\"nb_press_rating\"] / genre_df[\"nb_press_rating\"].values.sum() * 100, 2)\n",
    "genre_df[\"user_rating_percentage\"] = round(genre_df[\"nb_user_rating\"] / genre_df[\"nb_user_rating\"].values.sum() * 100, 2)\n",
    "\n",
    "# Add the movie_percentage to the genre_df\n",
    "genre_df[\"movie_percentage\"] = round(genre_df[\"nb_movies\"]/nb_movies * 100, 2)\n",
    "genre_df"
   ]
  },
  {
   "cell_type": "code",
   "execution_count": null,
   "metadata": {},
   "outputs": [],
   "source": [
    "# Hist of the percentage of movies per genre\n",
    "ax = sns.barplot(x=\"genre\", y=\"movie_percentage\", data=genre_df, color=\"C2\")\n",
    "ax.set_title(\"Percentage of movies per genre\")\n",
    "ax.set_xlabel(\"Genre\")\n",
    "ax.set_ylabel(\"Percentage of movies\")\n",
    "\n",
    "# Pretty print x axis names\n",
    "for i, genre in enumerate(ax.get_xticklabels()):\n",
    "    genre.set_rotation(90)\n",
    "    genre.set_horizontalalignment('center')\n",
    "    genre.set_position((i, 0))\n",
    "\n",
    "# Print the data values on top of the bars\n",
    "for i, genre in enumerate(ax.patches):\n",
    "    ax.text(genre.get_x() + genre.get_width()/2.,\n",
    "            genre.get_height() + 0.5,\n",
    "            str(genre_df.iloc[i][\"movie_percentage\"]) + \"%\",\n",
    "            ha='center',\n",
    "            color='black',\n",
    "            fontsize=10)"
   ]
  },
  {
   "cell_type": "code",
   "execution_count": null,
   "metadata": {},
   "outputs": [],
   "source": [
    "# Hist of the percentage of press_rating per genre\n",
    "ax = sns.barplot(x=\"genre\", y=\"press_rating_percentage\", data=genre_df, color=\"C0\")\n",
    "ax.set_title(\"Percentage of press_rating per genre\")\n",
    "ax.set_xlabel(\"Genre\")\n",
    "ax.set_ylabel(\"Percentage of press_rating\")\n",
    "\n",
    "# Pretty print x axis names\n",
    "for i, genre in enumerate(ax.get_xticklabels()):\n",
    "    genre.set_rotation(90)\n",
    "    genre.set_horizontalalignment('center')\n",
    "    genre.set_position((i, 0))"
   ]
  },
  {
   "cell_type": "code",
   "execution_count": null,
   "metadata": {},
   "outputs": [],
   "source": [
    "# Hist of the percentage of user_rating per genre\n",
    "ax = sns.barplot(x=\"genre\", y=\"user_rating_percentage\", data=genre_df, color=\"C1\")\n",
    "ax.set_title(\"Percentage of user_rating per genre\")\n",
    "ax.set_xlabel(\"Genre\")\n",
    "ax.set_ylabel(\"Percentage of user_rating\")\n",
    "\n",
    "# Pretty print x axis names\n",
    "for i, genre in enumerate(ax.get_xticklabels()):\n",
    "    genre.set_rotation(90)\n",
    "    genre.set_horizontalalignment('center')\n",
    "    genre.set_position((i, 0))"
   ]
  },
  {
   "cell_type": "markdown",
   "metadata": {},
   "source": [
    "### Number of ratings per genre"
   ]
  },
  {
   "cell_type": "code",
   "execution_count": null,
   "metadata": {},
   "outputs": [],
   "source": [
    "   \n"
   ]
  },
  {
   "cell_type": "markdown",
   "metadata": {},
   "source": [
    "### Average ratings per genre"
   ]
  },
  {
   "cell_type": "code",
   "execution_count": null,
   "metadata": {},
   "outputs": [],
   "source": []
  },
  {
   "cell_type": "markdown",
   "metadata": {},
   "source": [
    "## **NATIONALITY**"
   ]
  },
  {
   "cell_type": "code",
   "execution_count": null,
   "metadata": {},
   "outputs": [],
   "source": [
    "# Get all unique nationalities from list of nationalities\n",
    "nationality = [nat.lstrip() for nationality in movies[\"nationality\"] for nat in nationality]\n",
    "nationality = sorted(list(set(nationality)))\n",
    "nationality"
   ]
  }
 ],
 "metadata": {
  "interpreter": {
   "hash": "8ff1774c64d83fce3825259fa3771bbe70271854497325f5fa1e2c1b92279703"
  },
  "kernelspec": {
   "display_name": "Python 3.9.5 64-bit",
   "language": "python",
   "name": "python3"
  },
  "language_info": {
   "codemirror_mode": {
    "name": "ipython",
    "version": 3
   },
   "file_extension": ".py",
   "mimetype": "text/x-python",
   "name": "python",
   "nbconvert_exporter": "python",
   "pygments_lexer": "ipython3",
   "version": "3.9.5"
  },
  "orig_nbformat": 4
 },
 "nbformat": 4,
 "nbformat_minor": 2
}
