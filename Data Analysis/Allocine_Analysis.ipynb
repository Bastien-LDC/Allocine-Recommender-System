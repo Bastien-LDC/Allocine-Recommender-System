{
 "cells": [
  {
   "cell_type": "markdown",
   "metadata": {},
   "source": [
    "# AlloCiné Analysis\n",
    "\n",
    "We had web scraped (see [the script here](https://github.com/Bastien-LDC/Allocine-project/blob/master/Webscraping_From_AlloCine.ipynb)) the data from the AlloCiné website. AlloCiné is a company which provides information on French cinema and provide ratings from the press and from their users for a large number of movies.\n",
    "\n",
    "**Data description :**\n",
    "\n",
    "- `id` : Allocine movie id\n",
    "- `title` : the movie's title (in french)\n",
    "- `release_date`: the original release date\n",
    "- `duration`: the movies length\n",
    "- `genres` : the movies types (as an array, up to three different types)\n",
    "- `directors` : movies directors (as an array)\n",
    "- `actors` : main characters of the movies (as an array)\n",
    "- `nationality`: nationality of the movies (as an array)\n",
    "- `press_rating`: press ratings (from 0 to 5 stars)\n",
    "- `nb_press_rating`: number of press votes\n",
    "- `user_rating`:  AlloCiné users ratings (from 0 to 5 stars)\n",
    "- `nb_user_rating`: number of users votes\n",
    "- `summary`: short summary of the movie in french\n",
    "\n",
    "If you are interested in, the data is available on one csv (brut and clean version) [allocine_dataset.zip](http://olivier-maillot.fr/wp-content/uploads/2017/08/allocine_dataset.zip) or in multiple csv files (clean version only) [allocine_rel-dataset.zip](http://olivier-maillot.fr/wp-content/uploads/2017/08/allocine_rel-dataset.zip)."
   ]
  },
  {
   "cell_type": "code",
   "execution_count": 1,
   "metadata": {
    "collapsed": true
   },
   "outputs": [],
   "source": [
    "# import libraries\n",
    "import pandas as pd\n",
    "import numpy as np\n",
    "import matplotlib.pyplot as plt\n",
    "import seaborn as sns\n",
    "\n",
    "%matplotlib inline"
   ]
  },
  {
   "cell_type": "code",
   "execution_count": 2,
   "metadata": {
    "collapsed": true
   },
   "outputs": [
    {
     "ename": "FileNotFoundError",
     "evalue": "[Errno 2] No such file or directory: 'allocine_movies.csv'",
     "output_type": "error",
     "traceback": [
      "\u001b[1;31m---------------------------------------------------------------------------\u001b[0m",
      "\u001b[1;31mFileNotFoundError\u001b[0m                         Traceback (most recent call last)",
      "\u001b[1;32mc:\\Users\\basti\\OneDrive - De Vinci\\ESILV\\A4\\AVISIA\\Workspace\\Recommender system\\Allocine-project\\Allocine_Analysis.ipynb Cell 3'\u001b[0m in \u001b[0;36m<cell line: 2>\u001b[1;34m()\u001b[0m\n\u001b[0;32m      <a href='vscode-notebook-cell:/c%3A/Users/basti/OneDrive%20-%20De%20Vinci/ESILV/A4/AVISIA/Workspace/Recommender%20system/Allocine-project/Allocine_Analysis.ipynb#ch0000002?line=0'>1</a>\u001b[0m \u001b[39m# Load the csv\u001b[39;00m\n\u001b[1;32m----> <a href='vscode-notebook-cell:/c%3A/Users/basti/OneDrive%20-%20De%20Vinci/ESILV/A4/AVISIA/Workspace/Recommender%20system/Allocine-project/Allocine_Analysis.ipynb#ch0000002?line=1'>2</a>\u001b[0m allocine \u001b[39m=\u001b[39m pd\u001b[39m.\u001b[39;49mread_csv(\u001b[39m\"\u001b[39;49m\u001b[39mallocine_movies.csv\u001b[39;49m\u001b[39m\"\u001b[39;49m, index_col\u001b[39m=\u001b[39;49m\u001b[39m0\u001b[39;49m)\n\u001b[0;32m      <a href='vscode-notebook-cell:/c%3A/Users/basti/OneDrive%20-%20De%20Vinci/ESILV/A4/AVISIA/Workspace/Recommender%20system/Allocine-project/Allocine_Analysis.ipynb#ch0000002?line=2'>3</a>\u001b[0m cols \u001b[39m=\u001b[39m allocine\u001b[39m.\u001b[39mcolumns\n",
      "File \u001b[1;32m~\\AppData\\Local\\Programs\\Python\\Python39\\lib\\site-packages\\pandas\\util\\_decorators.py:311\u001b[0m, in \u001b[0;36mdeprecate_nonkeyword_arguments.<locals>.decorate.<locals>.wrapper\u001b[1;34m(*args, **kwargs)\u001b[0m\n\u001b[0;32m    <a href='file:///c%3A/Users/basti/AppData/Local/Programs/Python/Python39/lib/site-packages/pandas/util/_decorators.py?line=304'>305</a>\u001b[0m \u001b[39mif\u001b[39;00m \u001b[39mlen\u001b[39m(args) \u001b[39m>\u001b[39m num_allow_args:\n\u001b[0;32m    <a href='file:///c%3A/Users/basti/AppData/Local/Programs/Python/Python39/lib/site-packages/pandas/util/_decorators.py?line=305'>306</a>\u001b[0m     warnings\u001b[39m.\u001b[39mwarn(\n\u001b[0;32m    <a href='file:///c%3A/Users/basti/AppData/Local/Programs/Python/Python39/lib/site-packages/pandas/util/_decorators.py?line=306'>307</a>\u001b[0m         msg\u001b[39m.\u001b[39mformat(arguments\u001b[39m=\u001b[39marguments),\n\u001b[0;32m    <a href='file:///c%3A/Users/basti/AppData/Local/Programs/Python/Python39/lib/site-packages/pandas/util/_decorators.py?line=307'>308</a>\u001b[0m         \u001b[39mFutureWarning\u001b[39;00m,\n\u001b[0;32m    <a href='file:///c%3A/Users/basti/AppData/Local/Programs/Python/Python39/lib/site-packages/pandas/util/_decorators.py?line=308'>309</a>\u001b[0m         stacklevel\u001b[39m=\u001b[39mstacklevel,\n\u001b[0;32m    <a href='file:///c%3A/Users/basti/AppData/Local/Programs/Python/Python39/lib/site-packages/pandas/util/_decorators.py?line=309'>310</a>\u001b[0m     )\n\u001b[1;32m--> <a href='file:///c%3A/Users/basti/AppData/Local/Programs/Python/Python39/lib/site-packages/pandas/util/_decorators.py?line=310'>311</a>\u001b[0m \u001b[39mreturn\u001b[39;00m func(\u001b[39m*\u001b[39margs, \u001b[39m*\u001b[39m\u001b[39m*\u001b[39mkwargs)\n",
      "File \u001b[1;32m~\\AppData\\Local\\Programs\\Python\\Python39\\lib\\site-packages\\pandas\\io\\parsers\\readers.py:586\u001b[0m, in \u001b[0;36mread_csv\u001b[1;34m(filepath_or_buffer, sep, delimiter, header, names, index_col, usecols, squeeze, prefix, mangle_dupe_cols, dtype, engine, converters, true_values, false_values, skipinitialspace, skiprows, skipfooter, nrows, na_values, keep_default_na, na_filter, verbose, skip_blank_lines, parse_dates, infer_datetime_format, keep_date_col, date_parser, dayfirst, cache_dates, iterator, chunksize, compression, thousands, decimal, lineterminator, quotechar, quoting, doublequote, escapechar, comment, encoding, encoding_errors, dialect, error_bad_lines, warn_bad_lines, on_bad_lines, delim_whitespace, low_memory, memory_map, float_precision, storage_options)\u001b[0m\n\u001b[0;32m    <a href='file:///c%3A/Users/basti/AppData/Local/Programs/Python/Python39/lib/site-packages/pandas/io/parsers/readers.py?line=570'>571</a>\u001b[0m kwds_defaults \u001b[39m=\u001b[39m _refine_defaults_read(\n\u001b[0;32m    <a href='file:///c%3A/Users/basti/AppData/Local/Programs/Python/Python39/lib/site-packages/pandas/io/parsers/readers.py?line=571'>572</a>\u001b[0m     dialect,\n\u001b[0;32m    <a href='file:///c%3A/Users/basti/AppData/Local/Programs/Python/Python39/lib/site-packages/pandas/io/parsers/readers.py?line=572'>573</a>\u001b[0m     delimiter,\n\u001b[1;32m   (...)\u001b[0m\n\u001b[0;32m    <a href='file:///c%3A/Users/basti/AppData/Local/Programs/Python/Python39/lib/site-packages/pandas/io/parsers/readers.py?line=581'>582</a>\u001b[0m     defaults\u001b[39m=\u001b[39m{\u001b[39m\"\u001b[39m\u001b[39mdelimiter\u001b[39m\u001b[39m\"\u001b[39m: \u001b[39m\"\u001b[39m\u001b[39m,\u001b[39m\u001b[39m\"\u001b[39m},\n\u001b[0;32m    <a href='file:///c%3A/Users/basti/AppData/Local/Programs/Python/Python39/lib/site-packages/pandas/io/parsers/readers.py?line=582'>583</a>\u001b[0m )\n\u001b[0;32m    <a href='file:///c%3A/Users/basti/AppData/Local/Programs/Python/Python39/lib/site-packages/pandas/io/parsers/readers.py?line=583'>584</a>\u001b[0m kwds\u001b[39m.\u001b[39mupdate(kwds_defaults)\n\u001b[1;32m--> <a href='file:///c%3A/Users/basti/AppData/Local/Programs/Python/Python39/lib/site-packages/pandas/io/parsers/readers.py?line=585'>586</a>\u001b[0m \u001b[39mreturn\u001b[39;00m _read(filepath_or_buffer, kwds)\n",
      "File \u001b[1;32m~\\AppData\\Local\\Programs\\Python\\Python39\\lib\\site-packages\\pandas\\io\\parsers\\readers.py:482\u001b[0m, in \u001b[0;36m_read\u001b[1;34m(filepath_or_buffer, kwds)\u001b[0m\n\u001b[0;32m    <a href='file:///c%3A/Users/basti/AppData/Local/Programs/Python/Python39/lib/site-packages/pandas/io/parsers/readers.py?line=478'>479</a>\u001b[0m _validate_names(kwds\u001b[39m.\u001b[39mget(\u001b[39m\"\u001b[39m\u001b[39mnames\u001b[39m\u001b[39m\"\u001b[39m, \u001b[39mNone\u001b[39;00m))\n\u001b[0;32m    <a href='file:///c%3A/Users/basti/AppData/Local/Programs/Python/Python39/lib/site-packages/pandas/io/parsers/readers.py?line=480'>481</a>\u001b[0m \u001b[39m# Create the parser.\u001b[39;00m\n\u001b[1;32m--> <a href='file:///c%3A/Users/basti/AppData/Local/Programs/Python/Python39/lib/site-packages/pandas/io/parsers/readers.py?line=481'>482</a>\u001b[0m parser \u001b[39m=\u001b[39m TextFileReader(filepath_or_buffer, \u001b[39m*\u001b[39m\u001b[39m*\u001b[39mkwds)\n\u001b[0;32m    <a href='file:///c%3A/Users/basti/AppData/Local/Programs/Python/Python39/lib/site-packages/pandas/io/parsers/readers.py?line=483'>484</a>\u001b[0m \u001b[39mif\u001b[39;00m chunksize \u001b[39mor\u001b[39;00m iterator:\n\u001b[0;32m    <a href='file:///c%3A/Users/basti/AppData/Local/Programs/Python/Python39/lib/site-packages/pandas/io/parsers/readers.py?line=484'>485</a>\u001b[0m     \u001b[39mreturn\u001b[39;00m parser\n",
      "File \u001b[1;32m~\\AppData\\Local\\Programs\\Python\\Python39\\lib\\site-packages\\pandas\\io\\parsers\\readers.py:811\u001b[0m, in \u001b[0;36mTextFileReader.__init__\u001b[1;34m(self, f, engine, **kwds)\u001b[0m\n\u001b[0;32m    <a href='file:///c%3A/Users/basti/AppData/Local/Programs/Python/Python39/lib/site-packages/pandas/io/parsers/readers.py?line=807'>808</a>\u001b[0m \u001b[39mif\u001b[39;00m \u001b[39m\"\u001b[39m\u001b[39mhas_index_names\u001b[39m\u001b[39m\"\u001b[39m \u001b[39min\u001b[39;00m kwds:\n\u001b[0;32m    <a href='file:///c%3A/Users/basti/AppData/Local/Programs/Python/Python39/lib/site-packages/pandas/io/parsers/readers.py?line=808'>809</a>\u001b[0m     \u001b[39mself\u001b[39m\u001b[39m.\u001b[39moptions[\u001b[39m\"\u001b[39m\u001b[39mhas_index_names\u001b[39m\u001b[39m\"\u001b[39m] \u001b[39m=\u001b[39m kwds[\u001b[39m\"\u001b[39m\u001b[39mhas_index_names\u001b[39m\u001b[39m\"\u001b[39m]\n\u001b[1;32m--> <a href='file:///c%3A/Users/basti/AppData/Local/Programs/Python/Python39/lib/site-packages/pandas/io/parsers/readers.py?line=810'>811</a>\u001b[0m \u001b[39mself\u001b[39m\u001b[39m.\u001b[39m_engine \u001b[39m=\u001b[39m \u001b[39mself\u001b[39;49m\u001b[39m.\u001b[39;49m_make_engine(\u001b[39mself\u001b[39;49m\u001b[39m.\u001b[39;49mengine)\n",
      "File \u001b[1;32m~\\AppData\\Local\\Programs\\Python\\Python39\\lib\\site-packages\\pandas\\io\\parsers\\readers.py:1040\u001b[0m, in \u001b[0;36mTextFileReader._make_engine\u001b[1;34m(self, engine)\u001b[0m\n\u001b[0;32m   <a href='file:///c%3A/Users/basti/AppData/Local/Programs/Python/Python39/lib/site-packages/pandas/io/parsers/readers.py?line=1035'>1036</a>\u001b[0m     \u001b[39mraise\u001b[39;00m \u001b[39mValueError\u001b[39;00m(\n\u001b[0;32m   <a href='file:///c%3A/Users/basti/AppData/Local/Programs/Python/Python39/lib/site-packages/pandas/io/parsers/readers.py?line=1036'>1037</a>\u001b[0m         \u001b[39mf\u001b[39m\u001b[39m\"\u001b[39m\u001b[39mUnknown engine: \u001b[39m\u001b[39m{\u001b[39;00mengine\u001b[39m}\u001b[39;00m\u001b[39m (valid options are \u001b[39m\u001b[39m{\u001b[39;00mmapping\u001b[39m.\u001b[39mkeys()\u001b[39m}\u001b[39;00m\u001b[39m)\u001b[39m\u001b[39m\"\u001b[39m\n\u001b[0;32m   <a href='file:///c%3A/Users/basti/AppData/Local/Programs/Python/Python39/lib/site-packages/pandas/io/parsers/readers.py?line=1037'>1038</a>\u001b[0m     )\n\u001b[0;32m   <a href='file:///c%3A/Users/basti/AppData/Local/Programs/Python/Python39/lib/site-packages/pandas/io/parsers/readers.py?line=1038'>1039</a>\u001b[0m \u001b[39m# error: Too many arguments for \"ParserBase\"\u001b[39;00m\n\u001b[1;32m-> <a href='file:///c%3A/Users/basti/AppData/Local/Programs/Python/Python39/lib/site-packages/pandas/io/parsers/readers.py?line=1039'>1040</a>\u001b[0m \u001b[39mreturn\u001b[39;00m mapping[engine](\u001b[39mself\u001b[39m\u001b[39m.\u001b[39mf, \u001b[39m*\u001b[39m\u001b[39m*\u001b[39m\u001b[39mself\u001b[39m\u001b[39m.\u001b[39moptions)\n",
      "File \u001b[1;32m~\\AppData\\Local\\Programs\\Python\\Python39\\lib\\site-packages\\pandas\\io\\parsers\\c_parser_wrapper.py:51\u001b[0m, in \u001b[0;36mCParserWrapper.__init__\u001b[1;34m(self, src, **kwds)\u001b[0m\n\u001b[0;32m     <a href='file:///c%3A/Users/basti/AppData/Local/Programs/Python/Python39/lib/site-packages/pandas/io/parsers/c_parser_wrapper.py?line=47'>48</a>\u001b[0m kwds[\u001b[39m\"\u001b[39m\u001b[39musecols\u001b[39m\u001b[39m\"\u001b[39m] \u001b[39m=\u001b[39m \u001b[39mself\u001b[39m\u001b[39m.\u001b[39musecols\n\u001b[0;32m     <a href='file:///c%3A/Users/basti/AppData/Local/Programs/Python/Python39/lib/site-packages/pandas/io/parsers/c_parser_wrapper.py?line=49'>50</a>\u001b[0m \u001b[39m# open handles\u001b[39;00m\n\u001b[1;32m---> <a href='file:///c%3A/Users/basti/AppData/Local/Programs/Python/Python39/lib/site-packages/pandas/io/parsers/c_parser_wrapper.py?line=50'>51</a>\u001b[0m \u001b[39mself\u001b[39;49m\u001b[39m.\u001b[39;49m_open_handles(src, kwds)\n\u001b[0;32m     <a href='file:///c%3A/Users/basti/AppData/Local/Programs/Python/Python39/lib/site-packages/pandas/io/parsers/c_parser_wrapper.py?line=51'>52</a>\u001b[0m \u001b[39massert\u001b[39;00m \u001b[39mself\u001b[39m\u001b[39m.\u001b[39mhandles \u001b[39mis\u001b[39;00m \u001b[39mnot\u001b[39;00m \u001b[39mNone\u001b[39;00m\n\u001b[0;32m     <a href='file:///c%3A/Users/basti/AppData/Local/Programs/Python/Python39/lib/site-packages/pandas/io/parsers/c_parser_wrapper.py?line=53'>54</a>\u001b[0m \u001b[39m# Have to pass int, would break tests using TextReader directly otherwise :(\u001b[39;00m\n",
      "File \u001b[1;32m~\\AppData\\Local\\Programs\\Python\\Python39\\lib\\site-packages\\pandas\\io\\parsers\\base_parser.py:222\u001b[0m, in \u001b[0;36mParserBase._open_handles\u001b[1;34m(self, src, kwds)\u001b[0m\n\u001b[0;32m    <a href='file:///c%3A/Users/basti/AppData/Local/Programs/Python/Python39/lib/site-packages/pandas/io/parsers/base_parser.py?line=217'>218</a>\u001b[0m \u001b[39mdef\u001b[39;00m \u001b[39m_open_handles\u001b[39m(\u001b[39mself\u001b[39m, src: FilePathOrBuffer, kwds: \u001b[39mdict\u001b[39m[\u001b[39mstr\u001b[39m, Any]) \u001b[39m-\u001b[39m\u001b[39m>\u001b[39m \u001b[39mNone\u001b[39;00m:\n\u001b[0;32m    <a href='file:///c%3A/Users/basti/AppData/Local/Programs/Python/Python39/lib/site-packages/pandas/io/parsers/base_parser.py?line=218'>219</a>\u001b[0m     \u001b[39m\"\"\"\u001b[39;00m\n\u001b[0;32m    <a href='file:///c%3A/Users/basti/AppData/Local/Programs/Python/Python39/lib/site-packages/pandas/io/parsers/base_parser.py?line=219'>220</a>\u001b[0m \u001b[39m    Let the readers open IOHandles after they are done with their potential raises.\u001b[39;00m\n\u001b[0;32m    <a href='file:///c%3A/Users/basti/AppData/Local/Programs/Python/Python39/lib/site-packages/pandas/io/parsers/base_parser.py?line=220'>221</a>\u001b[0m \u001b[39m    \"\"\"\u001b[39;00m\n\u001b[1;32m--> <a href='file:///c%3A/Users/basti/AppData/Local/Programs/Python/Python39/lib/site-packages/pandas/io/parsers/base_parser.py?line=221'>222</a>\u001b[0m     \u001b[39mself\u001b[39m\u001b[39m.\u001b[39mhandles \u001b[39m=\u001b[39m get_handle(\n\u001b[0;32m    <a href='file:///c%3A/Users/basti/AppData/Local/Programs/Python/Python39/lib/site-packages/pandas/io/parsers/base_parser.py?line=222'>223</a>\u001b[0m         src,\n\u001b[0;32m    <a href='file:///c%3A/Users/basti/AppData/Local/Programs/Python/Python39/lib/site-packages/pandas/io/parsers/base_parser.py?line=223'>224</a>\u001b[0m         \u001b[39m\"\u001b[39;49m\u001b[39mr\u001b[39;49m\u001b[39m\"\u001b[39;49m,\n\u001b[0;32m    <a href='file:///c%3A/Users/basti/AppData/Local/Programs/Python/Python39/lib/site-packages/pandas/io/parsers/base_parser.py?line=224'>225</a>\u001b[0m         encoding\u001b[39m=\u001b[39;49mkwds\u001b[39m.\u001b[39;49mget(\u001b[39m\"\u001b[39;49m\u001b[39mencoding\u001b[39;49m\u001b[39m\"\u001b[39;49m, \u001b[39mNone\u001b[39;49;00m),\n\u001b[0;32m    <a href='file:///c%3A/Users/basti/AppData/Local/Programs/Python/Python39/lib/site-packages/pandas/io/parsers/base_parser.py?line=225'>226</a>\u001b[0m         compression\u001b[39m=\u001b[39;49mkwds\u001b[39m.\u001b[39;49mget(\u001b[39m\"\u001b[39;49m\u001b[39mcompression\u001b[39;49m\u001b[39m\"\u001b[39;49m, \u001b[39mNone\u001b[39;49;00m),\n\u001b[0;32m    <a href='file:///c%3A/Users/basti/AppData/Local/Programs/Python/Python39/lib/site-packages/pandas/io/parsers/base_parser.py?line=226'>227</a>\u001b[0m         memory_map\u001b[39m=\u001b[39;49mkwds\u001b[39m.\u001b[39;49mget(\u001b[39m\"\u001b[39;49m\u001b[39mmemory_map\u001b[39;49m\u001b[39m\"\u001b[39;49m, \u001b[39mFalse\u001b[39;49;00m),\n\u001b[0;32m    <a href='file:///c%3A/Users/basti/AppData/Local/Programs/Python/Python39/lib/site-packages/pandas/io/parsers/base_parser.py?line=227'>228</a>\u001b[0m         storage_options\u001b[39m=\u001b[39;49mkwds\u001b[39m.\u001b[39;49mget(\u001b[39m\"\u001b[39;49m\u001b[39mstorage_options\u001b[39;49m\u001b[39m\"\u001b[39;49m, \u001b[39mNone\u001b[39;49;00m),\n\u001b[0;32m    <a href='file:///c%3A/Users/basti/AppData/Local/Programs/Python/Python39/lib/site-packages/pandas/io/parsers/base_parser.py?line=228'>229</a>\u001b[0m         errors\u001b[39m=\u001b[39;49mkwds\u001b[39m.\u001b[39;49mget(\u001b[39m\"\u001b[39;49m\u001b[39mencoding_errors\u001b[39;49m\u001b[39m\"\u001b[39;49m, \u001b[39m\"\u001b[39;49m\u001b[39mstrict\u001b[39;49m\u001b[39m\"\u001b[39;49m),\n\u001b[0;32m    <a href='file:///c%3A/Users/basti/AppData/Local/Programs/Python/Python39/lib/site-packages/pandas/io/parsers/base_parser.py?line=229'>230</a>\u001b[0m     )\n",
      "File \u001b[1;32m~\\AppData\\Local\\Programs\\Python\\Python39\\lib\\site-packages\\pandas\\io\\common.py:702\u001b[0m, in \u001b[0;36mget_handle\u001b[1;34m(path_or_buf, mode, encoding, compression, memory_map, is_text, errors, storage_options)\u001b[0m\n\u001b[0;32m    <a href='file:///c%3A/Users/basti/AppData/Local/Programs/Python/Python39/lib/site-packages/pandas/io/common.py?line=696'>697</a>\u001b[0m \u001b[39melif\u001b[39;00m \u001b[39misinstance\u001b[39m(handle, \u001b[39mstr\u001b[39m):\n\u001b[0;32m    <a href='file:///c%3A/Users/basti/AppData/Local/Programs/Python/Python39/lib/site-packages/pandas/io/common.py?line=697'>698</a>\u001b[0m     \u001b[39m# Check whether the filename is to be opened in binary mode.\u001b[39;00m\n\u001b[0;32m    <a href='file:///c%3A/Users/basti/AppData/Local/Programs/Python/Python39/lib/site-packages/pandas/io/common.py?line=698'>699</a>\u001b[0m     \u001b[39m# Binary mode does not support 'encoding' and 'newline'.\u001b[39;00m\n\u001b[0;32m    <a href='file:///c%3A/Users/basti/AppData/Local/Programs/Python/Python39/lib/site-packages/pandas/io/common.py?line=699'>700</a>\u001b[0m     \u001b[39mif\u001b[39;00m ioargs\u001b[39m.\u001b[39mencoding \u001b[39mand\u001b[39;00m \u001b[39m\"\u001b[39m\u001b[39mb\u001b[39m\u001b[39m\"\u001b[39m \u001b[39mnot\u001b[39;00m \u001b[39min\u001b[39;00m ioargs\u001b[39m.\u001b[39mmode:\n\u001b[0;32m    <a href='file:///c%3A/Users/basti/AppData/Local/Programs/Python/Python39/lib/site-packages/pandas/io/common.py?line=700'>701</a>\u001b[0m         \u001b[39m# Encoding\u001b[39;00m\n\u001b[1;32m--> <a href='file:///c%3A/Users/basti/AppData/Local/Programs/Python/Python39/lib/site-packages/pandas/io/common.py?line=701'>702</a>\u001b[0m         handle \u001b[39m=\u001b[39m \u001b[39mopen\u001b[39;49m(\n\u001b[0;32m    <a href='file:///c%3A/Users/basti/AppData/Local/Programs/Python/Python39/lib/site-packages/pandas/io/common.py?line=702'>703</a>\u001b[0m             handle,\n\u001b[0;32m    <a href='file:///c%3A/Users/basti/AppData/Local/Programs/Python/Python39/lib/site-packages/pandas/io/common.py?line=703'>704</a>\u001b[0m             ioargs\u001b[39m.\u001b[39;49mmode,\n\u001b[0;32m    <a href='file:///c%3A/Users/basti/AppData/Local/Programs/Python/Python39/lib/site-packages/pandas/io/common.py?line=704'>705</a>\u001b[0m             encoding\u001b[39m=\u001b[39;49mioargs\u001b[39m.\u001b[39;49mencoding,\n\u001b[0;32m    <a href='file:///c%3A/Users/basti/AppData/Local/Programs/Python/Python39/lib/site-packages/pandas/io/common.py?line=705'>706</a>\u001b[0m             errors\u001b[39m=\u001b[39;49merrors,\n\u001b[0;32m    <a href='file:///c%3A/Users/basti/AppData/Local/Programs/Python/Python39/lib/site-packages/pandas/io/common.py?line=706'>707</a>\u001b[0m             newline\u001b[39m=\u001b[39;49m\u001b[39m\"\u001b[39;49m\u001b[39m\"\u001b[39;49m,\n\u001b[0;32m    <a href='file:///c%3A/Users/basti/AppData/Local/Programs/Python/Python39/lib/site-packages/pandas/io/common.py?line=707'>708</a>\u001b[0m         )\n\u001b[0;32m    <a href='file:///c%3A/Users/basti/AppData/Local/Programs/Python/Python39/lib/site-packages/pandas/io/common.py?line=708'>709</a>\u001b[0m     \u001b[39melse\u001b[39;00m:\n\u001b[0;32m    <a href='file:///c%3A/Users/basti/AppData/Local/Programs/Python/Python39/lib/site-packages/pandas/io/common.py?line=709'>710</a>\u001b[0m         \u001b[39m# Binary mode\u001b[39;00m\n\u001b[0;32m    <a href='file:///c%3A/Users/basti/AppData/Local/Programs/Python/Python39/lib/site-packages/pandas/io/common.py?line=710'>711</a>\u001b[0m         handle \u001b[39m=\u001b[39m \u001b[39mopen\u001b[39m(handle, ioargs\u001b[39m.\u001b[39mmode)\n",
      "\u001b[1;31mFileNotFoundError\u001b[0m: [Errno 2] No such file or directory: 'allocine_movies.csv'"
     ]
    }
   ],
   "source": [
    "# Load the csv\n",
    "allocine = pd.read_csv(\"allocine_movies.csv\", index_col=0)\n",
    "cols = allocine.columns"
   ]
  },
  {
   "cell_type": "code",
   "execution_count": null,
   "metadata": {},
   "outputs": [],
   "source": [
    "# Rename (nb_)spec_rating to (nb_)user_rating\n",
    "allocine.rename(columns={'spec_rating':'user_rating', 'nb_spec_rating':'nb_user_rating'}, inplace=True)"
   ]
  },
  {
   "cell_type": "code",
   "execution_count": null,
   "metadata": {},
   "outputs": [
    {
     "data": {
      "text/html": [
       "<div>\n",
       "<style scoped>\n",
       "    .dataframe tbody tr th:only-of-type {\n",
       "        vertical-align: middle;\n",
       "    }\n",
       "\n",
       "    .dataframe tbody tr th {\n",
       "        vertical-align: top;\n",
       "    }\n",
       "\n",
       "    .dataframe thead th {\n",
       "        text-align: right;\n",
       "    }\n",
       "</style>\n",
       "<table border=\"1\" class=\"dataframe\">\n",
       "  <thead>\n",
       "    <tr style=\"text-align: right;\">\n",
       "      <th></th>\n",
       "      <th>id</th>\n",
       "      <th>title</th>\n",
       "      <th>release_date</th>\n",
       "      <th>duration</th>\n",
       "      <th>genres</th>\n",
       "      <th>directors</th>\n",
       "      <th>actors</th>\n",
       "      <th>nationality</th>\n",
       "      <th>press_rating</th>\n",
       "      <th>nb_press_rating</th>\n",
       "      <th>user_rating</th>\n",
       "      <th>nb_user_rating</th>\n",
       "      <th>summary</th>\n",
       "    </tr>\n",
       "  </thead>\n",
       "  <tbody>\n",
       "    <tr>\n",
       "      <th>0</th>\n",
       "      <td>211012</td>\n",
       "      <td>The Batman</td>\n",
       "      <td>2022-03-02</td>\n",
       "      <td>177</td>\n",
       "      <td>Action, Policier, Thriller</td>\n",
       "      <td>Matt Reeves, Peter Craig</td>\n",
       "      <td>Robert Pattinson, Zoë Kravitz, Paul Dano</td>\n",
       "      <td>américain</td>\n",
       "      <td>3.9</td>\n",
       "      <td>37.0</td>\n",
       "      <td>4.2</td>\n",
       "      <td>9807.0</td>\n",
       "      <td>Deux années à arpenter les rues en tant que Ba...</td>\n",
       "    </tr>\n",
       "    <tr>\n",
       "      <th>1</th>\n",
       "      <td>281976</td>\n",
       "      <td>Goliath</td>\n",
       "      <td>2022-03-09</td>\n",
       "      <td>122</td>\n",
       "      <td>Thriller</td>\n",
       "      <td>Frédéric Tellier, Simon Moutaïrou</td>\n",
       "      <td>Gilles Lellouche, Pierre Niney, Emmanuelle Bercot</td>\n",
       "      <td>français</td>\n",
       "      <td>3.6</td>\n",
       "      <td>29.0</td>\n",
       "      <td>4.0</td>\n",
       "      <td>2861.0</td>\n",
       "      <td>France, professeure de sport le jour, ouvrière...</td>\n",
       "    </tr>\n",
       "    <tr>\n",
       "      <th>2</th>\n",
       "      <td>42303</td>\n",
       "      <td>Permis de construire</td>\n",
       "      <td>2022-03-09</td>\n",
       "      <td>93</td>\n",
       "      <td>Comédie</td>\n",
       "      <td>Eric Fraticelli, Didier Bourdon</td>\n",
       "      <td>Didier Bourdon, Eric Fraticelli, Anne Consigny</td>\n",
       "      <td>français</td>\n",
       "      <td>1.8</td>\n",
       "      <td>4.0</td>\n",
       "      <td>3.1</td>\n",
       "      <td>665.0</td>\n",
       "      <td>Dentiste à Paris, Romain vient de perdre son p...</td>\n",
       "    </tr>\n",
       "    <tr>\n",
       "      <th>3</th>\n",
       "      <td>287738</td>\n",
       "      <td>En corps</td>\n",
       "      <td>2022-03-30</td>\n",
       "      <td>120</td>\n",
       "      <td>Comédie dramatique, Drame, Comédie</td>\n",
       "      <td>Cédric Klapisch, Santiago Amigorena</td>\n",
       "      <td>Marion Barbeau, Hofesh Shechter, Denis Podalydès</td>\n",
       "      <td>français</td>\n",
       "      <td>3.4</td>\n",
       "      <td>32.0</td>\n",
       "      <td>4.2</td>\n",
       "      <td>1301.0</td>\n",
       "      <td>Elise, 26 ans est une grande danseuse classiqu...</td>\n",
       "    </tr>\n",
       "    <tr>\n",
       "      <th>4</th>\n",
       "      <td>284864</td>\n",
       "      <td>Notre-Dame brûle</td>\n",
       "      <td>2022-03-16</td>\n",
       "      <td>110</td>\n",
       "      <td>Drame</td>\n",
       "      <td>Jean-Jacques Annaud, Thomas Bidegain</td>\n",
       "      <td>Samuel Labarthe, Jean-Paul Bordes, Mikaël Chir...</td>\n",
       "      <td>français</td>\n",
       "      <td>3.5</td>\n",
       "      <td>32.0</td>\n",
       "      <td>4.0</td>\n",
       "      <td>1732.0</td>\n",
       "      <td>Le long métrage de Jean-Jacques Annaud, recons...</td>\n",
       "    </tr>\n",
       "  </tbody>\n",
       "</table>\n",
       "</div>"
      ],
      "text/plain": [
       "       id                 title release_date  duration  \\\n",
       "0  211012            The Batman   2022-03-02       177   \n",
       "1  281976               Goliath   2022-03-09       122   \n",
       "2   42303  Permis de construire   2022-03-09        93   \n",
       "3  287738              En corps   2022-03-30       120   \n",
       "4  284864      Notre-Dame brûle   2022-03-16       110   \n",
       "\n",
       "                               genres                             directors  \\\n",
       "0          Action, Policier, Thriller              Matt Reeves, Peter Craig   \n",
       "1                            Thriller     Frédéric Tellier, Simon Moutaïrou   \n",
       "2                             Comédie       Eric Fraticelli, Didier Bourdon   \n",
       "3  Comédie dramatique, Drame, Comédie   Cédric Klapisch, Santiago Amigorena   \n",
       "4                               Drame  Jean-Jacques Annaud, Thomas Bidegain   \n",
       "\n",
       "                                              actors nationality  \\\n",
       "0           Robert Pattinson, Zoë Kravitz, Paul Dano   américain   \n",
       "1  Gilles Lellouche, Pierre Niney, Emmanuelle Bercot    français   \n",
       "2     Didier Bourdon, Eric Fraticelli, Anne Consigny    français   \n",
       "3   Marion Barbeau, Hofesh Shechter, Denis Podalydès    français   \n",
       "4  Samuel Labarthe, Jean-Paul Bordes, Mikaël Chir...    français   \n",
       "\n",
       "   press_rating  nb_press_rating  user_rating  nb_user_rating  \\\n",
       "0           3.9             37.0          4.2          9807.0   \n",
       "1           3.6             29.0          4.0          2861.0   \n",
       "2           1.8              4.0          3.1           665.0   \n",
       "3           3.4             32.0          4.2          1301.0   \n",
       "4           3.5             32.0          4.0          1732.0   \n",
       "\n",
       "                                             summary  \n",
       "0  Deux années à arpenter les rues en tant que Ba...  \n",
       "1  France, professeure de sport le jour, ouvrière...  \n",
       "2  Dentiste à Paris, Romain vient de perdre son p...  \n",
       "3  Elise, 26 ans est une grande danseuse classiqu...  \n",
       "4  Le long métrage de Jean-Jacques Annaud, recons...  "
      ]
     },
     "execution_count": 57,
     "metadata": {},
     "output_type": "execute_result"
    }
   ],
   "source": [
    "allocine.head()"
   ]
  },
  {
   "cell_type": "code",
   "execution_count": null,
   "metadata": {},
   "outputs": [
    {
     "name": "stdout",
     "output_type": "stream",
     "text": [
      "<class 'pandas.core.frame.DataFrame'>\n",
      "Int64Index: 30 entries, 0 to 29\n",
      "Data columns (total 13 columns):\n",
      " #   Column           Non-Null Count  Dtype  \n",
      "---  ------           --------------  -----  \n",
      " 0   id               30 non-null     int64  \n",
      " 1   title            30 non-null     object \n",
      " 2   release_date     30 non-null     object \n",
      " 3   duration         30 non-null     int64  \n",
      " 4   genres           30 non-null     object \n",
      " 5   directors        30 non-null     object \n",
      " 6   actors           29 non-null     object \n",
      " 7   nationality      30 non-null     object \n",
      " 8   press_rating     28 non-null     float64\n",
      " 9   nb_press_rating  28 non-null     float64\n",
      " 10  user_rating      28 non-null     float64\n",
      " 11  nb_user_rating   28 non-null     float64\n",
      " 12  summary          30 non-null     object \n",
      "dtypes: float64(4), int64(2), object(7)\n",
      "memory usage: 3.3+ KB\n"
     ]
    }
   ],
   "source": [
    "allocine.info()"
   ]
  },
  {
   "cell_type": "code",
   "execution_count": null,
   "metadata": {},
   "outputs": [],
   "source": [
    "# Convert the strings to arrays\n",
    "allocine[\"genres\"] = allocine[\"genres\"].apply(lambda x: x.split(\",\"))\n",
    "allocine[\"directors\"] = allocine[\"directors\"].apply(lambda x: x.split(\",\"))\n",
    "allocine[\"actors\"] = allocine[\"actors\"].apply(lambda x: x.split(\",\") if type(x) != float else [])\n",
    "allocine[\"nationality\"] = allocine[\"nationality\"].apply(lambda x: x.split(\",\"))"
   ]
  },
  {
   "cell_type": "code",
   "execution_count": null,
   "metadata": {
    "collapsed": true
   },
   "outputs": [],
   "source": [
    "# drop NaN values for movies that haven't been rated yet\n",
    "allocine = allocine.dropna(subset=[\"press_rating\", \"user_rating\"]).reset_index(drop=True)"
   ]
  },
  {
   "cell_type": "code",
   "execution_count": null,
   "metadata": {
    "collapsed": true
   },
   "outputs": [],
   "source": [
    "# Convert nb_spec_rating and nb_press_rating to int\n",
    "allocine[[\"nb_press_rating\",\"nb_user_rating\"]] = allocine[[\"nb_press_rating\",\"nb_user_rating\"]].astype(int)"
   ]
  },
  {
   "cell_type": "code",
   "execution_count": null,
   "metadata": {},
   "outputs": [
    {
     "data": {
      "text/plain": [
       "(28, 13)"
      ]
     },
     "execution_count": 78,
     "metadata": {},
     "output_type": "execute_result"
    }
   ],
   "source": [
    "allocine.shape"
   ]
  },
  {
   "cell_type": "markdown",
   "metadata": {},
   "source": [
    "# Section 1. Ratings Distributions\n",
    "\n",
    "## Plot the Distribution"
   ]
  },
  {
   "cell_type": "code",
   "execution_count": null,
   "metadata": {},
   "outputs": [
    {
     "data": {
      "image/png": "[encoded data removed]",
      "text/plain": [
       "<Figure size 1152x288 with 3 Axes>"
      ]
     },
     "metadata": {},
     "output_type": "display_data"
    }
   ],
   "source": [
    "sns.set(style=\"white\", palette=\"deep\")\n",
    "\n",
    "fig, axes = plt.subplots(1, 3, figsize = (16,4))\n",
    "ax1, ax2, ax3 = fig.axes\n",
    "\n",
    "ax1.set_xlim([0.5,5.5])\n",
    "ax2.set_xlim([0.5,5.5])\n",
    "ax3.set_xlim([0.5,5.5])\n",
    "\n",
    "\n",
    "ax1.hist(allocine[\"press_rating\"], bins = 10, range = (0,5), color='C0') # bin range = 1\n",
    "ax1.set_title('Press Ratings Distribution')\n",
    "ax1.set_xlabel('Ratings')\n",
    "\n",
    "ax2.hist(allocine[\"user_rating\"], bins = 10, range = (0,5), color='C1') # bin range = 1\n",
    "ax2.set_title('Users Ratings Distribution')\n",
    "ax2.set_xlabel('Ratings')\n",
    "\n",
    "ax3.hist(allocine[\"press_rating\"], bins = 10, range = (0,5), histtype = 'step', \n",
    "         lw=1.5, label='Press Ratings', color='C0')\n",
    "ax3.hist(allocine[\"user_rating\"], bins = 10, range = (0,5), histtype = 'step', \n",
    "         lw=1.5, label='Users Ratings', color='C1')\n",
    "ax3.legend(loc = 'upper left')\n",
    "ax3.set_title('Comparison of Distributions')\n",
    "ax3.set_xlabel('Ratings')\n",
    "\n",
    "for ax in fig.axes:\n",
    "    ax.spines['top'].set_visible(False)\n",
    "    ax.spines['right'].set_visible(False)"
   ]
  },
  {
   "cell_type": "code",
   "execution_count": null,
   "metadata": {
    "collapsed": true
   },
   "outputs": [],
   "source": [
    "# save the fig\n",
    "fig.savefig('allocine-0_hist.png', bbox_inches='tight', dpi=200)"
   ]
  },
  {
   "cell_type": "markdown",
   "metadata": {},
   "source": [
    "## Descriptive Statistics"
   ]
  },
  {
   "cell_type": "code",
   "execution_count": null,
   "metadata": {
    "collapsed": true
   },
   "outputs": [],
   "source": [
    "# descriptive statistics\n",
    "desc_ratings = allocine[[\"user_rating\",\"press_rating\"]].describe().T"
   ]
  },
  {
   "cell_type": "code",
   "execution_count": null,
   "metadata": {
    "collapsed": true
   },
   "outputs": [],
   "source": [
    "# compute the skewness\n",
    "from scipy.stats import skew\n",
    "from scipy.stats import skewtest\n",
    "desc_ratings.loc[\"press_rating\", \"skew\"] = skew(allocine[[\"press_rating\"]])\n",
    "v, p = skewtest(allocine[[\"press_rating\"]])\n",
    "desc_ratings.loc[\"press_rating\", \"skewtest\"] = (p < 0.05)\n",
    "desc_ratings.loc[\"user_rating\", \"skew\"] = skew(allocine[[\"user_rating\"]])\n",
    "v, p = skewtest(allocine[[\"user_rating\"]])\n",
    "desc_ratings.loc[\"user_rating\", \"skewtest\"] = (p < 0.05)"
   ]
  },
  {
   "cell_type": "code",
   "execution_count": null,
   "metadata": {
    "collapsed": true
   },
   "outputs": [],
   "source": [
    "# compute the kurtosis\n",
    "from scipy.stats import kurtosis\n",
    "from scipy.stats import kurtosistest\n",
    "desc_ratings.loc[\"press_rating\", \"kurtosis\"] = kurtosis(allocine[[\"press_rating\"]], fisher=False)\n",
    "v, p = kurtosistest(allocine[[\"press_rating\"]])\n",
    "desc_ratings.loc[\"press_rating\", \"kurtosistest\"] = (p < 0.05)\n",
    "desc_ratings.loc[\"user_rating\", \"kurtosis\"] = kurtosis(allocine[[\"user_rating\"]], fisher=False)\n",
    "v, p = kurtosistest(allocine[[\"user_rating\"]])\n",
    "desc_ratings.loc[\"user_rating\", \"kurtosistest\"] = (p < 0.05)"
   ]
  },
  {
   "cell_type": "code",
   "execution_count": null,
   "metadata": {},
   "outputs": [
    {
     "data": {
      "text/html": [
       "<div>\n",
       "<style scoped>\n",
       "    .dataframe tbody tr th:only-of-type {\n",
       "        vertical-align: middle;\n",
       "    }\n",
       "\n",
       "    .dataframe tbody tr th {\n",
       "        vertical-align: top;\n",
       "    }\n",
       "\n",
       "    .dataframe thead th {\n",
       "        text-align: right;\n",
       "    }\n",
       "</style>\n",
       "<table border=\"1\" class=\"dataframe\">\n",
       "  <thead>\n",
       "    <tr style=\"text-align: right;\">\n",
       "      <th></th>\n",
       "      <th>count</th>\n",
       "      <th>mean</th>\n",
       "      <th>std</th>\n",
       "      <th>min</th>\n",
       "      <th>25%</th>\n",
       "      <th>50%</th>\n",
       "      <th>75%</th>\n",
       "      <th>max</th>\n",
       "      <th>skew</th>\n",
       "      <th>skewtest</th>\n",
       "      <th>kurtosis</th>\n",
       "      <th>kurtosistest</th>\n",
       "    </tr>\n",
       "  </thead>\n",
       "  <tbody>\n",
       "    <tr>\n",
       "      <th>user_rating</th>\n",
       "      <td>28.0</td>\n",
       "      <td>3.539286</td>\n",
       "      <td>0.595252</td>\n",
       "      <td>2.3</td>\n",
       "      <td>3.100</td>\n",
       "      <td>3.75</td>\n",
       "      <td>4.000</td>\n",
       "      <td>4.2</td>\n",
       "      <td>-0.833008</td>\n",
       "      <td>True</td>\n",
       "      <td>2.656551</td>\n",
       "      <td>False</td>\n",
       "    </tr>\n",
       "    <tr>\n",
       "      <th>press_rating</th>\n",
       "      <td>28.0</td>\n",
       "      <td>3.239286</td>\n",
       "      <td>0.674586</td>\n",
       "      <td>1.8</td>\n",
       "      <td>2.825</td>\n",
       "      <td>3.35</td>\n",
       "      <td>3.825</td>\n",
       "      <td>4.1</td>\n",
       "      <td>-0.635299</td>\n",
       "      <td>[False]</td>\n",
       "      <td>2.426215</td>\n",
       "      <td>[False]</td>\n",
       "    </tr>\n",
       "  </tbody>\n",
       "</table>\n",
       "</div>"
      ],
      "text/plain": [
       "              count      mean       std  min    25%   50%    75%  max  \\\n",
       "user_rating    28.0  3.539286  0.595252  2.3  3.100  3.75  4.000  4.2   \n",
       "press_rating   28.0  3.239286  0.674586  1.8  2.825  3.35  3.825  4.1   \n",
       "\n",
       "                  skew skewtest  kurtosis kurtosistest  \n",
       "user_rating  -0.833008     True  2.656551        False  \n",
       "press_rating -0.635299  [False]  2.426215      [False]  "
      ]
     },
     "execution_count": 67,
     "metadata": {},
     "output_type": "execute_result"
    }
   ],
   "source": [
    "# print the stats\n",
    "desc_ratings"
   ]
  },
  {
   "cell_type": "markdown",
   "metadata": {},
   "source": [
    "## Ratings Correlation"
   ]
  },
  {
   "cell_type": "code",
   "execution_count": null,
   "metadata": {},
   "outputs": [
    {
     "data": {
      "image/png": "[encoded data removed]",
      "text/plain": [
       "<Figure size 504x504 with 3 Axes>"
      ]
     },
     "metadata": {},
     "output_type": "display_data"
    }
   ],
   "source": [
    "ax = sns.jointplot(x=\"press_rating\", y=\"user_rating\", \n",
    "                   data=allocine, kind=\"hex\",\n",
    "                   marginal_kws=dict(bins=20),\n",
    "                   xlim=(0.8,5.1), ylim=(0.8,5.1),\n",
    "                   height=7, space=0).set_axis_labels(\"Press Ratings\", \"Users Ratings\")"
   ]
  },
  {
   "cell_type": "code",
   "execution_count": null,
   "metadata": {
    "collapsed": true
   },
   "outputs": [],
   "source": [
    "# save the fig\n",
    "ax.savefig('allocine-1_jointplot.png', bbox_inches='tight', dpi=200)"
   ]
  },
  {
   "cell_type": "markdown",
   "metadata": {},
   "source": [
    "# Section 2. Five Stars Movies Analysis\n",
    "\n",
    "The press seems to give much more hightest ratings than AlloCiné users. We need to dig a little bit more to see what happening here. In this section we use a subset of the data where press ratings are five stars. \n",
    "\n",
    "## Compare to users ratings"
   ]
  },
  {
   "cell_type": "code",
   "execution_count": null,
   "metadata": {
    "collapsed": true
   },
   "outputs": [],
   "source": [
    "five_stars = allocine[allocine[\"press_rating\"] >= 5]"
   ]
  },
  {
   "cell_type": "code",
   "execution_count": null,
   "metadata": {},
   "outputs": [],
   "source": [
    "f, ax = plt.subplots(figsize=(15,6))\n",
    "f.suptitle('Movies with Five Stars From The Press', \n",
    "           fontsize=13)\n",
    "f.subplots_adjust(top=0.85)\n",
    "\n",
    "sns.countplot(five_stars[\"user_rating\"], ax=ax)\n",
    "ax.set_xlabel(\"Users Ratings\")\n",
    "ax.set_ylabel(\"\")\n",
    "sns.despine(top=True, right=True, left=False, bottom=False)"
   ]
  },
  {
   "cell_type": "code",
   "execution_count": null,
   "metadata": {
    "collapsed": true
   },
   "outputs": [],
   "source": [
    "# save the fig\n",
    "f.savefig('allocine-2_hist5stars.png', bbox_inches='tight', dpi=200)"
   ]
  },
  {
   "cell_type": "code",
   "execution_count": null,
   "metadata": {},
   "outputs": [
    {
     "data": {
      "text/html": [
       "<div>\n",
       "<style scoped>\n",
       "    .dataframe tbody tr th:only-of-type {\n",
       "        vertical-align: middle;\n",
       "    }\n",
       "\n",
       "    .dataframe tbody tr th {\n",
       "        vertical-align: top;\n",
       "    }\n",
       "\n",
       "    .dataframe thead th {\n",
       "        text-align: right;\n",
       "    }\n",
       "</style>\n",
       "<table border=\"1\" class=\"dataframe\">\n",
       "  <thead>\n",
       "    <tr style=\"text-align: right;\">\n",
       "      <th></th>\n",
       "      <th>user_rating</th>\n",
       "    </tr>\n",
       "  </thead>\n",
       "  <tbody>\n",
       "    <tr>\n",
       "      <th>0.33</th>\n",
       "      <td>3.300</td>\n",
       "    </tr>\n",
       "    <tr>\n",
       "      <th>0.66</th>\n",
       "      <td>3.964</td>\n",
       "    </tr>\n",
       "  </tbody>\n",
       "</table>\n",
       "</div>"
      ],
      "text/plain": [
       "      user_rating\n",
       "0.33        3.300\n",
       "0.66        3.964"
      ]
     },
     "execution_count": 79,
     "metadata": {},
     "output_type": "execute_result"
    }
   ],
   "source": [
    "# print the first tier and second tier of the Users Ratings\n",
    "allocine[[\"user_rating\"]].quantile([.33,.66])"
   ]
  },
  {
   "cell_type": "code",
   "execution_count": null,
   "metadata": {},
   "outputs": [],
   "source": [
    "p = (len(five_stars[(five_stars[\"user_rating\"] < 2.9)]) / len(five_stars)) * 100\n",
    "print('{} % of the movies with the highest press ratings received a low users ratings.'.format(round(p, 2)))"
   ]
  },
  {
   "cell_type": "code",
   "execution_count": null,
   "metadata": {},
   "outputs": [
    {
     "name": "stdout",
     "output_type": "stream",
     "text": [
      "10.91 % of the movies with the highest press ratings received a moderate users ratings.\n"
     ]
    }
   ],
   "source": [
    "p = (len(five_stars[(five_stars[\"user_rating\"] < 3.4) & (five_stars[\"user_rating\"] >= 2.9)]) / len(five_stars)) * 100\n",
    "print('{} % of the movies with the highest press ratings received a moderate users ratings.'.format(round(p, 2)))"
   ]
  },
  {
   "cell_type": "code",
   "execution_count": null,
   "metadata": {},
   "outputs": [
    {
     "name": "stdout",
     "output_type": "stream",
     "text": [
      "88.73 % of the movies with the highest press ratings received a high users ratings.\n"
     ]
    }
   ],
   "source": [
    "p = (len(five_stars[five_stars[\"user_rating\"] >= 3.4]) / len(five_stars)) * 100\n",
    "print('{} % of the movies with the highest press ratings received a high users ratings.'.format(round(p, 2)))"
   ]
  },
  {
   "cell_type": "markdown",
   "metadata": {},
   "source": [
    "## Distribution Analysis of Five Stars Movies"
   ]
  },
  {
   "cell_type": "code",
   "execution_count": null,
   "metadata": {},
   "outputs": [
    {
     "data": {
      "image/png": "[encoded data removed]",
      "text/plain": [
       "<matplotlib.figure.Figure at 0x11ed23cf8>"
      ]
     },
     "metadata": {},
     "output_type": "display_data"
    }
   ],
   "source": [
    "fig, axes = plt.subplots(1, 3, figsize = (16,4))\n",
    "fig.suptitle('Movies with Five Stars From The Press', fontsize=14, fontweight='bold')\n",
    "fig.subplots_adjust(top=0.75)\n",
    "ax1, ax2, ax3 = fig.axes\n",
    "\n",
    "# fig 1\n",
    "ax1.set_xlim([1925,2017])\n",
    "ax1.set_title(\"Distribution of Movies\\nby Year of Release\\n\")\n",
    "# years distribution of the five stars\n",
    "sns.distplot(five_stars[\"release_date\"].dt.year.dropna(), ax=ax1, \n",
    "             axlabel=\"Year of Release\", label=\"Five Stars Movies\", bins=10, \n",
    "             norm_hist=True, kde=False,\n",
    "             hist_kws={\"alpha\": 0.9, \"color\": \"C5\"})\n",
    "\n",
    "# years distribution of all the data\n",
    "sns.distplot(allocine[\"release_date\"].dt.year.dropna(), ax=ax1, \n",
    "             axlabel=\"Year of Release\", label=\"Full Dataset\", bins=10, \n",
    "             norm_hist=True, kde=False,\n",
    "             hist_kws={\"alpha\": 0.85, \"color\": \"C1\"})\n",
    "\n",
    "ax1.axvline(x=1997, color=\"C0\", label=\"Launch of AlloCiné\", linestyle=\"--\", linewidth=1.5)\n",
    "ax1.legend(loc = \"upper left\")\n",
    "\n",
    "# fig 2\n",
    "sns.countplot(five_stars[\"nber_press_vote\"], ax=ax2)\n",
    "ax2.set_xlabel(\"Number of Press Votes\")\n",
    "ax2.set_title(\"Distribution of Movies\\nby the Number of Press Votes\\n\")\n",
    "sns.despine(top=True, right=True, left=False, bottom=False)\n",
    "\n",
    "# fig 3\n",
    "# years distribution of all the data\n",
    "ax3.set_xlim([1935,2017])\n",
    "ax3.set_title(\"Distribution of Movies\\nwith only one Press Vote\\nby Year of Release\")\n",
    "# years distribution of the view\n",
    "fs_nbp = five_stars[five_stars[\"nber_press_vote\"] == 1]\n",
    "left97 = len(fs_nbp[fs_nbp[\"release_date\"].dt.year < 1997])\n",
    "right97 = len(fs_nbp[fs_nbp[\"release_date\"].dt.year >= 1997])\n",
    "sns.distplot(fs_nbp[\"release_date\"].dt.year.dropna(), ax=ax3, \n",
    "             axlabel=\"Year of Release\", label=\"Five Stars Movies\", bins=4, \n",
    "             norm_hist=False, kde=False,\n",
    "             hist_kws={\"alpha\": 0.9, \"color\": \"C5\"})\n",
    "\n",
    "ax3.text(1967, 10, '{}%'.format(round((left97 / (left97 + right97)) * 100, 1)), ha='center', va='bottom', color='C0')\n",
    "ax3.text(2007, 10, '{}%'.format(round((right97 / (left97 + right97)) * 100, 1)), ha='center', va='bottom', color='C0')\n",
    "ax3.axvline(x=1997, color=\"C0\", label=\"Launch of AlloCiné\", linestyle=\"--\", linewidth=1.5)\n",
    "ax3.legend(loc = \"upper left\");"
   ]
  },
  {
   "cell_type": "code",
   "execution_count": null,
   "metadata": {
    "collapsed": true
   },
   "outputs": [],
   "source": [
    "# save the fig\n",
    "fig.savefig('allocine-3_5StarsByYear.png', bbox_inches='tight', dpi=200)"
   ]
  },
  {
   "cell_type": "markdown",
   "metadata": {},
   "source": [
    "# Section 3. General Ratings Comparaison\n",
    "## Rating Difference"
   ]
  },
  {
   "cell_type": "code",
   "execution_count": null,
   "metadata": {
    "collapsed": true
   },
   "outputs": [],
   "source": [
    "allocine[\"diff_rating\"] = (allocine[\"press_rating\"] - allocine[\"user_rating\"]).abs()"
   ]
  },
  {
   "cell_type": "markdown",
   "metadata": {},
   "source": [
    "### Descriptive Statistics"
   ]
  },
  {
   "cell_type": "code",
   "execution_count": null,
   "metadata": {},
   "outputs": [
    {
     "data": {
      "text/html": [
       "<div>\n",
       "<style>\n",
       "    .dataframe thead tr:only-child th {\n",
       "        text-align: right;\n",
       "    }\n",
       "\n",
       "    .dataframe thead th {\n",
       "        text-align: left;\n",
       "    }\n",
       "\n",
       "    .dataframe tbody tr th {\n",
       "        vertical-align: top;\n",
       "    }\n",
       "</style>\n",
       "<table border=\"1\" class=\"dataframe\">\n",
       "  <thead>\n",
       "    <tr style=\"text-align: right;\">\n",
       "      <th></th>\n",
       "      <th>count</th>\n",
       "      <th>mean</th>\n",
       "      <th>std</th>\n",
       "      <th>min</th>\n",
       "      <th>25%</th>\n",
       "      <th>50%</th>\n",
       "      <th>75%</th>\n",
       "      <th>max</th>\n",
       "    </tr>\n",
       "  </thead>\n",
       "  <tbody>\n",
       "    <tr>\n",
       "      <th>diff_rating</th>\n",
       "      <td>10424.0</td>\n",
       "      <td>0.553972</td>\n",
       "      <td>0.429605</td>\n",
       "      <td>0.0</td>\n",
       "      <td>0.2</td>\n",
       "      <td>0.5</td>\n",
       "      <td>0.8</td>\n",
       "      <td>2.9</td>\n",
       "    </tr>\n",
       "  </tbody>\n",
       "</table>\n",
       "</div>"
      ],
      "text/plain": [
       "               count      mean       std  min  25%  50%  75%  max\n",
       "diff_rating  10424.0  0.553972  0.429605  0.0  0.2  0.5  0.8  2.9"
      ]
     },
     "execution_count": 30,
     "metadata": {},
     "output_type": "execute_result"
    }
   ],
   "source": [
    "# Descriptive statistics\n",
    "allocine[[\"diff_rating\"]].describe().T"
   ]
  },
  {
   "cell_type": "markdown",
   "metadata": {},
   "source": [
    "### Ploting the Distribution"
   ]
  },
  {
   "cell_type": "code",
   "execution_count": null,
   "metadata": {},
   "outputs": [
    {
     "data": {
      "image/png": "[encoded data removed]",
      "text/plain": [
       "<matplotlib.figure.Figure at 0x11f0478d0>"
      ]
     },
     "metadata": {},
     "output_type": "display_data"
    }
   ],
   "source": [
    "f, ax = plt.subplots(1, 3, figsize = (16,4))\n",
    "f.suptitle('Distribution of Difference Between Ratings', \n",
    "           fontsize=14, fontweight='bold')\n",
    "f.subplots_adjust(top=0.75)\n",
    "ax1, ax2, ax3 = f.axes\n",
    "\n",
    "ax1.set_xlim([0,3])\n",
    "ax1.set_title(\"Distribution for\\nUsers Ratings < Press Ratings\")\n",
    "sns.distplot(allocine.loc[allocine[\"user_rating\"] < allocine[\"press_rating\"], \"diff_rating\"], ax=ax1, bins=7, \n",
    "             norm_hist=True, kde=False,\n",
    "             hist_kws={\"alpha\": 0.85, \"color\": \"C0\"})\n",
    "\n",
    "ax1.set_xlabel(\"Absolute Difference\")\n",
    "\n",
    "ax2.set_xlim([0,3])\n",
    "ax2.set_title(\"Distribution for\\nUsers Ratings > Press Ratings\")\n",
    "sns.distplot(allocine.loc[allocine[\"user_rating\"] > allocine[\"press_rating\"], \"diff_rating\"], ax=ax2, bins=7, \n",
    "             norm_hist=True, kde=False,\n",
    "             hist_kws={\"alpha\": 0.85, \"color\": \"C2\"})\n",
    "ax2.set_xlabel(\"Absolute Difference\")\n",
    "\n",
    "ax3.set_xlim([0,3])\n",
    "ax3.set_title(\"Distribution of absolute difference for\\nall the data\")\n",
    "sns.distplot(allocine.loc[:, \"diff_rating\"], ax=ax3, bins=7, \n",
    "             norm_hist=True, kde=False,\n",
    "             hist_kws={\"alpha\": 0.85, \"color\": \"C1\"})\n",
    "ax3.set_xlabel(\"Absolute Difference\")\n",
    "\n",
    "sns.despine(top=True, right=True, left=False, bottom=False)"
   ]
  },
  {
   "cell_type": "code",
   "execution_count": null,
   "metadata": {
    "collapsed": true
   },
   "outputs": [],
   "source": [
    "# save the fig\n",
    "f.savefig('allocine-4_abs-diff-rating.png', bbox_inches='tight', dpi=200)"
   ]
  },
  {
   "cell_type": "code",
   "execution_count": null,
   "metadata": {},
   "outputs": [
    {
     "name": "stdout",
     "output_type": "stream",
     "text": [
      "For 52.64 % of the movies, the press rating is higher than the user rating.\n"
     ]
    }
   ],
   "source": [
    "x = round((len(allocine.loc[allocine[\"user_rating\"] < allocine[\"press_rating\"], \"diff_rating\"]) / len(allocine.loc[:, \"diff_rating\"])) * 100, 2)\n",
    "print('For {} % of the movies, the press rating is higher than the user rating.'.format(x))"
   ]
  },
  {
   "cell_type": "code",
   "execution_count": null,
   "metadata": {},
   "outputs": [
    {
     "name": "stdout",
     "output_type": "stream",
     "text": [
      "For 41.73 % of the movies, the user rating is higher than the press rating.\n"
     ]
    }
   ],
   "source": [
    "x = round((len(allocine.loc[allocine[\"user_rating\"] > allocine[\"press_rating\"], \"diff_rating\"]) / len(allocine.loc[:, \"diff_rating\"])) * 100, 2)\n",
    "print('For {} % of the movies, the user rating is higher than the press rating.'.format(x))"
   ]
  },
  {
   "cell_type": "code",
   "execution_count": null,
   "metadata": {},
   "outputs": [
    {
     "name": "stdout",
     "output_type": "stream",
     "text": [
      "5.63 % of the movies reveived the same rating from the press and the user.\n"
     ]
    }
   ],
   "source": [
    "x = round((len(allocine[allocine[\"diff_rating\"] == 0]) / len(allocine.loc[:, \"diff_rating\"])) * 100, 2)\n",
    "print('{} % of the movies reveived the same rating from the press and the user.'.format(x))"
   ]
  },
  {
   "cell_type": "code",
   "execution_count": null,
   "metadata": {},
   "outputs": [
    {
     "data": {
      "text/html": [
       "<div>\n",
       "<style>\n",
       "    .dataframe thead tr:only-child th {\n",
       "        text-align: right;\n",
       "    }\n",
       "\n",
       "    .dataframe thead th {\n",
       "        text-align: left;\n",
       "    }\n",
       "\n",
       "    .dataframe tbody tr th {\n",
       "        vertical-align: top;\n",
       "    }\n",
       "</style>\n",
       "<table border=\"1\" class=\"dataframe\">\n",
       "  <thead>\n",
       "    <tr style=\"text-align: right;\">\n",
       "      <th></th>\n",
       "      <th>movie_title</th>\n",
       "      <th>user_rating</th>\n",
       "      <th>press_rating</th>\n",
       "      <th>diff_rating</th>\n",
       "      <th>nber_press_vote</th>\n",
       "      <th>nber_user_vote</th>\n",
       "    </tr>\n",
       "  </thead>\n",
       "  <tbody>\n",
       "    <tr>\n",
       "      <th>305</th>\n",
       "      <td>Django Unchained</td>\n",
       "      <td>4.5</td>\n",
       "      <td>4.5</td>\n",
       "      <td>0.0</td>\n",
       "      <td>33</td>\n",
       "      <td>50376</td>\n",
       "    </tr>\n",
       "    <tr>\n",
       "      <th>1543</th>\n",
       "      <td>Edward aux mains d'argent</td>\n",
       "      <td>4.4</td>\n",
       "      <td>4.4</td>\n",
       "      <td>0.0</td>\n",
       "      <td>5</td>\n",
       "      <td>54461</td>\n",
       "    </tr>\n",
       "    <tr>\n",
       "      <th>780</th>\n",
       "      <td>Il était une fois dans l'Ouest</td>\n",
       "      <td>4.4</td>\n",
       "      <td>4.4</td>\n",
       "      <td>0.0</td>\n",
       "      <td>8</td>\n",
       "      <td>17931</td>\n",
       "    </tr>\n",
       "    <tr>\n",
       "      <th>3148</th>\n",
       "      <td>Boulevard du crépuscule</td>\n",
       "      <td>4.4</td>\n",
       "      <td>4.4</td>\n",
       "      <td>0.0</td>\n",
       "      <td>9</td>\n",
       "      <td>1453</td>\n",
       "    </tr>\n",
       "    <tr>\n",
       "      <th>119</th>\n",
       "      <td>Ma Vie De Courgette</td>\n",
       "      <td>4.4</td>\n",
       "      <td>4.4</td>\n",
       "      <td>0.0</td>\n",
       "      <td>30</td>\n",
       "      <td>1898</td>\n",
       "    </tr>\n",
       "  </tbody>\n",
       "</table>\n",
       "</div>"
      ],
      "text/plain": [
       "                         movie_title  user_rating  press_rating  diff_rating  \\\n",
       "305                 Django Unchained          4.5           4.5          0.0   \n",
       "1543       Edward aux mains d'argent          4.4           4.4          0.0   \n",
       "780   Il était une fois dans l'Ouest          4.4           4.4          0.0   \n",
       "3148         Boulevard du crépuscule          4.4           4.4          0.0   \n",
       "119              Ma Vie De Courgette          4.4           4.4          0.0   \n",
       "\n",
       "      nber_press_vote  nber_user_vote  \n",
       "305                33           50376  \n",
       "1543                5           54461  \n",
       "780                 8           17931  \n",
       "3148                9            1453  \n",
       "119                30            1898  "
      ]
     },
     "execution_count": 40,
     "metadata": {},
     "output_type": "execute_result"
    }
   ],
   "source": [
    "# top Movies where users rating and press rating are the same\n",
    "allocine[allocine[\"diff_rating\"] == 0].sort_values(by=\"user_rating\", \n",
    "                                                   ascending=False)[[\"movie_title\", \"user_rating\", \n",
    "                                                                     \"press_rating\", \"diff_rating\", \n",
    "                                                                     \"nber_press_vote\", \"nber_user_vote\"]].head(5)"
   ]
  },
  {
   "cell_type": "markdown",
   "metadata": {},
   "source": [
    "## Movie with highest ratings differences\n",
    "### Press Rating higher than User Rating"
   ]
  },
  {
   "cell_type": "code",
   "execution_count": null,
   "metadata": {},
   "outputs": [
    {
     "data": {
      "text/html": [
       "<div>\n",
       "<style>\n",
       "    .dataframe thead tr:only-child th {\n",
       "        text-align: right;\n",
       "    }\n",
       "\n",
       "    .dataframe thead th {\n",
       "        text-align: left;\n",
       "    }\n",
       "\n",
       "    .dataframe tbody tr th {\n",
       "        vertical-align: top;\n",
       "    }\n",
       "</style>\n",
       "<table border=\"1\" class=\"dataframe\">\n",
       "  <thead>\n",
       "    <tr style=\"text-align: right;\">\n",
       "      <th></th>\n",
       "      <th>movie_title</th>\n",
       "      <th>user_rating</th>\n",
       "      <th>press_rating</th>\n",
       "      <th>diff_rating</th>\n",
       "      <th>nber_press_vote</th>\n",
       "      <th>nber_user_vote</th>\n",
       "    </tr>\n",
       "  </thead>\n",
       "  <tbody>\n",
       "    <tr>\n",
       "      <th>2750</th>\n",
       "      <td>Les Sept Samouraïs</td>\n",
       "      <td>1.7</td>\n",
       "      <td>4.6</td>\n",
       "      <td>2.9</td>\n",
       "      <td>14</td>\n",
       "      <td>92578</td>\n",
       "    </tr>\n",
       "    <tr>\n",
       "      <th>3430</th>\n",
       "      <td>L'Enfant</td>\n",
       "      <td>1.6</td>\n",
       "      <td>4.3</td>\n",
       "      <td>2.7</td>\n",
       "      <td>32</td>\n",
       "      <td>69943</td>\n",
       "    </tr>\n",
       "    <tr>\n",
       "      <th>10338</th>\n",
       "      <td>Fantômes à Rome</td>\n",
       "      <td>2.7</td>\n",
       "      <td>5.0</td>\n",
       "      <td>2.3</td>\n",
       "      <td>1</td>\n",
       "      <td>20</td>\n",
       "    </tr>\n",
       "    <tr>\n",
       "      <th>5819</th>\n",
       "      <td>Jet Set</td>\n",
       "      <td>1.3</td>\n",
       "      <td>3.5</td>\n",
       "      <td>2.2</td>\n",
       "      <td>19</td>\n",
       "      <td>2669</td>\n",
       "    </tr>\n",
       "    <tr>\n",
       "      <th>7011</th>\n",
       "      <td>Feux Rouges</td>\n",
       "      <td>2.3</td>\n",
       "      <td>4.4</td>\n",
       "      <td>2.1</td>\n",
       "      <td>23</td>\n",
       "      <td>412</td>\n",
       "    </tr>\n",
       "  </tbody>\n",
       "</table>\n",
       "</div>"
      ],
      "text/plain": [
       "              movie_title  user_rating  press_rating  diff_rating  \\\n",
       "2750   Les Sept Samouraïs          1.7           4.6          2.9   \n",
       "3430             L'Enfant          1.6           4.3          2.7   \n",
       "10338     Fantômes à Rome          2.7           5.0          2.3   \n",
       "5819              Jet Set          1.3           3.5          2.2   \n",
       "7011          Feux Rouges          2.3           4.4          2.1   \n",
       "\n",
       "       nber_press_vote  nber_user_vote  \n",
       "2750                14           92578  \n",
       "3430                32           69943  \n",
       "10338                1              20  \n",
       "5819                19            2669  \n",
       "7011                23             412  "
      ]
     },
     "execution_count": 41,
     "metadata": {},
     "output_type": "execute_result"
    }
   ],
   "source": [
    "# Press > user\n",
    "allocine[allocine[\"user_rating\"] < allocine[\"press_rating\"]].sort_values(by=\"diff_rating\", \n",
    "                     ascending=False)[[\"movie_title\", \"user_rating\", \n",
    "                                       \"press_rating\", \"diff_rating\", \n",
    "                                       \"nber_press_vote\", \"nber_user_vote\"]].head(5)"
   ]
  },
  {
   "cell_type": "markdown",
   "metadata": {},
   "source": [
    "### User Rating higher than Press Rating"
   ]
  },
  {
   "cell_type": "code",
   "execution_count": null,
   "metadata": {},
   "outputs": [
    {
     "data": {
      "text/html": [
       "<div>\n",
       "<style>\n",
       "    .dataframe thead tr:only-child th {\n",
       "        text-align: right;\n",
       "    }\n",
       "\n",
       "    .dataframe thead th {\n",
       "        text-align: left;\n",
       "    }\n",
       "\n",
       "    .dataframe tbody tr th {\n",
       "        vertical-align: top;\n",
       "    }\n",
       "</style>\n",
       "<table border=\"1\" class=\"dataframe\">\n",
       "  <thead>\n",
       "    <tr style=\"text-align: right;\">\n",
       "      <th></th>\n",
       "      <th>movie_title</th>\n",
       "      <th>user_rating</th>\n",
       "      <th>press_rating</th>\n",
       "      <th>diff_rating</th>\n",
       "      <th>nber_press_vote</th>\n",
       "      <th>nber_user_vote</th>\n",
       "    </tr>\n",
       "  </thead>\n",
       "  <tbody>\n",
       "    <tr>\n",
       "      <th>6302</th>\n",
       "      <td>Gazelle</td>\n",
       "      <td>3.6</td>\n",
       "      <td>1.0</td>\n",
       "      <td>2.6</td>\n",
       "      <td>2</td>\n",
       "      <td>35</td>\n",
       "    </tr>\n",
       "    <tr>\n",
       "      <th>2290</th>\n",
       "      <td>Retour vers le futur II</td>\n",
       "      <td>4.2</td>\n",
       "      <td>1.6</td>\n",
       "      <td>2.6</td>\n",
       "      <td>5</td>\n",
       "      <td>40487</td>\n",
       "    </tr>\n",
       "    <tr>\n",
       "      <th>7401</th>\n",
       "      <td>Glee ! On Tour : Le Film 3D</td>\n",
       "      <td>3.8</td>\n",
       "      <td>1.2</td>\n",
       "      <td>2.6</td>\n",
       "      <td>10</td>\n",
       "      <td>299</td>\n",
       "    </tr>\n",
       "    <tr>\n",
       "      <th>3231</th>\n",
       "      <td>Le Tambour</td>\n",
       "      <td>3.5</td>\n",
       "      <td>1.0</td>\n",
       "      <td>2.5</td>\n",
       "      <td>1</td>\n",
       "      <td>881</td>\n",
       "    </tr>\n",
       "    <tr>\n",
       "      <th>1479</th>\n",
       "      <td>Forces spéciales</td>\n",
       "      <td>3.7</td>\n",
       "      <td>1.2</td>\n",
       "      <td>2.5</td>\n",
       "      <td>14</td>\n",
       "      <td>3062</td>\n",
       "    </tr>\n",
       "  </tbody>\n",
       "</table>\n",
       "</div>"
      ],
      "text/plain": [
       "                      movie_title  user_rating  press_rating  diff_rating  \\\n",
       "6302                      Gazelle          3.6           1.0          2.6   \n",
       "2290      Retour vers le futur II          4.2           1.6          2.6   \n",
       "7401  Glee ! On Tour : Le Film 3D          3.8           1.2          2.6   \n",
       "3231                   Le Tambour          3.5           1.0          2.5   \n",
       "1479             Forces spéciales          3.7           1.2          2.5   \n",
       "\n",
       "      nber_press_vote  nber_user_vote  \n",
       "6302                2              35  \n",
       "2290                5           40487  \n",
       "7401               10             299  \n",
       "3231                1             881  \n",
       "1479               14            3062  "
      ]
     },
     "execution_count": 42,
     "metadata": {},
     "output_type": "execute_result"
    }
   ],
   "source": [
    "# Press < user\n",
    "allocine[allocine[\"user_rating\"] > allocine[\"press_rating\"]].sort_values(by=\"diff_rating\", \n",
    "                     ascending=False)[[\"movie_title\", \"user_rating\", \n",
    "                                       \"press_rating\", \"diff_rating\", \n",
    "                                       \"nber_press_vote\", \"nber_user_vote\"]].head(5)"
   ]
  },
  {
   "cell_type": "markdown",
   "metadata": {},
   "source": [
    "### Full dataset"
   ]
  },
  {
   "cell_type": "code",
   "execution_count": null,
   "metadata": {},
   "outputs": [
    {
     "data": {
      "text/html": [
       "<div>\n",
       "<style>\n",
       "    .dataframe thead tr:only-child th {\n",
       "        text-align: right;\n",
       "    }\n",
       "\n",
       "    .dataframe thead th {\n",
       "        text-align: left;\n",
       "    }\n",
       "\n",
       "    .dataframe tbody tr th {\n",
       "        vertical-align: top;\n",
       "    }\n",
       "</style>\n",
       "<table border=\"1\" class=\"dataframe\">\n",
       "  <thead>\n",
       "    <tr style=\"text-align: right;\">\n",
       "      <th></th>\n",
       "      <th>movie_title</th>\n",
       "      <th>user_rating</th>\n",
       "      <th>press_rating</th>\n",
       "      <th>nber_press_vote</th>\n",
       "      <th>nber_user_vote</th>\n",
       "      <th>diff_rating</th>\n",
       "    </tr>\n",
       "  </thead>\n",
       "  <tbody>\n",
       "    <tr>\n",
       "      <th>2750</th>\n",
       "      <td>Les Sept Samouraïs</td>\n",
       "      <td>1.7</td>\n",
       "      <td>4.6</td>\n",
       "      <td>14</td>\n",
       "      <td>92578</td>\n",
       "      <td>2.9</td>\n",
       "    </tr>\n",
       "    <tr>\n",
       "      <th>3430</th>\n",
       "      <td>L'Enfant</td>\n",
       "      <td>1.6</td>\n",
       "      <td>4.3</td>\n",
       "      <td>32</td>\n",
       "      <td>69943</td>\n",
       "      <td>2.7</td>\n",
       "    </tr>\n",
       "    <tr>\n",
       "      <th>6302</th>\n",
       "      <td>Gazelle</td>\n",
       "      <td>3.6</td>\n",
       "      <td>1.0</td>\n",
       "      <td>2</td>\n",
       "      <td>35</td>\n",
       "      <td>2.6</td>\n",
       "    </tr>\n",
       "    <tr>\n",
       "      <th>2290</th>\n",
       "      <td>Retour vers le futur II</td>\n",
       "      <td>4.2</td>\n",
       "      <td>1.6</td>\n",
       "      <td>5</td>\n",
       "      <td>40487</td>\n",
       "      <td>2.6</td>\n",
       "    </tr>\n",
       "    <tr>\n",
       "      <th>7401</th>\n",
       "      <td>Glee ! On Tour : Le Film 3D</td>\n",
       "      <td>3.8</td>\n",
       "      <td>1.2</td>\n",
       "      <td>10</td>\n",
       "      <td>299</td>\n",
       "      <td>2.6</td>\n",
       "    </tr>\n",
       "    <tr>\n",
       "      <th>3231</th>\n",
       "      <td>Le Tambour</td>\n",
       "      <td>3.5</td>\n",
       "      <td>1.0</td>\n",
       "      <td>1</td>\n",
       "      <td>881</td>\n",
       "      <td>2.5</td>\n",
       "    </tr>\n",
       "    <tr>\n",
       "      <th>6784</th>\n",
       "      <td>Lumière</td>\n",
       "      <td>3.8</td>\n",
       "      <td>1.3</td>\n",
       "      <td>7</td>\n",
       "      <td>53</td>\n",
       "      <td>2.5</td>\n",
       "    </tr>\n",
       "    <tr>\n",
       "      <th>1479</th>\n",
       "      <td>Forces spéciales</td>\n",
       "      <td>3.7</td>\n",
       "      <td>1.2</td>\n",
       "      <td>14</td>\n",
       "      <td>3062</td>\n",
       "      <td>2.5</td>\n",
       "    </tr>\n",
       "    <tr>\n",
       "      <th>1296</th>\n",
       "      <td>Arnaques, crimes et botanique</td>\n",
       "      <td>4.1</td>\n",
       "      <td>1.6</td>\n",
       "      <td>5</td>\n",
       "      <td>13078</td>\n",
       "      <td>2.5</td>\n",
       "    </tr>\n",
       "    <tr>\n",
       "      <th>8012</th>\n",
       "      <td>Le Monde Doit M'Arriver (?)</td>\n",
       "      <td>4.0</td>\n",
       "      <td>1.6</td>\n",
       "      <td>5</td>\n",
       "      <td>51</td>\n",
       "      <td>2.4</td>\n",
       "    </tr>\n",
       "  </tbody>\n",
       "</table>\n",
       "</div>"
      ],
      "text/plain": [
       "                        movie_title  user_rating  press_rating  \\\n",
       "2750             Les Sept Samouraïs          1.7           4.6   \n",
       "3430                       L'Enfant          1.6           4.3   \n",
       "6302                        Gazelle          3.6           1.0   \n",
       "2290        Retour vers le futur II          4.2           1.6   \n",
       "7401    Glee ! On Tour : Le Film 3D          3.8           1.2   \n",
       "3231                     Le Tambour          3.5           1.0   \n",
       "6784                        Lumière          3.8           1.3   \n",
       "1479               Forces spéciales          3.7           1.2   \n",
       "1296  Arnaques, crimes et botanique          4.1           1.6   \n",
       "8012    Le Monde Doit M'Arriver (?)          4.0           1.6   \n",
       "\n",
       "      nber_press_vote  nber_user_vote  diff_rating  \n",
       "2750               14           92578          2.9  \n",
       "3430               32           69943          2.7  \n",
       "6302                2              35          2.6  \n",
       "2290                5           40487          2.6  \n",
       "7401               10             299          2.6  \n",
       "3231                1             881          2.5  \n",
       "6784                7              53          2.5  \n",
       "1479               14            3062          2.5  \n",
       "1296                5           13078          2.5  \n",
       "8012                5              51          2.4  "
      ]
     },
     "execution_count": 43,
     "metadata": {},
     "output_type": "execute_result"
    }
   ],
   "source": [
    "# Full dataset\n",
    "allocine.sort_values(by=\"diff_rating\", \n",
    "                     ascending=False)[[\"movie_title\", \"user_rating\", \n",
    "                                       \"press_rating\", \"nber_press_vote\", \n",
    "                                       \"nber_user_vote\", \"diff_rating\"]].head(10)"
   ]
  },
  {
   "cell_type": "markdown",
   "metadata": {},
   "source": [
    "### Descriptive Statistics"
   ]
  },
  {
   "cell_type": "code",
   "execution_count": null,
   "metadata": {},
   "outputs": [
    {
     "data": {
      "text/html": [
       "<div>\n",
       "<style>\n",
       "    .dataframe thead tr:only-child th {\n",
       "        text-align: right;\n",
       "    }\n",
       "\n",
       "    .dataframe thead th {\n",
       "        text-align: left;\n",
       "    }\n",
       "\n",
       "    .dataframe tbody tr th {\n",
       "        vertical-align: top;\n",
       "    }\n",
       "</style>\n",
       "<table border=\"1\" class=\"dataframe\">\n",
       "  <thead>\n",
       "    <tr style=\"text-align: right;\">\n",
       "      <th></th>\n",
       "      <th>count</th>\n",
       "      <th>mean</th>\n",
       "      <th>std</th>\n",
       "      <th>min</th>\n",
       "      <th>25%</th>\n",
       "      <th>50%</th>\n",
       "      <th>75%</th>\n",
       "      <th>max</th>\n",
       "    </tr>\n",
       "  </thead>\n",
       "  <tbody>\n",
       "    <tr>\n",
       "      <th>nber_user_vote</th>\n",
       "      <td>10424.0</td>\n",
       "      <td>2582.144666</td>\n",
       "      <td>8288.305189</td>\n",
       "      <td>1.0</td>\n",
       "      <td>51.0</td>\n",
       "      <td>320.0</td>\n",
       "      <td>1670.25</td>\n",
       "      <td>200340.0</td>\n",
       "    </tr>\n",
       "  </tbody>\n",
       "</table>\n",
       "</div>"
      ],
      "text/plain": [
       "                  count         mean          std  min   25%    50%      75%  \\\n",
       "nber_user_vote  10424.0  2582.144666  8288.305189  1.0  51.0  320.0  1670.25   \n",
       "\n",
       "                     max  \n",
       "nber_user_vote  200340.0  "
      ]
     },
     "execution_count": 44,
     "metadata": {},
     "output_type": "execute_result"
    }
   ],
   "source": [
    "allocine[[\"nber_user_vote\"]].describe().T"
   ]
  },
  {
   "cell_type": "code",
   "execution_count": null,
   "metadata": {},
   "outputs": [
    {
     "data": {
      "text/html": [
       "<div>\n",
       "<style>\n",
       "    .dataframe thead tr:only-child th {\n",
       "        text-align: right;\n",
       "    }\n",
       "\n",
       "    .dataframe thead th {\n",
       "        text-align: left;\n",
       "    }\n",
       "\n",
       "    .dataframe tbody tr th {\n",
       "        vertical-align: top;\n",
       "    }\n",
       "</style>\n",
       "<table border=\"1\" class=\"dataframe\">\n",
       "  <thead>\n",
       "    <tr style=\"text-align: right;\">\n",
       "      <th></th>\n",
       "      <th>movie_title</th>\n",
       "      <th>nber_user_vote</th>\n",
       "    </tr>\n",
       "  </thead>\n",
       "  <tbody>\n",
       "    <tr>\n",
       "      <th>1979</th>\n",
       "      <td>Les 4 Fantastiques</td>\n",
       "      <td>200340</td>\n",
       "    </tr>\n",
       "    <tr>\n",
       "      <th>889</th>\n",
       "      <td>Camping</td>\n",
       "      <td>190387</td>\n",
       "    </tr>\n",
       "    <tr>\n",
       "      <th>2851</th>\n",
       "      <td>Tanguy</td>\n",
       "      <td>171669</td>\n",
       "    </tr>\n",
       "    <tr>\n",
       "      <th>2169</th>\n",
       "      <td>Bad Boys</td>\n",
       "      <td>168192</td>\n",
       "    </tr>\n",
       "    <tr>\n",
       "      <th>841</th>\n",
       "      <td>Top Gun</td>\n",
       "      <td>165160</td>\n",
       "    </tr>\n",
       "    <tr>\n",
       "      <th>321</th>\n",
       "      <td>Les Infiltrés</td>\n",
       "      <td>153711</td>\n",
       "    </tr>\n",
       "    <tr>\n",
       "      <th>411</th>\n",
       "      <td>Le Grand Bleu</td>\n",
       "      <td>149861</td>\n",
       "    </tr>\n",
       "    <tr>\n",
       "      <th>1027</th>\n",
       "      <td>Nikita</td>\n",
       "      <td>135705</td>\n",
       "    </tr>\n",
       "    <tr>\n",
       "      <th>525</th>\n",
       "      <td>Will Hunting</td>\n",
       "      <td>133995</td>\n",
       "    </tr>\n",
       "    <tr>\n",
       "      <th>3864</th>\n",
       "      <td>Palais Royal!</td>\n",
       "      <td>120968</td>\n",
       "    </tr>\n",
       "    <tr>\n",
       "      <th>385</th>\n",
       "      <td>Harry, un ami qui vous veut du bien</td>\n",
       "      <td>115090</td>\n",
       "    </tr>\n",
       "    <tr>\n",
       "      <th>796</th>\n",
       "      <td>Les enfants du marais</td>\n",
       "      <td>100645</td>\n",
       "    </tr>\n",
       "    <tr>\n",
       "      <th>2750</th>\n",
       "      <td>Les Sept Samouraïs</td>\n",
       "      <td>92578</td>\n",
       "    </tr>\n",
       "    <tr>\n",
       "      <th>609</th>\n",
       "      <td>Le Seigneur des anneaux : le retour du roi</td>\n",
       "      <td>85837</td>\n",
       "    </tr>\n",
       "    <tr>\n",
       "      <th>332</th>\n",
       "      <td>Avatar</td>\n",
       "      <td>81822</td>\n",
       "    </tr>\n",
       "    <tr>\n",
       "      <th>1398</th>\n",
       "      <td>Le Vent se lève</td>\n",
       "      <td>78498</td>\n",
       "    </tr>\n",
       "    <tr>\n",
       "      <th>201</th>\n",
       "      <td>Forrest Gump</td>\n",
       "      <td>75427</td>\n",
       "    </tr>\n",
       "    <tr>\n",
       "      <th>480</th>\n",
       "      <td>Le Seigneur des anneaux : la communauté de l'a...</td>\n",
       "      <td>72198</td>\n",
       "    </tr>\n",
       "    <tr>\n",
       "      <th>334</th>\n",
       "      <td>Intouchables</td>\n",
       "      <td>71488</td>\n",
       "    </tr>\n",
       "    <tr>\n",
       "      <th>3430</th>\n",
       "      <td>L'Enfant</td>\n",
       "      <td>69943</td>\n",
       "    </tr>\n",
       "  </tbody>\n",
       "</table>\n",
       "</div>"
      ],
      "text/plain": [
       "                                            movie_title  nber_user_vote\n",
       "1979                                 Les 4 Fantastiques          200340\n",
       "889                                             Camping          190387\n",
       "2851                                             Tanguy          171669\n",
       "2169                                           Bad Boys          168192\n",
       "841                                             Top Gun          165160\n",
       "321                                       Les Infiltrés          153711\n",
       "411                                       Le Grand Bleu          149861\n",
       "1027                                             Nikita          135705\n",
       "525                                        Will Hunting          133995\n",
       "3864                                      Palais Royal!          120968\n",
       "385                 Harry, un ami qui vous veut du bien          115090\n",
       "796                               Les enfants du marais          100645\n",
       "2750                                 Les Sept Samouraïs           92578\n",
       "609          Le Seigneur des anneaux : le retour du roi           85837\n",
       "332                                              Avatar           81822\n",
       "1398                                    Le Vent se lève           78498\n",
       "201                                        Forrest Gump           75427\n",
       "480   Le Seigneur des anneaux : la communauté de l'a...           72198\n",
       "334                                        Intouchables           71488\n",
       "3430                                           L'Enfant           69943"
      ]
     },
     "execution_count": 45,
     "metadata": {},
     "output_type": "execute_result"
    }
   ],
   "source": [
    "allocine[[\"movie_title\", \"nber_user_vote\"]].sort_values(by=\"nber_user_vote\", ascending=False).head(20)"
   ]
  },
  {
   "cell_type": "markdown",
   "metadata": {},
   "source": [
    "# Section 4. AlloCiné Users Ratings Analysis\n",
    "## Top 10 Movies"
   ]
  },
  {
   "cell_type": "code",
   "execution_count": null,
   "metadata": {},
   "outputs": [
    {
     "data": {
      "text/html": [
       "<div>\n",
       "<style>\n",
       "    .dataframe thead tr:only-child th {\n",
       "        text-align: right;\n",
       "    }\n",
       "\n",
       "    .dataframe thead th {\n",
       "        text-align: left;\n",
       "    }\n",
       "\n",
       "    .dataframe tbody tr th {\n",
       "        vertical-align: top;\n",
       "    }\n",
       "</style>\n",
       "<table border=\"1\" class=\"dataframe\">\n",
       "  <thead>\n",
       "    <tr style=\"text-align: right;\">\n",
       "      <th></th>\n",
       "      <th>movie_title</th>\n",
       "      <th>user_rating</th>\n",
       "      <th>press_rating</th>\n",
       "    </tr>\n",
       "  </thead>\n",
       "  <tbody>\n",
       "    <tr>\n",
       "      <th>306</th>\n",
       "      <td>Les Pépites</td>\n",
       "      <td>4.7</td>\n",
       "      <td>3.3</td>\n",
       "    </tr>\n",
       "    <tr>\n",
       "      <th>486</th>\n",
       "      <td>Demain</td>\n",
       "      <td>4.6</td>\n",
       "      <td>3.8</td>\n",
       "    </tr>\n",
       "    <tr>\n",
       "      <th>720</th>\n",
       "      <td>Et les mistrals gagnants</td>\n",
       "      <td>4.6</td>\n",
       "      <td>3.9</td>\n",
       "    </tr>\n",
       "    <tr>\n",
       "      <th>201</th>\n",
       "      <td>Forrest Gump</td>\n",
       "      <td>4.6</td>\n",
       "      <td>2.6</td>\n",
       "    </tr>\n",
       "    <tr>\n",
       "      <th>204</th>\n",
       "      <td>La Ligne verte</td>\n",
       "      <td>4.6</td>\n",
       "      <td>2.8</td>\n",
       "    </tr>\n",
       "  </tbody>\n",
       "</table>\n",
       "</div>"
      ],
      "text/plain": [
       "                  movie_title  user_rating  press_rating\n",
       "306               Les Pépites          4.7           3.3\n",
       "486                    Demain          4.6           3.8\n",
       "720  Et les mistrals gagnants          4.6           3.9\n",
       "201              Forrest Gump          4.6           2.6\n",
       "204            La Ligne verte          4.6           2.8"
      ]
     },
     "execution_count": 46,
     "metadata": {},
     "output_type": "execute_result"
    }
   ],
   "source": [
    "# Top 5 movies as rated by AlloCiné users\n",
    "allocine.sort_values(by=\"user_rating\", ascending=False)[[\"movie_title\", \"user_rating\", \"press_rating\"]].head(5)"
   ]
  },
  {
   "cell_type": "markdown",
   "metadata": {},
   "source": [
    "## Top 10 Actors"
   ]
  },
  {
   "cell_type": "code",
   "execution_count": null,
   "metadata": {
    "collapsed": true
   },
   "outputs": [],
   "source": [
    "# reshape the data for actors, directors, nationality or genre columns (col)\n",
    "def reshaping(df, col):\n",
    "    if col in [\"genre\", \"directors\", \"actors\", \"nationality\"]:\n",
    "        c = []\n",
    "        movie_ids = []\n",
    "        press_ratings = []\n",
    "        spect_ratings = []\n",
    "\n",
    "        for row_id, row in enumerate(df[col]):\n",
    "            for column in row:\n",
    "                c.append(column)\n",
    "                movie_ids.append(row_id)\n",
    "                press_ratings.append(df[\"press_rating\"][row_id])\n",
    "                spect_ratings.append(df[\"user_rating\"][row_id])\n",
    "\n",
    "        return pd.DataFrame({col: c, \"movie_ids\": movie_ids,\n",
    "                             \"press_ratings\": press_ratings, \"user_rating\": spect_ratings})\n",
    "    else:\n",
    "        print('Error : bad column name.')"
   ]
  },
  {
   "cell_type": "code",
   "execution_count": null,
   "metadata": {
    "collapsed": true
   },
   "outputs": [],
   "source": [
    "# reshape the data to a new dataframe\n",
    "df_actor = reshaping(allocine, \"actors\")"
   ]
  },
  {
   "cell_type": "code",
   "execution_count": null,
   "metadata": {
    "collapsed": true
   },
   "outputs": [],
   "source": [
    "# groupby actor\n",
    "top_actor = df_actor.groupby(\"actors\").agg({\n",
    "    \"press_ratings\" : \"mean\", \n",
    "    \"user_rating\" : \"mean\",\n",
    "    \"movie_ids\" : \"count\"}).sort_values(by=\"user_rating\", ascending=False)"
   ]
  },
  {
   "cell_type": "code",
   "execution_count": null,
   "metadata": {},
   "outputs": [
    {
     "data": {
      "text/html": [
       "<div>\n",
       "<style>\n",
       "    .dataframe thead tr:only-child th {\n",
       "        text-align: right;\n",
       "    }\n",
       "\n",
       "    .dataframe thead th {\n",
       "        text-align: left;\n",
       "    }\n",
       "\n",
       "    .dataframe tbody tr th {\n",
       "        vertical-align: top;\n",
       "    }\n",
       "</style>\n",
       "<table border=\"1\" class=\"dataframe\">\n",
       "  <thead>\n",
       "    <tr style=\"text-align: right;\">\n",
       "      <th></th>\n",
       "      <th>user_rating</th>\n",
       "      <th>press_ratings</th>\n",
       "      <th>movie_ids</th>\n",
       "    </tr>\n",
       "    <tr>\n",
       "      <th>actors</th>\n",
       "      <th></th>\n",
       "      <th></th>\n",
       "      <th></th>\n",
       "    </tr>\n",
       "  </thead>\n",
       "  <tbody>\n",
       "    <tr>\n",
       "      <th>Mark Hamill</th>\n",
       "      <td>4.400000</td>\n",
       "      <td>4.166667</td>\n",
       "      <td>3</td>\n",
       "    </tr>\n",
       "    <tr>\n",
       "      <th>Sean Astin</th>\n",
       "      <td>4.350000</td>\n",
       "      <td>3.750000</td>\n",
       "      <td>4</td>\n",
       "    </tr>\n",
       "    <tr>\n",
       "      <th>Joe Pesci</th>\n",
       "      <td>4.300000</td>\n",
       "      <td>4.800000</td>\n",
       "      <td>3</td>\n",
       "    </tr>\n",
       "    <tr>\n",
       "      <th>Charles Chaplin</th>\n",
       "      <td>4.257143</td>\n",
       "      <td>4.442857</td>\n",
       "      <td>7</td>\n",
       "    </tr>\n",
       "    <tr>\n",
       "      <th>Masami Nagasawa</th>\n",
       "      <td>4.200000</td>\n",
       "      <td>3.666667</td>\n",
       "      <td>3</td>\n",
       "    </tr>\n",
       "    <tr>\n",
       "      <th>Taron Egerton</th>\n",
       "      <td>4.166667</td>\n",
       "      <td>3.600000</td>\n",
       "      <td>3</td>\n",
       "    </tr>\n",
       "    <tr>\n",
       "      <th>Shelley Duvall</th>\n",
       "      <td>4.100000</td>\n",
       "      <td>4.666667</td>\n",
       "      <td>3</td>\n",
       "    </tr>\n",
       "    <tr>\n",
       "      <th>Lino Ventura</th>\n",
       "      <td>4.100000</td>\n",
       "      <td>4.366667</td>\n",
       "      <td>3</td>\n",
       "    </tr>\n",
       "    <tr>\n",
       "      <th>Anne Dorval</th>\n",
       "      <td>4.100000</td>\n",
       "      <td>3.866667</td>\n",
       "      <td>3</td>\n",
       "    </tr>\n",
       "    <tr>\n",
       "      <th>Martin Sheen</th>\n",
       "      <td>4.100000</td>\n",
       "      <td>3.800000</td>\n",
       "      <td>4</td>\n",
       "    </tr>\n",
       "  </tbody>\n",
       "</table>\n",
       "</div>"
      ],
      "text/plain": [
       "                 user_rating  press_ratings  movie_ids\n",
       "actors                                                \n",
       "Mark Hamill         4.400000       4.166667          3\n",
       "Sean Astin          4.350000       3.750000          4\n",
       "Joe Pesci           4.300000       4.800000          3\n",
       "Charles Chaplin     4.257143       4.442857          7\n",
       "Masami Nagasawa     4.200000       3.666667          3\n",
       "Taron Egerton       4.166667       3.600000          3\n",
       "Shelley Duvall      4.100000       4.666667          3\n",
       "Lino Ventura        4.100000       4.366667          3\n",
       "Anne Dorval         4.100000       3.866667          3\n",
       "Martin Sheen        4.100000       3.800000          4"
      ]
     },
     "execution_count": 50,
     "metadata": {},
     "output_type": "execute_result"
    }
   ],
   "source": [
    "# top actor who played in more than two movies (less than a half std of the mean)\n",
    "top_actor[top_actor[\"movie_ids\"] > top_actor[\"movie_ids\"].mean() - 1/2 * (top_actor[\"movie_ids\"].std()**(-2))].head(10)"
   ]
  },
  {
   "cell_type": "markdown",
   "metadata": {},
   "source": [
    "## Top 10 Genre"
   ]
  },
  {
   "cell_type": "code",
   "execution_count": null,
   "metadata": {
    "collapsed": true
   },
   "outputs": [],
   "source": [
    "# reshape the data to a new dataframe\n",
    "df_genre  = reshaping(allocine, \"genre\")"
   ]
  },
  {
   "cell_type": "code",
   "execution_count": null,
   "metadata": {
    "collapsed": true
   },
   "outputs": [],
   "source": [
    "# analysis \n",
    "top_genre = df_genre.groupby(\"genre\").agg({\n",
    "    \"press_ratings\" : \"mean\", \n",
    "    \"user_rating\" : \"mean\",\n",
    "    \"movie_ids\" : \"count\"}).sort_values(by=\"user_rating\", ascending=False)"
   ]
  },
  {
   "cell_type": "code",
   "execution_count": null,
   "metadata": {},
   "outputs": [
    {
     "data": {
      "text/html": [
       "<div>\n",
       "<style>\n",
       "    .dataframe thead tr:only-child th {\n",
       "        text-align: right;\n",
       "    }\n",
       "\n",
       "    .dataframe thead th {\n",
       "        text-align: left;\n",
       "    }\n",
       "\n",
       "    .dataframe tbody tr th {\n",
       "        vertical-align: top;\n",
       "    }\n",
       "</style>\n",
       "<table border=\"1\" class=\"dataframe\">\n",
       "  <thead>\n",
       "    <tr style=\"text-align: right;\">\n",
       "      <th></th>\n",
       "      <th>user_rating</th>\n",
       "      <th>press_ratings</th>\n",
       "      <th>movie_ids</th>\n",
       "    </tr>\n",
       "    <tr>\n",
       "      <th>genre</th>\n",
       "      <th></th>\n",
       "      <th></th>\n",
       "      <th></th>\n",
       "    </tr>\n",
       "  </thead>\n",
       "  <tbody>\n",
       "    <tr>\n",
       "      <th>Animation</th>\n",
       "      <td>3.366667</td>\n",
       "      <td>3.399619</td>\n",
       "      <td>525</td>\n",
       "    </tr>\n",
       "    <tr>\n",
       "      <th>Documentaire</th>\n",
       "      <td>3.343469</td>\n",
       "      <td>3.420794</td>\n",
       "      <td>957</td>\n",
       "    </tr>\n",
       "    <tr>\n",
       "      <th>Drame</th>\n",
       "      <td>3.269806</td>\n",
       "      <td>3.371131</td>\n",
       "      <td>4226</td>\n",
       "    </tr>\n",
       "    <tr>\n",
       "      <th>Aventure</th>\n",
       "      <td>3.172289</td>\n",
       "      <td>3.164458</td>\n",
       "      <td>664</td>\n",
       "    </tr>\n",
       "    <tr>\n",
       "      <th>Romance</th>\n",
       "      <td>3.157143</td>\n",
       "      <td>3.191254</td>\n",
       "      <td>1029</td>\n",
       "    </tr>\n",
       "    <tr>\n",
       "      <th>Comédie dramatique</th>\n",
       "      <td>3.120385</td>\n",
       "      <td>3.284252</td>\n",
       "      <td>1143</td>\n",
       "    </tr>\n",
       "    <tr>\n",
       "      <th>Policier</th>\n",
       "      <td>3.103252</td>\n",
       "      <td>3.260976</td>\n",
       "      <td>615</td>\n",
       "    </tr>\n",
       "    <tr>\n",
       "      <th>Thriller</th>\n",
       "      <td>3.066183</td>\n",
       "      <td>3.090992</td>\n",
       "      <td>1310</td>\n",
       "    </tr>\n",
       "    <tr>\n",
       "      <th>Action</th>\n",
       "      <td>3.044076</td>\n",
       "      <td>2.905332</td>\n",
       "      <td>844</td>\n",
       "    </tr>\n",
       "    <tr>\n",
       "      <th>Fantastique</th>\n",
       "      <td>3.009076</td>\n",
       "      <td>3.049916</td>\n",
       "      <td>595</td>\n",
       "    </tr>\n",
       "  </tbody>\n",
       "</table>\n",
       "</div>"
      ],
      "text/plain": [
       "                    user_rating  press_ratings  movie_ids\n",
       "genre                                                    \n",
       "Animation              3.366667       3.399619        525\n",
       "Documentaire           3.343469       3.420794        957\n",
       "Drame                  3.269806       3.371131       4226\n",
       "Aventure               3.172289       3.164458        664\n",
       "Romance                3.157143       3.191254       1029\n",
       "Comédie dramatique     3.120385       3.284252       1143\n",
       "Policier               3.103252       3.260976        615\n",
       "Thriller               3.066183       3.090992       1310\n",
       "Action                 3.044076       2.905332        844\n",
       "Fantastique            3.009076       3.049916        595"
      ]
     },
     "execution_count": 53,
     "metadata": {},
     "output_type": "execute_result"
    }
   ],
   "source": [
    "top_genre[top_genre[\"movie_ids\"] >= top_genre[\"movie_ids\"].mean() - 2*(top_genre[\"movie_ids\"].std()**(-2))].head(10)"
   ]
  },
  {
   "cell_type": "markdown",
   "metadata": {},
   "source": [
    "## Top 10 Director"
   ]
  },
  {
   "cell_type": "code",
   "execution_count": null,
   "metadata": {
    "collapsed": true
   },
   "outputs": [],
   "source": [
    "# reshape the data to a new dataframe\n",
    "df_director  = reshaping(allocine, \"directors\")"
   ]
  },
  {
   "cell_type": "code",
   "execution_count": null,
   "metadata": {
    "collapsed": true
   },
   "outputs": [],
   "source": [
    "# analysis \n",
    "top_director = df_director.groupby(\"directors\").agg({\n",
    "    \"press_ratings\" : \"mean\", \n",
    "    \"user_rating\" : \"mean\",\n",
    "    \"movie_ids\" : \"count\"}).sort_values(by=\"user_rating\", ascending=False)"
   ]
  },
  {
   "cell_type": "code",
   "execution_count": null,
   "metadata": {},
   "outputs": [
    {
     "data": {
      "text/html": [
       "<div>\n",
       "<style>\n",
       "    .dataframe thead tr:only-child th {\n",
       "        text-align: right;\n",
       "    }\n",
       "\n",
       "    .dataframe thead th {\n",
       "        text-align: left;\n",
       "    }\n",
       "\n",
       "    .dataframe tbody tr th {\n",
       "        vertical-align: top;\n",
       "    }\n",
       "</style>\n",
       "<table border=\"1\" class=\"dataframe\">\n",
       "  <thead>\n",
       "    <tr style=\"text-align: right;\">\n",
       "      <th></th>\n",
       "      <th>user_rating</th>\n",
       "      <th>press_ratings</th>\n",
       "      <th>movie_ids</th>\n",
       "    </tr>\n",
       "    <tr>\n",
       "      <th>directors</th>\n",
       "      <th></th>\n",
       "      <th></th>\n",
       "      <th></th>\n",
       "    </tr>\n",
       "  </thead>\n",
       "  <tbody>\n",
       "    <tr>\n",
       "      <th>Pete Docter</th>\n",
       "      <td>4.300000</td>\n",
       "      <td>4.600000</td>\n",
       "      <td>3</td>\n",
       "    </tr>\n",
       "    <tr>\n",
       "      <th>Charles Chaplin</th>\n",
       "      <td>4.257143</td>\n",
       "      <td>4.442857</td>\n",
       "      <td>7</td>\n",
       "    </tr>\n",
       "    <tr>\n",
       "      <th>Sergio Leone</th>\n",
       "      <td>4.242857</td>\n",
       "      <td>3.857143</td>\n",
       "      <td>7</td>\n",
       "    </tr>\n",
       "    <tr>\n",
       "      <th>Quentin Tarantino</th>\n",
       "      <td>4.200000</td>\n",
       "      <td>3.987500</td>\n",
       "      <td>8</td>\n",
       "    </tr>\n",
       "    <tr>\n",
       "      <th>Christopher Nolan</th>\n",
       "      <td>4.190000</td>\n",
       "      <td>3.770000</td>\n",
       "      <td>10</td>\n",
       "    </tr>\n",
       "    <tr>\n",
       "      <th>Peter Jackson</th>\n",
       "      <td>4.150000</td>\n",
       "      <td>3.587500</td>\n",
       "      <td>8</td>\n",
       "    </tr>\n",
       "    <tr>\n",
       "      <th>Dean DeBlois</th>\n",
       "      <td>4.100000</td>\n",
       "      <td>3.833333</td>\n",
       "      <td>3</td>\n",
       "    </tr>\n",
       "    <tr>\n",
       "      <th>Tomm Moore</th>\n",
       "      <td>4.066667</td>\n",
       "      <td>3.633333</td>\n",
       "      <td>3</td>\n",
       "    </tr>\n",
       "    <tr>\n",
       "      <th>Richard Curtis</th>\n",
       "      <td>4.066667</td>\n",
       "      <td>3.300000</td>\n",
       "      <td>3</td>\n",
       "    </tr>\n",
       "    <tr>\n",
       "      <th>Byron Howard</th>\n",
       "      <td>4.066667</td>\n",
       "      <td>3.900000</td>\n",
       "      <td>3</td>\n",
       "    </tr>\n",
       "  </tbody>\n",
       "</table>\n",
       "</div>"
      ],
      "text/plain": [
       "                   user_rating  press_ratings  movie_ids\n",
       "directors                                               \n",
       "Pete Docter           4.300000       4.600000          3\n",
       "Charles Chaplin       4.257143       4.442857          7\n",
       "Sergio Leone          4.242857       3.857143          7\n",
       "Quentin Tarantino     4.200000       3.987500          8\n",
       "Christopher Nolan     4.190000       3.770000         10\n",
       "Peter Jackson         4.150000       3.587500          8\n",
       "Dean DeBlois          4.100000       3.833333          3\n",
       "Tomm Moore            4.066667       3.633333          3\n",
       "Richard Curtis        4.066667       3.300000          3\n",
       "Byron Howard          4.066667       3.900000          3"
      ]
     },
     "execution_count": 56,
     "metadata": {},
     "output_type": "execute_result"
    }
   ],
   "source": [
    "top_director[top_director[\"movie_ids\"] > top_director[\"movie_ids\"].mean() - 1/2 * (top_director[\"movie_ids\"].std()**(-2))].head(10)"
   ]
  }
 ],
 "metadata": {
  "interpreter": {
   "hash": "8ff1774c64d83fce3825259fa3771bbe70271854497325f5fa1e2c1b92279703"
  },
  "kernelspec": {
   "display_name": "Python [conda root]",
   "language": "python",
   "name": "python3"
  },
  "language_info": {
   "codemirror_mode": {
    "name": "ipython",
    "version": 3
   },
   "file_extension": ".py",
   "mimetype": "text/x-python",
   "name": "python",
   "nbconvert_exporter": "python",
   "pygments_lexer": "ipython3",
   "version": "3.9.5"
  }
 },
 "nbformat": 4,
 "nbformat_minor": 2
}
